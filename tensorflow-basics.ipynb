{
 "cells": [
  {
   "cell_type": "code",
   "execution_count": 1,
   "id": "634eca6b",
   "metadata": {
    "execution": {
     "iopub.execute_input": "2024-02-21T14:02:53.785576Z",
     "iopub.status.busy": "2024-02-21T14:02:53.785146Z",
     "iopub.status.idle": "2024-02-21T14:03:12.591914Z",
     "shell.execute_reply": "2024-02-21T14:03:12.590621Z"
    },
    "papermill": {
     "duration": 18.819111,
     "end_time": "2024-02-21T14:03:12.594913",
     "exception": false,
     "start_time": "2024-02-21T14:02:53.775802",
     "status": "completed"
    },
    "tags": []
   },
   "outputs": [
    {
     "name": "stderr",
     "output_type": "stream",
     "text": [
      "2024-02-21 14:02:56.637327: E external/local_xla/xla/stream_executor/cuda/cuda_dnn.cc:9261] Unable to register cuDNN factory: Attempting to register factory for plugin cuDNN when one has already been registered\n",
      "2024-02-21 14:02:56.637511: E external/local_xla/xla/stream_executor/cuda/cuda_fft.cc:607] Unable to register cuFFT factory: Attempting to register factory for plugin cuFFT when one has already been registered\n",
      "2024-02-21 14:02:56.866745: E external/local_xla/xla/stream_executor/cuda/cuda_blas.cc:1515] Unable to register cuBLAS factory: Attempting to register factory for plugin cuBLAS when one has already been registered\n"
     ]
    }
   ],
   "source": [
    "import tensorflow as tf"
   ]
  },
  {
   "cell_type": "code",
   "execution_count": 2,
   "id": "d977288e",
   "metadata": {
    "execution": {
     "iopub.execute_input": "2024-02-21T14:03:12.612186Z",
     "iopub.status.busy": "2024-02-21T14:03:12.611437Z",
     "iopub.status.idle": "2024-02-21T14:03:12.619874Z",
     "shell.execute_reply": "2024-02-21T14:03:12.618612Z"
    },
    "papermill": {
     "duration": 0.01993,
     "end_time": "2024-02-21T14:03:12.622383",
     "exception": false,
     "start_time": "2024-02-21T14:03:12.602453",
     "status": "completed"
    },
    "tags": []
   },
   "outputs": [
    {
     "data": {
      "text/plain": [
       "'2.15.0'"
      ]
     },
     "execution_count": 2,
     "metadata": {},
     "output_type": "execute_result"
    }
   ],
   "source": [
    "tf.__version__"
   ]
  },
  {
   "cell_type": "code",
   "execution_count": 3,
   "id": "9f91d18c",
   "metadata": {
    "execution": {
     "iopub.execute_input": "2024-02-21T14:03:12.639318Z",
     "iopub.status.busy": "2024-02-21T14:03:12.638899Z",
     "iopub.status.idle": "2024-02-21T14:03:12.676690Z",
     "shell.execute_reply": "2024-02-21T14:03:12.675347Z"
    },
    "papermill": {
     "duration": 0.049961,
     "end_time": "2024-02-21T14:03:12.679888",
     "exception": false,
     "start_time": "2024-02-21T14:03:12.629927",
     "status": "completed"
    },
    "tags": []
   },
   "outputs": [],
   "source": [
    "tensor1 = tf.Variable([1,2,3], dtype = tf.int32, name = \"My_Tensor\", Trainable = True)"
   ]
  },
  {
   "cell_type": "code",
   "execution_count": 4,
   "id": "ce511e2e",
   "metadata": {
    "execution": {
     "iopub.execute_input": "2024-02-21T14:03:12.696560Z",
     "iopub.status.busy": "2024-02-21T14:03:12.696121Z",
     "iopub.status.idle": "2024-02-21T14:03:12.706700Z",
     "shell.execute_reply": "2024-02-21T14:03:12.705561Z"
    },
    "papermill": {
     "duration": 0.021715,
     "end_time": "2024-02-21T14:03:12.709076",
     "exception": false,
     "start_time": "2024-02-21T14:03:12.687361",
     "status": "completed"
    },
    "tags": []
   },
   "outputs": [
    {
     "data": {
      "text/plain": [
       "<tf.Variable 'My_Tensor:0' shape=(3,) dtype=int32, numpy=array([1, 2, 3], dtype=int32)>"
      ]
     },
     "execution_count": 4,
     "metadata": {},
     "output_type": "execute_result"
    }
   ],
   "source": [
    "tensor1"
   ]
  },
  {
   "cell_type": "code",
   "execution_count": 5,
   "id": "88291e74",
   "metadata": {
    "execution": {
     "iopub.execute_input": "2024-02-21T14:03:12.726486Z",
     "iopub.status.busy": "2024-02-21T14:03:12.725780Z",
     "iopub.status.idle": "2024-02-21T14:03:12.731866Z",
     "shell.execute_reply": "2024-02-21T14:03:12.730774Z"
    },
    "papermill": {
     "duration": 0.017548,
     "end_time": "2024-02-21T14:03:12.734248",
     "exception": false,
     "start_time": "2024-02-21T14:03:12.716700",
     "status": "completed"
    },
    "tags": []
   },
   "outputs": [
    {
     "data": {
      "text/plain": [
       "TensorShape([3])"
      ]
     },
     "execution_count": 5,
     "metadata": {},
     "output_type": "execute_result"
    }
   ],
   "source": [
    "tensor1.shape"
   ]
  },
  {
   "cell_type": "code",
   "execution_count": 6,
   "id": "c9fc1ae2",
   "metadata": {
    "execution": {
     "iopub.execute_input": "2024-02-21T14:03:12.751946Z",
     "iopub.status.busy": "2024-02-21T14:03:12.750906Z",
     "iopub.status.idle": "2024-02-21T14:03:12.759397Z",
     "shell.execute_reply": "2024-02-21T14:03:12.758081Z"
    },
    "papermill": {
     "duration": 0.020093,
     "end_time": "2024-02-21T14:03:12.761973",
     "exception": false,
     "start_time": "2024-02-21T14:03:12.741880",
     "status": "completed"
    },
    "tags": []
   },
   "outputs": [
    {
     "data": {
      "text/plain": [
       "<bound method Variable.get_shape of <tf.Variable 'My_Tensor:0' shape=(3,) dtype=int32, numpy=array([1, 2, 3], dtype=int32)>>"
      ]
     },
     "execution_count": 6,
     "metadata": {},
     "output_type": "execute_result"
    }
   ],
   "source": [
    "tensor1.get_shape"
   ]
  },
  {
   "cell_type": "code",
   "execution_count": 7,
   "id": "29e477c2",
   "metadata": {
    "execution": {
     "iopub.execute_input": "2024-02-21T14:03:12.780332Z",
     "iopub.status.busy": "2024-02-21T14:03:12.779173Z",
     "iopub.status.idle": "2024-02-21T14:03:12.788089Z",
     "shell.execute_reply": "2024-02-21T14:03:12.786912Z"
    },
    "papermill": {
     "duration": 0.020815,
     "end_time": "2024-02-21T14:03:12.790802",
     "exception": false,
     "start_time": "2024-02-21T14:03:12.769987",
     "status": "completed"
    },
    "tags": []
   },
   "outputs": [
    {
     "data": {
      "text/plain": [
       "<tf.Tensor: shape=(), dtype=int32, numpy=1>"
      ]
     },
     "execution_count": 7,
     "metadata": {},
     "output_type": "execute_result"
    }
   ],
   "source": [
    "tf.rank(tensor1)"
   ]
  },
  {
   "cell_type": "markdown",
   "id": "06b259c2",
   "metadata": {
    "papermill": {
     "duration": 0.007729,
     "end_time": "2024-02-21T14:03:12.806874",
     "exception": false,
     "start_time": "2024-02-21T14:03:12.799145",
     "status": "completed"
    },
    "tags": []
   },
   "source": [
    "Create a scalar to store the votes cast for Candidate 1 of political party X in\n",
    "district A, that is, 4113, and check its shape and rank."
   ]
  },
  {
   "cell_type": "code",
   "execution_count": 8,
   "id": "51c9411b",
   "metadata": {
    "execution": {
     "iopub.execute_input": "2024-02-21T14:03:12.825299Z",
     "iopub.status.busy": "2024-02-21T14:03:12.824204Z",
     "iopub.status.idle": "2024-02-21T14:03:12.836149Z",
     "shell.execute_reply": "2024-02-21T14:03:12.834820Z"
    },
    "papermill": {
     "duration": 0.024013,
     "end_time": "2024-02-21T14:03:12.838851",
     "exception": false,
     "start_time": "2024-02-21T14:03:12.814838",
     "status": "completed"
    },
    "tags": []
   },
   "outputs": [
    {
     "data": {
      "text/plain": [
       "TensorShape([1])"
      ]
     },
     "execution_count": 8,
     "metadata": {},
     "output_type": "execute_result"
    }
   ],
   "source": [
    "candidate1 = tf.Variable([4113], dtype = tf.int32, name = 'Candidate1', trainable = True)\n",
    "candidate1.shape"
   ]
  },
  {
   "cell_type": "markdown",
   "id": "e0db04d7",
   "metadata": {
    "papermill": {
     "duration": 0.007859,
     "end_time": "2024-02-21T14:03:12.854941",
     "exception": false,
     "start_time": "2024-02-21T14:03:12.847082",
     "status": "completed"
    },
    "tags": []
   },
   "source": [
    "• Create a vector to represent the proportion of votes cast for three different\n",
    "candidates of political party X in district A and check its shape and rank."
   ]
  },
  {
   "cell_type": "markdown",
   "id": "68c64903",
   "metadata": {
    "papermill": {
     "duration": 0.008842,
     "end_time": "2024-02-21T14:03:12.872386",
     "exception": false,
     "start_time": "2024-02-21T14:03:12.863544",
     "status": "completed"
    },
    "tags": []
   },
   "source": []
  },
  {
   "cell_type": "code",
   "execution_count": 9,
   "id": "82666ae5",
   "metadata": {
    "execution": {
     "iopub.execute_input": "2024-02-21T14:03:12.891567Z",
     "iopub.status.busy": "2024-02-21T14:03:12.890353Z",
     "iopub.status.idle": "2024-02-21T14:03:12.901181Z",
     "shell.execute_reply": "2024-02-21T14:03:12.899908Z"
    },
    "papermill": {
     "duration": 0.022981,
     "end_time": "2024-02-21T14:03:12.903666",
     "exception": false,
     "start_time": "2024-02-21T14:03:12.880685",
     "status": "completed"
    },
    "tags": []
   },
   "outputs": [
    {
     "data": {
      "text/plain": [
       "TensorShape([3])"
      ]
     },
     "execution_count": 9,
     "metadata": {},
     "output_type": "execute_result"
    }
   ],
   "source": [
    "portionofVotes_partyX = tf.Variable([4113, 7511, 6529], dtype = tf.int32, name=\"PortionOfVotes\", trainable = True)\n",
    "portionofVotes_partyX.shape"
   ]
  },
  {
   "cell_type": "markdown",
   "id": "1af060b7",
   "metadata": {
    "papermill": {
     "duration": 0.007954,
     "end_time": "2024-02-21T14:03:12.919858",
     "exception": false,
     "start_time": "2024-02-21T14:03:12.911904",
     "status": "completed"
    },
    "tags": []
   },
   "source": [
    "Create a matrix to represent the votes cast for three different candidates of\n",
    "political parties X and Y and check its shape and rank."
   ]
  },
  {
   "cell_type": "markdown",
   "id": "ce3d1ef6",
   "metadata": {
    "papermill": {
     "duration": 0.007938,
     "end_time": "2024-02-21T14:03:12.936126",
     "exception": false,
     "start_time": "2024-02-21T14:03:12.928188",
     "status": "completed"
    },
    "tags": []
   },
   "source": []
  },
  {
   "cell_type": "code",
   "execution_count": 10,
   "id": "dbf5ae3f",
   "metadata": {
    "execution": {
     "iopub.execute_input": "2024-02-21T14:03:12.956386Z",
     "iopub.status.busy": "2024-02-21T14:03:12.955274Z",
     "iopub.status.idle": "2024-02-21T14:03:12.968321Z",
     "shell.execute_reply": "2024-02-21T14:03:12.967045Z"
    },
    "papermill": {
     "duration": 0.025987,
     "end_time": "2024-02-21T14:03:12.970984",
     "exception": false,
     "start_time": "2024-02-21T14:03:12.944997",
     "status": "completed"
    },
    "tags": []
   },
   "outputs": [
    {
     "data": {
      "text/plain": [
       "TensorShape([3, 2])"
      ]
     },
     "execution_count": 10,
     "metadata": {},
     "output_type": "execute_result"
    }
   ],
   "source": [
    "diffCand = tf.Variable([[4113, 3870], [7511, 6725], [6529, 3870]], dtype = tf.int32, name = 'DiffCand', trinabale = True)\n",
    "diffCand.shape"
   ]
  },
  {
   "cell_type": "code",
   "execution_count": 11,
   "id": "b9db062e",
   "metadata": {
    "execution": {
     "iopub.execute_input": "2024-02-21T14:03:12.990881Z",
     "iopub.status.busy": "2024-02-21T14:03:12.989754Z",
     "iopub.status.idle": "2024-02-21T14:03:12.999626Z",
     "shell.execute_reply": "2024-02-21T14:03:12.998511Z"
    },
    "papermill": {
     "duration": 0.022676,
     "end_time": "2024-02-21T14:03:13.002425",
     "exception": false,
     "start_time": "2024-02-21T14:03:12.979749",
     "status": "completed"
    },
    "tags": []
   },
   "outputs": [
    {
     "data": {
      "text/plain": [
       "<tf.Variable 'DiffCand:0' shape=(3, 2) dtype=int32, numpy=\n",
       "array([[4113, 3870],\n",
       "       [7511, 6725],\n",
       "       [6529, 3870]], dtype=int32)>"
      ]
     },
     "execution_count": 11,
     "metadata": {},
     "output_type": "execute_result"
    }
   ],
   "source": [
    "diffCand"
   ]
  },
  {
   "cell_type": "code",
   "execution_count": 12,
   "id": "44656a39",
   "metadata": {
    "execution": {
     "iopub.execute_input": "2024-02-21T14:03:13.029588Z",
     "iopub.status.busy": "2024-02-21T14:03:13.028806Z",
     "iopub.status.idle": "2024-02-21T14:03:13.036124Z",
     "shell.execute_reply": "2024-02-21T14:03:13.035293Z"
    },
    "papermill": {
     "duration": 0.026528,
     "end_time": "2024-02-21T14:03:13.039185",
     "exception": false,
     "start_time": "2024-02-21T14:03:13.012657",
     "status": "completed"
    },
    "tags": []
   },
   "outputs": [
    {
     "data": {
      "text/plain": [
       "<tf.Tensor: shape=(), dtype=int32, numpy=2>"
      ]
     },
     "execution_count": 12,
     "metadata": {},
     "output_type": "execute_result"
    }
   ],
   "source": [
    "tf.rank(diffCand)"
   ]
  },
  {
   "cell_type": "markdown",
   "id": "52ca3883",
   "metadata": {
    "papermill": {
     "duration": 0.009259,
     "end_time": "2024-02-21T14:03:13.057939",
     "exception": false,
     "start_time": "2024-02-21T14:03:13.048680",
     "status": "completed"
    },
    "tags": []
   },
   "source": [
    "Create a tensor to represent the votes cast for three different candidates in two\n",
    "different districts, for three political parties, and check its shape and rank."
   ]
  },
  {
   "cell_type": "code",
   "execution_count": 13,
   "id": "148dad48",
   "metadata": {
    "execution": {
     "iopub.execute_input": "2024-02-21T14:03:13.080662Z",
     "iopub.status.busy": "2024-02-21T14:03:13.079806Z",
     "iopub.status.idle": "2024-02-21T14:03:13.092242Z",
     "shell.execute_reply": "2024-02-21T14:03:13.090703Z"
    },
    "papermill": {
     "duration": 0.026716,
     "end_time": "2024-02-21T14:03:13.095070",
     "exception": false,
     "start_time": "2024-02-21T14:03:13.068354",
     "status": "completed"
    },
    "tags": []
   },
   "outputs": [
    {
     "data": {
      "text/plain": [
       "TensorShape([2, 3, 3])"
      ]
     },
     "execution_count": 13,
     "metadata": {},
     "output_type": "execute_result"
    }
   ],
   "source": [
    "p3C3 = tf.Variable([[[4113, 3870, 5102], [7511, 6725, 7038], [6529, 6962, 6591]], [[3611, 951, 870], [5901, 1208, 645], [6235, 1098, 948]]], dtype = tf.int32, trainable = True, name = \"3Districts3Parties3Candidates\")\n",
    "p3C3.shape"
   ]
  },
  {
   "cell_type": "code",
   "execution_count": 14,
   "id": "ad723718",
   "metadata": {
    "execution": {
     "iopub.execute_input": "2024-02-21T14:03:13.117122Z",
     "iopub.status.busy": "2024-02-21T14:03:13.116026Z",
     "iopub.status.idle": "2024-02-21T14:03:13.126256Z",
     "shell.execute_reply": "2024-02-21T14:03:13.125254Z"
    },
    "papermill": {
     "duration": 0.023699,
     "end_time": "2024-02-21T14:03:13.128586",
     "exception": false,
     "start_time": "2024-02-21T14:03:13.104887",
     "status": "completed"
    },
    "tags": []
   },
   "outputs": [
    {
     "data": {
      "text/plain": [
       "<tf.Variable '3Districts3Parties3Candidates:0' shape=(2, 3, 3) dtype=int32, numpy=\n",
       "array([[[4113, 3870, 5102],\n",
       "        [7511, 6725, 7038],\n",
       "        [6529, 6962, 6591]],\n",
       "\n",
       "       [[3611,  951,  870],\n",
       "        [5901, 1208,  645],\n",
       "        [6235, 1098,  948]]], dtype=int32)>"
      ]
     },
     "execution_count": 14,
     "metadata": {},
     "output_type": "execute_result"
    }
   ],
   "source": [
    "p3C3"
   ]
  },
  {
   "cell_type": "code",
   "execution_count": 15,
   "id": "d4688e76",
   "metadata": {
    "execution": {
     "iopub.execute_input": "2024-02-21T14:03:13.149713Z",
     "iopub.status.busy": "2024-02-21T14:03:13.149024Z",
     "iopub.status.idle": "2024-02-21T14:03:13.155968Z",
     "shell.execute_reply": "2024-02-21T14:03:13.154862Z"
    },
    "papermill": {
     "duration": 0.020485,
     "end_time": "2024-02-21T14:03:13.158676",
     "exception": false,
     "start_time": "2024-02-21T14:03:13.138191",
     "status": "completed"
    },
    "tags": []
   },
   "outputs": [
    {
     "data": {
      "text/plain": [
       "<tf.Tensor: shape=(), dtype=int32, numpy=3>"
      ]
     },
     "execution_count": 15,
     "metadata": {},
     "output_type": "execute_result"
    }
   ],
   "source": [
    "tf.rank(p3C3)"
   ]
  },
  {
   "cell_type": "code",
   "execution_count": null,
   "id": "ffc57ae1",
   "metadata": {
    "papermill": {
     "duration": 0.009086,
     "end_time": "2024-02-21T14:03:13.178025",
     "exception": false,
     "start_time": "2024-02-21T14:03:13.168939",
     "status": "completed"
    },
    "tags": []
   },
   "outputs": [],
   "source": []
  }
 ],
 "metadata": {
  "kaggle": {
   "accelerator": "none",
   "dataSources": [],
   "dockerImageVersionId": 30646,
   "isGpuEnabled": false,
   "isInternetEnabled": true,
   "language": "python",
   "sourceType": "notebook"
  },
  "kernelspec": {
   "display_name": "Python 3",
   "language": "python",
   "name": "python3"
  },
  "language_info": {
   "codemirror_mode": {
    "name": "ipython",
    "version": 3
   },
   "file_extension": ".py",
   "mimetype": "text/x-python",
   "name": "python",
   "nbconvert_exporter": "python",
   "pygments_lexer": "ipython3",
   "version": "3.10.13"
  },
  "papermill": {
   "default_parameters": {},
   "duration": 25.463251,
   "end_time": "2024-02-21T14:03:15.671059",
   "environment_variables": {},
   "exception": null,
   "input_path": "__notebook__.ipynb",
   "output_path": "__notebook__.ipynb",
   "parameters": {},
   "start_time": "2024-02-21T14:02:50.207808",
   "version": "2.5.0"
  }
 },
 "nbformat": 4,
 "nbformat_minor": 5
}
