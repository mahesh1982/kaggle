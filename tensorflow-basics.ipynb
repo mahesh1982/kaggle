{
 "cells": [
  {
   "cell_type": "code",
   "execution_count": 1,
   "id": "e3eb06de",
   "metadata": {
    "execution": {
     "iopub.execute_input": "2024-02-21T14:05:22.078907Z",
     "iopub.status.busy": "2024-02-21T14:05:22.078535Z",
     "iopub.status.idle": "2024-02-21T14:05:39.790042Z",
     "shell.execute_reply": "2024-02-21T14:05:39.788921Z"
    },
    "papermill": {
     "duration": 17.724307,
     "end_time": "2024-02-21T14:05:39.792998",
     "exception": false,
     "start_time": "2024-02-21T14:05:22.068691",
     "status": "completed"
    },
    "tags": []
   },
   "outputs": [
    {
     "name": "stderr",
     "output_type": "stream",
     "text": [
      "2024-02-21 14:05:24.619623: E external/local_xla/xla/stream_executor/cuda/cuda_dnn.cc:9261] Unable to register cuDNN factory: Attempting to register factory for plugin cuDNN when one has already been registered\n",
      "2024-02-21 14:05:24.619765: E external/local_xla/xla/stream_executor/cuda/cuda_fft.cc:607] Unable to register cuFFT factory: Attempting to register factory for plugin cuFFT when one has already been registered\n",
      "2024-02-21 14:05:24.796411: E external/local_xla/xla/stream_executor/cuda/cuda_blas.cc:1515] Unable to register cuBLAS factory: Attempting to register factory for plugin cuBLAS when one has already been registered\n"
     ]
    }
   ],
   "source": [
    "import tensorflow as tf"
   ]
  },
  {
   "cell_type": "code",
   "execution_count": 2,
   "id": "02e655dd",
   "metadata": {
    "execution": {
     "iopub.execute_input": "2024-02-21T14:05:39.811719Z",
     "iopub.status.busy": "2024-02-21T14:05:39.811036Z",
     "iopub.status.idle": "2024-02-21T14:05:39.818514Z",
     "shell.execute_reply": "2024-02-21T14:05:39.817649Z"
    },
    "papermill": {
     "duration": 0.019139,
     "end_time": "2024-02-21T14:05:39.820620",
     "exception": false,
     "start_time": "2024-02-21T14:05:39.801481",
     "status": "completed"
    },
    "tags": []
   },
   "outputs": [
    {
     "data": {
      "text/plain": [
       "'2.15.0'"
      ]
     },
     "execution_count": 2,
     "metadata": {},
     "output_type": "execute_result"
    }
   ],
   "source": [
    "tf.__version__"
   ]
  },
  {
   "cell_type": "code",
   "execution_count": 3,
   "id": "1bae1402",
   "metadata": {
    "execution": {
     "iopub.execute_input": "2024-02-21T14:05:39.843007Z",
     "iopub.status.busy": "2024-02-21T14:05:39.842035Z",
     "iopub.status.idle": "2024-02-21T14:05:39.879824Z",
     "shell.execute_reply": "2024-02-21T14:05:39.878855Z"
    },
    "papermill": {
     "duration": 0.053632,
     "end_time": "2024-02-21T14:05:39.882405",
     "exception": false,
     "start_time": "2024-02-21T14:05:39.828773",
     "status": "completed"
    },
    "tags": []
   },
   "outputs": [],
   "source": [
    "tensor1 = tf.Variable([1,2,3], dtype = tf.int32, name = \"My_Tensor\", Trainable = True)"
   ]
  },
  {
   "cell_type": "code",
   "execution_count": 4,
   "id": "0e199135",
   "metadata": {
    "execution": {
     "iopub.execute_input": "2024-02-21T14:05:39.900886Z",
     "iopub.status.busy": "2024-02-21T14:05:39.900468Z",
     "iopub.status.idle": "2024-02-21T14:05:39.909863Z",
     "shell.execute_reply": "2024-02-21T14:05:39.908756Z"
    },
    "papermill": {
     "duration": 0.02129,
     "end_time": "2024-02-21T14:05:39.912269",
     "exception": false,
     "start_time": "2024-02-21T14:05:39.890979",
     "status": "completed"
    },
    "tags": []
   },
   "outputs": [
    {
     "data": {
      "text/plain": [
       "<tf.Variable 'My_Tensor:0' shape=(3,) dtype=int32, numpy=array([1, 2, 3], dtype=int32)>"
      ]
     },
     "execution_count": 4,
     "metadata": {},
     "output_type": "execute_result"
    }
   ],
   "source": [
    "tensor1"
   ]
  },
  {
   "cell_type": "code",
   "execution_count": 5,
   "id": "f5cf3632",
   "metadata": {
    "execution": {
     "iopub.execute_input": "2024-02-21T14:05:39.931878Z",
     "iopub.status.busy": "2024-02-21T14:05:39.931433Z",
     "iopub.status.idle": "2024-02-21T14:05:39.938679Z",
     "shell.execute_reply": "2024-02-21T14:05:39.937450Z"
    },
    "papermill": {
     "duration": 0.020304,
     "end_time": "2024-02-21T14:05:39.941068",
     "exception": false,
     "start_time": "2024-02-21T14:05:39.920764",
     "status": "completed"
    },
    "tags": []
   },
   "outputs": [
    {
     "data": {
      "text/plain": [
       "TensorShape([3])"
      ]
     },
     "execution_count": 5,
     "metadata": {},
     "output_type": "execute_result"
    }
   ],
   "source": [
    "tensor1.shape"
   ]
  },
  {
   "cell_type": "code",
   "execution_count": 6,
   "id": "719d7fd5",
   "metadata": {
    "execution": {
     "iopub.execute_input": "2024-02-21T14:05:39.960868Z",
     "iopub.status.busy": "2024-02-21T14:05:39.960480Z",
     "iopub.status.idle": "2024-02-21T14:05:39.968349Z",
     "shell.execute_reply": "2024-02-21T14:05:39.967267Z"
    },
    "papermill": {
     "duration": 0.021431,
     "end_time": "2024-02-21T14:05:39.971129",
     "exception": false,
     "start_time": "2024-02-21T14:05:39.949698",
     "status": "completed"
    },
    "tags": []
   },
   "outputs": [
    {
     "data": {
      "text/plain": [
       "<bound method Variable.get_shape of <tf.Variable 'My_Tensor:0' shape=(3,) dtype=int32, numpy=array([1, 2, 3], dtype=int32)>>"
      ]
     },
     "execution_count": 6,
     "metadata": {},
     "output_type": "execute_result"
    }
   ],
   "source": [
    "tensor1.get_shape"
   ]
  },
  {
   "cell_type": "code",
   "execution_count": 7,
   "id": "0ada36e4",
   "metadata": {
    "execution": {
     "iopub.execute_input": "2024-02-21T14:05:39.990705Z",
     "iopub.status.busy": "2024-02-21T14:05:39.990291Z",
     "iopub.status.idle": "2024-02-21T14:05:39.998907Z",
     "shell.execute_reply": "2024-02-21T14:05:39.997532Z"
    },
    "papermill": {
     "duration": 0.021753,
     "end_time": "2024-02-21T14:05:40.001552",
     "exception": false,
     "start_time": "2024-02-21T14:05:39.979799",
     "status": "completed"
    },
    "tags": []
   },
   "outputs": [
    {
     "data": {
      "text/plain": [
       "<tf.Tensor: shape=(), dtype=int32, numpy=1>"
      ]
     },
     "execution_count": 7,
     "metadata": {},
     "output_type": "execute_result"
    }
   ],
   "source": [
    "tf.rank(tensor1)"
   ]
  },
  {
   "cell_type": "markdown",
   "id": "59a03a03",
   "metadata": {
    "papermill": {
     "duration": 0.009691,
     "end_time": "2024-02-21T14:05:40.020497",
     "exception": false,
     "start_time": "2024-02-21T14:05:40.010806",
     "status": "completed"
    },
    "tags": []
   },
   "source": [
    "Create a scalar to store the votes cast for Candidate 1 of political party X in\n",
    "district A, that is, 4113, and check its shape and rank."
   ]
  },
  {
   "cell_type": "code",
   "execution_count": 8,
   "id": "07be53ac",
   "metadata": {
    "execution": {
     "iopub.execute_input": "2024-02-21T14:05:40.040094Z",
     "iopub.status.busy": "2024-02-21T14:05:40.039265Z",
     "iopub.status.idle": "2024-02-21T14:05:40.050223Z",
     "shell.execute_reply": "2024-02-21T14:05:40.049054Z"
    },
    "papermill": {
     "duration": 0.024369,
     "end_time": "2024-02-21T14:05:40.053490",
     "exception": false,
     "start_time": "2024-02-21T14:05:40.029121",
     "status": "completed"
    },
    "tags": []
   },
   "outputs": [
    {
     "data": {
      "text/plain": [
       "TensorShape([1])"
      ]
     },
     "execution_count": 8,
     "metadata": {},
     "output_type": "execute_result"
    }
   ],
   "source": [
    "candidate1 = tf.Variable([4113], dtype = tf.int32, name = 'Candidate1', trainable = True)\n",
    "candidate1.shape"
   ]
  },
  {
   "cell_type": "markdown",
   "id": "bf6c7397",
   "metadata": {
    "papermill": {
     "duration": 0.008833,
     "end_time": "2024-02-21T14:05:40.071443",
     "exception": false,
     "start_time": "2024-02-21T14:05:40.062610",
     "status": "completed"
    },
    "tags": []
   },
   "source": [
    "• Create a vector to represent the proportion of votes cast for three different\n",
    "candidates of political party X in district A and check its shape and rank."
   ]
  },
  {
   "cell_type": "markdown",
   "id": "8b216431",
   "metadata": {
    "papermill": {
     "duration": 0.008581,
     "end_time": "2024-02-21T14:05:40.088910",
     "exception": false,
     "start_time": "2024-02-21T14:05:40.080329",
     "status": "completed"
    },
    "tags": []
   },
   "source": []
  },
  {
   "cell_type": "code",
   "execution_count": 9,
   "id": "6004a467",
   "metadata": {
    "execution": {
     "iopub.execute_input": "2024-02-21T14:05:40.110079Z",
     "iopub.status.busy": "2024-02-21T14:05:40.109682Z",
     "iopub.status.idle": "2024-02-21T14:05:40.119015Z",
     "shell.execute_reply": "2024-02-21T14:05:40.117918Z"
    },
    "papermill": {
     "duration": 0.023066,
     "end_time": "2024-02-21T14:05:40.122007",
     "exception": false,
     "start_time": "2024-02-21T14:05:40.098941",
     "status": "completed"
    },
    "tags": []
   },
   "outputs": [
    {
     "data": {
      "text/plain": [
       "TensorShape([3])"
      ]
     },
     "execution_count": 9,
     "metadata": {},
     "output_type": "execute_result"
    }
   ],
   "source": [
    "portionofVotes_partyX = tf.Variable([4113, 7511, 6529], dtype = tf.int32, name=\"PortionOfVotes\", trainable = True)\n",
    "portionofVotes_partyX.shape"
   ]
  },
  {
   "cell_type": "markdown",
   "id": "860a5deb",
   "metadata": {
    "papermill": {
     "duration": 0.009355,
     "end_time": "2024-02-21T14:05:40.140441",
     "exception": false,
     "start_time": "2024-02-21T14:05:40.131086",
     "status": "completed"
    },
    "tags": []
   },
   "source": [
    "Create a matrix to represent the votes cast for three different candidates of\n",
    "political parties X and Y and check its shape and rank."
   ]
  },
  {
   "cell_type": "markdown",
   "id": "04b275ec",
   "metadata": {
    "papermill": {
     "duration": 0.00856,
     "end_time": "2024-02-21T14:05:40.158300",
     "exception": false,
     "start_time": "2024-02-21T14:05:40.149740",
     "status": "completed"
    },
    "tags": []
   },
   "source": []
  },
  {
   "cell_type": "code",
   "execution_count": 10,
   "id": "10264b94",
   "metadata": {
    "execution": {
     "iopub.execute_input": "2024-02-21T14:05:40.177756Z",
     "iopub.status.busy": "2024-02-21T14:05:40.177358Z",
     "iopub.status.idle": "2024-02-21T14:05:40.188132Z",
     "shell.execute_reply": "2024-02-21T14:05:40.186963Z"
    },
    "papermill": {
     "duration": 0.023537,
     "end_time": "2024-02-21T14:05:40.190698",
     "exception": false,
     "start_time": "2024-02-21T14:05:40.167161",
     "status": "completed"
    },
    "tags": []
   },
   "outputs": [
    {
     "data": {
      "text/plain": [
       "TensorShape([3, 2])"
      ]
     },
     "execution_count": 10,
     "metadata": {},
     "output_type": "execute_result"
    }
   ],
   "source": [
    "diffCand = tf.Variable([[4113, 3870], [7511, 6725], [6529, 3870]], dtype = tf.int32, name = 'DiffCand', trinabale = True)\n",
    "diffCand.shape"
   ]
  },
  {
   "cell_type": "code",
   "execution_count": 11,
   "id": "5fb0e78a",
   "metadata": {
    "execution": {
     "iopub.execute_input": "2024-02-21T14:05:40.211966Z",
     "iopub.status.busy": "2024-02-21T14:05:40.210666Z",
     "iopub.status.idle": "2024-02-21T14:05:40.221156Z",
     "shell.execute_reply": "2024-02-21T14:05:40.219952Z"
    },
    "papermill": {
     "duration": 0.023478,
     "end_time": "2024-02-21T14:05:40.223381",
     "exception": false,
     "start_time": "2024-02-21T14:05:40.199903",
     "status": "completed"
    },
    "tags": []
   },
   "outputs": [
    {
     "data": {
      "text/plain": [
       "<tf.Variable 'DiffCand:0' shape=(3, 2) dtype=int32, numpy=\n",
       "array([[4113, 3870],\n",
       "       [7511, 6725],\n",
       "       [6529, 3870]], dtype=int32)>"
      ]
     },
     "execution_count": 11,
     "metadata": {},
     "output_type": "execute_result"
    }
   ],
   "source": [
    "diffCand"
   ]
  },
  {
   "cell_type": "code",
   "execution_count": 12,
   "id": "25c19998",
   "metadata": {
    "execution": {
     "iopub.execute_input": "2024-02-21T14:05:40.243208Z",
     "iopub.status.busy": "2024-02-21T14:05:40.242827Z",
     "iopub.status.idle": "2024-02-21T14:05:40.250838Z",
     "shell.execute_reply": "2024-02-21T14:05:40.249731Z"
    },
    "papermill": {
     "duration": 0.020952,
     "end_time": "2024-02-21T14:05:40.253435",
     "exception": false,
     "start_time": "2024-02-21T14:05:40.232483",
     "status": "completed"
    },
    "tags": []
   },
   "outputs": [
    {
     "data": {
      "text/plain": [
       "<tf.Tensor: shape=(), dtype=int32, numpy=2>"
      ]
     },
     "execution_count": 12,
     "metadata": {},
     "output_type": "execute_result"
    }
   ],
   "source": [
    "tf.rank(diffCand)"
   ]
  },
  {
   "cell_type": "markdown",
   "id": "ebdefed4",
   "metadata": {
    "papermill": {
     "duration": 0.009241,
     "end_time": "2024-02-21T14:05:40.272537",
     "exception": false,
     "start_time": "2024-02-21T14:05:40.263296",
     "status": "completed"
    },
    "tags": []
   },
   "source": [
    "Create a tensor to represent the votes cast for three different candidates in two\n",
    "different districts, for three political parties, and check its shape and rank."
   ]
  },
  {
   "cell_type": "code",
   "execution_count": 13,
   "id": "d471d690",
   "metadata": {
    "execution": {
     "iopub.execute_input": "2024-02-21T14:05:40.293590Z",
     "iopub.status.busy": "2024-02-21T14:05:40.293195Z",
     "iopub.status.idle": "2024-02-21T14:05:40.305374Z",
     "shell.execute_reply": "2024-02-21T14:05:40.304281Z"
    },
    "papermill": {
     "duration": 0.02542,
     "end_time": "2024-02-21T14:05:40.307783",
     "exception": false,
     "start_time": "2024-02-21T14:05:40.282363",
     "status": "completed"
    },
    "tags": []
   },
   "outputs": [
    {
     "data": {
      "text/plain": [
       "TensorShape([2, 3, 3])"
      ]
     },
     "execution_count": 13,
     "metadata": {},
     "output_type": "execute_result"
    }
   ],
   "source": [
    "p3C3 = tf.Variable([[[4113, 3870, 5102], [7511, 6725, 7038], [6529, 6962, 6591]], [[3611, 951, 870], [5901, 1208, 645], [6235, 1098, 948]]], dtype = tf.int32, trainable = True, name = \"3Districts3Parties3Candidates\")\n",
    "p3C3.shape"
   ]
  },
  {
   "cell_type": "code",
   "execution_count": 14,
   "id": "159e6e31",
   "metadata": {
    "execution": {
     "iopub.execute_input": "2024-02-21T14:05:40.329989Z",
     "iopub.status.busy": "2024-02-21T14:05:40.329380Z",
     "iopub.status.idle": "2024-02-21T14:05:40.338385Z",
     "shell.execute_reply": "2024-02-21T14:05:40.337010Z"
    },
    "papermill": {
     "duration": 0.022818,
     "end_time": "2024-02-21T14:05:40.340884",
     "exception": false,
     "start_time": "2024-02-21T14:05:40.318066",
     "status": "completed"
    },
    "tags": []
   },
   "outputs": [
    {
     "data": {
      "text/plain": [
       "<tf.Variable '3Districts3Parties3Candidates:0' shape=(2, 3, 3) dtype=int32, numpy=\n",
       "array([[[4113, 3870, 5102],\n",
       "        [7511, 6725, 7038],\n",
       "        [6529, 6962, 6591]],\n",
       "\n",
       "       [[3611,  951,  870],\n",
       "        [5901, 1208,  645],\n",
       "        [6235, 1098,  948]]], dtype=int32)>"
      ]
     },
     "execution_count": 14,
     "metadata": {},
     "output_type": "execute_result"
    }
   ],
   "source": [
    "p3C3"
   ]
  },
  {
   "cell_type": "code",
   "execution_count": 15,
   "id": "4e44d7a2",
   "metadata": {
    "execution": {
     "iopub.execute_input": "2024-02-21T14:05:40.363224Z",
     "iopub.status.busy": "2024-02-21T14:05:40.362821Z",
     "iopub.status.idle": "2024-02-21T14:05:40.370944Z",
     "shell.execute_reply": "2024-02-21T14:05:40.370030Z"
    },
    "papermill": {
     "duration": 0.022346,
     "end_time": "2024-02-21T14:05:40.373161",
     "exception": false,
     "start_time": "2024-02-21T14:05:40.350815",
     "status": "completed"
    },
    "tags": []
   },
   "outputs": [
    {
     "data": {
      "text/plain": [
       "<tf.Tensor: shape=(), dtype=int32, numpy=3>"
      ]
     },
     "execution_count": 15,
     "metadata": {},
     "output_type": "execute_result"
    }
   ],
   "source": [
    "tf.rank(p3C3)"
   ]
  },
  {
   "cell_type": "code",
   "execution_count": 16,
   "id": "e3e50715",
   "metadata": {
    "execution": {
     "iopub.execute_input": "2024-02-21T14:05:40.395682Z",
     "iopub.status.busy": "2024-02-21T14:05:40.395285Z",
     "iopub.status.idle": "2024-02-21T14:05:40.403070Z",
     "shell.execute_reply": "2024-02-21T14:05:40.401974Z"
    },
    "papermill": {
     "duration": 0.021721,
     "end_time": "2024-02-21T14:05:40.405611",
     "exception": false,
     "start_time": "2024-02-21T14:05:40.383890",
     "status": "completed"
    },
    "tags": []
   },
   "outputs": [
    {
     "data": {
      "text/plain": [
       "3"
      ]
     },
     "execution_count": 16,
     "metadata": {},
     "output_type": "execute_result"
    }
   ],
   "source": [
    "tf.rank(p3C3).numpy()"
   ]
  },
  {
   "cell_type": "code",
   "execution_count": 17,
   "id": "17a4bde3",
   "metadata": {
    "execution": {
     "iopub.execute_input": "2024-02-21T14:05:40.428341Z",
     "iopub.status.busy": "2024-02-21T14:05:40.427512Z",
     "iopub.status.idle": "2024-02-21T14:05:40.434673Z",
     "shell.execute_reply": "2024-02-21T14:05:40.433641Z"
    },
    "papermill": {
     "duration": 0.021299,
     "end_time": "2024-02-21T14:05:40.437023",
     "exception": false,
     "start_time": "2024-02-21T14:05:40.415724",
     "status": "completed"
    },
    "tags": []
   },
   "outputs": [
    {
     "data": {
      "text/plain": [
       "[2, 3, 3]"
      ]
     },
     "execution_count": 17,
     "metadata": {},
     "output_type": "execute_result"
    }
   ],
   "source": [
    "p3C3.shape.as_list()"
   ]
  },
  {
   "cell_type": "code",
   "execution_count": null,
   "id": "d7038deb",
   "metadata": {
    "papermill": {
     "duration": 0.011418,
     "end_time": "2024-02-21T14:05:40.458939",
     "exception": false,
     "start_time": "2024-02-21T14:05:40.447521",
     "status": "completed"
    },
    "tags": []
   },
   "outputs": [],
   "source": []
  }
 ],
 "metadata": {
  "kaggle": {
   "accelerator": "none",
   "dataSources": [],
   "dockerImageVersionId": 30646,
   "isGpuEnabled": false,
   "isInternetEnabled": true,
   "language": "python",
   "sourceType": "notebook"
  },
  "kernelspec": {
   "display_name": "Python 3",
   "language": "python",
   "name": "python3"
  },
  "language_info": {
   "codemirror_mode": {
    "name": "ipython",
    "version": 3
   },
   "file_extension": ".py",
   "mimetype": "text/x-python",
   "name": "python",
   "nbconvert_exporter": "python",
   "pygments_lexer": "ipython3",
   "version": "3.10.13"
  },
  "papermill": {
   "default_parameters": {},
   "duration": 24.276178,
   "end_time": "2024-02-21T14:05:42.960641",
   "environment_variables": {},
   "exception": null,
   "input_path": "__notebook__.ipynb",
   "output_path": "__notebook__.ipynb",
   "parameters": {},
   "start_time": "2024-02-21T14:05:18.684463",
   "version": "2.5.0"
  }
 },
 "nbformat": 4,
 "nbformat_minor": 5
}
