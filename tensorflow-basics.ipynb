{
 "cells": [
  {
   "cell_type": "code",
   "execution_count": 1,
   "id": "4d28cd3a",
   "metadata": {
    "execution": {
     "iopub.execute_input": "2024-02-22T14:23:44.745305Z",
     "iopub.status.busy": "2024-02-22T14:23:44.744896Z",
     "iopub.status.idle": "2024-02-22T14:24:00.769692Z",
     "shell.execute_reply": "2024-02-22T14:24:00.768469Z"
    },
    "papermill": {
     "duration": 16.042139,
     "end_time": "2024-02-22T14:24:00.772817",
     "exception": false,
     "start_time": "2024-02-22T14:23:44.730678",
     "status": "completed"
    },
    "tags": []
   },
   "outputs": [
    {
     "name": "stderr",
     "output_type": "stream",
     "text": [
      "2024-02-22 14:23:47.009166: E external/local_xla/xla/stream_executor/cuda/cuda_dnn.cc:9261] Unable to register cuDNN factory: Attempting to register factory for plugin cuDNN when one has already been registered\n",
      "2024-02-22 14:23:47.009316: E external/local_xla/xla/stream_executor/cuda/cuda_fft.cc:607] Unable to register cuFFT factory: Attempting to register factory for plugin cuFFT when one has already been registered\n",
      "2024-02-22 14:23:47.179525: E external/local_xla/xla/stream_executor/cuda/cuda_blas.cc:1515] Unable to register cuBLAS factory: Attempting to register factory for plugin cuBLAS when one has already been registered\n"
     ]
    }
   ],
   "source": [
    "import tensorflow as tf"
   ]
  },
  {
   "cell_type": "code",
   "execution_count": 2,
   "id": "4f6b49c3",
   "metadata": {
    "execution": {
     "iopub.execute_input": "2024-02-22T14:24:00.800576Z",
     "iopub.status.busy": "2024-02-22T14:24:00.799730Z",
     "iopub.status.idle": "2024-02-22T14:24:00.808261Z",
     "shell.execute_reply": "2024-02-22T14:24:00.807174Z"
    },
    "papermill": {
     "duration": 0.025029,
     "end_time": "2024-02-22T14:24:00.810675",
     "exception": false,
     "start_time": "2024-02-22T14:24:00.785646",
     "status": "completed"
    },
    "tags": []
   },
   "outputs": [
    {
     "data": {
      "text/plain": [
       "'2.15.0'"
      ]
     },
     "execution_count": 2,
     "metadata": {},
     "output_type": "execute_result"
    }
   ],
   "source": [
    "tf.__version__"
   ]
  },
  {
   "cell_type": "code",
   "execution_count": 3,
   "id": "a641885d",
   "metadata": {
    "execution": {
     "iopub.execute_input": "2024-02-22T14:24:00.838343Z",
     "iopub.status.busy": "2024-02-22T14:24:00.837944Z",
     "iopub.status.idle": "2024-02-22T14:24:00.874355Z",
     "shell.execute_reply": "2024-02-22T14:24:00.873469Z"
    },
    "papermill": {
     "duration": 0.05403,
     "end_time": "2024-02-22T14:24:00.877169",
     "exception": false,
     "start_time": "2024-02-22T14:24:00.823139",
     "status": "completed"
    },
    "tags": []
   },
   "outputs": [],
   "source": [
    "tensor1 = tf.Variable([1,2,3], dtype = tf.int32, name = \"My_Tensor\", Trainable = True)"
   ]
  },
  {
   "cell_type": "code",
   "execution_count": 4,
   "id": "587bab1a",
   "metadata": {
    "execution": {
     "iopub.execute_input": "2024-02-22T14:24:00.905239Z",
     "iopub.status.busy": "2024-02-22T14:24:00.904820Z",
     "iopub.status.idle": "2024-02-22T14:24:00.915206Z",
     "shell.execute_reply": "2024-02-22T14:24:00.914431Z"
    },
    "papermill": {
     "duration": 0.02967,
     "end_time": "2024-02-22T14:24:00.919420",
     "exception": false,
     "start_time": "2024-02-22T14:24:00.889750",
     "status": "completed"
    },
    "tags": []
   },
   "outputs": [
    {
     "data": {
      "text/plain": [
       "<tf.Variable 'My_Tensor:0' shape=(3,) dtype=int32, numpy=array([1, 2, 3], dtype=int32)>"
      ]
     },
     "execution_count": 4,
     "metadata": {},
     "output_type": "execute_result"
    }
   ],
   "source": [
    "tensor1"
   ]
  },
  {
   "cell_type": "code",
   "execution_count": 5,
   "id": "230ab059",
   "metadata": {
    "execution": {
     "iopub.execute_input": "2024-02-22T14:24:00.948784Z",
     "iopub.status.busy": "2024-02-22T14:24:00.947563Z",
     "iopub.status.idle": "2024-02-22T14:24:00.954202Z",
     "shell.execute_reply": "2024-02-22T14:24:00.953438Z"
    },
    "papermill": {
     "duration": 0.023607,
     "end_time": "2024-02-22T14:24:00.956241",
     "exception": false,
     "start_time": "2024-02-22T14:24:00.932634",
     "status": "completed"
    },
    "tags": []
   },
   "outputs": [
    {
     "data": {
      "text/plain": [
       "TensorShape([3])"
      ]
     },
     "execution_count": 5,
     "metadata": {},
     "output_type": "execute_result"
    }
   ],
   "source": [
    "tensor1.shape"
   ]
  },
  {
   "cell_type": "code",
   "execution_count": 6,
   "id": "9ccd02bb",
   "metadata": {
    "execution": {
     "iopub.execute_input": "2024-02-22T14:24:00.984619Z",
     "iopub.status.busy": "2024-02-22T14:24:00.984156Z",
     "iopub.status.idle": "2024-02-22T14:24:00.992693Z",
     "shell.execute_reply": "2024-02-22T14:24:00.991466Z"
    },
    "papermill": {
     "duration": 0.025532,
     "end_time": "2024-02-22T14:24:00.995142",
     "exception": false,
     "start_time": "2024-02-22T14:24:00.969610",
     "status": "completed"
    },
    "tags": []
   },
   "outputs": [
    {
     "data": {
      "text/plain": [
       "<bound method Variable.get_shape of <tf.Variable 'My_Tensor:0' shape=(3,) dtype=int32, numpy=array([1, 2, 3], dtype=int32)>>"
      ]
     },
     "execution_count": 6,
     "metadata": {},
     "output_type": "execute_result"
    }
   ],
   "source": [
    "tensor1.get_shape"
   ]
  },
  {
   "cell_type": "code",
   "execution_count": 7,
   "id": "bc16d3f5",
   "metadata": {
    "execution": {
     "iopub.execute_input": "2024-02-22T14:24:01.023485Z",
     "iopub.status.busy": "2024-02-22T14:24:01.023053Z",
     "iopub.status.idle": "2024-02-22T14:24:01.031023Z",
     "shell.execute_reply": "2024-02-22T14:24:01.029828Z"
    },
    "papermill": {
     "duration": 0.024865,
     "end_time": "2024-02-22T14:24:01.033179",
     "exception": false,
     "start_time": "2024-02-22T14:24:01.008314",
     "status": "completed"
    },
    "tags": []
   },
   "outputs": [
    {
     "data": {
      "text/plain": [
       "<tf.Tensor: shape=(), dtype=int32, numpy=1>"
      ]
     },
     "execution_count": 7,
     "metadata": {},
     "output_type": "execute_result"
    }
   ],
   "source": [
    "tf.rank(tensor1)"
   ]
  },
  {
   "cell_type": "markdown",
   "id": "3cbc169c",
   "metadata": {
    "papermill": {
     "duration": 0.012671,
     "end_time": "2024-02-22T14:24:01.059238",
     "exception": false,
     "start_time": "2024-02-22T14:24:01.046567",
     "status": "completed"
    },
    "tags": []
   },
   "source": [
    "Create a scalar to store the votes cast for Candidate 1 of political party X in\n",
    "district A, that is, 4113, and check its shape and rank."
   ]
  },
  {
   "cell_type": "code",
   "execution_count": 8,
   "id": "ef31b27c",
   "metadata": {
    "execution": {
     "iopub.execute_input": "2024-02-22T14:24:01.088070Z",
     "iopub.status.busy": "2024-02-22T14:24:01.086949Z",
     "iopub.status.idle": "2024-02-22T14:24:01.098165Z",
     "shell.execute_reply": "2024-02-22T14:24:01.097064Z"
    },
    "papermill": {
     "duration": 0.028474,
     "end_time": "2024-02-22T14:24:01.100981",
     "exception": false,
     "start_time": "2024-02-22T14:24:01.072507",
     "status": "completed"
    },
    "tags": []
   },
   "outputs": [
    {
     "data": {
      "text/plain": [
       "TensorShape([1])"
      ]
     },
     "execution_count": 8,
     "metadata": {},
     "output_type": "execute_result"
    }
   ],
   "source": [
    "candidate1 = tf.Variable([4113], dtype = tf.int32, name = 'Candidate1', trainable = True)\n",
    "candidate1.shape"
   ]
  },
  {
   "cell_type": "markdown",
   "id": "4f93f489",
   "metadata": {
    "papermill": {
     "duration": 0.013039,
     "end_time": "2024-02-22T14:24:01.127761",
     "exception": false,
     "start_time": "2024-02-22T14:24:01.114722",
     "status": "completed"
    },
    "tags": []
   },
   "source": [
    "• Create a vector to represent the proportion of votes cast for three different\n",
    "candidates of political party X in district A and check its shape and rank."
   ]
  },
  {
   "cell_type": "markdown",
   "id": "d5ae3dc8",
   "metadata": {
    "papermill": {
     "duration": 0.013033,
     "end_time": "2024-02-22T14:24:01.155138",
     "exception": false,
     "start_time": "2024-02-22T14:24:01.142105",
     "status": "completed"
    },
    "tags": []
   },
   "source": []
  },
  {
   "cell_type": "code",
   "execution_count": 9,
   "id": "23422c5b",
   "metadata": {
    "execution": {
     "iopub.execute_input": "2024-02-22T14:24:01.183419Z",
     "iopub.status.busy": "2024-02-22T14:24:01.183008Z",
     "iopub.status.idle": "2024-02-22T14:24:01.193226Z",
     "shell.execute_reply": "2024-02-22T14:24:01.191993Z"
    },
    "papermill": {
     "duration": 0.02715,
     "end_time": "2024-02-22T14:24:01.195520",
     "exception": false,
     "start_time": "2024-02-22T14:24:01.168370",
     "status": "completed"
    },
    "tags": []
   },
   "outputs": [
    {
     "data": {
      "text/plain": [
       "TensorShape([3])"
      ]
     },
     "execution_count": 9,
     "metadata": {},
     "output_type": "execute_result"
    }
   ],
   "source": [
    "portionofVotes_partyX = tf.Variable([4113, 7511, 6529], dtype = tf.int32, name=\"PortionOfVotes\", trainable = True)\n",
    "portionofVotes_partyX.shape"
   ]
  },
  {
   "cell_type": "markdown",
   "id": "60457afb",
   "metadata": {
    "papermill": {
     "duration": 0.012916,
     "end_time": "2024-02-22T14:24:01.221891",
     "exception": false,
     "start_time": "2024-02-22T14:24:01.208975",
     "status": "completed"
    },
    "tags": []
   },
   "source": [
    "Create a matrix to represent the votes cast for three different candidates of\n",
    "political parties X and Y and check its shape and rank."
   ]
  },
  {
   "cell_type": "markdown",
   "id": "ab014f20",
   "metadata": {
    "papermill": {
     "duration": 0.012857,
     "end_time": "2024-02-22T14:24:01.248027",
     "exception": false,
     "start_time": "2024-02-22T14:24:01.235170",
     "status": "completed"
    },
    "tags": []
   },
   "source": []
  },
  {
   "cell_type": "code",
   "execution_count": 10,
   "id": "0d1c8aff",
   "metadata": {
    "execution": {
     "iopub.execute_input": "2024-02-22T14:24:01.276624Z",
     "iopub.status.busy": "2024-02-22T14:24:01.276203Z",
     "iopub.status.idle": "2024-02-22T14:24:01.287723Z",
     "shell.execute_reply": "2024-02-22T14:24:01.286607Z"
    },
    "papermill": {
     "duration": 0.028559,
     "end_time": "2024-02-22T14:24:01.289997",
     "exception": false,
     "start_time": "2024-02-22T14:24:01.261438",
     "status": "completed"
    },
    "tags": []
   },
   "outputs": [
    {
     "data": {
      "text/plain": [
       "TensorShape([3, 2])"
      ]
     },
     "execution_count": 10,
     "metadata": {},
     "output_type": "execute_result"
    }
   ],
   "source": [
    "diffCand = tf.Variable([[4113, 3870], [7511, 6725], [6529, 3870]], dtype = tf.int32, name = 'DiffCand', trinabale = True)\n",
    "diffCand.shape"
   ]
  },
  {
   "cell_type": "code",
   "execution_count": 11,
   "id": "83e44a8b",
   "metadata": {
    "execution": {
     "iopub.execute_input": "2024-02-22T14:24:01.318616Z",
     "iopub.status.busy": "2024-02-22T14:24:01.318173Z",
     "iopub.status.idle": "2024-02-22T14:24:01.326680Z",
     "shell.execute_reply": "2024-02-22T14:24:01.325670Z"
    },
    "papermill": {
     "duration": 0.02521,
     "end_time": "2024-02-22T14:24:01.328835",
     "exception": false,
     "start_time": "2024-02-22T14:24:01.303625",
     "status": "completed"
    },
    "tags": []
   },
   "outputs": [
    {
     "data": {
      "text/plain": [
       "<tf.Variable 'DiffCand:0' shape=(3, 2) dtype=int32, numpy=\n",
       "array([[4113, 3870],\n",
       "       [7511, 6725],\n",
       "       [6529, 3870]], dtype=int32)>"
      ]
     },
     "execution_count": 11,
     "metadata": {},
     "output_type": "execute_result"
    }
   ],
   "source": [
    "diffCand"
   ]
  },
  {
   "cell_type": "code",
   "execution_count": 12,
   "id": "f1d572ae",
   "metadata": {
    "execution": {
     "iopub.execute_input": "2024-02-22T14:24:01.357912Z",
     "iopub.status.busy": "2024-02-22T14:24:01.357490Z",
     "iopub.status.idle": "2024-02-22T14:24:01.365535Z",
     "shell.execute_reply": "2024-02-22T14:24:01.364370Z"
    },
    "papermill": {
     "duration": 0.025496,
     "end_time": "2024-02-22T14:24:01.367948",
     "exception": false,
     "start_time": "2024-02-22T14:24:01.342452",
     "status": "completed"
    },
    "tags": []
   },
   "outputs": [
    {
     "data": {
      "text/plain": [
       "<tf.Tensor: shape=(), dtype=int32, numpy=2>"
      ]
     },
     "execution_count": 12,
     "metadata": {},
     "output_type": "execute_result"
    }
   ],
   "source": [
    "tf.rank(diffCand)"
   ]
  },
  {
   "cell_type": "markdown",
   "id": "e3257c25",
   "metadata": {
    "papermill": {
     "duration": 0.013543,
     "end_time": "2024-02-22T14:24:01.395681",
     "exception": false,
     "start_time": "2024-02-22T14:24:01.382138",
     "status": "completed"
    },
    "tags": []
   },
   "source": [
    "Create a tensor to represent the votes cast for three different candidates in two\n",
    "different districts, for three political parties, and check its shape and rank."
   ]
  },
  {
   "cell_type": "code",
   "execution_count": 13,
   "id": "1918bcf9",
   "metadata": {
    "execution": {
     "iopub.execute_input": "2024-02-22T14:24:01.425071Z",
     "iopub.status.busy": "2024-02-22T14:24:01.424643Z",
     "iopub.status.idle": "2024-02-22T14:24:01.436097Z",
     "shell.execute_reply": "2024-02-22T14:24:01.435083Z"
    },
    "papermill": {
     "duration": 0.028694,
     "end_time": "2024-02-22T14:24:01.438193",
     "exception": false,
     "start_time": "2024-02-22T14:24:01.409499",
     "status": "completed"
    },
    "tags": []
   },
   "outputs": [
    {
     "data": {
      "text/plain": [
       "TensorShape([2, 3, 3])"
      ]
     },
     "execution_count": 13,
     "metadata": {},
     "output_type": "execute_result"
    }
   ],
   "source": [
    "p3C3 = tf.Variable([[[4113, 3870, 5102], [7511, 6725, 7038], [6529, 6962, 6591]], [[3611, 951, 870], [5901, 1208, 645], [6235, 1098, 948]]], dtype = tf.int32, trainable = True, name = \"3Districts3Parties3Candidates\")\n",
    "p3C3.shape"
   ]
  },
  {
   "cell_type": "code",
   "execution_count": 14,
   "id": "3539bdee",
   "metadata": {
    "execution": {
     "iopub.execute_input": "2024-02-22T14:24:01.467749Z",
     "iopub.status.busy": "2024-02-22T14:24:01.467314Z",
     "iopub.status.idle": "2024-02-22T14:24:01.476008Z",
     "shell.execute_reply": "2024-02-22T14:24:01.474868Z"
    },
    "papermill": {
     "duration": 0.026113,
     "end_time": "2024-02-22T14:24:01.478180",
     "exception": false,
     "start_time": "2024-02-22T14:24:01.452067",
     "status": "completed"
    },
    "tags": []
   },
   "outputs": [
    {
     "data": {
      "text/plain": [
       "<tf.Variable '3Districts3Parties3Candidates:0' shape=(2, 3, 3) dtype=int32, numpy=\n",
       "array([[[4113, 3870, 5102],\n",
       "        [7511, 6725, 7038],\n",
       "        [6529, 6962, 6591]],\n",
       "\n",
       "       [[3611,  951,  870],\n",
       "        [5901, 1208,  645],\n",
       "        [6235, 1098,  948]]], dtype=int32)>"
      ]
     },
     "execution_count": 14,
     "metadata": {},
     "output_type": "execute_result"
    }
   ],
   "source": [
    "p3C3"
   ]
  },
  {
   "cell_type": "code",
   "execution_count": 15,
   "id": "f16cbd63",
   "metadata": {
    "execution": {
     "iopub.execute_input": "2024-02-22T14:24:01.508112Z",
     "iopub.status.busy": "2024-02-22T14:24:01.507712Z",
     "iopub.status.idle": "2024-02-22T14:24:01.515955Z",
     "shell.execute_reply": "2024-02-22T14:24:01.514880Z"
    },
    "papermill": {
     "duration": 0.025574,
     "end_time": "2024-02-22T14:24:01.517999",
     "exception": false,
     "start_time": "2024-02-22T14:24:01.492425",
     "status": "completed"
    },
    "tags": []
   },
   "outputs": [
    {
     "data": {
      "text/plain": [
       "<tf.Tensor: shape=(), dtype=int32, numpy=3>"
      ]
     },
     "execution_count": 15,
     "metadata": {},
     "output_type": "execute_result"
    }
   ],
   "source": [
    "tf.rank(p3C3)"
   ]
  },
  {
   "cell_type": "code",
   "execution_count": 16,
   "id": "7fb78d3d",
   "metadata": {
    "execution": {
     "iopub.execute_input": "2024-02-22T14:24:01.548572Z",
     "iopub.status.busy": "2024-02-22T14:24:01.548141Z",
     "iopub.status.idle": "2024-02-22T14:24:01.555320Z",
     "shell.execute_reply": "2024-02-22T14:24:01.554485Z"
    },
    "papermill": {
     "duration": 0.025219,
     "end_time": "2024-02-22T14:24:01.557536",
     "exception": false,
     "start_time": "2024-02-22T14:24:01.532317",
     "status": "completed"
    },
    "tags": []
   },
   "outputs": [
    {
     "data": {
      "text/plain": [
       "3"
      ]
     },
     "execution_count": 16,
     "metadata": {},
     "output_type": "execute_result"
    }
   ],
   "source": [
    "tf.rank(p3C3).numpy()"
   ]
  },
  {
   "cell_type": "code",
   "execution_count": 17,
   "id": "ef89f5c6",
   "metadata": {
    "execution": {
     "iopub.execute_input": "2024-02-22T14:24:01.588528Z",
     "iopub.status.busy": "2024-02-22T14:24:01.588055Z",
     "iopub.status.idle": "2024-02-22T14:24:01.594830Z",
     "shell.execute_reply": "2024-02-22T14:24:01.593778Z"
    },
    "papermill": {
     "duration": 0.024958,
     "end_time": "2024-02-22T14:24:01.596950",
     "exception": false,
     "start_time": "2024-02-22T14:24:01.571992",
     "status": "completed"
    },
    "tags": []
   },
   "outputs": [
    {
     "data": {
      "text/plain": [
       "[2, 3, 3]"
      ]
     },
     "execution_count": 17,
     "metadata": {},
     "output_type": "execute_result"
    }
   ],
   "source": [
    "p3C3.shape.as_list()"
   ]
  },
  {
   "cell_type": "markdown",
   "id": "464e975e",
   "metadata": {
    "papermill": {
     "duration": 0.014165,
     "end_time": "2024-02-22T14:24:01.625828",
     "exception": false,
     "start_time": "2024-02-22T14:24:01.611663",
     "status": "completed"
    },
    "tags": []
   },
   "source": [
    "Tensor Addition"
   ]
  },
  {
   "cell_type": "code",
   "execution_count": 18,
   "id": "d7ab3382",
   "metadata": {
    "execution": {
     "iopub.execute_input": "2024-02-22T14:24:01.656709Z",
     "iopub.status.busy": "2024-02-22T14:24:01.656020Z",
     "iopub.status.idle": "2024-02-22T14:24:01.663963Z",
     "shell.execute_reply": "2024-02-22T14:24:01.662824Z"
    },
    "papermill": {
     "duration": 0.026001,
     "end_time": "2024-02-22T14:24:01.666178",
     "exception": false,
     "start_time": "2024-02-22T14:24:01.640177",
     "status": "completed"
    },
    "tags": []
   },
   "outputs": [],
   "source": [
    "t1 = tf.Variable([1,2,3])\n",
    "t2 = tf.Variable([2,3,4])"
   ]
  },
  {
   "cell_type": "code",
   "execution_count": 19,
   "id": "dcc6a085",
   "metadata": {
    "execution": {
     "iopub.execute_input": "2024-02-22T14:24:01.697037Z",
     "iopub.status.busy": "2024-02-22T14:24:01.696625Z",
     "iopub.status.idle": "2024-02-22T14:24:01.707852Z",
     "shell.execute_reply": "2024-02-22T14:24:01.707002Z"
    },
    "papermill": {
     "duration": 0.029136,
     "end_time": "2024-02-22T14:24:01.709859",
     "exception": false,
     "start_time": "2024-02-22T14:24:01.680723",
     "status": "completed"
    },
    "tags": []
   },
   "outputs": [
    {
     "data": {
      "text/plain": [
       "<tf.Tensor: shape=(3,), dtype=int32, numpy=array([3, 5, 7], dtype=int32)>"
      ]
     },
     "execution_count": 19,
     "metadata": {},
     "output_type": "execute_result"
    }
   ],
   "source": [
    "t_add = tf.add(t1, t2)\n",
    "t_add"
   ]
  },
  {
   "cell_type": "code",
   "execution_count": 20,
   "id": "64892057",
   "metadata": {
    "execution": {
     "iopub.execute_input": "2024-02-22T14:24:01.741390Z",
     "iopub.status.busy": "2024-02-22T14:24:01.740986Z",
     "iopub.status.idle": "2024-02-22T14:24:01.748963Z",
     "shell.execute_reply": "2024-02-22T14:24:01.748150Z"
    },
    "papermill": {
     "duration": 0.025995,
     "end_time": "2024-02-22T14:24:01.751086",
     "exception": false,
     "start_time": "2024-02-22T14:24:01.725091",
     "status": "completed"
    },
    "tags": []
   },
   "outputs": [
    {
     "data": {
      "text/plain": [
       "<tf.Tensor: shape=(3,), dtype=int32, numpy=array([3, 5, 7], dtype=int32)>"
      ]
     },
     "execution_count": 20,
     "metadata": {},
     "output_type": "execute_result"
    }
   ],
   "source": [
    "t_add_sign = t1 + t2\n",
    "t_add_sign"
   ]
  },
  {
   "cell_type": "markdown",
   "id": "44e6359d",
   "metadata": {
    "papermill": {
     "duration": 0.015389,
     "end_time": "2024-02-22T14:24:01.781271",
     "exception": false,
     "start_time": "2024-02-22T14:24:01.765882",
     "status": "completed"
    },
    "tags": []
   },
   "source": [
    "***Reshaping***"
   ]
  },
  {
   "cell_type": "code",
   "execution_count": 21,
   "id": "b019e327",
   "metadata": {
    "execution": {
     "iopub.execute_input": "2024-02-22T14:24:01.813021Z",
     "iopub.status.busy": "2024-02-22T14:24:01.812631Z",
     "iopub.status.idle": "2024-02-22T14:24:01.827531Z",
     "shell.execute_reply": "2024-02-22T14:24:01.826453Z"
    },
    "papermill": {
     "duration": 0.033531,
     "end_time": "2024-02-22T14:24:01.829881",
     "exception": false,
     "start_time": "2024-02-22T14:24:01.796350",
     "status": "completed"
    },
    "tags": []
   },
   "outputs": [
    {
     "data": {
      "text/plain": [
       "<tf.Variable 'Variable:0' shape=(6,) dtype=int16, numpy=array([1, 2, 3, 4, 5, 6], dtype=int16)>"
      ]
     },
     "execution_count": 21,
     "metadata": {},
     "output_type": "execute_result"
    }
   ],
   "source": [
    "t3 = tf.Variable([1,2,3,4,5, 6], dtype = tf.int16)\n",
    "t3"
   ]
  },
  {
   "cell_type": "code",
   "execution_count": 22,
   "id": "eae42cb6",
   "metadata": {
    "execution": {
     "iopub.execute_input": "2024-02-22T14:24:01.919970Z",
     "iopub.status.busy": "2024-02-22T14:24:01.918896Z",
     "iopub.status.idle": "2024-02-22T14:24:01.929729Z",
     "shell.execute_reply": "2024-02-22T14:24:01.928670Z"
    },
    "papermill": {
     "duration": 0.086802,
     "end_time": "2024-02-22T14:24:01.932094",
     "exception": false,
     "start_time": "2024-02-22T14:24:01.845292",
     "status": "completed"
    },
    "tags": []
   },
   "outputs": [],
   "source": [
    "t4 = tf.reshape(t3, shape = [3,2])"
   ]
  },
  {
   "cell_type": "markdown",
   "id": "b8c5e998",
   "metadata": {
    "papermill": {
     "duration": 0.014721,
     "end_time": "2024-02-22T14:24:01.962014",
     "exception": false,
     "start_time": "2024-02-22T14:24:01.947293",
     "status": "completed"
    },
    "tags": []
   },
   "source": [
    "***Tensor Transposition***"
   ]
  },
  {
   "cell_type": "code",
   "execution_count": 23,
   "id": "cc0ce0a9",
   "metadata": {
    "execution": {
     "iopub.execute_input": "2024-02-22T14:24:01.993699Z",
     "iopub.status.busy": "2024-02-22T14:24:01.993033Z",
     "iopub.status.idle": "2024-02-22T14:24:02.005101Z",
     "shell.execute_reply": "2024-02-22T14:24:02.003986Z"
    },
    "papermill": {
     "duration": 0.030495,
     "end_time": "2024-02-22T14:24:02.007355",
     "exception": false,
     "start_time": "2024-02-22T14:24:01.976860",
     "status": "completed"
    },
    "tags": []
   },
   "outputs": [
    {
     "data": {
      "text/plain": [
       "<tf.Tensor: shape=(2, 3), dtype=int16, numpy=\n",
       "array([[1, 3, 5],\n",
       "       [2, 4, 6]], dtype=int16)>"
      ]
     },
     "execution_count": 23,
     "metadata": {},
     "output_type": "execute_result"
    }
   ],
   "source": [
    "tf.transpose(t4)"
   ]
  },
  {
   "cell_type": "code",
   "execution_count": 24,
   "id": "da20e8be",
   "metadata": {
    "execution": {
     "iopub.execute_input": "2024-02-22T14:24:02.039864Z",
     "iopub.status.busy": "2024-02-22T14:24:02.039477Z",
     "iopub.status.idle": "2024-02-22T14:24:02.046974Z",
     "shell.execute_reply": "2024-02-22T14:24:02.045762Z"
    },
    "papermill": {
     "duration": 0.026113,
     "end_time": "2024-02-22T14:24:02.049174",
     "exception": false,
     "start_time": "2024-02-22T14:24:02.023061",
     "status": "completed"
    },
    "tags": []
   },
   "outputs": [
    {
     "data": {
      "text/plain": [
       "<tf.Tensor: shape=(3, 2), dtype=int16, numpy=\n",
       "array([[1, 2],\n",
       "       [3, 4],\n",
       "       [5, 6]], dtype=int16)>"
      ]
     },
     "execution_count": 24,
     "metadata": {},
     "output_type": "execute_result"
    }
   ],
   "source": [
    "t4"
   ]
  },
  {
   "cell_type": "markdown",
   "id": "581728a2",
   "metadata": {
    "papermill": {
     "duration": 0.015062,
     "end_time": "2024-02-22T14:24:02.079684",
     "exception": false,
     "start_time": "2024-02-22T14:24:02.064622",
     "status": "completed"
    },
    "tags": []
   },
   "source": [
    "***Tensor Multiplication***"
   ]
  },
  {
   "cell_type": "code",
   "execution_count": 25,
   "id": "0f2055f5",
   "metadata": {
    "execution": {
     "iopub.execute_input": "2024-02-22T14:24:02.112422Z",
     "iopub.status.busy": "2024-02-22T14:24:02.111972Z",
     "iopub.status.idle": "2024-02-22T14:24:02.123312Z",
     "shell.execute_reply": "2024-02-22T14:24:02.122209Z"
    },
    "papermill": {
     "duration": 0.030245,
     "end_time": "2024-02-22T14:24:02.125649",
     "exception": false,
     "start_time": "2024-02-22T14:24:02.095404",
     "status": "completed"
    },
    "tags": []
   },
   "outputs": [
    {
     "data": {
      "text/plain": [
       "<tf.Variable 'Variable:0' shape=(1, 3) dtype=int32, numpy=array([[1, 2, 3]], dtype=int32)>"
      ]
     },
     "execution_count": 25,
     "metadata": {},
     "output_type": "execute_result"
    }
   ],
   "source": [
    "t5 = tf.Variable([[1,2,3]])\n",
    "t5"
   ]
  },
  {
   "cell_type": "code",
   "execution_count": 26,
   "id": "a0694383",
   "metadata": {
    "execution": {
     "iopub.execute_input": "2024-02-22T14:24:02.158775Z",
     "iopub.status.busy": "2024-02-22T14:24:02.158198Z",
     "iopub.status.idle": "2024-02-22T14:24:02.170611Z",
     "shell.execute_reply": "2024-02-22T14:24:02.169435Z"
    },
    "papermill": {
     "duration": 0.031903,
     "end_time": "2024-02-22T14:24:02.173087",
     "exception": false,
     "start_time": "2024-02-22T14:24:02.141184",
     "status": "completed"
    },
    "tags": []
   },
   "outputs": [
    {
     "data": {
      "text/plain": [
       "<tf.Variable 'Variable:0' shape=(3, 1) dtype=int32, numpy=\n",
       "array([[1],\n",
       "       [2],\n",
       "       [3]], dtype=int32)>"
      ]
     },
     "execution_count": 26,
     "metadata": {},
     "output_type": "execute_result"
    }
   ],
   "source": [
    "t6 = tf.Variable([[1],[2],[3]])\n",
    "t6"
   ]
  },
  {
   "cell_type": "code",
   "execution_count": 27,
   "id": "3c14af19",
   "metadata": {
    "execution": {
     "iopub.execute_input": "2024-02-22T14:24:02.207299Z",
     "iopub.status.busy": "2024-02-22T14:24:02.206860Z",
     "iopub.status.idle": "2024-02-22T14:24:02.214091Z",
     "shell.execute_reply": "2024-02-22T14:24:02.212839Z"
    },
    "papermill": {
     "duration": 0.027677,
     "end_time": "2024-02-22T14:24:02.216749",
     "exception": false,
     "start_time": "2024-02-22T14:24:02.189072",
     "status": "completed"
    },
    "tags": []
   },
   "outputs": [
    {
     "data": {
      "text/plain": [
       "TensorShape([1, 3])"
      ]
     },
     "execution_count": 27,
     "metadata": {},
     "output_type": "execute_result"
    }
   ],
   "source": [
    "t5.shape"
   ]
  },
  {
   "cell_type": "code",
   "execution_count": 28,
   "id": "4deec1a0",
   "metadata": {
    "execution": {
     "iopub.execute_input": "2024-02-22T14:24:02.251227Z",
     "iopub.status.busy": "2024-02-22T14:24:02.250829Z",
     "iopub.status.idle": "2024-02-22T14:24:02.257795Z",
     "shell.execute_reply": "2024-02-22T14:24:02.256604Z"
    },
    "papermill": {
     "duration": 0.027199,
     "end_time": "2024-02-22T14:24:02.260329",
     "exception": false,
     "start_time": "2024-02-22T14:24:02.233130",
     "status": "completed"
    },
    "tags": []
   },
   "outputs": [
    {
     "data": {
      "text/plain": [
       "TensorShape([3, 1])"
      ]
     },
     "execution_count": 28,
     "metadata": {},
     "output_type": "execute_result"
    }
   ],
   "source": [
    "t6.shape"
   ]
  },
  {
   "cell_type": "code",
   "execution_count": 29,
   "id": "0e8acab6",
   "metadata": {
    "execution": {
     "iopub.execute_input": "2024-02-22T14:24:02.295161Z",
     "iopub.status.busy": "2024-02-22T14:24:02.294764Z",
     "iopub.status.idle": "2024-02-22T14:24:02.304579Z",
     "shell.execute_reply": "2024-02-22T14:24:02.303534Z"
    },
    "papermill": {
     "duration": 0.029412,
     "end_time": "2024-02-22T14:24:02.306681",
     "exception": false,
     "start_time": "2024-02-22T14:24:02.277269",
     "status": "completed"
    },
    "tags": []
   },
   "outputs": [
    {
     "data": {
      "text/plain": [
       "<tf.Tensor: shape=(1, 1), dtype=int32, numpy=array([[14]], dtype=int32)>"
      ]
     },
     "execution_count": 29,
     "metadata": {},
     "output_type": "execute_result"
    }
   ],
   "source": [
    "tf.matmul(t5, t6)"
   ]
  },
  {
   "cell_type": "code",
   "execution_count": 30,
   "id": "9ed5066e",
   "metadata": {
    "execution": {
     "iopub.execute_input": "2024-02-22T14:24:02.341015Z",
     "iopub.status.busy": "2024-02-22T14:24:02.340155Z",
     "iopub.status.idle": "2024-02-22T14:24:02.348304Z",
     "shell.execute_reply": "2024-02-22T14:24:02.347534Z"
    },
    "papermill": {
     "duration": 0.027694,
     "end_time": "2024-02-22T14:24:02.350392",
     "exception": false,
     "start_time": "2024-02-22T14:24:02.322698",
     "status": "completed"
    },
    "tags": []
   },
   "outputs": [
    {
     "data": {
      "text/plain": [
       "<tf.Tensor: shape=(1, 1), dtype=int32, numpy=array([[14]], dtype=int32)>"
      ]
     },
     "execution_count": 30,
     "metadata": {},
     "output_type": "execute_result"
    }
   ],
   "source": [
    "t5 @ t6"
   ]
  },
  {
   "cell_type": "code",
   "execution_count": 31,
   "id": "65584fbe",
   "metadata": {
    "execution": {
     "iopub.execute_input": "2024-02-22T14:24:02.385815Z",
     "iopub.status.busy": "2024-02-22T14:24:02.384593Z",
     "iopub.status.idle": "2024-02-22T14:24:02.397471Z",
     "shell.execute_reply": "2024-02-22T14:24:02.396197Z"
    },
    "papermill": {
     "duration": 0.032883,
     "end_time": "2024-02-22T14:24:02.399958",
     "exception": false,
     "start_time": "2024-02-22T14:24:02.367075",
     "status": "completed"
    },
    "tags": []
   },
   "outputs": [
    {
     "data": {
      "text/plain": [
       "<tf.Tensor: shape=(1, 3), dtype=int32, numpy=array([[ 5, 10, 15]], dtype=int32)>"
      ]
     },
     "execution_count": 31,
     "metadata": {},
     "output_type": "execute_result"
    }
   ],
   "source": [
    "5 * t5"
   ]
  },
  {
   "cell_type": "code",
   "execution_count": null,
   "id": "a4e1766b",
   "metadata": {
    "papermill": {
     "duration": 0.01615,
     "end_time": "2024-02-22T14:24:02.432662",
     "exception": false,
     "start_time": "2024-02-22T14:24:02.416512",
     "status": "completed"
    },
    "tags": []
   },
   "outputs": [],
   "source": []
  }
 ],
 "metadata": {
  "kaggle": {
   "accelerator": "none",
   "dataSources": [],
   "dockerImageVersionId": 30646,
   "isGpuEnabled": false,
   "isInternetEnabled": true,
   "language": "python",
   "sourceType": "notebook"
  },
  "kernelspec": {
   "display_name": "Python 3",
   "language": "python",
   "name": "python3"
  },
  "language_info": {
   "codemirror_mode": {
    "name": "ipython",
    "version": 3
   },
   "file_extension": ".py",
   "mimetype": "text/x-python",
   "name": "python",
   "nbconvert_exporter": "python",
   "pygments_lexer": "ipython3",
   "version": "3.10.13"
  },
  "papermill": {
   "default_parameters": {},
   "duration": 23.107626,
   "end_time": "2024-02-22T14:24:04.844128",
   "environment_variables": {},
   "exception": null,
   "input_path": "__notebook__.ipynb",
   "output_path": "__notebook__.ipynb",
   "parameters": {},
   "start_time": "2024-02-22T14:23:41.736502",
   "version": "2.5.0"
  }
 },
 "nbformat": 4,
 "nbformat_minor": 5
}
