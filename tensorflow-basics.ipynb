{
 "cells": [
  {
   "cell_type": "code",
   "execution_count": 1,
   "id": "0508c655",
   "metadata": {
    "execution": {
     "iopub.execute_input": "2024-02-21T13:23:35.275457Z",
     "iopub.status.busy": "2024-02-21T13:23:35.274793Z",
     "iopub.status.idle": "2024-02-21T13:23:53.541531Z",
     "shell.execute_reply": "2024-02-21T13:23:53.538610Z"
    },
    "papermill": {
     "duration": 18.27471,
     "end_time": "2024-02-21T13:23:53.544713",
     "exception": false,
     "start_time": "2024-02-21T13:23:35.270003",
     "status": "completed"
    },
    "tags": []
   },
   "outputs": [
    {
     "name": "stderr",
     "output_type": "stream",
     "text": [
      "2024-02-21 13:23:37.817007: E external/local_xla/xla/stream_executor/cuda/cuda_dnn.cc:9261] Unable to register cuDNN factory: Attempting to register factory for plugin cuDNN when one has already been registered\n",
      "2024-02-21 13:23:37.817155: E external/local_xla/xla/stream_executor/cuda/cuda_fft.cc:607] Unable to register cuFFT factory: Attempting to register factory for plugin cuFFT when one has already been registered\n",
      "2024-02-21 13:23:38.019487: E external/local_xla/xla/stream_executor/cuda/cuda_blas.cc:1515] Unable to register cuBLAS factory: Attempting to register factory for plugin cuBLAS when one has already been registered\n"
     ]
    }
   ],
   "source": [
    "import tensorflow as tf"
   ]
  },
  {
   "cell_type": "code",
   "execution_count": 2,
   "id": "eed83e56",
   "metadata": {
    "execution": {
     "iopub.execute_input": "2024-02-21T13:23:53.552753Z",
     "iopub.status.busy": "2024-02-21T13:23:53.552006Z",
     "iopub.status.idle": "2024-02-21T13:23:53.562501Z",
     "shell.execute_reply": "2024-02-21T13:23:53.561557Z"
    },
    "papermill": {
     "duration": 0.017837,
     "end_time": "2024-02-21T13:23:53.565456",
     "exception": false,
     "start_time": "2024-02-21T13:23:53.547619",
     "status": "completed"
    },
    "tags": []
   },
   "outputs": [
    {
     "data": {
      "text/plain": [
       "'2.15.0'"
      ]
     },
     "execution_count": 2,
     "metadata": {},
     "output_type": "execute_result"
    }
   ],
   "source": [
    "tf.__version__"
   ]
  },
  {
   "cell_type": "code",
   "execution_count": null,
   "id": "8f396a82",
   "metadata": {
    "papermill": {
     "duration": 0.002317,
     "end_time": "2024-02-21T13:23:53.570590",
     "exception": false,
     "start_time": "2024-02-21T13:23:53.568273",
     "status": "completed"
    },
    "tags": []
   },
   "outputs": [],
   "source": []
  }
 ],
 "metadata": {
  "kaggle": {
   "accelerator": "none",
   "dataSources": [],
   "dockerImageVersionId": 30646,
   "isGpuEnabled": false,
   "isInternetEnabled": true,
   "language": "python",
   "sourceType": "notebook"
  },
  "kernelspec": {
   "display_name": "Python 3",
   "language": "python",
   "name": "python3"
  },
  "language_info": {
   "codemirror_mode": {
    "name": "ipython",
    "version": 3
   },
   "file_extension": ".py",
   "mimetype": "text/x-python",
   "name": "python",
   "nbconvert_exporter": "python",
   "pygments_lexer": "ipython3",
   "version": "3.10.13"
  },
  "papermill": {
   "default_parameters": {},
   "duration": 23.205636,
   "end_time": "2024-02-21T13:23:55.201402",
   "environment_variables": {},
   "exception": null,
   "input_path": "__notebook__.ipynb",
   "output_path": "__notebook__.ipynb",
   "parameters": {},
   "start_time": "2024-02-21T13:23:31.995766",
   "version": "2.5.0"
  }
 },
 "nbformat": 4,
 "nbformat_minor": 5
}
