{
 "cells": [
  {
   "cell_type": "code",
   "execution_count": 1,
   "id": "dd9a12e7",
   "metadata": {
    "execution": {
     "iopub.execute_input": "2024-02-22T13:52:06.938086Z",
     "iopub.status.busy": "2024-02-22T13:52:06.937298Z",
     "iopub.status.idle": "2024-02-22T13:52:22.543623Z",
     "shell.execute_reply": "2024-02-22T13:52:22.542377Z"
    },
    "papermill": {
     "duration": 15.621602,
     "end_time": "2024-02-22T13:52:22.546753",
     "exception": false,
     "start_time": "2024-02-22T13:52:06.925151",
     "status": "completed"
    },
    "tags": []
   },
   "outputs": [
    {
     "name": "stderr",
     "output_type": "stream",
     "text": [
      "2024-02-22 13:52:09.084382: E external/local_xla/xla/stream_executor/cuda/cuda_dnn.cc:9261] Unable to register cuDNN factory: Attempting to register factory for plugin cuDNN when one has already been registered\n",
      "2024-02-22 13:52:09.084517: E external/local_xla/xla/stream_executor/cuda/cuda_fft.cc:607] Unable to register cuFFT factory: Attempting to register factory for plugin cuFFT when one has already been registered\n",
      "2024-02-22 13:52:09.236792: E external/local_xla/xla/stream_executor/cuda/cuda_blas.cc:1515] Unable to register cuBLAS factory: Attempting to register factory for plugin cuBLAS when one has already been registered\n"
     ]
    }
   ],
   "source": [
    "import tensorflow as tf"
   ]
  },
  {
   "cell_type": "code",
   "execution_count": 2,
   "id": "c91c3838",
   "metadata": {
    "execution": {
     "iopub.execute_input": "2024-02-22T13:52:22.569518Z",
     "iopub.status.busy": "2024-02-22T13:52:22.568742Z",
     "iopub.status.idle": "2024-02-22T13:52:22.576859Z",
     "shell.execute_reply": "2024-02-22T13:52:22.575729Z"
    },
    "papermill": {
     "duration": 0.021958,
     "end_time": "2024-02-22T13:52:22.579291",
     "exception": false,
     "start_time": "2024-02-22T13:52:22.557333",
     "status": "completed"
    },
    "tags": []
   },
   "outputs": [
    {
     "data": {
      "text/plain": [
       "'2.15.0'"
      ]
     },
     "execution_count": 2,
     "metadata": {},
     "output_type": "execute_result"
    }
   ],
   "source": [
    "tf.__version__"
   ]
  },
  {
   "cell_type": "code",
   "execution_count": 3,
   "id": "15865b6a",
   "metadata": {
    "execution": {
     "iopub.execute_input": "2024-02-22T13:52:22.601389Z",
     "iopub.status.busy": "2024-02-22T13:52:22.600938Z",
     "iopub.status.idle": "2024-02-22T13:52:22.637142Z",
     "shell.execute_reply": "2024-02-22T13:52:22.636241Z"
    },
    "papermill": {
     "duration": 0.050401,
     "end_time": "2024-02-22T13:52:22.639783",
     "exception": false,
     "start_time": "2024-02-22T13:52:22.589382",
     "status": "completed"
    },
    "tags": []
   },
   "outputs": [],
   "source": [
    "tensor1 = tf.Variable([1,2,3], dtype = tf.int32, name = \"My_Tensor\", Trainable = True)"
   ]
  },
  {
   "cell_type": "code",
   "execution_count": 4,
   "id": "5100797e",
   "metadata": {
    "execution": {
     "iopub.execute_input": "2024-02-22T13:52:22.661789Z",
     "iopub.status.busy": "2024-02-22T13:52:22.661291Z",
     "iopub.status.idle": "2024-02-22T13:52:22.670601Z",
     "shell.execute_reply": "2024-02-22T13:52:22.669789Z"
    },
    "papermill": {
     "duration": 0.023034,
     "end_time": "2024-02-22T13:52:22.672938",
     "exception": false,
     "start_time": "2024-02-22T13:52:22.649904",
     "status": "completed"
    },
    "tags": []
   },
   "outputs": [
    {
     "data": {
      "text/plain": [
       "<tf.Variable 'My_Tensor:0' shape=(3,) dtype=int32, numpy=array([1, 2, 3], dtype=int32)>"
      ]
     },
     "execution_count": 4,
     "metadata": {},
     "output_type": "execute_result"
    }
   ],
   "source": [
    "tensor1"
   ]
  },
  {
   "cell_type": "code",
   "execution_count": 5,
   "id": "85127df0",
   "metadata": {
    "execution": {
     "iopub.execute_input": "2024-02-22T13:52:22.695774Z",
     "iopub.status.busy": "2024-02-22T13:52:22.695003Z",
     "iopub.status.idle": "2024-02-22T13:52:22.700892Z",
     "shell.execute_reply": "2024-02-22T13:52:22.700129Z"
    },
    "papermill": {
     "duration": 0.019673,
     "end_time": "2024-02-22T13:52:22.703106",
     "exception": false,
     "start_time": "2024-02-22T13:52:22.683433",
     "status": "completed"
    },
    "tags": []
   },
   "outputs": [
    {
     "data": {
      "text/plain": [
       "TensorShape([3])"
      ]
     },
     "execution_count": 5,
     "metadata": {},
     "output_type": "execute_result"
    }
   ],
   "source": [
    "tensor1.shape"
   ]
  },
  {
   "cell_type": "code",
   "execution_count": 6,
   "id": "491f5e0c",
   "metadata": {
    "execution": {
     "iopub.execute_input": "2024-02-22T13:52:22.725940Z",
     "iopub.status.busy": "2024-02-22T13:52:22.725174Z",
     "iopub.status.idle": "2024-02-22T13:52:22.732495Z",
     "shell.execute_reply": "2024-02-22T13:52:22.731336Z"
    },
    "papermill": {
     "duration": 0.021474,
     "end_time": "2024-02-22T13:52:22.734884",
     "exception": false,
     "start_time": "2024-02-22T13:52:22.713410",
     "status": "completed"
    },
    "tags": []
   },
   "outputs": [
    {
     "data": {
      "text/plain": [
       "<bound method Variable.get_shape of <tf.Variable 'My_Tensor:0' shape=(3,) dtype=int32, numpy=array([1, 2, 3], dtype=int32)>>"
      ]
     },
     "execution_count": 6,
     "metadata": {},
     "output_type": "execute_result"
    }
   ],
   "source": [
    "tensor1.get_shape"
   ]
  },
  {
   "cell_type": "code",
   "execution_count": 7,
   "id": "35ce1106",
   "metadata": {
    "execution": {
     "iopub.execute_input": "2024-02-22T13:52:22.757882Z",
     "iopub.status.busy": "2024-02-22T13:52:22.757430Z",
     "iopub.status.idle": "2024-02-22T13:52:22.766007Z",
     "shell.execute_reply": "2024-02-22T13:52:22.764752Z"
    },
    "papermill": {
     "duration": 0.023083,
     "end_time": "2024-02-22T13:52:22.768637",
     "exception": false,
     "start_time": "2024-02-22T13:52:22.745554",
     "status": "completed"
    },
    "tags": []
   },
   "outputs": [
    {
     "data": {
      "text/plain": [
       "<tf.Tensor: shape=(), dtype=int32, numpy=1>"
      ]
     },
     "execution_count": 7,
     "metadata": {},
     "output_type": "execute_result"
    }
   ],
   "source": [
    "tf.rank(tensor1)"
   ]
  },
  {
   "cell_type": "markdown",
   "id": "ed334ba0",
   "metadata": {
    "papermill": {
     "duration": 0.01019,
     "end_time": "2024-02-22T13:52:22.790871",
     "exception": false,
     "start_time": "2024-02-22T13:52:22.780681",
     "status": "completed"
    },
    "tags": []
   },
   "source": [
    "Create a scalar to store the votes cast for Candidate 1 of political party X in\n",
    "district A, that is, 4113, and check its shape and rank."
   ]
  },
  {
   "cell_type": "code",
   "execution_count": 8,
   "id": "d0ac4fd7",
   "metadata": {
    "execution": {
     "iopub.execute_input": "2024-02-22T13:52:22.813923Z",
     "iopub.status.busy": "2024-02-22T13:52:22.813454Z",
     "iopub.status.idle": "2024-02-22T13:52:22.824452Z",
     "shell.execute_reply": "2024-02-22T13:52:22.823213Z"
    },
    "papermill": {
     "duration": 0.025492,
     "end_time": "2024-02-22T13:52:22.826985",
     "exception": false,
     "start_time": "2024-02-22T13:52:22.801493",
     "status": "completed"
    },
    "tags": []
   },
   "outputs": [
    {
     "data": {
      "text/plain": [
       "TensorShape([1])"
      ]
     },
     "execution_count": 8,
     "metadata": {},
     "output_type": "execute_result"
    }
   ],
   "source": [
    "candidate1 = tf.Variable([4113], dtype = tf.int32, name = 'Candidate1', trainable = True)\n",
    "candidate1.shape"
   ]
  },
  {
   "cell_type": "markdown",
   "id": "97cabe14",
   "metadata": {
    "papermill": {
     "duration": 0.010416,
     "end_time": "2024-02-22T13:52:22.848165",
     "exception": false,
     "start_time": "2024-02-22T13:52:22.837749",
     "status": "completed"
    },
    "tags": []
   },
   "source": [
    "• Create a vector to represent the proportion of votes cast for three different\n",
    "candidates of political party X in district A and check its shape and rank."
   ]
  },
  {
   "cell_type": "markdown",
   "id": "e2c38882",
   "metadata": {
    "papermill": {
     "duration": 0.010299,
     "end_time": "2024-02-22T13:52:22.869646",
     "exception": false,
     "start_time": "2024-02-22T13:52:22.859347",
     "status": "completed"
    },
    "tags": []
   },
   "source": []
  },
  {
   "cell_type": "code",
   "execution_count": 9,
   "id": "8eb5e493",
   "metadata": {
    "execution": {
     "iopub.execute_input": "2024-02-22T13:52:22.893720Z",
     "iopub.status.busy": "2024-02-22T13:52:22.892396Z",
     "iopub.status.idle": "2024-02-22T13:52:22.903578Z",
     "shell.execute_reply": "2024-02-22T13:52:22.902647Z"
    },
    "papermill": {
     "duration": 0.025702,
     "end_time": "2024-02-22T13:52:22.906043",
     "exception": false,
     "start_time": "2024-02-22T13:52:22.880341",
     "status": "completed"
    },
    "tags": []
   },
   "outputs": [
    {
     "data": {
      "text/plain": [
       "TensorShape([3])"
      ]
     },
     "execution_count": 9,
     "metadata": {},
     "output_type": "execute_result"
    }
   ],
   "source": [
    "portionofVotes_partyX = tf.Variable([4113, 7511, 6529], dtype = tf.int32, name=\"PortionOfVotes\", trainable = True)\n",
    "portionofVotes_partyX.shape"
   ]
  },
  {
   "cell_type": "markdown",
   "id": "aecc8d00",
   "metadata": {
    "papermill": {
     "duration": 0.010549,
     "end_time": "2024-02-22T13:52:22.927434",
     "exception": false,
     "start_time": "2024-02-22T13:52:22.916885",
     "status": "completed"
    },
    "tags": []
   },
   "source": [
    "Create a matrix to represent the votes cast for three different candidates of\n",
    "political parties X and Y and check its shape and rank."
   ]
  },
  {
   "cell_type": "markdown",
   "id": "cbc522d2",
   "metadata": {
    "papermill": {
     "duration": 0.010845,
     "end_time": "2024-02-22T13:52:22.949559",
     "exception": false,
     "start_time": "2024-02-22T13:52:22.938714",
     "status": "completed"
    },
    "tags": []
   },
   "source": []
  },
  {
   "cell_type": "code",
   "execution_count": 10,
   "id": "d59dda20",
   "metadata": {
    "execution": {
     "iopub.execute_input": "2024-02-22T13:52:22.973593Z",
     "iopub.status.busy": "2024-02-22T13:52:22.973158Z",
     "iopub.status.idle": "2024-02-22T13:52:22.983851Z",
     "shell.execute_reply": "2024-02-22T13:52:22.982989Z"
    },
    "papermill": {
     "duration": 0.025456,
     "end_time": "2024-02-22T13:52:22.986081",
     "exception": false,
     "start_time": "2024-02-22T13:52:22.960625",
     "status": "completed"
    },
    "tags": []
   },
   "outputs": [
    {
     "data": {
      "text/plain": [
       "TensorShape([3, 2])"
      ]
     },
     "execution_count": 10,
     "metadata": {},
     "output_type": "execute_result"
    }
   ],
   "source": [
    "diffCand = tf.Variable([[4113, 3870], [7511, 6725], [6529, 3870]], dtype = tf.int32, name = 'DiffCand', trinabale = True)\n",
    "diffCand.shape"
   ]
  },
  {
   "cell_type": "code",
   "execution_count": 11,
   "id": "1d72e9c2",
   "metadata": {
    "execution": {
     "iopub.execute_input": "2024-02-22T13:52:23.010636Z",
     "iopub.status.busy": "2024-02-22T13:52:23.010183Z",
     "iopub.status.idle": "2024-02-22T13:52:23.018797Z",
     "shell.execute_reply": "2024-02-22T13:52:23.017820Z"
    },
    "papermill": {
     "duration": 0.023744,
     "end_time": "2024-02-22T13:52:23.020911",
     "exception": false,
     "start_time": "2024-02-22T13:52:22.997167",
     "status": "completed"
    },
    "tags": []
   },
   "outputs": [
    {
     "data": {
      "text/plain": [
       "<tf.Variable 'DiffCand:0' shape=(3, 2) dtype=int32, numpy=\n",
       "array([[4113, 3870],\n",
       "       [7511, 6725],\n",
       "       [6529, 3870]], dtype=int32)>"
      ]
     },
     "execution_count": 11,
     "metadata": {},
     "output_type": "execute_result"
    }
   ],
   "source": [
    "diffCand"
   ]
  },
  {
   "cell_type": "code",
   "execution_count": 12,
   "id": "d5e03ced",
   "metadata": {
    "execution": {
     "iopub.execute_input": "2024-02-22T13:52:23.045934Z",
     "iopub.status.busy": "2024-02-22T13:52:23.045524Z",
     "iopub.status.idle": "2024-02-22T13:52:23.051616Z",
     "shell.execute_reply": "2024-02-22T13:52:23.050836Z"
    },
    "papermill": {
     "duration": 0.022236,
     "end_time": "2024-02-22T13:52:23.054347",
     "exception": false,
     "start_time": "2024-02-22T13:52:23.032111",
     "status": "completed"
    },
    "tags": []
   },
   "outputs": [
    {
     "data": {
      "text/plain": [
       "<tf.Tensor: shape=(), dtype=int32, numpy=2>"
      ]
     },
     "execution_count": 12,
     "metadata": {},
     "output_type": "execute_result"
    }
   ],
   "source": [
    "tf.rank(diffCand)"
   ]
  },
  {
   "cell_type": "markdown",
   "id": "af81dcba",
   "metadata": {
    "papermill": {
     "duration": 0.011252,
     "end_time": "2024-02-22T13:52:23.077032",
     "exception": false,
     "start_time": "2024-02-22T13:52:23.065780",
     "status": "completed"
    },
    "tags": []
   },
   "source": [
    "Create a tensor to represent the votes cast for three different candidates in two\n",
    "different districts, for three political parties, and check its shape and rank."
   ]
  },
  {
   "cell_type": "code",
   "execution_count": 13,
   "id": "8af7e5f5",
   "metadata": {
    "execution": {
     "iopub.execute_input": "2024-02-22T13:52:23.104892Z",
     "iopub.status.busy": "2024-02-22T13:52:23.104239Z",
     "iopub.status.idle": "2024-02-22T13:52:23.115342Z",
     "shell.execute_reply": "2024-02-22T13:52:23.114387Z"
    },
    "papermill": {
     "duration": 0.028072,
     "end_time": "2024-02-22T13:52:23.117731",
     "exception": false,
     "start_time": "2024-02-22T13:52:23.089659",
     "status": "completed"
    },
    "tags": []
   },
   "outputs": [
    {
     "data": {
      "text/plain": [
       "TensorShape([2, 3, 3])"
      ]
     },
     "execution_count": 13,
     "metadata": {},
     "output_type": "execute_result"
    }
   ],
   "source": [
    "p3C3 = tf.Variable([[[4113, 3870, 5102], [7511, 6725, 7038], [6529, 6962, 6591]], [[3611, 951, 870], [5901, 1208, 645], [6235, 1098, 948]]], dtype = tf.int32, trainable = True, name = \"3Districts3Parties3Candidates\")\n",
    "p3C3.shape"
   ]
  },
  {
   "cell_type": "code",
   "execution_count": 14,
   "id": "0788db19",
   "metadata": {
    "execution": {
     "iopub.execute_input": "2024-02-22T13:52:23.143476Z",
     "iopub.status.busy": "2024-02-22T13:52:23.142820Z",
     "iopub.status.idle": "2024-02-22T13:52:23.151388Z",
     "shell.execute_reply": "2024-02-22T13:52:23.149932Z"
    },
    "papermill": {
     "duration": 0.024069,
     "end_time": "2024-02-22T13:52:23.153876",
     "exception": false,
     "start_time": "2024-02-22T13:52:23.129807",
     "status": "completed"
    },
    "tags": []
   },
   "outputs": [
    {
     "data": {
      "text/plain": [
       "<tf.Variable '3Districts3Parties3Candidates:0' shape=(2, 3, 3) dtype=int32, numpy=\n",
       "array([[[4113, 3870, 5102],\n",
       "        [7511, 6725, 7038],\n",
       "        [6529, 6962, 6591]],\n",
       "\n",
       "       [[3611,  951,  870],\n",
       "        [5901, 1208,  645],\n",
       "        [6235, 1098,  948]]], dtype=int32)>"
      ]
     },
     "execution_count": 14,
     "metadata": {},
     "output_type": "execute_result"
    }
   ],
   "source": [
    "p3C3"
   ]
  },
  {
   "cell_type": "code",
   "execution_count": 15,
   "id": "1e7250a3",
   "metadata": {
    "execution": {
     "iopub.execute_input": "2024-02-22T13:52:23.184179Z",
     "iopub.status.busy": "2024-02-22T13:52:23.183141Z",
     "iopub.status.idle": "2024-02-22T13:52:23.192984Z",
     "shell.execute_reply": "2024-02-22T13:52:23.191510Z"
    },
    "papermill": {
     "duration": 0.028303,
     "end_time": "2024-02-22T13:52:23.196321",
     "exception": false,
     "start_time": "2024-02-22T13:52:23.168018",
     "status": "completed"
    },
    "tags": []
   },
   "outputs": [
    {
     "data": {
      "text/plain": [
       "<tf.Tensor: shape=(), dtype=int32, numpy=3>"
      ]
     },
     "execution_count": 15,
     "metadata": {},
     "output_type": "execute_result"
    }
   ],
   "source": [
    "tf.rank(p3C3)"
   ]
  },
  {
   "cell_type": "code",
   "execution_count": 16,
   "id": "985ae933",
   "metadata": {
    "execution": {
     "iopub.execute_input": "2024-02-22T13:52:23.233431Z",
     "iopub.status.busy": "2024-02-22T13:52:23.232472Z",
     "iopub.status.idle": "2024-02-22T13:52:23.241356Z",
     "shell.execute_reply": "2024-02-22T13:52:23.240265Z"
    },
    "papermill": {
     "duration": 0.028844,
     "end_time": "2024-02-22T13:52:23.243867",
     "exception": false,
     "start_time": "2024-02-22T13:52:23.215023",
     "status": "completed"
    },
    "tags": []
   },
   "outputs": [
    {
     "data": {
      "text/plain": [
       "3"
      ]
     },
     "execution_count": 16,
     "metadata": {},
     "output_type": "execute_result"
    }
   ],
   "source": [
    "tf.rank(p3C3).numpy()"
   ]
  },
  {
   "cell_type": "code",
   "execution_count": 17,
   "id": "653f10bc",
   "metadata": {
    "execution": {
     "iopub.execute_input": "2024-02-22T13:52:23.270098Z",
     "iopub.status.busy": "2024-02-22T13:52:23.269301Z",
     "iopub.status.idle": "2024-02-22T13:52:23.276367Z",
     "shell.execute_reply": "2024-02-22T13:52:23.275351Z"
    },
    "papermill": {
     "duration": 0.022786,
     "end_time": "2024-02-22T13:52:23.278523",
     "exception": false,
     "start_time": "2024-02-22T13:52:23.255737",
     "status": "completed"
    },
    "tags": []
   },
   "outputs": [
    {
     "data": {
      "text/plain": [
       "[2, 3, 3]"
      ]
     },
     "execution_count": 17,
     "metadata": {},
     "output_type": "execute_result"
    }
   ],
   "source": [
    "p3C3.shape.as_list()"
   ]
  },
  {
   "cell_type": "markdown",
   "id": "f2e7be1c",
   "metadata": {
    "papermill": {
     "duration": 0.011892,
     "end_time": "2024-02-22T13:52:23.302276",
     "exception": false,
     "start_time": "2024-02-22T13:52:23.290384",
     "status": "completed"
    },
    "tags": []
   },
   "source": [
    "Tensor Addition"
   ]
  },
  {
   "cell_type": "code",
   "execution_count": 18,
   "id": "f7735e28",
   "metadata": {
    "execution": {
     "iopub.execute_input": "2024-02-22T13:52:23.328700Z",
     "iopub.status.busy": "2024-02-22T13:52:23.328012Z",
     "iopub.status.idle": "2024-02-22T13:52:23.336015Z",
     "shell.execute_reply": "2024-02-22T13:52:23.335091Z"
    },
    "papermill": {
     "duration": 0.024209,
     "end_time": "2024-02-22T13:52:23.338588",
     "exception": false,
     "start_time": "2024-02-22T13:52:23.314379",
     "status": "completed"
    },
    "tags": []
   },
   "outputs": [],
   "source": [
    "t1 = tf.Variable([1,2,3])\n",
    "t2 = tf.Variable([2,3,4])"
   ]
  },
  {
   "cell_type": "code",
   "execution_count": 19,
   "id": "66760049",
   "metadata": {
    "execution": {
     "iopub.execute_input": "2024-02-22T13:52:23.364999Z",
     "iopub.status.busy": "2024-02-22T13:52:23.364281Z",
     "iopub.status.idle": "2024-02-22T13:52:23.377754Z",
     "shell.execute_reply": "2024-02-22T13:52:23.376406Z"
    },
    "papermill": {
     "duration": 0.030222,
     "end_time": "2024-02-22T13:52:23.380771",
     "exception": false,
     "start_time": "2024-02-22T13:52:23.350549",
     "status": "completed"
    },
    "tags": []
   },
   "outputs": [
    {
     "data": {
      "text/plain": [
       "<tf.Tensor: shape=(3,), dtype=int32, numpy=array([3, 5, 7], dtype=int32)>"
      ]
     },
     "execution_count": 19,
     "metadata": {},
     "output_type": "execute_result"
    }
   ],
   "source": [
    "t_add = tf.add(t1, t2)\n",
    "t_add"
   ]
  },
  {
   "cell_type": "code",
   "execution_count": 20,
   "id": "bdb1b4e0",
   "metadata": {
    "execution": {
     "iopub.execute_input": "2024-02-22T13:52:23.407075Z",
     "iopub.status.busy": "2024-02-22T13:52:23.406656Z",
     "iopub.status.idle": "2024-02-22T13:52:23.415657Z",
     "shell.execute_reply": "2024-02-22T13:52:23.414525Z"
    },
    "papermill": {
     "duration": 0.025001,
     "end_time": "2024-02-22T13:52:23.418114",
     "exception": false,
     "start_time": "2024-02-22T13:52:23.393113",
     "status": "completed"
    },
    "tags": []
   },
   "outputs": [
    {
     "data": {
      "text/plain": [
       "<tf.Tensor: shape=(3,), dtype=int32, numpy=array([3, 5, 7], dtype=int32)>"
      ]
     },
     "execution_count": 20,
     "metadata": {},
     "output_type": "execute_result"
    }
   ],
   "source": [
    "t_add_sign = t1 + t2\n",
    "t_add_sign"
   ]
  },
  {
   "cell_type": "markdown",
   "id": "359fa306",
   "metadata": {
    "papermill": {
     "duration": 0.012503,
     "end_time": "2024-02-22T13:52:23.442930",
     "exception": false,
     "start_time": "2024-02-22T13:52:23.430427",
     "status": "completed"
    },
    "tags": []
   },
   "source": [
    "***Reshaping***"
   ]
  },
  {
   "cell_type": "code",
   "execution_count": 21,
   "id": "26991165",
   "metadata": {
    "execution": {
     "iopub.execute_input": "2024-02-22T13:52:23.470415Z",
     "iopub.status.busy": "2024-02-22T13:52:23.469602Z",
     "iopub.status.idle": "2024-02-22T13:52:23.486297Z",
     "shell.execute_reply": "2024-02-22T13:52:23.485086Z"
    },
    "papermill": {
     "duration": 0.033331,
     "end_time": "2024-02-22T13:52:23.488927",
     "exception": false,
     "start_time": "2024-02-22T13:52:23.455596",
     "status": "completed"
    },
    "tags": []
   },
   "outputs": [
    {
     "data": {
      "text/plain": [
       "<tf.Variable 'Variable:0' shape=(6,) dtype=int16, numpy=array([1, 2, 3, 4, 5, 6], dtype=int16)>"
      ]
     },
     "execution_count": 21,
     "metadata": {},
     "output_type": "execute_result"
    }
   ],
   "source": [
    "t3 = tf.Variable([1,2,3,4,5, 6], dtype = tf.int16)\n",
    "t3"
   ]
  },
  {
   "cell_type": "code",
   "execution_count": 22,
   "id": "dc89a206",
   "metadata": {
    "execution": {
     "iopub.execute_input": "2024-02-22T13:52:23.516282Z",
     "iopub.status.busy": "2024-02-22T13:52:23.515844Z",
     "iopub.status.idle": "2024-02-22T13:52:23.527729Z",
     "shell.execute_reply": "2024-02-22T13:52:23.526523Z"
    },
    "papermill": {
     "duration": 0.028489,
     "end_time": "2024-02-22T13:52:23.530088",
     "exception": false,
     "start_time": "2024-02-22T13:52:23.501599",
     "status": "completed"
    },
    "tags": []
   },
   "outputs": [
    {
     "data": {
      "text/plain": [
       "<tf.Tensor: shape=(3, 2), dtype=int16, numpy=\n",
       "array([[1, 2],\n",
       "       [3, 4],\n",
       "       [5, 6]], dtype=int16)>"
      ]
     },
     "execution_count": 22,
     "metadata": {},
     "output_type": "execute_result"
    }
   ],
   "source": [
    "tf.reshape(t3, shape = [3,2])"
   ]
  },
  {
   "cell_type": "markdown",
   "id": "14851079",
   "metadata": {
    "papermill": {
     "duration": 0.012891,
     "end_time": "2024-02-22T13:52:23.556070",
     "exception": false,
     "start_time": "2024-02-22T13:52:23.543179",
     "status": "completed"
    },
    "tags": []
   },
   "source": [
    "***Tensor Transposition***"
   ]
  },
  {
   "cell_type": "code",
   "execution_count": null,
   "id": "e70d107c",
   "metadata": {
    "papermill": {
     "duration": 0.012735,
     "end_time": "2024-02-22T13:52:23.581488",
     "exception": false,
     "start_time": "2024-02-22T13:52:23.568753",
     "status": "completed"
    },
    "tags": []
   },
   "outputs": [],
   "source": []
  }
 ],
 "metadata": {
  "kaggle": {
   "accelerator": "none",
   "dataSources": [],
   "dockerImageVersionId": 30646,
   "isGpuEnabled": false,
   "isInternetEnabled": true,
   "language": "python",
   "sourceType": "notebook"
  },
  "kernelspec": {
   "display_name": "Python 3",
   "language": "python",
   "name": "python3"
  },
  "language_info": {
   "codemirror_mode": {
    "name": "ipython",
    "version": 3
   },
   "file_extension": ".py",
   "mimetype": "text/x-python",
   "name": "python",
   "nbconvert_exporter": "python",
   "pygments_lexer": "ipython3",
   "version": "3.10.13"
  },
  "papermill": {
   "default_parameters": {},
   "duration": 22.225647,
   "end_time": "2024-02-22T13:52:26.045833",
   "environment_variables": {},
   "exception": null,
   "input_path": "__notebook__.ipynb",
   "output_path": "__notebook__.ipynb",
   "parameters": {},
   "start_time": "2024-02-22T13:52:03.820186",
   "version": "2.5.0"
  }
 },
 "nbformat": 4,
 "nbformat_minor": 5
}
