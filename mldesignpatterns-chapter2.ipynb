{
 "cells": [
  {
   "cell_type": "code",
   "execution_count": 1,
   "id": "1fad5076",
   "metadata": {
    "execution": {
     "iopub.execute_input": "2024-02-27T13:54:39.544612Z",
     "iopub.status.busy": "2024-02-27T13:54:39.544126Z",
     "iopub.status.idle": "2024-02-27T13:54:41.367423Z",
     "shell.execute_reply": "2024-02-27T13:54:41.366225Z"
    },
    "papermill": {
     "duration": 1.833681,
     "end_time": "2024-02-27T13:54:41.370628",
     "exception": false,
     "start_time": "2024-02-27T13:54:39.536947",
     "status": "completed"
    },
    "tags": []
   },
   "outputs": [],
   "source": [
    "from sklearn import datasets, linear_model\n",
    "diabetes_X, diabetes_y = datasets.load_diabetes(return_X_y=True)\n",
    "raw = diabetes_X[:, None, 2]\n",
    "max_raw = max(raw)"
   ]
  },
  {
   "cell_type": "code",
   "execution_count": 2,
   "id": "4a4d846a",
   "metadata": {
    "execution": {
     "iopub.execute_input": "2024-02-27T13:54:41.383092Z",
     "iopub.status.busy": "2024-02-27T13:54:41.382082Z",
     "iopub.status.idle": "2024-02-27T13:54:41.392113Z",
     "shell.execute_reply": "2024-02-27T13:54:41.390759Z"
    },
    "papermill": {
     "duration": 0.019232,
     "end_time": "2024-02-27T13:54:41.394893",
     "exception": false,
     "start_time": "2024-02-27T13:54:41.375661",
     "status": "completed"
    },
    "tags": []
   },
   "outputs": [
    {
     "data": {
      "text/plain": [
       "array([0.17055523])"
      ]
     },
     "execution_count": 2,
     "metadata": {},
     "output_type": "execute_result"
    }
   ],
   "source": [
    "max_raw"
   ]
  },
  {
   "cell_type": "code",
   "execution_count": 3,
   "id": "65d6da8c",
   "metadata": {
    "execution": {
     "iopub.execute_input": "2024-02-27T13:54:41.406730Z",
     "iopub.status.busy": "2024-02-27T13:54:41.406257Z",
     "iopub.status.idle": "2024-02-27T13:54:41.411954Z",
     "shell.execute_reply": "2024-02-27T13:54:41.410960Z"
    },
    "papermill": {
     "duration": 0.014528,
     "end_time": "2024-02-27T13:54:41.414295",
     "exception": false,
     "start_time": "2024-02-27T13:54:41.399767",
     "status": "completed"
    },
    "tags": []
   },
   "outputs": [],
   "source": [
    "min_raw = min(raw)\n",
    "scaled = (2*raw - max_raw - min_raw)/(max_raw - min_raw)"
   ]
  },
  {
   "cell_type": "code",
   "execution_count": 4,
   "id": "40a4ea42",
   "metadata": {
    "execution": {
     "iopub.execute_input": "2024-02-27T13:54:41.426835Z",
     "iopub.status.busy": "2024-02-27T13:54:41.425719Z",
     "iopub.status.idle": "2024-02-27T13:54:41.434334Z",
     "shell.execute_reply": "2024-02-27T13:54:41.433191Z"
    },
    "papermill": {
     "duration": 0.017475,
     "end_time": "2024-02-27T13:54:41.436748",
     "exception": false,
     "start_time": "2024-02-27T13:54:41.419273",
     "status": "completed"
    },
    "tags": []
   },
   "outputs": [
    {
     "data": {
      "text/plain": [
       "array([-0.0902753])"
      ]
     },
     "execution_count": 4,
     "metadata": {},
     "output_type": "execute_result"
    }
   ],
   "source": [
    "min_raw"
   ]
  },
  {
   "cell_type": "code",
   "execution_count": 5,
   "id": "00c45b79",
   "metadata": {
    "execution": {
     "iopub.execute_input": "2024-02-27T13:54:41.449072Z",
     "iopub.status.busy": "2024-02-27T13:54:41.448046Z",
     "iopub.status.idle": "2024-02-27T13:54:41.454222Z",
     "shell.execute_reply": "2024-02-27T13:54:41.453333Z"
    },
    "papermill": {
     "duration": 0.015022,
     "end_time": "2024-02-27T13:54:41.456640",
     "exception": false,
     "start_time": "2024-02-27T13:54:41.441618",
     "status": "completed"
    },
    "tags": []
   },
   "outputs": [],
   "source": [
    "def train_raw():\n",
    "    linear_model.LinearRegression().fit(raw, diabetes_y)\n"
   ]
  },
  {
   "cell_type": "code",
   "execution_count": 6,
   "id": "f392621b",
   "metadata": {
    "execution": {
     "iopub.execute_input": "2024-02-27T13:54:41.468786Z",
     "iopub.status.busy": "2024-02-27T13:54:41.468303Z",
     "iopub.status.idle": "2024-02-27T13:54:41.473596Z",
     "shell.execute_reply": "2024-02-27T13:54:41.472315Z"
    },
    "papermill": {
     "duration": 0.014591,
     "end_time": "2024-02-27T13:54:41.476194",
     "exception": false,
     "start_time": "2024-02-27T13:54:41.461603",
     "status": "completed"
    },
    "tags": []
   },
   "outputs": [],
   "source": [
    "def train_scaled():\n",
    "    linear_model.LinearRegression().fit(scaled, diabetes_y)\n"
   ]
  },
  {
   "cell_type": "code",
   "execution_count": 7,
   "id": "b002e4d3",
   "metadata": {
    "execution": {
     "iopub.execute_input": "2024-02-27T13:54:41.488800Z",
     "iopub.status.busy": "2024-02-27T13:54:41.488043Z",
     "iopub.status.idle": "2024-02-27T13:54:42.309876Z",
     "shell.execute_reply": "2024-02-27T13:54:42.308797Z"
    },
    "papermill": {
     "duration": 0.831537,
     "end_time": "2024-02-27T13:54:42.312654",
     "exception": false,
     "start_time": "2024-02-27T13:54:41.481117",
     "status": "completed"
    },
    "tags": []
   },
   "outputs": [
    {
     "data": {
      "text/plain": [
       "0.8108854619999875"
      ]
     },
     "execution_count": 7,
     "metadata": {},
     "output_type": "execute_result"
    }
   ],
   "source": [
    "import timeit\n",
    "raw_time = timeit.timeit(train_raw, number=1000)\n",
    "raw_time"
   ]
  },
  {
   "cell_type": "code",
   "execution_count": 8,
   "id": "237d6942",
   "metadata": {
    "execution": {
     "iopub.execute_input": "2024-02-27T13:54:42.325552Z",
     "iopub.status.busy": "2024-02-27T13:54:42.324768Z",
     "iopub.status.idle": "2024-02-27T13:54:43.104624Z",
     "shell.execute_reply": "2024-02-27T13:54:43.103322Z"
    },
    "papermill": {
     "duration": 0.789532,
     "end_time": "2024-02-27T13:54:43.107291",
     "exception": false,
     "start_time": "2024-02-27T13:54:42.317759",
     "status": "completed"
    },
    "tags": []
   },
   "outputs": [
    {
     "data": {
      "text/plain": [
       "0.7711570609999967"
      ]
     },
     "execution_count": 8,
     "metadata": {},
     "output_type": "execute_result"
    }
   ],
   "source": [
    "scaled_time = timeit.timeit(train_scaled, number=1000)\n",
    "scaled_time"
   ]
  },
  {
   "cell_type": "code",
   "execution_count": 9,
   "id": "7ced35ce",
   "metadata": {
    "execution": {
     "iopub.execute_input": "2024-02-27T13:54:43.119798Z",
     "iopub.status.busy": "2024-02-27T13:54:43.119307Z",
     "iopub.status.idle": "2024-02-27T13:54:43.126994Z",
     "shell.execute_reply": "2024-02-27T13:54:43.125713Z"
    },
    "papermill": {
     "duration": 0.016961,
     "end_time": "2024-02-27T13:54:43.129426",
     "exception": false,
     "start_time": "2024-02-27T13:54:43.112465",
     "status": "completed"
    },
    "tags": []
   },
   "outputs": [
    {
     "data": {
      "text/plain": [
       "4.899385037931704"
      ]
     },
     "execution_count": 9,
     "metadata": {},
     "output_type": "execute_result"
    }
   ],
   "source": [
    "(raw_time - scaled_time)*100 / raw_time"
   ]
  },
  {
   "cell_type": "markdown",
   "id": "b0fe6e25",
   "metadata": {
    "papermill": {
     "duration": 0.0051,
     "end_time": "2024-02-27T13:54:43.140157",
     "exception": false,
     "start_time": "2024-02-27T13:54:43.135057",
     "status": "completed"
    },
    "tags": []
   },
   "source": [
    "8% of improvement in time due to scaling"
   ]
  },
  {
   "cell_type": "code",
   "execution_count": null,
   "id": "6e88bac4",
   "metadata": {
    "papermill": {
     "duration": 0.005275,
     "end_time": "2024-02-27T13:54:43.151650",
     "exception": false,
     "start_time": "2024-02-27T13:54:43.146375",
     "status": "completed"
    },
    "tags": []
   },
   "outputs": [],
   "source": []
  }
 ],
 "metadata": {
  "kaggle": {
   "accelerator": "none",
   "dataSources": [],
   "dockerImageVersionId": 30646,
   "isGpuEnabled": false,
   "isInternetEnabled": true,
   "language": "python",
   "sourceType": "notebook"
  },
  "kernelspec": {
   "display_name": "Python 3",
   "language": "python",
   "name": "python3"
  },
  "language_info": {
   "codemirror_mode": {
    "name": "ipython",
    "version": 3
   },
   "file_extension": ".py",
   "mimetype": "text/x-python",
   "name": "python",
   "nbconvert_exporter": "python",
   "pygments_lexer": "ipython3",
   "version": "3.10.13"
  },
  "papermill": {
   "default_parameters": {},
   "duration": 7.604724,
   "end_time": "2024-02-27T13:54:43.880272",
   "environment_variables": {},
   "exception": null,
   "input_path": "__notebook__.ipynb",
   "output_path": "__notebook__.ipynb",
   "parameters": {},
   "start_time": "2024-02-27T13:54:36.275548",
   "version": "2.5.0"
  }
 },
 "nbformat": 4,
 "nbformat_minor": 5
}
