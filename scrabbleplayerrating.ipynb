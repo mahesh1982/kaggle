{
 "cells": [
  {
   "cell_type": "code",
   "execution_count": null,
   "id": "ade7c0b4",
   "metadata": {
    "papermill": {
     "duration": 0.002148,
     "end_time": "2022-12-03T17:56:39.065477",
     "exception": false,
     "start_time": "2022-12-03T17:56:39.063329",
     "status": "completed"
    },
    "tags": []
   },
   "outputs": [],
   "source": []
  }
 ],
 "metadata": {
  "kernelspec": {
   "display_name": "Python 3",
   "language": "python",
   "name": "python3"
  },
  "language_info": {
   "codemirror_mode": {
    "name": "ipython",
    "version": 3
   },
   "file_extension": ".py",
   "mimetype": "text/x-python",
   "name": "python",
   "nbconvert_exporter": "python",
   "pygments_lexer": "ipython3",
   "version": "3.7.12"
  },
  "papermill": {
   "default_parameters": {},
   "duration": 8.544854,
   "end_time": "2022-12-03T17:56:39.690153",
   "environment_variables": {},
   "exception": null,
   "input_path": "__notebook__.ipynb",
   "output_path": "__notebook__.ipynb",
   "parameters": {},
   "start_time": "2022-12-03T17:56:31.145299",
   "version": "2.3.4"
  }
 },
 "nbformat": 4,
 "nbformat_minor": 5
}
