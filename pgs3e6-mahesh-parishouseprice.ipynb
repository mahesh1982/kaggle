{
 "cells": [
  {
   "cell_type": "code",
   "execution_count": 1,
   "id": "f1df1be5",
   "metadata": {
    "execution": {
     "iopub.execute_input": "2023-02-07T18:17:24.422636Z",
     "iopub.status.busy": "2023-02-07T18:17:24.422179Z",
     "iopub.status.idle": "2023-02-07T18:17:24.434332Z",
     "shell.execute_reply": "2023-02-07T18:17:24.433257Z"
    },
    "papermill": {
     "duration": 0.025108,
     "end_time": "2023-02-07T18:17:24.436811",
     "exception": false,
     "start_time": "2023-02-07T18:17:24.411703",
     "status": "completed"
    },
    "tags": []
   },
   "outputs": [],
   "source": [
    "import pandas as pd\n",
    "import numpy as np"
   ]
  },
  {
   "cell_type": "code",
   "execution_count": 2,
   "id": "ec7ea7a7",
   "metadata": {
    "execution": {
     "iopub.execute_input": "2023-02-07T18:17:24.453791Z",
     "iopub.status.busy": "2023-02-07T18:17:24.452911Z",
     "iopub.status.idle": "2023-02-07T18:17:24.549951Z",
     "shell.execute_reply": "2023-02-07T18:17:24.548804Z"
    },
    "papermill": {
     "duration": 0.108496,
     "end_time": "2023-02-07T18:17:24.552846",
     "exception": false,
     "start_time": "2023-02-07T18:17:24.444350",
     "status": "completed"
    },
    "tags": []
   },
   "outputs": [
    {
     "data": {
      "text/html": [
       "<div>\n",
       "<style scoped>\n",
       "    .dataframe tbody tr th:only-of-type {\n",
       "        vertical-align: middle;\n",
       "    }\n",
       "\n",
       "    .dataframe tbody tr th {\n",
       "        vertical-align: top;\n",
       "    }\n",
       "\n",
       "    .dataframe thead th {\n",
       "        text-align: right;\n",
       "    }\n",
       "</style>\n",
       "<table border=\"1\" class=\"dataframe\">\n",
       "  <thead>\n",
       "    <tr style=\"text-align: right;\">\n",
       "      <th></th>\n",
       "      <th>id</th>\n",
       "      <th>squareMeters</th>\n",
       "      <th>numberOfRooms</th>\n",
       "      <th>hasYard</th>\n",
       "      <th>hasPool</th>\n",
       "      <th>floors</th>\n",
       "      <th>cityCode</th>\n",
       "      <th>cityPartRange</th>\n",
       "      <th>numPrevOwners</th>\n",
       "      <th>made</th>\n",
       "      <th>isNewBuilt</th>\n",
       "      <th>hasStormProtector</th>\n",
       "      <th>basement</th>\n",
       "      <th>attic</th>\n",
       "      <th>garage</th>\n",
       "      <th>hasStorageRoom</th>\n",
       "      <th>hasGuestRoom</th>\n",
       "      <th>price</th>\n",
       "    </tr>\n",
       "  </thead>\n",
       "  <tbody>\n",
       "    <tr>\n",
       "      <th>0</th>\n",
       "      <td>0</td>\n",
       "      <td>34291</td>\n",
       "      <td>24</td>\n",
       "      <td>1</td>\n",
       "      <td>0</td>\n",
       "      <td>47</td>\n",
       "      <td>35693</td>\n",
       "      <td>2</td>\n",
       "      <td>1</td>\n",
       "      <td>2000</td>\n",
       "      <td>0</td>\n",
       "      <td>1</td>\n",
       "      <td>8</td>\n",
       "      <td>5196</td>\n",
       "      <td>369</td>\n",
       "      <td>0</td>\n",
       "      <td>3</td>\n",
       "      <td>3436795.2</td>\n",
       "    </tr>\n",
       "    <tr>\n",
       "      <th>1</th>\n",
       "      <td>1</td>\n",
       "      <td>95145</td>\n",
       "      <td>60</td>\n",
       "      <td>0</td>\n",
       "      <td>1</td>\n",
       "      <td>60</td>\n",
       "      <td>34773</td>\n",
       "      <td>1</td>\n",
       "      <td>4</td>\n",
       "      <td>2000</td>\n",
       "      <td>0</td>\n",
       "      <td>1</td>\n",
       "      <td>729</td>\n",
       "      <td>4496</td>\n",
       "      <td>277</td>\n",
       "      <td>0</td>\n",
       "      <td>6</td>\n",
       "      <td>9519958.0</td>\n",
       "    </tr>\n",
       "    <tr>\n",
       "      <th>2</th>\n",
       "      <td>2</td>\n",
       "      <td>92661</td>\n",
       "      <td>45</td>\n",
       "      <td>1</td>\n",
       "      <td>1</td>\n",
       "      <td>62</td>\n",
       "      <td>45457</td>\n",
       "      <td>4</td>\n",
       "      <td>8</td>\n",
       "      <td>2020</td>\n",
       "      <td>1</td>\n",
       "      <td>1</td>\n",
       "      <td>7473</td>\n",
       "      <td>8953</td>\n",
       "      <td>245</td>\n",
       "      <td>1</td>\n",
       "      <td>9</td>\n",
       "      <td>9276448.1</td>\n",
       "    </tr>\n",
       "    <tr>\n",
       "      <th>3</th>\n",
       "      <td>3</td>\n",
       "      <td>97184</td>\n",
       "      <td>99</td>\n",
       "      <td>0</td>\n",
       "      <td>0</td>\n",
       "      <td>59</td>\n",
       "      <td>15113</td>\n",
       "      <td>1</td>\n",
       "      <td>1</td>\n",
       "      <td>2000</td>\n",
       "      <td>0</td>\n",
       "      <td>1</td>\n",
       "      <td>6424</td>\n",
       "      <td>8522</td>\n",
       "      <td>256</td>\n",
       "      <td>1</td>\n",
       "      <td>9</td>\n",
       "      <td>9725732.2</td>\n",
       "    </tr>\n",
       "    <tr>\n",
       "      <th>4</th>\n",
       "      <td>4</td>\n",
       "      <td>61752</td>\n",
       "      <td>100</td>\n",
       "      <td>0</td>\n",
       "      <td>0</td>\n",
       "      <td>57</td>\n",
       "      <td>64245</td>\n",
       "      <td>8</td>\n",
       "      <td>4</td>\n",
       "      <td>2018</td>\n",
       "      <td>1</td>\n",
       "      <td>0</td>\n",
       "      <td>7151</td>\n",
       "      <td>2786</td>\n",
       "      <td>863</td>\n",
       "      <td>0</td>\n",
       "      <td>7</td>\n",
       "      <td>6181908.8</td>\n",
       "    </tr>\n",
       "  </tbody>\n",
       "</table>\n",
       "</div>"
      ],
      "text/plain": [
       "   id  squareMeters  numberOfRooms  hasYard  hasPool  floors  cityCode  \\\n",
       "0   0         34291             24        1        0      47     35693   \n",
       "1   1         95145             60        0        1      60     34773   \n",
       "2   2         92661             45        1        1      62     45457   \n",
       "3   3         97184             99        0        0      59     15113   \n",
       "4   4         61752            100        0        0      57     64245   \n",
       "\n",
       "   cityPartRange  numPrevOwners  made  isNewBuilt  hasStormProtector  \\\n",
       "0              2              1  2000           0                  1   \n",
       "1              1              4  2000           0                  1   \n",
       "2              4              8  2020           1                  1   \n",
       "3              1              1  2000           0                  1   \n",
       "4              8              4  2018           1                  0   \n",
       "\n",
       "   basement  attic  garage  hasStorageRoom  hasGuestRoom      price  \n",
       "0         8   5196     369               0             3  3436795.2  \n",
       "1       729   4496     277               0             6  9519958.0  \n",
       "2      7473   8953     245               1             9  9276448.1  \n",
       "3      6424   8522     256               1             9  9725732.2  \n",
       "4      7151   2786     863               0             7  6181908.8  "
      ]
     },
     "execution_count": 2,
     "metadata": {},
     "output_type": "execute_result"
    }
   ],
   "source": [
    "train = pd.read_csv(\"/kaggle/input/playground-series-s3e6/train.csv\")\n",
    "train.head()"
   ]
  },
  {
   "cell_type": "code",
   "execution_count": 3,
   "id": "4db35009",
   "metadata": {
    "execution": {
     "iopub.execute_input": "2023-02-07T18:17:24.569752Z",
     "iopub.status.busy": "2023-02-07T18:17:24.569340Z",
     "iopub.status.idle": "2023-02-07T18:17:24.623684Z",
     "shell.execute_reply": "2023-02-07T18:17:24.622309Z"
    },
    "papermill": {
     "duration": 0.066244,
     "end_time": "2023-02-07T18:17:24.626731",
     "exception": false,
     "start_time": "2023-02-07T18:17:24.560487",
     "status": "completed"
    },
    "tags": []
   },
   "outputs": [
    {
     "data": {
      "text/html": [
       "<div>\n",
       "<style scoped>\n",
       "    .dataframe tbody tr th:only-of-type {\n",
       "        vertical-align: middle;\n",
       "    }\n",
       "\n",
       "    .dataframe tbody tr th {\n",
       "        vertical-align: top;\n",
       "    }\n",
       "\n",
       "    .dataframe thead th {\n",
       "        text-align: right;\n",
       "    }\n",
       "</style>\n",
       "<table border=\"1\" class=\"dataframe\">\n",
       "  <thead>\n",
       "    <tr style=\"text-align: right;\">\n",
       "      <th></th>\n",
       "      <th>id</th>\n",
       "      <th>squareMeters</th>\n",
       "      <th>numberOfRooms</th>\n",
       "      <th>hasYard</th>\n",
       "      <th>hasPool</th>\n",
       "      <th>floors</th>\n",
       "      <th>cityCode</th>\n",
       "      <th>cityPartRange</th>\n",
       "      <th>numPrevOwners</th>\n",
       "      <th>made</th>\n",
       "      <th>isNewBuilt</th>\n",
       "      <th>hasStormProtector</th>\n",
       "      <th>basement</th>\n",
       "      <th>attic</th>\n",
       "      <th>garage</th>\n",
       "      <th>hasStorageRoom</th>\n",
       "      <th>hasGuestRoom</th>\n",
       "    </tr>\n",
       "  </thead>\n",
       "  <tbody>\n",
       "    <tr>\n",
       "      <th>0</th>\n",
       "      <td>22730</td>\n",
       "      <td>47580</td>\n",
       "      <td>89</td>\n",
       "      <td>0</td>\n",
       "      <td>1</td>\n",
       "      <td>8</td>\n",
       "      <td>54830</td>\n",
       "      <td>5</td>\n",
       "      <td>3</td>\n",
       "      <td>1995</td>\n",
       "      <td>0</td>\n",
       "      <td>0</td>\n",
       "      <td>6885</td>\n",
       "      <td>8181</td>\n",
       "      <td>241</td>\n",
       "      <td>0</td>\n",
       "      <td>8</td>\n",
       "    </tr>\n",
       "    <tr>\n",
       "      <th>1</th>\n",
       "      <td>22731</td>\n",
       "      <td>62083</td>\n",
       "      <td>38</td>\n",
       "      <td>0</td>\n",
       "      <td>0</td>\n",
       "      <td>87</td>\n",
       "      <td>8576</td>\n",
       "      <td>10</td>\n",
       "      <td>3</td>\n",
       "      <td>1994</td>\n",
       "      <td>1</td>\n",
       "      <td>1</td>\n",
       "      <td>4601</td>\n",
       "      <td>9237</td>\n",
       "      <td>393</td>\n",
       "      <td>1</td>\n",
       "      <td>4</td>\n",
       "    </tr>\n",
       "    <tr>\n",
       "      <th>2</th>\n",
       "      <td>22732</td>\n",
       "      <td>90499</td>\n",
       "      <td>75</td>\n",
       "      <td>1</td>\n",
       "      <td>1</td>\n",
       "      <td>37</td>\n",
       "      <td>62454</td>\n",
       "      <td>9</td>\n",
       "      <td>6</td>\n",
       "      <td>1997</td>\n",
       "      <td>0</td>\n",
       "      <td>1</td>\n",
       "      <td>7454</td>\n",
       "      <td>2680</td>\n",
       "      <td>305</td>\n",
       "      <td>0</td>\n",
       "      <td>2</td>\n",
       "    </tr>\n",
       "    <tr>\n",
       "      <th>3</th>\n",
       "      <td>22733</td>\n",
       "      <td>16354</td>\n",
       "      <td>47</td>\n",
       "      <td>1</td>\n",
       "      <td>1</td>\n",
       "      <td>9</td>\n",
       "      <td>9262</td>\n",
       "      <td>6</td>\n",
       "      <td>5</td>\n",
       "      <td>2019</td>\n",
       "      <td>1</td>\n",
       "      <td>1</td>\n",
       "      <td>705</td>\n",
       "      <td>5097</td>\n",
       "      <td>122</td>\n",
       "      <td>1</td>\n",
       "      <td>5</td>\n",
       "    </tr>\n",
       "    <tr>\n",
       "      <th>4</th>\n",
       "      <td>22734</td>\n",
       "      <td>67510</td>\n",
       "      <td>8</td>\n",
       "      <td>0</td>\n",
       "      <td>0</td>\n",
       "      <td>55</td>\n",
       "      <td>24112</td>\n",
       "      <td>3</td>\n",
       "      <td>7</td>\n",
       "      <td>2014</td>\n",
       "      <td>1</td>\n",
       "      <td>1</td>\n",
       "      <td>3715</td>\n",
       "      <td>7979</td>\n",
       "      <td>401</td>\n",
       "      <td>1</td>\n",
       "      <td>9</td>\n",
       "    </tr>\n",
       "  </tbody>\n",
       "</table>\n",
       "</div>"
      ],
      "text/plain": [
       "      id  squareMeters  numberOfRooms  hasYard  hasPool  floors  cityCode  \\\n",
       "0  22730         47580             89        0        1       8     54830   \n",
       "1  22731         62083             38        0        0      87      8576   \n",
       "2  22732         90499             75        1        1      37     62454   \n",
       "3  22733         16354             47        1        1       9      9262   \n",
       "4  22734         67510              8        0        0      55     24112   \n",
       "\n",
       "   cityPartRange  numPrevOwners  made  isNewBuilt  hasStormProtector  \\\n",
       "0              5              3  1995           0                  0   \n",
       "1             10              3  1994           1                  1   \n",
       "2              9              6  1997           0                  1   \n",
       "3              6              5  2019           1                  1   \n",
       "4              3              7  2014           1                  1   \n",
       "\n",
       "   basement  attic  garage  hasStorageRoom  hasGuestRoom  \n",
       "0      6885   8181     241               0             8  \n",
       "1      4601   9237     393               1             4  \n",
       "2      7454   2680     305               0             2  \n",
       "3       705   5097     122               1             5  \n",
       "4      3715   7979     401               1             9  "
      ]
     },
     "execution_count": 3,
     "metadata": {},
     "output_type": "execute_result"
    }
   ],
   "source": [
    "test = pd.read_csv(\"/kaggle/input/playground-series-s3e6/test.csv\")\n",
    "test.head()"
   ]
  },
  {
   "cell_type": "code",
   "execution_count": 4,
   "id": "51871734",
   "metadata": {
    "execution": {
     "iopub.execute_input": "2023-02-07T18:17:24.644205Z",
     "iopub.status.busy": "2023-02-07T18:17:24.643755Z",
     "iopub.status.idle": "2023-02-07T18:17:24.698553Z",
     "shell.execute_reply": "2023-02-07T18:17:24.697226Z"
    },
    "papermill": {
     "duration": 0.066665,
     "end_time": "2023-02-07T18:17:24.701364",
     "exception": false,
     "start_time": "2023-02-07T18:17:24.634699",
     "status": "completed"
    },
    "tags": []
   },
   "outputs": [
    {
     "data": {
      "text/html": [
       "<div>\n",
       "<style scoped>\n",
       "    .dataframe tbody tr th:only-of-type {\n",
       "        vertical-align: middle;\n",
       "    }\n",
       "\n",
       "    .dataframe tbody tr th {\n",
       "        vertical-align: top;\n",
       "    }\n",
       "\n",
       "    .dataframe thead th {\n",
       "        text-align: right;\n",
       "    }\n",
       "</style>\n",
       "<table border=\"1\" class=\"dataframe\">\n",
       "  <thead>\n",
       "    <tr style=\"text-align: right;\">\n",
       "      <th></th>\n",
       "      <th>squareMeters</th>\n",
       "      <th>numberOfRooms</th>\n",
       "      <th>hasYard</th>\n",
       "      <th>hasPool</th>\n",
       "      <th>floors</th>\n",
       "      <th>cityCode</th>\n",
       "      <th>cityPartRange</th>\n",
       "      <th>numPrevOwners</th>\n",
       "      <th>made</th>\n",
       "      <th>isNewBuilt</th>\n",
       "      <th>hasStormProtector</th>\n",
       "      <th>basement</th>\n",
       "      <th>attic</th>\n",
       "      <th>garage</th>\n",
       "      <th>hasStorageRoom</th>\n",
       "      <th>hasGuestRoom</th>\n",
       "      <th>price</th>\n",
       "    </tr>\n",
       "  </thead>\n",
       "  <tbody>\n",
       "    <tr>\n",
       "      <th>0</th>\n",
       "      <td>75523</td>\n",
       "      <td>3</td>\n",
       "      <td>0</td>\n",
       "      <td>1</td>\n",
       "      <td>63</td>\n",
       "      <td>9373</td>\n",
       "      <td>3</td>\n",
       "      <td>8</td>\n",
       "      <td>2005</td>\n",
       "      <td>0</td>\n",
       "      <td>1</td>\n",
       "      <td>4313</td>\n",
       "      <td>9005</td>\n",
       "      <td>956</td>\n",
       "      <td>0</td>\n",
       "      <td>7</td>\n",
       "      <td>7559081.5</td>\n",
       "    </tr>\n",
       "    <tr>\n",
       "      <th>1</th>\n",
       "      <td>80771</td>\n",
       "      <td>39</td>\n",
       "      <td>1</td>\n",
       "      <td>1</td>\n",
       "      <td>98</td>\n",
       "      <td>39381</td>\n",
       "      <td>8</td>\n",
       "      <td>6</td>\n",
       "      <td>2015</td>\n",
       "      <td>1</td>\n",
       "      <td>0</td>\n",
       "      <td>3653</td>\n",
       "      <td>2436</td>\n",
       "      <td>128</td>\n",
       "      <td>1</td>\n",
       "      <td>2</td>\n",
       "      <td>8085989.5</td>\n",
       "    </tr>\n",
       "    <tr>\n",
       "      <th>2</th>\n",
       "      <td>55712</td>\n",
       "      <td>58</td>\n",
       "      <td>0</td>\n",
       "      <td>1</td>\n",
       "      <td>19</td>\n",
       "      <td>34457</td>\n",
       "      <td>6</td>\n",
       "      <td>8</td>\n",
       "      <td>2021</td>\n",
       "      <td>0</td>\n",
       "      <td>0</td>\n",
       "      <td>2937</td>\n",
       "      <td>8852</td>\n",
       "      <td>135</td>\n",
       "      <td>1</td>\n",
       "      <td>9</td>\n",
       "      <td>5574642.1</td>\n",
       "    </tr>\n",
       "    <tr>\n",
       "      <th>3</th>\n",
       "      <td>32316</td>\n",
       "      <td>47</td>\n",
       "      <td>0</td>\n",
       "      <td>0</td>\n",
       "      <td>6</td>\n",
       "      <td>27939</td>\n",
       "      <td>10</td>\n",
       "      <td>4</td>\n",
       "      <td>2012</td>\n",
       "      <td>0</td>\n",
       "      <td>1</td>\n",
       "      <td>659</td>\n",
       "      <td>7141</td>\n",
       "      <td>359</td>\n",
       "      <td>0</td>\n",
       "      <td>3</td>\n",
       "      <td>3232561.2</td>\n",
       "    </tr>\n",
       "    <tr>\n",
       "      <th>4</th>\n",
       "      <td>70429</td>\n",
       "      <td>19</td>\n",
       "      <td>1</td>\n",
       "      <td>1</td>\n",
       "      <td>90</td>\n",
       "      <td>38045</td>\n",
       "      <td>3</td>\n",
       "      <td>7</td>\n",
       "      <td>1990</td>\n",
       "      <td>1</td>\n",
       "      <td>0</td>\n",
       "      <td>8435</td>\n",
       "      <td>2429</td>\n",
       "      <td>292</td>\n",
       "      <td>1</td>\n",
       "      <td>4</td>\n",
       "      <td>7055052.0</td>\n",
       "    </tr>\n",
       "  </tbody>\n",
       "</table>\n",
       "</div>"
      ],
      "text/plain": [
       "   squareMeters  numberOfRooms  hasYard  hasPool  floors  cityCode  \\\n",
       "0         75523              3        0        1      63      9373   \n",
       "1         80771             39        1        1      98     39381   \n",
       "2         55712             58        0        1      19     34457   \n",
       "3         32316             47        0        0       6     27939   \n",
       "4         70429             19        1        1      90     38045   \n",
       "\n",
       "   cityPartRange  numPrevOwners  made  isNewBuilt  hasStormProtector  \\\n",
       "0              3              8  2005           0                  1   \n",
       "1              8              6  2015           1                  0   \n",
       "2              6              8  2021           0                  0   \n",
       "3             10              4  2012           0                  1   \n",
       "4              3              7  1990           1                  0   \n",
       "\n",
       "   basement  attic  garage  hasStorageRoom  hasGuestRoom      price  \n",
       "0      4313   9005     956               0             7  7559081.5  \n",
       "1      3653   2436     128               1             2  8085989.5  \n",
       "2      2937   8852     135               1             9  5574642.1  \n",
       "3       659   7141     359               0             3  3232561.2  \n",
       "4      8435   2429     292               1             4  7055052.0  "
      ]
     },
     "execution_count": 4,
     "metadata": {},
     "output_type": "execute_result"
    }
   ],
   "source": [
    "original_data = pd.read_csv(\"/kaggle/input/paris-housing-price-prediction/ParisHousing.csv\")\n",
    "original_data.head()"
   ]
  },
  {
   "cell_type": "code",
   "execution_count": 5,
   "id": "9fe53988",
   "metadata": {
    "execution": {
     "iopub.execute_input": "2023-02-07T18:17:24.720165Z",
     "iopub.status.busy": "2023-02-07T18:17:24.719710Z",
     "iopub.status.idle": "2023-02-07T18:17:24.727596Z",
     "shell.execute_reply": "2023-02-07T18:17:24.726367Z"
    },
    "papermill": {
     "duration": 0.019833,
     "end_time": "2023-02-07T18:17:24.729964",
     "exception": false,
     "start_time": "2023-02-07T18:17:24.710131",
     "status": "completed"
    },
    "tags": []
   },
   "outputs": [],
   "source": [
    "testid = test['id']"
   ]
  },
  {
   "cell_type": "code",
   "execution_count": 6,
   "id": "e764cc5c",
   "metadata": {
    "execution": {
     "iopub.execute_input": "2023-02-07T18:17:24.748478Z",
     "iopub.status.busy": "2023-02-07T18:17:24.747626Z",
     "iopub.status.idle": "2023-02-07T18:17:24.763848Z",
     "shell.execute_reply": "2023-02-07T18:17:24.762918Z"
    },
    "papermill": {
     "duration": 0.02895,
     "end_time": "2023-02-07T18:17:24.766935",
     "exception": false,
     "start_time": "2023-02-07T18:17:24.737985",
     "status": "completed"
    },
    "tags": []
   },
   "outputs": [],
   "source": [
    "train = train.drop(['id'], axis=1)\n",
    "test = test.drop(['id'], axis = 1)"
   ]
  },
  {
   "cell_type": "code",
   "execution_count": 7,
   "id": "1a6c976c",
   "metadata": {
    "execution": {
     "iopub.execute_input": "2023-02-07T18:17:24.785321Z",
     "iopub.status.busy": "2023-02-07T18:17:24.784628Z",
     "iopub.status.idle": "2023-02-07T18:17:24.802445Z",
     "shell.execute_reply": "2023-02-07T18:17:24.801210Z"
    },
    "papermill": {
     "duration": 0.03015,
     "end_time": "2023-02-07T18:17:24.805266",
     "exception": false,
     "start_time": "2023-02-07T18:17:24.775116",
     "status": "completed"
    },
    "tags": []
   },
   "outputs": [
    {
     "data": {
      "text/plain": [
       "(32730, 18)"
      ]
     },
     "execution_count": 7,
     "metadata": {},
     "output_type": "execute_result"
    }
   ],
   "source": [
    "# adding the source column\n",
    "original_data['source'] = 0\n",
    "train['source'] = 1\n",
    "test['source'] = 1\n",
    "\n",
    "# combining the datasets\n",
    "train = pd.concat([train, original_data])\n",
    "train.reset_index(inplace=True, drop=True)\n",
    "train.shape"
   ]
  },
  {
   "cell_type": "code",
   "execution_count": 8,
   "id": "4767f715",
   "metadata": {
    "execution": {
     "iopub.execute_input": "2023-02-07T18:17:24.825266Z",
     "iopub.status.busy": "2023-02-07T18:17:24.824221Z",
     "iopub.status.idle": "2023-02-07T18:17:25.815861Z",
     "shell.execute_reply": "2023-02-07T18:17:25.814590Z"
    },
    "papermill": {
     "duration": 1.004953,
     "end_time": "2023-02-07T18:17:25.819454",
     "exception": false,
     "start_time": "2023-02-07T18:17:24.814501",
     "status": "completed"
    },
    "tags": []
   },
   "outputs": [],
   "source": [
    "def warn(*args, **kwargs):\n",
    "    pass\n",
    "import warnings\n",
    "warnings.warn = warn\n",
    "from sklearn.preprocessing import LabelEncoder\n",
    "from sklearn.pipeline import Pipeline\n",
    "from sklearn.model_selection import StratifiedKFold"
   ]
  },
  {
   "cell_type": "code",
   "execution_count": 9,
   "id": "5e8d8e8b",
   "metadata": {
    "execution": {
     "iopub.execute_input": "2023-02-07T18:17:25.838623Z",
     "iopub.status.busy": "2023-02-07T18:17:25.837415Z",
     "iopub.status.idle": "2023-02-07T18:17:25.845761Z",
     "shell.execute_reply": "2023-02-07T18:17:25.844453Z"
    },
    "papermill": {
     "duration": 0.020542,
     "end_time": "2023-02-07T18:17:25.848338",
     "exception": false,
     "start_time": "2023-02-07T18:17:25.827796",
     "status": "completed"
    },
    "tags": []
   },
   "outputs": [
    {
     "data": {
      "text/plain": [
       "Index(['squareMeters', 'numberOfRooms', 'hasYard', 'hasPool', 'floors',\n",
       "       'cityCode', 'cityPartRange', 'numPrevOwners', 'made', 'isNewBuilt',\n",
       "       'hasStormProtector', 'basement', 'attic', 'garage', 'hasStorageRoom',\n",
       "       'hasGuestRoom', 'price', 'source'],\n",
       "      dtype='object')"
      ]
     },
     "execution_count": 9,
     "metadata": {},
     "output_type": "execute_result"
    }
   ],
   "source": [
    "train.columns"
   ]
  },
  {
   "cell_type": "code",
   "execution_count": 10,
   "id": "cb794f1c",
   "metadata": {
    "execution": {
     "iopub.execute_input": "2023-02-07T18:17:25.868247Z",
     "iopub.status.busy": "2023-02-07T18:17:25.867035Z",
     "iopub.status.idle": "2023-02-07T18:17:25.895574Z",
     "shell.execute_reply": "2023-02-07T18:17:25.894707Z"
    },
    "papermill": {
     "duration": 0.041116,
     "end_time": "2023-02-07T18:17:25.897738",
     "exception": false,
     "start_time": "2023-02-07T18:17:25.856622",
     "status": "completed"
    },
    "tags": []
   },
   "outputs": [
    {
     "data": {
      "text/html": [
       "<div>\n",
       "<style scoped>\n",
       "    .dataframe tbody tr th:only-of-type {\n",
       "        vertical-align: middle;\n",
       "    }\n",
       "\n",
       "    .dataframe tbody tr th {\n",
       "        vertical-align: top;\n",
       "    }\n",
       "\n",
       "    .dataframe thead th {\n",
       "        text-align: right;\n",
       "    }\n",
       "</style>\n",
       "<table border=\"1\" class=\"dataframe\">\n",
       "  <thead>\n",
       "    <tr style=\"text-align: right;\">\n",
       "      <th></th>\n",
       "      <th>squareMeters</th>\n",
       "      <th>numberOfRooms</th>\n",
       "      <th>hasYard</th>\n",
       "      <th>hasPool</th>\n",
       "      <th>floors</th>\n",
       "      <th>cityCode</th>\n",
       "      <th>cityPartRange</th>\n",
       "      <th>numPrevOwners</th>\n",
       "      <th>made</th>\n",
       "      <th>isNewBuilt</th>\n",
       "      <th>...</th>\n",
       "      <th>attic</th>\n",
       "      <th>garage</th>\n",
       "      <th>hasStorageRoom</th>\n",
       "      <th>hasGuestRoom</th>\n",
       "      <th>price</th>\n",
       "      <th>source</th>\n",
       "      <th>ActualArea</th>\n",
       "      <th>AreaPerHouse</th>\n",
       "      <th>AreaPerRoom</th>\n",
       "      <th>Extra</th>\n",
       "    </tr>\n",
       "  </thead>\n",
       "  <tbody>\n",
       "    <tr>\n",
       "      <th>0</th>\n",
       "      <td>34291</td>\n",
       "      <td>24</td>\n",
       "      <td>1</td>\n",
       "      <td>0</td>\n",
       "      <td>47</td>\n",
       "      <td>35693</td>\n",
       "      <td>2</td>\n",
       "      <td>1</td>\n",
       "      <td>2000</td>\n",
       "      <td>0</td>\n",
       "      <td>...</td>\n",
       "      <td>5196</td>\n",
       "      <td>369</td>\n",
       "      <td>0</td>\n",
       "      <td>3</td>\n",
       "      <td>3436795.2</td>\n",
       "      <td>1</td>\n",
       "      <td>28718</td>\n",
       "      <td>1428.791667</td>\n",
       "      <td>1196.583333</td>\n",
       "      <td>232.208333</td>\n",
       "    </tr>\n",
       "    <tr>\n",
       "      <th>1</th>\n",
       "      <td>95145</td>\n",
       "      <td>60</td>\n",
       "      <td>0</td>\n",
       "      <td>1</td>\n",
       "      <td>60</td>\n",
       "      <td>34773</td>\n",
       "      <td>1</td>\n",
       "      <td>4</td>\n",
       "      <td>2000</td>\n",
       "      <td>0</td>\n",
       "      <td>...</td>\n",
       "      <td>4496</td>\n",
       "      <td>277</td>\n",
       "      <td>0</td>\n",
       "      <td>6</td>\n",
       "      <td>9519958.0</td>\n",
       "      <td>1</td>\n",
       "      <td>89643</td>\n",
       "      <td>1585.750000</td>\n",
       "      <td>1494.050000</td>\n",
       "      <td>91.700000</td>\n",
       "    </tr>\n",
       "    <tr>\n",
       "      <th>2</th>\n",
       "      <td>92661</td>\n",
       "      <td>45</td>\n",
       "      <td>1</td>\n",
       "      <td>1</td>\n",
       "      <td>62</td>\n",
       "      <td>45457</td>\n",
       "      <td>4</td>\n",
       "      <td>8</td>\n",
       "      <td>2020</td>\n",
       "      <td>1</td>\n",
       "      <td>...</td>\n",
       "      <td>8953</td>\n",
       "      <td>245</td>\n",
       "      <td>1</td>\n",
       "      <td>9</td>\n",
       "      <td>9276448.1</td>\n",
       "      <td>1</td>\n",
       "      <td>75990</td>\n",
       "      <td>2059.133333</td>\n",
       "      <td>1688.666667</td>\n",
       "      <td>370.466667</td>\n",
       "    </tr>\n",
       "    <tr>\n",
       "      <th>3</th>\n",
       "      <td>97184</td>\n",
       "      <td>99</td>\n",
       "      <td>0</td>\n",
       "      <td>0</td>\n",
       "      <td>59</td>\n",
       "      <td>15113</td>\n",
       "      <td>1</td>\n",
       "      <td>1</td>\n",
       "      <td>2000</td>\n",
       "      <td>0</td>\n",
       "      <td>...</td>\n",
       "      <td>8522</td>\n",
       "      <td>256</td>\n",
       "      <td>1</td>\n",
       "      <td>9</td>\n",
       "      <td>9725732.2</td>\n",
       "      <td>1</td>\n",
       "      <td>81982</td>\n",
       "      <td>981.656566</td>\n",
       "      <td>828.101010</td>\n",
       "      <td>153.555556</td>\n",
       "    </tr>\n",
       "    <tr>\n",
       "      <th>4</th>\n",
       "      <td>61752</td>\n",
       "      <td>100</td>\n",
       "      <td>0</td>\n",
       "      <td>0</td>\n",
       "      <td>57</td>\n",
       "      <td>64245</td>\n",
       "      <td>8</td>\n",
       "      <td>4</td>\n",
       "      <td>2018</td>\n",
       "      <td>1</td>\n",
       "      <td>...</td>\n",
       "      <td>2786</td>\n",
       "      <td>863</td>\n",
       "      <td>0</td>\n",
       "      <td>7</td>\n",
       "      <td>6181908.8</td>\n",
       "      <td>1</td>\n",
       "      <td>50952</td>\n",
       "      <td>617.520000</td>\n",
       "      <td>509.520000</td>\n",
       "      <td>108.000000</td>\n",
       "    </tr>\n",
       "  </tbody>\n",
       "</table>\n",
       "<p>5 rows × 22 columns</p>\n",
       "</div>"
      ],
      "text/plain": [
       "   squareMeters  numberOfRooms  hasYard  hasPool  floors  cityCode  \\\n",
       "0         34291             24        1        0      47     35693   \n",
       "1         95145             60        0        1      60     34773   \n",
       "2         92661             45        1        1      62     45457   \n",
       "3         97184             99        0        0      59     15113   \n",
       "4         61752            100        0        0      57     64245   \n",
       "\n",
       "   cityPartRange  numPrevOwners  made  isNewBuilt  ...  attic  garage  \\\n",
       "0              2              1  2000           0  ...   5196     369   \n",
       "1              1              4  2000           0  ...   4496     277   \n",
       "2              4              8  2020           1  ...   8953     245   \n",
       "3              1              1  2000           0  ...   8522     256   \n",
       "4              8              4  2018           1  ...   2786     863   \n",
       "\n",
       "   hasStorageRoom  hasGuestRoom      price  source  ActualArea  AreaPerHouse  \\\n",
       "0               0             3  3436795.2       1       28718   1428.791667   \n",
       "1               0             6  9519958.0       1       89643   1585.750000   \n",
       "2               1             9  9276448.1       1       75990   2059.133333   \n",
       "3               1             9  9725732.2       1       81982    981.656566   \n",
       "4               0             7  6181908.8       1       50952    617.520000   \n",
       "\n",
       "   AreaPerRoom       Extra  \n",
       "0  1196.583333  232.208333  \n",
       "1  1494.050000   91.700000  \n",
       "2  1688.666667  370.466667  \n",
       "3   828.101010  153.555556  \n",
       "4   509.520000  108.000000  \n",
       "\n",
       "[5 rows x 22 columns]"
      ]
     },
     "execution_count": 10,
     "metadata": {},
     "output_type": "execute_result"
    }
   ],
   "source": [
    "train[\"ActualArea\"] = train['squareMeters'] - train['basement'] - train['attic']-train['garage']\n",
    "train['AreaPerHouse'] = train['squareMeters'] / train['numberOfRooms']\n",
    "train['AreaPerRoom'] = train['ActualArea'] / train['numberOfRooms']\n",
    "train['Extra'] = train['AreaPerHouse'] - train['AreaPerRoom']\n",
    "train.head()"
   ]
  },
  {
   "cell_type": "code",
   "execution_count": 11,
   "id": "0f3e7280",
   "metadata": {
    "execution": {
     "iopub.execute_input": "2023-02-07T18:17:25.917276Z",
     "iopub.status.busy": "2023-02-07T18:17:25.916841Z",
     "iopub.status.idle": "2023-02-07T18:17:25.943086Z",
     "shell.execute_reply": "2023-02-07T18:17:25.941482Z"
    },
    "papermill": {
     "duration": 0.040028,
     "end_time": "2023-02-07T18:17:25.946467",
     "exception": false,
     "start_time": "2023-02-07T18:17:25.906439",
     "status": "completed"
    },
    "tags": []
   },
   "outputs": [
    {
     "data": {
      "text/html": [
       "<div>\n",
       "<style scoped>\n",
       "    .dataframe tbody tr th:only-of-type {\n",
       "        vertical-align: middle;\n",
       "    }\n",
       "\n",
       "    .dataframe tbody tr th {\n",
       "        vertical-align: top;\n",
       "    }\n",
       "\n",
       "    .dataframe thead th {\n",
       "        text-align: right;\n",
       "    }\n",
       "</style>\n",
       "<table border=\"1\" class=\"dataframe\">\n",
       "  <thead>\n",
       "    <tr style=\"text-align: right;\">\n",
       "      <th></th>\n",
       "      <th>squareMeters</th>\n",
       "      <th>numberOfRooms</th>\n",
       "      <th>hasYard</th>\n",
       "      <th>hasPool</th>\n",
       "      <th>floors</th>\n",
       "      <th>cityCode</th>\n",
       "      <th>cityPartRange</th>\n",
       "      <th>numPrevOwners</th>\n",
       "      <th>made</th>\n",
       "      <th>isNewBuilt</th>\n",
       "      <th>...</th>\n",
       "      <th>basement</th>\n",
       "      <th>attic</th>\n",
       "      <th>garage</th>\n",
       "      <th>hasStorageRoom</th>\n",
       "      <th>hasGuestRoom</th>\n",
       "      <th>source</th>\n",
       "      <th>ActualArea</th>\n",
       "      <th>AreaPerHouse</th>\n",
       "      <th>AreaPerRoom</th>\n",
       "      <th>Extra</th>\n",
       "    </tr>\n",
       "  </thead>\n",
       "  <tbody>\n",
       "    <tr>\n",
       "      <th>0</th>\n",
       "      <td>47580</td>\n",
       "      <td>89</td>\n",
       "      <td>0</td>\n",
       "      <td>1</td>\n",
       "      <td>8</td>\n",
       "      <td>54830</td>\n",
       "      <td>5</td>\n",
       "      <td>3</td>\n",
       "      <td>1995</td>\n",
       "      <td>0</td>\n",
       "      <td>...</td>\n",
       "      <td>6885</td>\n",
       "      <td>8181</td>\n",
       "      <td>241</td>\n",
       "      <td>0</td>\n",
       "      <td>8</td>\n",
       "      <td>1</td>\n",
       "      <td>32273</td>\n",
       "      <td>534.606742</td>\n",
       "      <td>362.617978</td>\n",
       "      <td>171.988764</td>\n",
       "    </tr>\n",
       "    <tr>\n",
       "      <th>1</th>\n",
       "      <td>62083</td>\n",
       "      <td>38</td>\n",
       "      <td>0</td>\n",
       "      <td>0</td>\n",
       "      <td>87</td>\n",
       "      <td>8576</td>\n",
       "      <td>10</td>\n",
       "      <td>3</td>\n",
       "      <td>1994</td>\n",
       "      <td>1</td>\n",
       "      <td>...</td>\n",
       "      <td>4601</td>\n",
       "      <td>9237</td>\n",
       "      <td>393</td>\n",
       "      <td>1</td>\n",
       "      <td>4</td>\n",
       "      <td>1</td>\n",
       "      <td>47852</td>\n",
       "      <td>1633.763158</td>\n",
       "      <td>1259.263158</td>\n",
       "      <td>374.500000</td>\n",
       "    </tr>\n",
       "    <tr>\n",
       "      <th>2</th>\n",
       "      <td>90499</td>\n",
       "      <td>75</td>\n",
       "      <td>1</td>\n",
       "      <td>1</td>\n",
       "      <td>37</td>\n",
       "      <td>62454</td>\n",
       "      <td>9</td>\n",
       "      <td>6</td>\n",
       "      <td>1997</td>\n",
       "      <td>0</td>\n",
       "      <td>...</td>\n",
       "      <td>7454</td>\n",
       "      <td>2680</td>\n",
       "      <td>305</td>\n",
       "      <td>0</td>\n",
       "      <td>2</td>\n",
       "      <td>1</td>\n",
       "      <td>80060</td>\n",
       "      <td>1206.653333</td>\n",
       "      <td>1067.466667</td>\n",
       "      <td>139.186667</td>\n",
       "    </tr>\n",
       "    <tr>\n",
       "      <th>3</th>\n",
       "      <td>16354</td>\n",
       "      <td>47</td>\n",
       "      <td>1</td>\n",
       "      <td>1</td>\n",
       "      <td>9</td>\n",
       "      <td>9262</td>\n",
       "      <td>6</td>\n",
       "      <td>5</td>\n",
       "      <td>2019</td>\n",
       "      <td>1</td>\n",
       "      <td>...</td>\n",
       "      <td>705</td>\n",
       "      <td>5097</td>\n",
       "      <td>122</td>\n",
       "      <td>1</td>\n",
       "      <td>5</td>\n",
       "      <td>1</td>\n",
       "      <td>10430</td>\n",
       "      <td>347.957447</td>\n",
       "      <td>221.914894</td>\n",
       "      <td>126.042553</td>\n",
       "    </tr>\n",
       "    <tr>\n",
       "      <th>4</th>\n",
       "      <td>67510</td>\n",
       "      <td>8</td>\n",
       "      <td>0</td>\n",
       "      <td>0</td>\n",
       "      <td>55</td>\n",
       "      <td>24112</td>\n",
       "      <td>3</td>\n",
       "      <td>7</td>\n",
       "      <td>2014</td>\n",
       "      <td>1</td>\n",
       "      <td>...</td>\n",
       "      <td>3715</td>\n",
       "      <td>7979</td>\n",
       "      <td>401</td>\n",
       "      <td>1</td>\n",
       "      <td>9</td>\n",
       "      <td>1</td>\n",
       "      <td>55415</td>\n",
       "      <td>8438.750000</td>\n",
       "      <td>6926.875000</td>\n",
       "      <td>1511.875000</td>\n",
       "    </tr>\n",
       "  </tbody>\n",
       "</table>\n",
       "<p>5 rows × 21 columns</p>\n",
       "</div>"
      ],
      "text/plain": [
       "   squareMeters  numberOfRooms  hasYard  hasPool  floors  cityCode  \\\n",
       "0         47580             89        0        1       8     54830   \n",
       "1         62083             38        0        0      87      8576   \n",
       "2         90499             75        1        1      37     62454   \n",
       "3         16354             47        1        1       9      9262   \n",
       "4         67510              8        0        0      55     24112   \n",
       "\n",
       "   cityPartRange  numPrevOwners  made  isNewBuilt  ...  basement  attic  \\\n",
       "0              5              3  1995           0  ...      6885   8181   \n",
       "1             10              3  1994           1  ...      4601   9237   \n",
       "2              9              6  1997           0  ...      7454   2680   \n",
       "3              6              5  2019           1  ...       705   5097   \n",
       "4              3              7  2014           1  ...      3715   7979   \n",
       "\n",
       "   garage  hasStorageRoom  hasGuestRoom  source  ActualArea  AreaPerHouse  \\\n",
       "0     241               0             8       1       32273    534.606742   \n",
       "1     393               1             4       1       47852   1633.763158   \n",
       "2     305               0             2       1       80060   1206.653333   \n",
       "3     122               1             5       1       10430    347.957447   \n",
       "4     401               1             9       1       55415   8438.750000   \n",
       "\n",
       "   AreaPerRoom        Extra  \n",
       "0   362.617978   171.988764  \n",
       "1  1259.263158   374.500000  \n",
       "2  1067.466667   139.186667  \n",
       "3   221.914894   126.042553  \n",
       "4  6926.875000  1511.875000  \n",
       "\n",
       "[5 rows x 21 columns]"
      ]
     },
     "execution_count": 11,
     "metadata": {},
     "output_type": "execute_result"
    }
   ],
   "source": [
    "test[\"ActualArea\"] = test['squareMeters'] - test['basement'] - test['attic']-test['garage']\n",
    "test['AreaPerHouse'] = test['squareMeters'] / test['numberOfRooms']\n",
    "test['AreaPerRoom'] = test['ActualArea'] / test['numberOfRooms']\n",
    "test['Extra'] = test['AreaPerHouse'] - test['AreaPerRoom']\n",
    "test.head()"
   ]
  },
  {
   "cell_type": "code",
   "execution_count": 12,
   "id": "c1ad4e45",
   "metadata": {
    "execution": {
     "iopub.execute_input": "2023-02-07T18:17:25.971765Z",
     "iopub.status.busy": "2023-02-07T18:17:25.970746Z",
     "iopub.status.idle": "2023-02-07T18:17:25.979628Z",
     "shell.execute_reply": "2023-02-07T18:17:25.977904Z"
    },
    "papermill": {
     "duration": 0.026459,
     "end_time": "2023-02-07T18:17:25.983182",
     "exception": false,
     "start_time": "2023-02-07T18:17:25.956723",
     "status": "completed"
    },
    "tags": []
   },
   "outputs": [],
   "source": [
    "Price = train['price']"
   ]
  },
  {
   "cell_type": "code",
   "execution_count": 13,
   "id": "03232e82",
   "metadata": {
    "execution": {
     "iopub.execute_input": "2023-02-07T18:17:26.006790Z",
     "iopub.status.busy": "2023-02-07T18:17:26.006328Z",
     "iopub.status.idle": "2023-02-07T18:17:26.074063Z",
     "shell.execute_reply": "2023-02-07T18:17:26.073026Z"
    },
    "papermill": {
     "duration": 0.084095,
     "end_time": "2023-02-07T18:17:26.076795",
     "exception": false,
     "start_time": "2023-02-07T18:17:25.992700",
     "status": "completed"
    },
    "tags": []
   },
   "outputs": [],
   "source": [
    "cor = train.corr()\n",
    "cor.to_csv(\"cor.csv\")"
   ]
  },
  {
   "cell_type": "code",
   "execution_count": 14,
   "id": "d8462663",
   "metadata": {
    "execution": {
     "iopub.execute_input": "2023-02-07T18:17:26.097172Z",
     "iopub.status.busy": "2023-02-07T18:17:26.096259Z",
     "iopub.status.idle": "2023-02-07T18:17:26.114514Z",
     "shell.execute_reply": "2023-02-07T18:17:26.113235Z"
    },
    "papermill": {
     "duration": 0.032106,
     "end_time": "2023-02-07T18:17:26.117892",
     "exception": false,
     "start_time": "2023-02-07T18:17:26.085786",
     "status": "completed"
    },
    "tags": []
   },
   "outputs": [],
   "source": [
    "train = train.drop(['ActualArea', 'AreaPerRoom', 'price'], axis = 1)\n",
    "test = test.drop(['ActualArea', 'AreaPerRoom'], axis = 1)"
   ]
  },
  {
   "cell_type": "code",
   "execution_count": 15,
   "id": "38512ea9",
   "metadata": {
    "execution": {
     "iopub.execute_input": "2023-02-07T18:17:26.139092Z",
     "iopub.status.busy": "2023-02-07T18:17:26.137815Z",
     "iopub.status.idle": "2023-02-07T18:17:26.145841Z",
     "shell.execute_reply": "2023-02-07T18:17:26.144771Z"
    },
    "papermill": {
     "duration": 0.021329,
     "end_time": "2023-02-07T18:17:26.148282",
     "exception": false,
     "start_time": "2023-02-07T18:17:26.126953",
     "status": "completed"
    },
    "tags": []
   },
   "outputs": [
    {
     "data": {
      "text/plain": [
       "Index(['squareMeters', 'numberOfRooms', 'hasYard', 'hasPool', 'floors',\n",
       "       'cityCode', 'cityPartRange', 'numPrevOwners', 'made', 'isNewBuilt',\n",
       "       'hasStormProtector', 'basement', 'attic', 'garage', 'hasStorageRoom',\n",
       "       'hasGuestRoom', 'source', 'AreaPerHouse', 'Extra'],\n",
       "      dtype='object')"
      ]
     },
     "execution_count": 15,
     "metadata": {},
     "output_type": "execute_result"
    }
   ],
   "source": [
    "train.columns"
   ]
  },
  {
   "cell_type": "code",
   "execution_count": 16,
   "id": "dde1c974",
   "metadata": {
    "execution": {
     "iopub.execute_input": "2023-02-07T18:17:26.169085Z",
     "iopub.status.busy": "2023-02-07T18:17:26.168400Z",
     "iopub.status.idle": "2023-02-07T18:17:26.172913Z",
     "shell.execute_reply": "2023-02-07T18:17:26.172134Z"
    },
    "papermill": {
     "duration": 0.018055,
     "end_time": "2023-02-07T18:17:26.175270",
     "exception": false,
     "start_time": "2023-02-07T18:17:26.157215",
     "status": "completed"
    },
    "tags": []
   },
   "outputs": [],
   "source": [
    "#from sklearn.preprocessing import MinMaxScaler\n",
    "#train[['squareMeters','basement', 'attic']] = dfTest[['A','B']].apply(lambda x: MinMaxScaler().fit_transform(x))"
   ]
  },
  {
   "cell_type": "code",
   "execution_count": 17,
   "id": "e762f21e",
   "metadata": {
    "execution": {
     "iopub.execute_input": "2023-02-07T18:17:26.195694Z",
     "iopub.status.busy": "2023-02-07T18:17:26.194996Z",
     "iopub.status.idle": "2023-02-07T19:17:35.586742Z",
     "shell.execute_reply": "2023-02-07T19:17:35.585302Z"
    },
    "papermill": {
     "duration": 3609.412725,
     "end_time": "2023-02-07T19:17:35.597160",
     "exception": false,
     "start_time": "2023-02-07T18:17:26.184435",
     "status": "completed"
    },
    "tags": []
   },
   "outputs": [
    {
     "name": "stdout",
     "output_type": "stream",
     "text": [
      "Feature ranking:  [ 1  1  3  7  1  1  5  4  1  8  9  1  1  1  6  2 10  1  1]\n"
     ]
    }
   ],
   "source": [
    "from sklearn.feature_selection import RFECV\n",
    "from sklearn.ensemble import RandomForestRegressor\n",
    "\n",
    "rfc = RandomForestRegressor()\n",
    "\n",
    "select = RFECV(estimator=rfc, cv=10)\n",
    "select = select.fit(train,Price)\n",
    " \n",
    "print(\"Feature ranking: \", select.ranking_)"
   ]
  },
  {
   "cell_type": "code",
   "execution_count": 18,
   "id": "c4be4249",
   "metadata": {
    "execution": {
     "iopub.execute_input": "2023-02-07T19:17:35.616889Z",
     "iopub.status.busy": "2023-02-07T19:17:35.616487Z",
     "iopub.status.idle": "2023-02-07T19:17:35.624294Z",
     "shell.execute_reply": "2023-02-07T19:17:35.623082Z"
    },
    "papermill": {
     "duration": 0.02039,
     "end_time": "2023-02-07T19:17:35.626419",
     "exception": false,
     "start_time": "2023-02-07T19:17:35.606029",
     "status": "completed"
    },
    "tags": []
   },
   "outputs": [
    {
     "name": "stdout",
     "output_type": "stream",
     "text": [
      "All features:  19\n",
      "Index(['squareMeters', 'numberOfRooms', 'hasYard', 'hasPool', 'floors',\n",
      "       'cityCode', 'cityPartRange', 'numPrevOwners', 'made', 'isNewBuilt',\n",
      "       'hasStormProtector', 'basement', 'attic', 'garage', 'hasStorageRoom',\n",
      "       'hasGuestRoom', 'source', 'AreaPerHouse', 'Extra'],\n",
      "      dtype='object')\n",
      "Selected best:  10\n",
      "Index(['squareMeters', 'numberOfRooms', 'floors', 'cityCode', 'made',\n",
      "       'basement', 'attic', 'garage', 'AreaPerHouse', 'Extra'],\n",
      "      dtype='object')\n"
     ]
    }
   ],
   "source": [
    "mask = select.get_support()\n",
    "features = train.columns\n",
    "best_features = features[mask]\n",
    " \n",
    "print(\"All features: \", train.shape[1])\n",
    "print(features)\n",
    "\n",
    "print(\"Selected best: \", best_features.shape[0])\n",
    "print(features[mask]) "
   ]
  },
  {
   "cell_type": "code",
   "execution_count": 19,
   "id": "0eb0ca72",
   "metadata": {
    "execution": {
     "iopub.execute_input": "2023-02-07T19:17:35.646625Z",
     "iopub.status.busy": "2023-02-07T19:17:35.646251Z",
     "iopub.status.idle": "2023-02-07T19:17:35.653365Z",
     "shell.execute_reply": "2023-02-07T19:17:35.652243Z"
    },
    "papermill": {
     "duration": 0.019886,
     "end_time": "2023-02-07T19:17:35.655397",
     "exception": false,
     "start_time": "2023-02-07T19:17:35.635511",
     "status": "completed"
    },
    "tags": []
   },
   "outputs": [
    {
     "data": {
      "text/plain": [
       "19"
      ]
     },
     "execution_count": 19,
     "metadata": {},
     "output_type": "execute_result"
    }
   ],
   "source": [
    "len(select.cv_results_[\"mean_test_score\"])"
   ]
  },
  {
   "cell_type": "code",
   "execution_count": 20,
   "id": "4f65beee",
   "metadata": {
    "execution": {
     "iopub.execute_input": "2023-02-07T19:17:35.676441Z",
     "iopub.status.busy": "2023-02-07T19:17:35.676070Z",
     "iopub.status.idle": "2023-02-07T19:17:35.768948Z",
     "shell.execute_reply": "2023-02-07T19:17:35.766334Z"
    },
    "papermill": {
     "duration": 0.10844,
     "end_time": "2023-02-07T19:17:35.772946",
     "exception": false,
     "start_time": "2023-02-07T19:17:35.664506",
     "status": "completed"
    },
    "tags": []
   },
   "outputs": [
    {
     "data": {
      "text/plain": [
       "array([6.78473728e-01, 3.05285814e-01, 9.70082722e-03, 3.21432159e-03,\n",
       "       3.10174226e-03, 1.93986455e-04, 2.53195563e-05, 3.40250216e-06,\n",
       "       6.37073875e-07, 2.12215575e-07, 3.31243066e-09, 2.70258467e-09,\n",
       "       2.60219288e-09, 9.23987133e-11, 8.90429562e-11, 8.50634107e-11,\n",
       "       8.42666369e-11, 8.25902693e-11])"
      ]
     },
     "execution_count": 20,
     "metadata": {},
     "output_type": "execute_result"
    }
   ],
   "source": [
    "from sklearn.decomposition import PCA\n",
    "  \n",
    "pca = PCA(n_components = 18)\n",
    "  \n",
    "train1 = pca.fit_transform(train)\n",
    "test1 = pca.transform(test)\n",
    "  \n",
    "explained_variance = pca.explained_variance_ratio_\n",
    "explained_variance"
   ]
  },
  {
   "cell_type": "code",
   "execution_count": 21,
   "id": "b0f29173",
   "metadata": {
    "execution": {
     "iopub.execute_input": "2023-02-07T19:17:35.848775Z",
     "iopub.status.busy": "2023-02-07T19:17:35.848113Z",
     "iopub.status.idle": "2023-02-07T19:17:35.873646Z",
     "shell.execute_reply": "2023-02-07T19:17:35.872583Z"
    },
    "papermill": {
     "duration": 0.06557,
     "end_time": "2023-02-07T19:17:35.876395",
     "exception": false,
     "start_time": "2023-02-07T19:17:35.810825",
     "status": "completed"
    },
    "tags": []
   },
   "outputs": [],
   "source": [
    "from sklearn.model_selection import train_test_split\n",
    "X_train, X_test,y_train, y_test = train_test_split(train,Price,\n",
    "                                   random_state=104, \n",
    "                                   test_size=0.20, \n",
    "                                   shuffle=True)"
   ]
  },
  {
   "cell_type": "code",
   "execution_count": 22,
   "id": "144c67f9",
   "metadata": {
    "execution": {
     "iopub.execute_input": "2023-02-07T19:17:35.897208Z",
     "iopub.status.busy": "2023-02-07T19:17:35.896780Z",
     "iopub.status.idle": "2023-02-07T19:17:58.604480Z",
     "shell.execute_reply": "2023-02-07T19:17:58.603403Z"
    },
    "papermill": {
     "duration": 22.720722,
     "end_time": "2023-02-07T19:17:58.606751",
     "exception": false,
     "start_time": "2023-02-07T19:17:35.886029",
     "status": "completed"
    },
    "tags": []
   },
   "outputs": [
    {
     "data": {
      "text/plain": [
       "RandomForestRegressor(random_state=0)"
      ]
     },
     "execution_count": 22,
     "metadata": {},
     "output_type": "execute_result"
    }
   ],
   "source": [
    " # create regressor object\n",
    "regressor = RandomForestRegressor(n_estimators = 100, random_state = 0)\n",
    "  \n",
    "# fit the regressor with x and y data\n",
    "regressor.fit(X_train, y_train) "
   ]
  },
  {
   "cell_type": "code",
   "execution_count": 23,
   "id": "5d7ff898",
   "metadata": {
    "execution": {
     "iopub.execute_input": "2023-02-07T19:17:58.627502Z",
     "iopub.status.busy": "2023-02-07T19:17:58.627112Z",
     "iopub.status.idle": "2023-02-07T19:17:58.847486Z",
     "shell.execute_reply": "2023-02-07T19:17:58.846283Z"
    },
    "papermill": {
     "duration": 0.23405,
     "end_time": "2023-02-07T19:17:58.850473",
     "exception": false,
     "start_time": "2023-02-07T19:17:58.616423",
     "status": "completed"
    },
    "tags": []
   },
   "outputs": [],
   "source": [
    "Y_pred = regressor.predict(X_test)"
   ]
  },
  {
   "cell_type": "code",
   "execution_count": 24,
   "id": "238ea899",
   "metadata": {
    "execution": {
     "iopub.execute_input": "2023-02-07T19:17:58.872076Z",
     "iopub.status.busy": "2023-02-07T19:17:58.871446Z",
     "iopub.status.idle": "2023-02-07T19:17:58.879892Z",
     "shell.execute_reply": "2023-02-07T19:17:58.878879Z"
    },
    "papermill": {
     "duration": 0.021995,
     "end_time": "2023-02-07T19:17:58.882152",
     "exception": false,
     "start_time": "2023-02-07T19:17:58.860157",
     "status": "completed"
    },
    "tags": []
   },
   "outputs": [
    {
     "name": "stdout",
     "output_type": "stream",
     "text": [
      "The model performance for testing set\n",
      "--------------------------------------\n",
      "MAE is 6821.098499122835\n",
      "MSE is 11285713581.720285\n",
      "R2 score is 0.9986947803718087\n"
     ]
    }
   ],
   "source": [
    "from sklearn import metrics\n",
    "mae = metrics.mean_absolute_error(y_test, Y_pred)\n",
    "mse = metrics.mean_squared_error(y_test, Y_pred)\n",
    "r2 = metrics.r2_score(y_test, Y_pred)\n",
    "\n",
    "print(\"The model performance for testing set\")\n",
    "print(\"--------------------------------------\")\n",
    "print('MAE is {}'.format(mae))\n",
    "print('MSE is {}'.format(mse))\n",
    "print('R2 score is {}'.format(r2))"
   ]
  },
  {
   "cell_type": "code",
   "execution_count": 25,
   "id": "7751c726",
   "metadata": {
    "execution": {
     "iopub.execute_input": "2023-02-07T19:17:58.903826Z",
     "iopub.status.busy": "2023-02-07T19:17:58.903415Z",
     "iopub.status.idle": "2023-02-07T19:18:28.038548Z",
     "shell.execute_reply": "2023-02-07T19:18:28.037276Z"
    },
    "papermill": {
     "duration": 29.149304,
     "end_time": "2023-02-07T19:18:28.041223",
     "exception": false,
     "start_time": "2023-02-07T19:17:58.891919",
     "status": "completed"
    },
    "tags": []
   },
   "outputs": [
    {
     "data": {
      "text/plain": [
       "RandomForestRegressor(random_state=0)"
      ]
     },
     "execution_count": 25,
     "metadata": {},
     "output_type": "execute_result"
    }
   ],
   "source": [
    " # create regressor object\n",
    "regressor = RandomForestRegressor(n_estimators = 100, random_state = 0)\n",
    "  \n",
    "# fit the regressor with x and y data\n",
    "regressor.fit(train, Price) "
   ]
  },
  {
   "cell_type": "code",
   "execution_count": 26,
   "id": "6dfc2ff9",
   "metadata": {
    "execution": {
     "iopub.execute_input": "2023-02-07T19:18:28.062116Z",
     "iopub.status.busy": "2023-02-07T19:18:28.061664Z",
     "iopub.status.idle": "2023-02-07T19:18:28.541059Z",
     "shell.execute_reply": "2023-02-07T19:18:28.539831Z"
    },
    "papermill": {
     "duration": 0.493165,
     "end_time": "2023-02-07T19:18:28.544010",
     "exception": false,
     "start_time": "2023-02-07T19:18:28.050845",
     "status": "completed"
    },
    "tags": []
   },
   "outputs": [],
   "source": [
    "Y_predt = regressor.predict(test)"
   ]
  },
  {
   "cell_type": "code",
   "execution_count": 27,
   "id": "4b8c2171",
   "metadata": {
    "execution": {
     "iopub.execute_input": "2023-02-07T19:18:28.565212Z",
     "iopub.status.busy": "2023-02-07T19:18:28.564751Z",
     "iopub.status.idle": "2023-02-07T19:18:28.582484Z",
     "shell.execute_reply": "2023-02-07T19:18:28.581435Z"
    },
    "papermill": {
     "duration": 0.031352,
     "end_time": "2023-02-07T19:18:28.585096",
     "exception": false,
     "start_time": "2023-02-07T19:18:28.553744",
     "status": "completed"
    },
    "tags": []
   },
   "outputs": [
    {
     "data": {
      "text/html": [
       "<div>\n",
       "<style scoped>\n",
       "    .dataframe tbody tr th:only-of-type {\n",
       "        vertical-align: middle;\n",
       "    }\n",
       "\n",
       "    .dataframe tbody tr th {\n",
       "        vertical-align: top;\n",
       "    }\n",
       "\n",
       "    .dataframe thead th {\n",
       "        text-align: right;\n",
       "    }\n",
       "</style>\n",
       "<table border=\"1\" class=\"dataframe\">\n",
       "  <thead>\n",
       "    <tr style=\"text-align: right;\">\n",
       "      <th></th>\n",
       "      <th>id</th>\n",
       "      <th>price</th>\n",
       "    </tr>\n",
       "  </thead>\n",
       "  <tbody>\n",
       "    <tr>\n",
       "      <th>0</th>\n",
       "      <td>22730</td>\n",
       "      <td>4766064.432</td>\n",
       "    </tr>\n",
       "    <tr>\n",
       "      <th>1</th>\n",
       "      <td>22731</td>\n",
       "      <td>6216166.887</td>\n",
       "    </tr>\n",
       "    <tr>\n",
       "      <th>2</th>\n",
       "      <td>22732</td>\n",
       "      <td>9057639.390</td>\n",
       "    </tr>\n",
       "    <tr>\n",
       "      <th>3</th>\n",
       "      <td>22733</td>\n",
       "      <td>1644781.128</td>\n",
       "    </tr>\n",
       "    <tr>\n",
       "      <th>4</th>\n",
       "      <td>22734</td>\n",
       "      <td>6758933.580</td>\n",
       "    </tr>\n",
       "  </tbody>\n",
       "</table>\n",
       "</div>"
      ],
      "text/plain": [
       "      id        price\n",
       "0  22730  4766064.432\n",
       "1  22731  6216166.887\n",
       "2  22732  9057639.390\n",
       "3  22733  1644781.128\n",
       "4  22734  6758933.580"
      ]
     },
     "execution_count": 27,
     "metadata": {},
     "output_type": "execute_result"
    }
   ],
   "source": [
    "df_sub = pd.DataFrame(columns=['id', 'price'])\n",
    "df_sub['id'] = testid\n",
    "df_sub['price'] = Y_predt\n",
    "df_sub.head()"
   ]
  },
  {
   "cell_type": "code",
   "execution_count": 28,
   "id": "dea12035",
   "metadata": {
    "execution": {
     "iopub.execute_input": "2023-02-07T19:18:28.606516Z",
     "iopub.status.busy": "2023-02-07T19:18:28.606136Z",
     "iopub.status.idle": "2023-02-07T19:18:28.644938Z",
     "shell.execute_reply": "2023-02-07T19:18:28.643934Z"
    },
    "papermill": {
     "duration": 0.052805,
     "end_time": "2023-02-07T19:18:28.647582",
     "exception": false,
     "start_time": "2023-02-07T19:18:28.594777",
     "status": "completed"
    },
    "tags": []
   },
   "outputs": [],
   "source": [
    "df_sub.to_csv(\"RF.csv\", index = False)"
   ]
  },
  {
   "cell_type": "code",
   "execution_count": null,
   "id": "0b173468",
   "metadata": {
    "papermill": {
     "duration": 0.00943,
     "end_time": "2023-02-07T19:18:28.666889",
     "exception": false,
     "start_time": "2023-02-07T19:18:28.657459",
     "status": "completed"
    },
    "tags": []
   },
   "outputs": [],
   "source": []
  }
 ],
 "metadata": {
  "kernelspec": {
   "display_name": "Python 3",
   "language": "python",
   "name": "python3"
  },
  "language_info": {
   "codemirror_mode": {
    "name": "ipython",
    "version": 3
   },
   "file_extension": ".py",
   "mimetype": "text/x-python",
   "name": "python",
   "nbconvert_exporter": "python",
   "pygments_lexer": "ipython3",
   "version": "3.7.12"
  },
  "papermill": {
   "default_parameters": {},
   "duration": 3673.728843,
   "end_time": "2023-02-07T19:18:29.506017",
   "environment_variables": {},
   "exception": null,
   "input_path": "__notebook__.ipynb",
   "output_path": "__notebook__.ipynb",
   "parameters": {},
   "start_time": "2023-02-07T18:17:15.777174",
   "version": "2.3.4"
  }
 },
 "nbformat": 4,
 "nbformat_minor": 5
}
