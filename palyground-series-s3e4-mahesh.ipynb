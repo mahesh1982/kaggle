{
 "cells": [
  {
   "cell_type": "code",
   "execution_count": 1,
   "id": "9d987ecb",
   "metadata": {
    "execution": {
     "iopub.execute_input": "2023-01-25T06:37:34.062244Z",
     "iopub.status.busy": "2023-01-25T06:37:34.061244Z",
     "iopub.status.idle": "2023-01-25T06:37:34.073648Z",
     "shell.execute_reply": "2023-01-25T06:37:34.072729Z"
    },
    "papermill": {
     "duration": 0.024615,
     "end_time": "2023-01-25T06:37:34.076142",
     "exception": false,
     "start_time": "2023-01-25T06:37:34.051527",
     "status": "completed"
    },
    "tags": []
   },
   "outputs": [],
   "source": [
    "import pandas as pd\n",
    "import numpy as np"
   ]
  },
  {
   "cell_type": "code",
   "execution_count": 2,
   "id": "608cdfe6",
   "metadata": {
    "execution": {
     "iopub.execute_input": "2023-01-25T06:37:34.091465Z",
     "iopub.status.busy": "2023-01-25T06:37:34.090623Z",
     "iopub.status.idle": "2023-01-25T06:37:37.760310Z",
     "shell.execute_reply": "2023-01-25T06:37:37.759233Z"
    },
    "papermill": {
     "duration": 3.680859,
     "end_time": "2023-01-25T06:37:37.763573",
     "exception": false,
     "start_time": "2023-01-25T06:37:34.082714",
     "status": "completed"
    },
    "tags": []
   },
   "outputs": [
    {
     "data": {
      "text/html": [
       "<div>\n",
       "<style scoped>\n",
       "    .dataframe tbody tr th:only-of-type {\n",
       "        vertical-align: middle;\n",
       "    }\n",
       "\n",
       "    .dataframe tbody tr th {\n",
       "        vertical-align: top;\n",
       "    }\n",
       "\n",
       "    .dataframe thead th {\n",
       "        text-align: right;\n",
       "    }\n",
       "</style>\n",
       "<table border=\"1\" class=\"dataframe\">\n",
       "  <thead>\n",
       "    <tr style=\"text-align: right;\">\n",
       "      <th></th>\n",
       "      <th>id</th>\n",
       "      <th>Time</th>\n",
       "      <th>V1</th>\n",
       "      <th>V2</th>\n",
       "      <th>V3</th>\n",
       "      <th>V4</th>\n",
       "      <th>V5</th>\n",
       "      <th>V6</th>\n",
       "      <th>V7</th>\n",
       "      <th>V8</th>\n",
       "      <th>...</th>\n",
       "      <th>V21</th>\n",
       "      <th>V22</th>\n",
       "      <th>V23</th>\n",
       "      <th>V24</th>\n",
       "      <th>V25</th>\n",
       "      <th>V26</th>\n",
       "      <th>V27</th>\n",
       "      <th>V28</th>\n",
       "      <th>Amount</th>\n",
       "      <th>Class</th>\n",
       "    </tr>\n",
       "  </thead>\n",
       "  <tbody>\n",
       "    <tr>\n",
       "      <th>0</th>\n",
       "      <td>0</td>\n",
       "      <td>0.0</td>\n",
       "      <td>2.074329</td>\n",
       "      <td>-0.129425</td>\n",
       "      <td>-1.137418</td>\n",
       "      <td>0.412846</td>\n",
       "      <td>-0.192638</td>\n",
       "      <td>-1.210144</td>\n",
       "      <td>0.110697</td>\n",
       "      <td>-0.263477</td>\n",
       "      <td>...</td>\n",
       "      <td>-0.334701</td>\n",
       "      <td>-0.887840</td>\n",
       "      <td>0.336701</td>\n",
       "      <td>-0.110835</td>\n",
       "      <td>-0.291459</td>\n",
       "      <td>0.207733</td>\n",
       "      <td>-0.076576</td>\n",
       "      <td>-0.059577</td>\n",
       "      <td>1.98</td>\n",
       "      <td>0</td>\n",
       "    </tr>\n",
       "    <tr>\n",
       "      <th>1</th>\n",
       "      <td>1</td>\n",
       "      <td>0.0</td>\n",
       "      <td>1.998827</td>\n",
       "      <td>-1.250891</td>\n",
       "      <td>-0.520969</td>\n",
       "      <td>-0.894539</td>\n",
       "      <td>-1.122528</td>\n",
       "      <td>-0.270866</td>\n",
       "      <td>-1.029289</td>\n",
       "      <td>0.050198</td>\n",
       "      <td>...</td>\n",
       "      <td>0.054848</td>\n",
       "      <td>-0.038367</td>\n",
       "      <td>0.133518</td>\n",
       "      <td>-0.461928</td>\n",
       "      <td>-0.465491</td>\n",
       "      <td>-0.464655</td>\n",
       "      <td>-0.009413</td>\n",
       "      <td>-0.038238</td>\n",
       "      <td>84.00</td>\n",
       "      <td>0</td>\n",
       "    </tr>\n",
       "    <tr>\n",
       "      <th>2</th>\n",
       "      <td>2</td>\n",
       "      <td>0.0</td>\n",
       "      <td>0.091535</td>\n",
       "      <td>1.004517</td>\n",
       "      <td>-0.223445</td>\n",
       "      <td>-0.435249</td>\n",
       "      <td>0.667548</td>\n",
       "      <td>-0.988351</td>\n",
       "      <td>0.948146</td>\n",
       "      <td>-0.084789</td>\n",
       "      <td>...</td>\n",
       "      <td>-0.326725</td>\n",
       "      <td>-0.803736</td>\n",
       "      <td>0.154495</td>\n",
       "      <td>0.951233</td>\n",
       "      <td>-0.506919</td>\n",
       "      <td>0.085046</td>\n",
       "      <td>0.224458</td>\n",
       "      <td>0.087356</td>\n",
       "      <td>2.69</td>\n",
       "      <td>0</td>\n",
       "    </tr>\n",
       "    <tr>\n",
       "      <th>3</th>\n",
       "      <td>3</td>\n",
       "      <td>0.0</td>\n",
       "      <td>1.979649</td>\n",
       "      <td>-0.184949</td>\n",
       "      <td>-1.064206</td>\n",
       "      <td>0.120125</td>\n",
       "      <td>-0.215238</td>\n",
       "      <td>-0.648829</td>\n",
       "      <td>-0.087826</td>\n",
       "      <td>-0.035367</td>\n",
       "      <td>...</td>\n",
       "      <td>-0.095514</td>\n",
       "      <td>-0.079792</td>\n",
       "      <td>0.167701</td>\n",
       "      <td>-0.042939</td>\n",
       "      <td>0.000799</td>\n",
       "      <td>-0.096148</td>\n",
       "      <td>-0.057780</td>\n",
       "      <td>-0.073839</td>\n",
       "      <td>1.00</td>\n",
       "      <td>0</td>\n",
       "    </tr>\n",
       "    <tr>\n",
       "      <th>4</th>\n",
       "      <td>4</td>\n",
       "      <td>0.0</td>\n",
       "      <td>1.025898</td>\n",
       "      <td>-0.171827</td>\n",
       "      <td>1.203717</td>\n",
       "      <td>1.243900</td>\n",
       "      <td>-0.636572</td>\n",
       "      <td>1.099074</td>\n",
       "      <td>-0.938651</td>\n",
       "      <td>0.569239</td>\n",
       "      <td>...</td>\n",
       "      <td>0.099157</td>\n",
       "      <td>0.608908</td>\n",
       "      <td>0.027901</td>\n",
       "      <td>-0.262813</td>\n",
       "      <td>0.257834</td>\n",
       "      <td>-0.252829</td>\n",
       "      <td>0.108338</td>\n",
       "      <td>0.021051</td>\n",
       "      <td>1.00</td>\n",
       "      <td>0</td>\n",
       "    </tr>\n",
       "  </tbody>\n",
       "</table>\n",
       "<p>5 rows × 32 columns</p>\n",
       "</div>"
      ],
      "text/plain": [
       "   id  Time        V1        V2        V3        V4        V5        V6  \\\n",
       "0   0   0.0  2.074329 -0.129425 -1.137418  0.412846 -0.192638 -1.210144   \n",
       "1   1   0.0  1.998827 -1.250891 -0.520969 -0.894539 -1.122528 -0.270866   \n",
       "2   2   0.0  0.091535  1.004517 -0.223445 -0.435249  0.667548 -0.988351   \n",
       "3   3   0.0  1.979649 -0.184949 -1.064206  0.120125 -0.215238 -0.648829   \n",
       "4   4   0.0  1.025898 -0.171827  1.203717  1.243900 -0.636572  1.099074   \n",
       "\n",
       "         V7        V8  ...       V21       V22       V23       V24       V25  \\\n",
       "0  0.110697 -0.263477  ... -0.334701 -0.887840  0.336701 -0.110835 -0.291459   \n",
       "1 -1.029289  0.050198  ...  0.054848 -0.038367  0.133518 -0.461928 -0.465491   \n",
       "2  0.948146 -0.084789  ... -0.326725 -0.803736  0.154495  0.951233 -0.506919   \n",
       "3 -0.087826 -0.035367  ... -0.095514 -0.079792  0.167701 -0.042939  0.000799   \n",
       "4 -0.938651  0.569239  ...  0.099157  0.608908  0.027901 -0.262813  0.257834   \n",
       "\n",
       "        V26       V27       V28  Amount  Class  \n",
       "0  0.207733 -0.076576 -0.059577    1.98      0  \n",
       "1 -0.464655 -0.009413 -0.038238   84.00      0  \n",
       "2  0.085046  0.224458  0.087356    2.69      0  \n",
       "3 -0.096148 -0.057780 -0.073839    1.00      0  \n",
       "4 -0.252829  0.108338  0.021051    1.00      0  \n",
       "\n",
       "[5 rows x 32 columns]"
      ]
     },
     "execution_count": 2,
     "metadata": {},
     "output_type": "execute_result"
    }
   ],
   "source": [
    "train = pd.read_csv(\"/kaggle/input/playground-series-s3e4/train.csv\")\n",
    "train.head()"
   ]
  },
  {
   "cell_type": "code",
   "execution_count": 3,
   "id": "4c2f3aa4",
   "metadata": {
    "execution": {
     "iopub.execute_input": "2023-01-25T06:37:37.778358Z",
     "iopub.status.busy": "2023-01-25T06:37:37.777985Z",
     "iopub.status.idle": "2023-01-25T06:37:40.637521Z",
     "shell.execute_reply": "2023-01-25T06:37:40.636270Z"
    },
    "papermill": {
     "duration": 2.869807,
     "end_time": "2023-01-25T06:37:40.640003",
     "exception": false,
     "start_time": "2023-01-25T06:37:37.770196",
     "status": "completed"
    },
    "tags": []
   },
   "outputs": [
    {
     "data": {
      "text/html": [
       "<div>\n",
       "<style scoped>\n",
       "    .dataframe tbody tr th:only-of-type {\n",
       "        vertical-align: middle;\n",
       "    }\n",
       "\n",
       "    .dataframe tbody tr th {\n",
       "        vertical-align: top;\n",
       "    }\n",
       "\n",
       "    .dataframe thead th {\n",
       "        text-align: right;\n",
       "    }\n",
       "</style>\n",
       "<table border=\"1\" class=\"dataframe\">\n",
       "  <thead>\n",
       "    <tr style=\"text-align: right;\">\n",
       "      <th></th>\n",
       "      <th>id</th>\n",
       "      <th>Time</th>\n",
       "      <th>V1</th>\n",
       "      <th>V2</th>\n",
       "      <th>V3</th>\n",
       "      <th>V4</th>\n",
       "      <th>V5</th>\n",
       "      <th>V6</th>\n",
       "      <th>V7</th>\n",
       "      <th>V8</th>\n",
       "      <th>...</th>\n",
       "      <th>V20</th>\n",
       "      <th>V21</th>\n",
       "      <th>V22</th>\n",
       "      <th>V23</th>\n",
       "      <th>V24</th>\n",
       "      <th>V25</th>\n",
       "      <th>V26</th>\n",
       "      <th>V27</th>\n",
       "      <th>V28</th>\n",
       "      <th>Amount</th>\n",
       "    </tr>\n",
       "  </thead>\n",
       "  <tbody>\n",
       "    <tr>\n",
       "      <th>0</th>\n",
       "      <td>219129</td>\n",
       "      <td>120580.0</td>\n",
       "      <td>2.115519</td>\n",
       "      <td>-0.691809</td>\n",
       "      <td>-1.305514</td>\n",
       "      <td>-0.685655</td>\n",
       "      <td>-0.641265</td>\n",
       "      <td>-0.764784</td>\n",
       "      <td>-0.924262</td>\n",
       "      <td>-0.023030</td>\n",
       "      <td>...</td>\n",
       "      <td>0.067367</td>\n",
       "      <td>0.241708</td>\n",
       "      <td>0.682524</td>\n",
       "      <td>0.037769</td>\n",
       "      <td>-0.546859</td>\n",
       "      <td>-0.123055</td>\n",
       "      <td>-0.084889</td>\n",
       "      <td>0.004720</td>\n",
       "      <td>-0.021944</td>\n",
       "      <td>29.95</td>\n",
       "    </tr>\n",
       "    <tr>\n",
       "      <th>1</th>\n",
       "      <td>219130</td>\n",
       "      <td>120580.0</td>\n",
       "      <td>1.743525</td>\n",
       "      <td>-1.681429</td>\n",
       "      <td>-0.547387</td>\n",
       "      <td>-1.061113</td>\n",
       "      <td>-0.695825</td>\n",
       "      <td>2.458824</td>\n",
       "      <td>-1.632859</td>\n",
       "      <td>1.073529</td>\n",
       "      <td>...</td>\n",
       "      <td>0.441788</td>\n",
       "      <td>0.543278</td>\n",
       "      <td>1.294571</td>\n",
       "      <td>0.309541</td>\n",
       "      <td>3.703925</td>\n",
       "      <td>-0.242579</td>\n",
       "      <td>0.068708</td>\n",
       "      <td>0.002629</td>\n",
       "      <td>0.064690</td>\n",
       "      <td>163.50</td>\n",
       "    </tr>\n",
       "    <tr>\n",
       "      <th>2</th>\n",
       "      <td>219131</td>\n",
       "      <td>120580.0</td>\n",
       "      <td>2.205568</td>\n",
       "      <td>-1.571445</td>\n",
       "      <td>-0.238965</td>\n",
       "      <td>-1.662517</td>\n",
       "      <td>-1.652324</td>\n",
       "      <td>-0.054701</td>\n",
       "      <td>-1.682064</td>\n",
       "      <td>0.105613</td>\n",
       "      <td>...</td>\n",
       "      <td>-0.366906</td>\n",
       "      <td>-0.131527</td>\n",
       "      <td>0.086623</td>\n",
       "      <td>0.291375</td>\n",
       "      <td>0.739087</td>\n",
       "      <td>-0.543006</td>\n",
       "      <td>-0.297813</td>\n",
       "      <td>0.043699</td>\n",
       "      <td>-0.037855</td>\n",
       "      <td>16.00</td>\n",
       "    </tr>\n",
       "    <tr>\n",
       "      <th>3</th>\n",
       "      <td>219132</td>\n",
       "      <td>120580.0</td>\n",
       "      <td>1.989728</td>\n",
       "      <td>-0.972909</td>\n",
       "      <td>-1.938259</td>\n",
       "      <td>-1.440129</td>\n",
       "      <td>-0.166855</td>\n",
       "      <td>-0.794048</td>\n",
       "      <td>0.252889</td>\n",
       "      <td>-0.399789</td>\n",
       "      <td>...</td>\n",
       "      <td>-0.049136</td>\n",
       "      <td>-0.080115</td>\n",
       "      <td>-0.010732</td>\n",
       "      <td>-0.038550</td>\n",
       "      <td>0.656830</td>\n",
       "      <td>0.343470</td>\n",
       "      <td>-0.627529</td>\n",
       "      <td>-0.024338</td>\n",
       "      <td>-0.036143</td>\n",
       "      <td>120.98</td>\n",
       "    </tr>\n",
       "    <tr>\n",
       "      <th>4</th>\n",
       "      <td>219133</td>\n",
       "      <td>120580.0</td>\n",
       "      <td>-1.943548</td>\n",
       "      <td>-1.668761</td>\n",
       "      <td>0.363601</td>\n",
       "      <td>-0.977610</td>\n",
       "      <td>2.684779</td>\n",
       "      <td>-2.037681</td>\n",
       "      <td>0.039709</td>\n",
       "      <td>-0.048895</td>\n",
       "      <td>...</td>\n",
       "      <td>0.391627</td>\n",
       "      <td>0.083389</td>\n",
       "      <td>-0.306918</td>\n",
       "      <td>0.247822</td>\n",
       "      <td>-0.391799</td>\n",
       "      <td>-0.790716</td>\n",
       "      <td>-0.025706</td>\n",
       "      <td>0.330758</td>\n",
       "      <td>0.335537</td>\n",
       "      <td>1.98</td>\n",
       "    </tr>\n",
       "  </tbody>\n",
       "</table>\n",
       "<p>5 rows × 31 columns</p>\n",
       "</div>"
      ],
      "text/plain": [
       "       id      Time        V1        V2        V3        V4        V5  \\\n",
       "0  219129  120580.0  2.115519 -0.691809 -1.305514 -0.685655 -0.641265   \n",
       "1  219130  120580.0  1.743525 -1.681429 -0.547387 -1.061113 -0.695825   \n",
       "2  219131  120580.0  2.205568 -1.571445 -0.238965 -1.662517 -1.652324   \n",
       "3  219132  120580.0  1.989728 -0.972909 -1.938259 -1.440129 -0.166855   \n",
       "4  219133  120580.0 -1.943548 -1.668761  0.363601 -0.977610  2.684779   \n",
       "\n",
       "         V6        V7        V8  ...       V20       V21       V22       V23  \\\n",
       "0 -0.764784 -0.924262 -0.023030  ...  0.067367  0.241708  0.682524  0.037769   \n",
       "1  2.458824 -1.632859  1.073529  ...  0.441788  0.543278  1.294571  0.309541   \n",
       "2 -0.054701 -1.682064  0.105613  ... -0.366906 -0.131527  0.086623  0.291375   \n",
       "3 -0.794048  0.252889 -0.399789  ... -0.049136 -0.080115 -0.010732 -0.038550   \n",
       "4 -2.037681  0.039709 -0.048895  ...  0.391627  0.083389 -0.306918  0.247822   \n",
       "\n",
       "        V24       V25       V26       V27       V28  Amount  \n",
       "0 -0.546859 -0.123055 -0.084889  0.004720 -0.021944   29.95  \n",
       "1  3.703925 -0.242579  0.068708  0.002629  0.064690  163.50  \n",
       "2  0.739087 -0.543006 -0.297813  0.043699 -0.037855   16.00  \n",
       "3  0.656830  0.343470 -0.627529 -0.024338 -0.036143  120.98  \n",
       "4 -0.391799 -0.790716 -0.025706  0.330758  0.335537    1.98  \n",
       "\n",
       "[5 rows x 31 columns]"
      ]
     },
     "execution_count": 3,
     "metadata": {},
     "output_type": "execute_result"
    }
   ],
   "source": [
    "test = pd.read_csv(\"/kaggle/input/playground-series-s3e4/test.csv\")\n",
    "test.head()"
   ]
  },
  {
   "cell_type": "code",
   "execution_count": 4,
   "id": "72c85b3b",
   "metadata": {
    "execution": {
     "iopub.execute_input": "2023-01-25T06:37:40.656571Z",
     "iopub.status.busy": "2023-01-25T06:37:40.655844Z",
     "iopub.status.idle": "2023-01-25T06:37:45.288209Z",
     "shell.execute_reply": "2023-01-25T06:37:45.287161Z"
    },
    "papermill": {
     "duration": 4.643521,
     "end_time": "2023-01-25T06:37:45.290723",
     "exception": false,
     "start_time": "2023-01-25T06:37:40.647202",
     "status": "completed"
    },
    "tags": []
   },
   "outputs": [
    {
     "data": {
      "text/html": [
       "<div>\n",
       "<style scoped>\n",
       "    .dataframe tbody tr th:only-of-type {\n",
       "        vertical-align: middle;\n",
       "    }\n",
       "\n",
       "    .dataframe tbody tr th {\n",
       "        vertical-align: top;\n",
       "    }\n",
       "\n",
       "    .dataframe thead th {\n",
       "        text-align: right;\n",
       "    }\n",
       "</style>\n",
       "<table border=\"1\" class=\"dataframe\">\n",
       "  <thead>\n",
       "    <tr style=\"text-align: right;\">\n",
       "      <th></th>\n",
       "      <th>Time</th>\n",
       "      <th>V1</th>\n",
       "      <th>V2</th>\n",
       "      <th>V3</th>\n",
       "      <th>V4</th>\n",
       "      <th>V5</th>\n",
       "      <th>V6</th>\n",
       "      <th>V7</th>\n",
       "      <th>V8</th>\n",
       "      <th>V9</th>\n",
       "      <th>...</th>\n",
       "      <th>V21</th>\n",
       "      <th>V22</th>\n",
       "      <th>V23</th>\n",
       "      <th>V24</th>\n",
       "      <th>V25</th>\n",
       "      <th>V26</th>\n",
       "      <th>V27</th>\n",
       "      <th>V28</th>\n",
       "      <th>Amount</th>\n",
       "      <th>Class</th>\n",
       "    </tr>\n",
       "  </thead>\n",
       "  <tbody>\n",
       "    <tr>\n",
       "      <th>0</th>\n",
       "      <td>0.0</td>\n",
       "      <td>-1.359807</td>\n",
       "      <td>-0.072781</td>\n",
       "      <td>2.536347</td>\n",
       "      <td>1.378155</td>\n",
       "      <td>-0.338321</td>\n",
       "      <td>0.462388</td>\n",
       "      <td>0.239599</td>\n",
       "      <td>0.098698</td>\n",
       "      <td>0.363787</td>\n",
       "      <td>...</td>\n",
       "      <td>-0.018307</td>\n",
       "      <td>0.277838</td>\n",
       "      <td>-0.110474</td>\n",
       "      <td>0.066928</td>\n",
       "      <td>0.128539</td>\n",
       "      <td>-0.189115</td>\n",
       "      <td>0.133558</td>\n",
       "      <td>-0.021053</td>\n",
       "      <td>149.62</td>\n",
       "      <td>0</td>\n",
       "    </tr>\n",
       "    <tr>\n",
       "      <th>1</th>\n",
       "      <td>0.0</td>\n",
       "      <td>1.191857</td>\n",
       "      <td>0.266151</td>\n",
       "      <td>0.166480</td>\n",
       "      <td>0.448154</td>\n",
       "      <td>0.060018</td>\n",
       "      <td>-0.082361</td>\n",
       "      <td>-0.078803</td>\n",
       "      <td>0.085102</td>\n",
       "      <td>-0.255425</td>\n",
       "      <td>...</td>\n",
       "      <td>-0.225775</td>\n",
       "      <td>-0.638672</td>\n",
       "      <td>0.101288</td>\n",
       "      <td>-0.339846</td>\n",
       "      <td>0.167170</td>\n",
       "      <td>0.125895</td>\n",
       "      <td>-0.008983</td>\n",
       "      <td>0.014724</td>\n",
       "      <td>2.69</td>\n",
       "      <td>0</td>\n",
       "    </tr>\n",
       "    <tr>\n",
       "      <th>2</th>\n",
       "      <td>1.0</td>\n",
       "      <td>-1.358354</td>\n",
       "      <td>-1.340163</td>\n",
       "      <td>1.773209</td>\n",
       "      <td>0.379780</td>\n",
       "      <td>-0.503198</td>\n",
       "      <td>1.800499</td>\n",
       "      <td>0.791461</td>\n",
       "      <td>0.247676</td>\n",
       "      <td>-1.514654</td>\n",
       "      <td>...</td>\n",
       "      <td>0.247998</td>\n",
       "      <td>0.771679</td>\n",
       "      <td>0.909412</td>\n",
       "      <td>-0.689281</td>\n",
       "      <td>-0.327642</td>\n",
       "      <td>-0.139097</td>\n",
       "      <td>-0.055353</td>\n",
       "      <td>-0.059752</td>\n",
       "      <td>378.66</td>\n",
       "      <td>0</td>\n",
       "    </tr>\n",
       "    <tr>\n",
       "      <th>3</th>\n",
       "      <td>1.0</td>\n",
       "      <td>-0.966272</td>\n",
       "      <td>-0.185226</td>\n",
       "      <td>1.792993</td>\n",
       "      <td>-0.863291</td>\n",
       "      <td>-0.010309</td>\n",
       "      <td>1.247203</td>\n",
       "      <td>0.237609</td>\n",
       "      <td>0.377436</td>\n",
       "      <td>-1.387024</td>\n",
       "      <td>...</td>\n",
       "      <td>-0.108300</td>\n",
       "      <td>0.005274</td>\n",
       "      <td>-0.190321</td>\n",
       "      <td>-1.175575</td>\n",
       "      <td>0.647376</td>\n",
       "      <td>-0.221929</td>\n",
       "      <td>0.062723</td>\n",
       "      <td>0.061458</td>\n",
       "      <td>123.50</td>\n",
       "      <td>0</td>\n",
       "    </tr>\n",
       "    <tr>\n",
       "      <th>4</th>\n",
       "      <td>2.0</td>\n",
       "      <td>-1.158233</td>\n",
       "      <td>0.877737</td>\n",
       "      <td>1.548718</td>\n",
       "      <td>0.403034</td>\n",
       "      <td>-0.407193</td>\n",
       "      <td>0.095921</td>\n",
       "      <td>0.592941</td>\n",
       "      <td>-0.270533</td>\n",
       "      <td>0.817739</td>\n",
       "      <td>...</td>\n",
       "      <td>-0.009431</td>\n",
       "      <td>0.798278</td>\n",
       "      <td>-0.137458</td>\n",
       "      <td>0.141267</td>\n",
       "      <td>-0.206010</td>\n",
       "      <td>0.502292</td>\n",
       "      <td>0.219422</td>\n",
       "      <td>0.215153</td>\n",
       "      <td>69.99</td>\n",
       "      <td>0</td>\n",
       "    </tr>\n",
       "  </tbody>\n",
       "</table>\n",
       "<p>5 rows × 31 columns</p>\n",
       "</div>"
      ],
      "text/plain": [
       "   Time        V1        V2        V3        V4        V5        V6        V7  \\\n",
       "0   0.0 -1.359807 -0.072781  2.536347  1.378155 -0.338321  0.462388  0.239599   \n",
       "1   0.0  1.191857  0.266151  0.166480  0.448154  0.060018 -0.082361 -0.078803   \n",
       "2   1.0 -1.358354 -1.340163  1.773209  0.379780 -0.503198  1.800499  0.791461   \n",
       "3   1.0 -0.966272 -0.185226  1.792993 -0.863291 -0.010309  1.247203  0.237609   \n",
       "4   2.0 -1.158233  0.877737  1.548718  0.403034 -0.407193  0.095921  0.592941   \n",
       "\n",
       "         V8        V9  ...       V21       V22       V23       V24       V25  \\\n",
       "0  0.098698  0.363787  ... -0.018307  0.277838 -0.110474  0.066928  0.128539   \n",
       "1  0.085102 -0.255425  ... -0.225775 -0.638672  0.101288 -0.339846  0.167170   \n",
       "2  0.247676 -1.514654  ...  0.247998  0.771679  0.909412 -0.689281 -0.327642   \n",
       "3  0.377436 -1.387024  ... -0.108300  0.005274 -0.190321 -1.175575  0.647376   \n",
       "4 -0.270533  0.817739  ... -0.009431  0.798278 -0.137458  0.141267 -0.206010   \n",
       "\n",
       "        V26       V27       V28  Amount  Class  \n",
       "0 -0.189115  0.133558 -0.021053  149.62      0  \n",
       "1  0.125895 -0.008983  0.014724    2.69      0  \n",
       "2 -0.139097 -0.055353 -0.059752  378.66      0  \n",
       "3 -0.221929  0.062723  0.061458  123.50      0  \n",
       "4  0.502292  0.219422  0.215153   69.99      0  \n",
       "\n",
       "[5 rows x 31 columns]"
      ]
     },
     "execution_count": 4,
     "metadata": {},
     "output_type": "execute_result"
    }
   ],
   "source": [
    "cc_data = pd.read_csv(\"/kaggle/input/creditcardfraud/creditcard.csv\")\n",
    "cc_data.head()"
   ]
  },
  {
   "cell_type": "code",
   "execution_count": 5,
   "id": "baa9cf83",
   "metadata": {
    "execution": {
     "iopub.execute_input": "2023-01-25T06:37:45.307446Z",
     "iopub.status.busy": "2023-01-25T06:37:45.307047Z",
     "iopub.status.idle": "2023-01-25T06:37:45.313701Z",
     "shell.execute_reply": "2023-01-25T06:37:45.312609Z"
    },
    "papermill": {
     "duration": 0.017776,
     "end_time": "2023-01-25T06:37:45.316178",
     "exception": false,
     "start_time": "2023-01-25T06:37:45.298402",
     "status": "completed"
    },
    "tags": []
   },
   "outputs": [
    {
     "data": {
      "text/plain": [
       "((219129, 32), (146087, 31), (284807, 31))"
      ]
     },
     "execution_count": 5,
     "metadata": {},
     "output_type": "execute_result"
    }
   ],
   "source": [
    "train.shape, test.shape, cc_data.shape"
   ]
  },
  {
   "cell_type": "code",
   "execution_count": 6,
   "id": "23b7a1c4",
   "metadata": {
    "execution": {
     "iopub.execute_input": "2023-01-25T06:37:45.332347Z",
     "iopub.status.busy": "2023-01-25T06:37:45.331957Z",
     "iopub.status.idle": "2023-01-25T06:37:45.354469Z",
     "shell.execute_reply": "2023-01-25T06:37:45.353269Z"
    },
    "papermill": {
     "duration": 0.03332,
     "end_time": "2023-01-25T06:37:45.356909",
     "exception": false,
     "start_time": "2023-01-25T06:37:45.323589",
     "status": "completed"
    },
    "tags": []
   },
   "outputs": [
    {
     "data": {
      "text/plain": [
       "id        0\n",
       "Time      0\n",
       "V1        0\n",
       "V2        0\n",
       "V3        0\n",
       "V4        0\n",
       "V5        0\n",
       "V6        0\n",
       "V7        0\n",
       "V8        0\n",
       "V9        0\n",
       "V10       0\n",
       "V11       0\n",
       "V12       0\n",
       "V13       0\n",
       "V14       0\n",
       "V15       0\n",
       "V16       0\n",
       "V17       0\n",
       "V18       0\n",
       "V19       0\n",
       "V20       0\n",
       "V21       0\n",
       "V22       0\n",
       "V23       0\n",
       "V24       0\n",
       "V25       0\n",
       "V26       0\n",
       "V27       0\n",
       "V28       0\n",
       "Amount    0\n",
       "Class     0\n",
       "dtype: int64"
      ]
     },
     "execution_count": 6,
     "metadata": {},
     "output_type": "execute_result"
    }
   ],
   "source": [
    "train.isna().sum()"
   ]
  },
  {
   "cell_type": "code",
   "execution_count": 7,
   "id": "8edb1ac4",
   "metadata": {
    "execution": {
     "iopub.execute_input": "2023-01-25T06:37:45.373577Z",
     "iopub.status.busy": "2023-01-25T06:37:45.373179Z",
     "iopub.status.idle": "2023-01-25T06:37:45.390278Z",
     "shell.execute_reply": "2023-01-25T06:37:45.389352Z"
    },
    "jupyter": {
     "source_hidden": true
    },
    "papermill": {
     "duration": 0.027885,
     "end_time": "2023-01-25T06:37:45.392405",
     "exception": false,
     "start_time": "2023-01-25T06:37:45.364520",
     "status": "completed"
    },
    "tags": []
   },
   "outputs": [
    {
     "data": {
      "text/plain": [
       "id        0\n",
       "Time      0\n",
       "V1        0\n",
       "V2        0\n",
       "V3        0\n",
       "V4        0\n",
       "V5        0\n",
       "V6        0\n",
       "V7        0\n",
       "V8        0\n",
       "V9        0\n",
       "V10       0\n",
       "V11       0\n",
       "V12       0\n",
       "V13       0\n",
       "V14       0\n",
       "V15       0\n",
       "V16       0\n",
       "V17       0\n",
       "V18       0\n",
       "V19       0\n",
       "V20       0\n",
       "V21       0\n",
       "V22       0\n",
       "V23       0\n",
       "V24       0\n",
       "V25       0\n",
       "V26       0\n",
       "V27       0\n",
       "V28       0\n",
       "Amount    0\n",
       "dtype: int64"
      ]
     },
     "execution_count": 7,
     "metadata": {},
     "output_type": "execute_result"
    }
   ],
   "source": [
    "test.isna().sum()"
   ]
  },
  {
   "cell_type": "code",
   "execution_count": 8,
   "id": "c537d4a2",
   "metadata": {
    "execution": {
     "iopub.execute_input": "2023-01-25T06:37:45.409567Z",
     "iopub.status.busy": "2023-01-25T06:37:45.409143Z",
     "iopub.status.idle": "2023-01-25T06:37:45.435006Z",
     "shell.execute_reply": "2023-01-25T06:37:45.434122Z"
    },
    "papermill": {
     "duration": 0.037349,
     "end_time": "2023-01-25T06:37:45.437294",
     "exception": false,
     "start_time": "2023-01-25T06:37:45.399945",
     "status": "completed"
    },
    "tags": []
   },
   "outputs": [
    {
     "data": {
      "text/plain": [
       "Time      0\n",
       "V1        0\n",
       "V2        0\n",
       "V3        0\n",
       "V4        0\n",
       "V5        0\n",
       "V6        0\n",
       "V7        0\n",
       "V8        0\n",
       "V9        0\n",
       "V10       0\n",
       "V11       0\n",
       "V12       0\n",
       "V13       0\n",
       "V14       0\n",
       "V15       0\n",
       "V16       0\n",
       "V17       0\n",
       "V18       0\n",
       "V19       0\n",
       "V20       0\n",
       "V21       0\n",
       "V22       0\n",
       "V23       0\n",
       "V24       0\n",
       "V25       0\n",
       "V26       0\n",
       "V27       0\n",
       "V28       0\n",
       "Amount    0\n",
       "Class     0\n",
       "dtype: int64"
      ]
     },
     "execution_count": 8,
     "metadata": {},
     "output_type": "execute_result"
    }
   ],
   "source": [
    "cc_data.isna().sum()"
   ]
  },
  {
   "cell_type": "code",
   "execution_count": 9,
   "id": "10e7a602",
   "metadata": {
    "execution": {
     "iopub.execute_input": "2023-01-25T06:37:45.456501Z",
     "iopub.status.busy": "2023-01-25T06:37:45.455833Z",
     "iopub.status.idle": "2023-01-25T06:37:47.375484Z",
     "shell.execute_reply": "2023-01-25T06:37:47.374017Z"
    },
    "papermill": {
     "duration": 1.933197,
     "end_time": "2023-01-25T06:37:47.378327",
     "exception": false,
     "start_time": "2023-01-25T06:37:45.445130",
     "status": "completed"
    },
    "tags": []
   },
   "outputs": [
    {
     "data": {
      "text/html": [
       "<style type='text/css'>\n",
       ".datatable table.frame { margin-bottom: 0; }\n",
       ".datatable table.frame thead { border-bottom: none; }\n",
       ".datatable table.frame tr.coltypes td {  color: #FFFFFF;  line-height: 6px;  padding: 0 0.5em;}\n",
       ".datatable .bool    { background: #DDDD99; }\n",
       ".datatable .object  { background: #565656; }\n",
       ".datatable .int     { background: #5D9E5D; }\n",
       ".datatable .float   { background: #4040CC; }\n",
       ".datatable .str     { background: #CC4040; }\n",
       ".datatable .time    { background: #40CC40; }\n",
       ".datatable .row_index {  background: var(--jp-border-color3);  border-right: 1px solid var(--jp-border-color0);  color: var(--jp-ui-font-color3);  font-size: 9px;}\n",
       ".datatable .frame tbody td { text-align: left; }\n",
       ".datatable .frame tr.coltypes .row_index {  background: var(--jp-border-color0);}\n",
       ".datatable th:nth-child(2) { padding-left: 12px; }\n",
       ".datatable .hellipsis {  color: var(--jp-cell-editor-border-color);}\n",
       ".datatable .vellipsis {  background: var(--jp-layout-color0);  color: var(--jp-cell-editor-border-color);}\n",
       ".datatable .na {  color: var(--jp-cell-editor-border-color);  font-size: 80%;}\n",
       ".datatable .sp {  opacity: 0.25;}\n",
       ".datatable .footer { font-size: 9px; }\n",
       ".datatable .frame_dimensions {  background: var(--jp-border-color3);  border-top: 1px solid var(--jp-border-color0);  color: var(--jp-ui-font-color3);  display: inline-block;  opacity: 0.6;  padding: 1px 10px 1px 5px;}\n",
       "</style>\n"
      ],
      "text/plain": [
       "<IPython.core.display.HTML object>"
      ]
     },
     "metadata": {},
     "output_type": "display_data"
    }
   ],
   "source": [
    "# eliminating annoying lgbm warnings, source: https://stackoverflow.com/a/33616192/1105837\n",
    "def warn(*args, **kwargs):\n",
    "    pass\n",
    "import warnings\n",
    "warnings.warn = warn\n",
    "\n",
    "from lightgbm.sklearn import LGBMClassifier\n",
    "import lightgbm as lgbm\n",
    "from sklearn.preprocessing import LabelEncoder\n",
    "from sklearn.pipeline import Pipeline\n",
    "from sklearn.metrics import roc_auc_score\n",
    "from sklearn.model_selection import StratifiedKFold"
   ]
  },
  {
   "cell_type": "code",
   "execution_count": 10,
   "id": "7b3d2db3",
   "metadata": {
    "execution": {
     "iopub.execute_input": "2023-01-25T06:37:47.396065Z",
     "iopub.status.busy": "2023-01-25T06:37:47.395665Z",
     "iopub.status.idle": "2023-01-25T06:37:47.478674Z",
     "shell.execute_reply": "2023-01-25T06:37:47.477445Z"
    },
    "papermill": {
     "duration": 0.09504,
     "end_time": "2023-01-25T06:37:47.481371",
     "exception": false,
     "start_time": "2023-01-25T06:37:47.386331",
     "status": "completed"
    },
    "tags": []
   },
   "outputs": [
    {
     "data": {
      "text/plain": [
       "(503936, 33)"
      ]
     },
     "execution_count": 10,
     "metadata": {},
     "output_type": "execute_result"
    }
   ],
   "source": [
    "# adding the source column\n",
    "cc_data['source'] = 0\n",
    "train['source'] = 1\n",
    "test['source'] = 1\n",
    "\n",
    "# combining the datasets\n",
    "train = pd.concat([train, cc_data])\n",
    "train.reset_index(inplace=True, drop=True)\n",
    "train.shape"
   ]
  },
  {
   "cell_type": "code",
   "execution_count": 11,
   "id": "d76311f6",
   "metadata": {
    "execution": {
     "iopub.execute_input": "2023-01-25T06:37:47.499689Z",
     "iopub.status.busy": "2023-01-25T06:37:47.499238Z",
     "iopub.status.idle": "2023-01-25T06:37:47.508312Z",
     "shell.execute_reply": "2023-01-25T06:37:47.507335Z"
    },
    "papermill": {
     "duration": 0.021153,
     "end_time": "2023-01-25T06:37:47.510757",
     "exception": false,
     "start_time": "2023-01-25T06:37:47.489604",
     "status": "completed"
    },
    "tags": []
   },
   "outputs": [
    {
     "data": {
      "text/plain": [
       "Index(['id', 'Time', 'V1', 'V2', 'V3', 'V4', 'V5', 'V6', 'V7', 'V8', 'V9',\n",
       "       'V10', 'V11', 'V12', 'V13', 'V14', 'V15', 'V16', 'V17', 'V18', 'V19',\n",
       "       'V20', 'V21', 'V22', 'V23', 'V24', 'V25', 'V26', 'V27', 'V28', 'Amount',\n",
       "       'Class', 'source'],\n",
       "      dtype='object')"
      ]
     },
     "execution_count": 11,
     "metadata": {},
     "output_type": "execute_result"
    }
   ],
   "source": [
    "train.columns"
   ]
  },
  {
   "cell_type": "code",
   "execution_count": 12,
   "id": "81962f16",
   "metadata": {
    "execution": {
     "iopub.execute_input": "2023-01-25T06:37:47.529324Z",
     "iopub.status.busy": "2023-01-25T06:37:47.528159Z",
     "iopub.status.idle": "2023-01-25T06:37:47.534060Z",
     "shell.execute_reply": "2023-01-25T06:37:47.533104Z"
    },
    "papermill": {
     "duration": 0.01748,
     "end_time": "2023-01-25T06:37:47.536395",
     "exception": false,
     "start_time": "2023-01-25T06:37:47.518915",
     "status": "completed"
    },
    "tags": []
   },
   "outputs": [],
   "source": [
    "features = list(train.columns)\n",
    "features.remove('id')\n",
    "features.remove('Class')\n",
    "\n",
    "target = 'Class'"
   ]
  },
  {
   "cell_type": "code",
   "execution_count": 13,
   "id": "01b225cf",
   "metadata": {
    "execution": {
     "iopub.execute_input": "2023-01-25T06:37:47.554325Z",
     "iopub.status.busy": "2023-01-25T06:37:47.553924Z",
     "iopub.status.idle": "2023-01-25T06:37:47.594364Z",
     "shell.execute_reply": "2023-01-25T06:37:47.593171Z"
    },
    "papermill": {
     "duration": 0.051963,
     "end_time": "2023-01-25T06:37:47.596548",
     "exception": false,
     "start_time": "2023-01-25T06:37:47.544585",
     "status": "completed"
    },
    "tags": []
   },
   "outputs": [
    {
     "data": {
      "text/plain": [
       "id        284807\n",
       "Time           0\n",
       "V1             0\n",
       "V2             0\n",
       "V3             0\n",
       "V4             0\n",
       "V5             0\n",
       "V6             0\n",
       "V7             0\n",
       "V8             0\n",
       "V9             0\n",
       "V10            0\n",
       "V11            0\n",
       "V12            0\n",
       "V13            0\n",
       "V14            0\n",
       "V15            0\n",
       "V16            0\n",
       "V17            0\n",
       "V18            0\n",
       "V19            0\n",
       "V20            0\n",
       "V21            0\n",
       "V22            0\n",
       "V23            0\n",
       "V24            0\n",
       "V25            0\n",
       "V26            0\n",
       "V27            0\n",
       "V28            0\n",
       "Amount         0\n",
       "Class          0\n",
       "source         0\n",
       "dtype: int64"
      ]
     },
     "execution_count": 13,
     "metadata": {},
     "output_type": "execute_result"
    }
   ],
   "source": [
    "train.isna().sum()"
   ]
  },
  {
   "cell_type": "code",
   "execution_count": 14,
   "id": "074d8956",
   "metadata": {
    "execution": {
     "iopub.execute_input": "2023-01-25T06:37:47.615175Z",
     "iopub.status.busy": "2023-01-25T06:37:47.614247Z",
     "iopub.status.idle": "2023-01-25T06:37:47.982877Z",
     "shell.execute_reply": "2023-01-25T06:37:47.981713Z"
    },
    "papermill": {
     "duration": 0.380773,
     "end_time": "2023-01-25T06:37:47.985599",
     "exception": false,
     "start_time": "2023-01-25T06:37:47.604826",
     "status": "completed"
    },
    "tags": []
   },
   "outputs": [],
   "source": [
    "from sklearn.model_selection import train_test_split\n",
    "X_train, X_test,y_train, y_test = train_test_split(train[features],train[target],\n",
    "                                   random_state=104, \n",
    "                                   test_size=0.25, \n",
    "                                   shuffle=True)"
   ]
  },
  {
   "cell_type": "code",
   "execution_count": 15,
   "id": "184cc05b",
   "metadata": {
    "execution": {
     "iopub.execute_input": "2023-01-25T06:37:48.004097Z",
     "iopub.status.busy": "2023-01-25T06:37:48.003651Z",
     "iopub.status.idle": "2023-01-25T06:37:54.879400Z",
     "shell.execute_reply": "2023-01-25T06:37:54.878166Z"
    },
    "papermill": {
     "duration": 6.888633,
     "end_time": "2023-01-25T06:37:54.882552",
     "exception": false,
     "start_time": "2023-01-25T06:37:47.993919",
     "status": "completed"
    },
    "tags": []
   },
   "outputs": [
    {
     "data": {
      "text/plain": [
       "LogisticRegression()"
      ]
     },
     "execution_count": 15,
     "metadata": {},
     "output_type": "execute_result"
    }
   ],
   "source": [
    "from sklearn.linear_model import LogisticRegression\n",
    "logisticRegr = LogisticRegression()\n",
    "logisticRegr.fit(X_train, y_train)"
   ]
  },
  {
   "cell_type": "code",
   "execution_count": 16,
   "id": "491edfba",
   "metadata": {
    "execution": {
     "iopub.execute_input": "2023-01-25T06:37:54.911266Z",
     "iopub.status.busy": "2023-01-25T06:37:54.910697Z",
     "iopub.status.idle": "2023-01-25T06:37:54.944771Z",
     "shell.execute_reply": "2023-01-25T06:37:54.943457Z"
    },
    "papermill": {
     "duration": 0.052179,
     "end_time": "2023-01-25T06:37:54.948124",
     "exception": false,
     "start_time": "2023-01-25T06:37:54.895945",
     "status": "completed"
    },
    "tags": []
   },
   "outputs": [],
   "source": [
    "predictions = logisticRegr.predict(X_test)"
   ]
  },
  {
   "cell_type": "code",
   "execution_count": 17,
   "id": "46db6a23",
   "metadata": {
    "execution": {
     "iopub.execute_input": "2023-01-25T06:37:54.977208Z",
     "iopub.status.busy": "2023-01-25T06:37:54.976606Z",
     "iopub.status.idle": "2023-01-25T06:37:54.985416Z",
     "shell.execute_reply": "2023-01-25T06:37:54.984176Z"
    },
    "papermill": {
     "duration": 0.026839,
     "end_time": "2023-01-25T06:37:54.988555",
     "exception": false,
     "start_time": "2023-01-25T06:37:54.961716",
     "status": "completed"
    },
    "tags": []
   },
   "outputs": [
    {
     "data": {
      "text/plain": [
       "array([0, 0, 0, ..., 0, 0, 0])"
      ]
     },
     "execution_count": 17,
     "metadata": {},
     "output_type": "execute_result"
    }
   ],
   "source": [
    "predictions"
   ]
  },
  {
   "cell_type": "code",
   "execution_count": 18,
   "id": "3f5725b5",
   "metadata": {
    "execution": {
     "iopub.execute_input": "2023-01-25T06:37:55.017095Z",
     "iopub.status.busy": "2023-01-25T06:37:55.016551Z",
     "iopub.status.idle": "2023-01-25T06:37:55.067008Z",
     "shell.execute_reply": "2023-01-25T06:37:55.065644Z"
    },
    "papermill": {
     "duration": 0.070389,
     "end_time": "2023-01-25T06:37:55.072261",
     "exception": false,
     "start_time": "2023-01-25T06:37:55.001872",
     "status": "completed"
    },
    "tags": []
   },
   "outputs": [
    {
     "name": "stdout",
     "output_type": "stream",
     "text": [
      "0.9979838709677419\n"
     ]
    }
   ],
   "source": [
    "score = logisticRegr.score(X_test, y_test)\n",
    "print(score)"
   ]
  },
  {
   "cell_type": "code",
   "execution_count": 19,
   "id": "fd0776ec",
   "metadata": {
    "execution": {
     "iopub.execute_input": "2023-01-25T06:37:55.102706Z",
     "iopub.status.busy": "2023-01-25T06:37:55.101997Z",
     "iopub.status.idle": "2023-01-25T06:37:55.112191Z",
     "shell.execute_reply": "2023-01-25T06:37:55.110834Z"
    },
    "papermill": {
     "duration": 0.029198,
     "end_time": "2023-01-25T06:37:55.115395",
     "exception": false,
     "start_time": "2023-01-25T06:37:55.086197",
     "status": "completed"
    },
    "tags": []
   },
   "outputs": [
    {
     "data": {
      "text/plain": [
       "Index(['id', 'Time', 'V1', 'V2', 'V3', 'V4', 'V5', 'V6', 'V7', 'V8', 'V9',\n",
       "       'V10', 'V11', 'V12', 'V13', 'V14', 'V15', 'V16', 'V17', 'V18', 'V19',\n",
       "       'V20', 'V21', 'V22', 'V23', 'V24', 'V25', 'V26', 'V27', 'V28', 'Amount',\n",
       "       'source'],\n",
       "      dtype='object')"
      ]
     },
     "execution_count": 19,
     "metadata": {},
     "output_type": "execute_result"
    }
   ],
   "source": [
    "test.columns"
   ]
  },
  {
   "cell_type": "code",
   "execution_count": 20,
   "id": "fba71c78",
   "metadata": {
    "execution": {
     "iopub.execute_input": "2023-01-25T06:37:55.155005Z",
     "iopub.status.busy": "2023-01-25T06:37:55.154421Z",
     "iopub.status.idle": "2023-01-25T06:37:55.187965Z",
     "shell.execute_reply": "2023-01-25T06:37:55.186221Z"
    },
    "papermill": {
     "duration": 0.061435,
     "end_time": "2023-01-25T06:37:55.191046",
     "exception": false,
     "start_time": "2023-01-25T06:37:55.129611",
     "status": "completed"
    },
    "tags": []
   },
   "outputs": [],
   "source": [
    "df_sub = pd.DataFrame(columns=[\"id\",\"Class\"])\n",
    "df_sub[\"id\"] = test[\"id\"]"
   ]
  },
  {
   "cell_type": "code",
   "execution_count": 21,
   "id": "319bcbd6",
   "metadata": {
    "execution": {
     "iopub.execute_input": "2023-01-25T06:37:55.212873Z",
     "iopub.status.busy": "2023-01-25T06:37:55.212209Z",
     "iopub.status.idle": "2023-01-25T06:37:55.235198Z",
     "shell.execute_reply": "2023-01-25T06:37:55.234009Z"
    },
    "papermill": {
     "duration": 0.038358,
     "end_time": "2023-01-25T06:37:55.238601",
     "exception": false,
     "start_time": "2023-01-25T06:37:55.200243",
     "status": "completed"
    },
    "tags": []
   },
   "outputs": [],
   "source": [
    "test = test.drop(['id'], axis=1)"
   ]
  },
  {
   "cell_type": "code",
   "execution_count": 22,
   "id": "bfe511a9",
   "metadata": {
    "execution": {
     "iopub.execute_input": "2023-01-25T06:37:55.268190Z",
     "iopub.status.busy": "2023-01-25T06:37:55.267399Z",
     "iopub.status.idle": "2023-01-25T06:37:55.296589Z",
     "shell.execute_reply": "2023-01-25T06:37:55.295179Z"
    },
    "papermill": {
     "duration": 0.047489,
     "end_time": "2023-01-25T06:37:55.299696",
     "exception": false,
     "start_time": "2023-01-25T06:37:55.252207",
     "status": "completed"
    },
    "tags": []
   },
   "outputs": [],
   "source": [
    "pred = logisticRegr.predict(test)"
   ]
  },
  {
   "cell_type": "code",
   "execution_count": 23,
   "id": "fed27e24",
   "metadata": {
    "execution": {
     "iopub.execute_input": "2023-01-25T06:37:55.329371Z",
     "iopub.status.busy": "2023-01-25T06:37:55.328766Z",
     "iopub.status.idle": "2023-01-25T06:37:55.343568Z",
     "shell.execute_reply": "2023-01-25T06:37:55.342335Z"
    },
    "papermill": {
     "duration": 0.033208,
     "end_time": "2023-01-25T06:37:55.346660",
     "exception": false,
     "start_time": "2023-01-25T06:37:55.313452",
     "status": "completed"
    },
    "tags": []
   },
   "outputs": [
    {
     "data": {
      "text/html": [
       "<div>\n",
       "<style scoped>\n",
       "    .dataframe tbody tr th:only-of-type {\n",
       "        vertical-align: middle;\n",
       "    }\n",
       "\n",
       "    .dataframe tbody tr th {\n",
       "        vertical-align: top;\n",
       "    }\n",
       "\n",
       "    .dataframe thead th {\n",
       "        text-align: right;\n",
       "    }\n",
       "</style>\n",
       "<table border=\"1\" class=\"dataframe\">\n",
       "  <thead>\n",
       "    <tr style=\"text-align: right;\">\n",
       "      <th></th>\n",
       "      <th>id</th>\n",
       "      <th>Class</th>\n",
       "    </tr>\n",
       "  </thead>\n",
       "  <tbody>\n",
       "    <tr>\n",
       "      <th>0</th>\n",
       "      <td>219129</td>\n",
       "      <td>0</td>\n",
       "    </tr>\n",
       "    <tr>\n",
       "      <th>1</th>\n",
       "      <td>219130</td>\n",
       "      <td>0</td>\n",
       "    </tr>\n",
       "    <tr>\n",
       "      <th>2</th>\n",
       "      <td>219131</td>\n",
       "      <td>0</td>\n",
       "    </tr>\n",
       "    <tr>\n",
       "      <th>3</th>\n",
       "      <td>219132</td>\n",
       "      <td>0</td>\n",
       "    </tr>\n",
       "    <tr>\n",
       "      <th>4</th>\n",
       "      <td>219133</td>\n",
       "      <td>0</td>\n",
       "    </tr>\n",
       "  </tbody>\n",
       "</table>\n",
       "</div>"
      ],
      "text/plain": [
       "       id  Class\n",
       "0  219129      0\n",
       "1  219130      0\n",
       "2  219131      0\n",
       "3  219132      0\n",
       "4  219133      0"
      ]
     },
     "execution_count": 23,
     "metadata": {},
     "output_type": "execute_result"
    }
   ],
   "source": [
    "df_sub[\"Class\"] = pred\n",
    "df_sub.head()"
   ]
  },
  {
   "cell_type": "code",
   "execution_count": 24,
   "id": "8323f049",
   "metadata": {
    "execution": {
     "iopub.execute_input": "2023-01-25T06:37:55.377058Z",
     "iopub.status.busy": "2023-01-25T06:37:55.376490Z",
     "iopub.status.idle": "2023-01-25T06:37:55.543543Z",
     "shell.execute_reply": "2023-01-25T06:37:55.542234Z"
    },
    "papermill": {
     "duration": 0.186112,
     "end_time": "2023-01-25T06:37:55.546848",
     "exception": false,
     "start_time": "2023-01-25T06:37:55.360736",
     "status": "completed"
    },
    "tags": []
   },
   "outputs": [],
   "source": [
    "df_sub.to_csv(\"Sub-1.csv\", index = False)"
   ]
  },
  {
   "cell_type": "code",
   "execution_count": null,
   "id": "f32727b2",
   "metadata": {
    "papermill": {
     "duration": 0.008351,
     "end_time": "2023-01-25T06:37:55.563903",
     "exception": false,
     "start_time": "2023-01-25T06:37:55.555552",
     "status": "completed"
    },
    "tags": []
   },
   "outputs": [],
   "source": []
  }
 ],
 "metadata": {
  "kernelspec": {
   "display_name": "Python 3",
   "language": "python",
   "name": "python3"
  },
  "language_info": {
   "codemirror_mode": {
    "name": "ipython",
    "version": 3
   },
   "file_extension": ".py",
   "mimetype": "text/x-python",
   "name": "python",
   "nbconvert_exporter": "python",
   "pygments_lexer": "ipython3",
   "version": "3.7.12"
  },
  "papermill": {
   "default_parameters": {},
   "duration": 31.30478,
   "end_time": "2023-01-25T06:37:56.396086",
   "environment_variables": {},
   "exception": null,
   "input_path": "__notebook__.ipynb",
   "output_path": "__notebook__.ipynb",
   "parameters": {},
   "start_time": "2023-01-25T06:37:25.091306",
   "version": "2.3.4"
  }
 },
 "nbformat": 4,
 "nbformat_minor": 5
}
