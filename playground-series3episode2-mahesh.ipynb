{
 "cells": [
  {
   "cell_type": "code",
   "execution_count": 1,
   "id": "ae0468e1",
   "metadata": {
    "execution": {
     "iopub.execute_input": "2023-01-13T14:09:32.940484Z",
     "iopub.status.busy": "2023-01-13T14:09:32.939429Z",
     "iopub.status.idle": "2023-01-13T14:09:32.952120Z",
     "shell.execute_reply": "2023-01-13T14:09:32.951244Z"
    },
    "papermill": {
     "duration": 0.028115,
     "end_time": "2023-01-13T14:09:32.954645",
     "exception": false,
     "start_time": "2023-01-13T14:09:32.926530",
     "status": "completed"
    },
    "tags": []
   },
   "outputs": [],
   "source": [
    "import pandas as pd\n",
    "import numpy as np"
   ]
  },
  {
   "cell_type": "code",
   "execution_count": 2,
   "id": "41b37470",
   "metadata": {
    "execution": {
     "iopub.execute_input": "2023-01-13T14:09:32.974317Z",
     "iopub.status.busy": "2023-01-13T14:09:32.973287Z",
     "iopub.status.idle": "2023-01-13T14:09:33.068526Z",
     "shell.execute_reply": "2023-01-13T14:09:33.067418Z"
    },
    "papermill": {
     "duration": 0.108688,
     "end_time": "2023-01-13T14:09:33.072287",
     "exception": false,
     "start_time": "2023-01-13T14:09:32.963599",
     "status": "completed"
    },
    "tags": []
   },
   "outputs": [
    {
     "data": {
      "text/html": [
       "<div>\n",
       "<style scoped>\n",
       "    .dataframe tbody tr th:only-of-type {\n",
       "        vertical-align: middle;\n",
       "    }\n",
       "\n",
       "    .dataframe tbody tr th {\n",
       "        vertical-align: top;\n",
       "    }\n",
       "\n",
       "    .dataframe thead th {\n",
       "        text-align: right;\n",
       "    }\n",
       "</style>\n",
       "<table border=\"1\" class=\"dataframe\">\n",
       "  <thead>\n",
       "    <tr style=\"text-align: right;\">\n",
       "      <th></th>\n",
       "      <th>id</th>\n",
       "      <th>gender</th>\n",
       "      <th>age</th>\n",
       "      <th>hypertension</th>\n",
       "      <th>heart_disease</th>\n",
       "      <th>ever_married</th>\n",
       "      <th>work_type</th>\n",
       "      <th>Residence_type</th>\n",
       "      <th>avg_glucose_level</th>\n",
       "      <th>bmi</th>\n",
       "      <th>smoking_status</th>\n",
       "      <th>stroke</th>\n",
       "    </tr>\n",
       "  </thead>\n",
       "  <tbody>\n",
       "    <tr>\n",
       "      <th>0</th>\n",
       "      <td>0</td>\n",
       "      <td>Male</td>\n",
       "      <td>28.0</td>\n",
       "      <td>0</td>\n",
       "      <td>0</td>\n",
       "      <td>Yes</td>\n",
       "      <td>Private</td>\n",
       "      <td>Urban</td>\n",
       "      <td>79.53</td>\n",
       "      <td>31.1</td>\n",
       "      <td>never smoked</td>\n",
       "      <td>0</td>\n",
       "    </tr>\n",
       "    <tr>\n",
       "      <th>1</th>\n",
       "      <td>1</td>\n",
       "      <td>Male</td>\n",
       "      <td>33.0</td>\n",
       "      <td>0</td>\n",
       "      <td>0</td>\n",
       "      <td>Yes</td>\n",
       "      <td>Private</td>\n",
       "      <td>Rural</td>\n",
       "      <td>78.44</td>\n",
       "      <td>23.9</td>\n",
       "      <td>formerly smoked</td>\n",
       "      <td>0</td>\n",
       "    </tr>\n",
       "    <tr>\n",
       "      <th>2</th>\n",
       "      <td>2</td>\n",
       "      <td>Female</td>\n",
       "      <td>42.0</td>\n",
       "      <td>0</td>\n",
       "      <td>0</td>\n",
       "      <td>Yes</td>\n",
       "      <td>Private</td>\n",
       "      <td>Rural</td>\n",
       "      <td>103.00</td>\n",
       "      <td>40.3</td>\n",
       "      <td>Unknown</td>\n",
       "      <td>0</td>\n",
       "    </tr>\n",
       "    <tr>\n",
       "      <th>3</th>\n",
       "      <td>3</td>\n",
       "      <td>Male</td>\n",
       "      <td>56.0</td>\n",
       "      <td>0</td>\n",
       "      <td>0</td>\n",
       "      <td>Yes</td>\n",
       "      <td>Private</td>\n",
       "      <td>Urban</td>\n",
       "      <td>64.87</td>\n",
       "      <td>28.8</td>\n",
       "      <td>never smoked</td>\n",
       "      <td>0</td>\n",
       "    </tr>\n",
       "    <tr>\n",
       "      <th>4</th>\n",
       "      <td>4</td>\n",
       "      <td>Female</td>\n",
       "      <td>24.0</td>\n",
       "      <td>0</td>\n",
       "      <td>0</td>\n",
       "      <td>No</td>\n",
       "      <td>Private</td>\n",
       "      <td>Rural</td>\n",
       "      <td>73.36</td>\n",
       "      <td>28.8</td>\n",
       "      <td>never smoked</td>\n",
       "      <td>0</td>\n",
       "    </tr>\n",
       "  </tbody>\n",
       "</table>\n",
       "</div>"
      ],
      "text/plain": [
       "   id  gender   age  hypertension  heart_disease ever_married work_type  \\\n",
       "0   0    Male  28.0             0              0          Yes   Private   \n",
       "1   1    Male  33.0             0              0          Yes   Private   \n",
       "2   2  Female  42.0             0              0          Yes   Private   \n",
       "3   3    Male  56.0             0              0          Yes   Private   \n",
       "4   4  Female  24.0             0              0           No   Private   \n",
       "\n",
       "  Residence_type  avg_glucose_level   bmi   smoking_status  stroke  \n",
       "0          Urban              79.53  31.1     never smoked       0  \n",
       "1          Rural              78.44  23.9  formerly smoked       0  \n",
       "2          Rural             103.00  40.3          Unknown       0  \n",
       "3          Urban              64.87  28.8     never smoked       0  \n",
       "4          Rural              73.36  28.8     never smoked       0  "
      ]
     },
     "execution_count": 2,
     "metadata": {},
     "output_type": "execute_result"
    }
   ],
   "source": [
    "train = pd.read_csv(\"/kaggle/input/playground-series-s3e2/train.csv\")\n",
    "train.head()"
   ]
  },
  {
   "cell_type": "code",
   "execution_count": 3,
   "id": "9976af1f",
   "metadata": {
    "execution": {
     "iopub.execute_input": "2023-01-13T14:09:33.100742Z",
     "iopub.status.busy": "2023-01-13T14:09:33.099266Z",
     "iopub.status.idle": "2023-01-13T14:09:33.154870Z",
     "shell.execute_reply": "2023-01-13T14:09:33.153724Z"
    },
    "papermill": {
     "duration": 0.073762,
     "end_time": "2023-01-13T14:09:33.157405",
     "exception": false,
     "start_time": "2023-01-13T14:09:33.083643",
     "status": "completed"
    },
    "tags": []
   },
   "outputs": [
    {
     "data": {
      "text/html": [
       "<div>\n",
       "<style scoped>\n",
       "    .dataframe tbody tr th:only-of-type {\n",
       "        vertical-align: middle;\n",
       "    }\n",
       "\n",
       "    .dataframe tbody tr th {\n",
       "        vertical-align: top;\n",
       "    }\n",
       "\n",
       "    .dataframe thead th {\n",
       "        text-align: right;\n",
       "    }\n",
       "</style>\n",
       "<table border=\"1\" class=\"dataframe\">\n",
       "  <thead>\n",
       "    <tr style=\"text-align: right;\">\n",
       "      <th></th>\n",
       "      <th>id</th>\n",
       "      <th>gender</th>\n",
       "      <th>age</th>\n",
       "      <th>hypertension</th>\n",
       "      <th>heart_disease</th>\n",
       "      <th>ever_married</th>\n",
       "      <th>work_type</th>\n",
       "      <th>Residence_type</th>\n",
       "      <th>avg_glucose_level</th>\n",
       "      <th>bmi</th>\n",
       "      <th>smoking_status</th>\n",
       "    </tr>\n",
       "  </thead>\n",
       "  <tbody>\n",
       "    <tr>\n",
       "      <th>0</th>\n",
       "      <td>15304</td>\n",
       "      <td>Female</td>\n",
       "      <td>57.0</td>\n",
       "      <td>0</td>\n",
       "      <td>0</td>\n",
       "      <td>Yes</td>\n",
       "      <td>Private</td>\n",
       "      <td>Rural</td>\n",
       "      <td>82.54</td>\n",
       "      <td>33.4</td>\n",
       "      <td>Unknown</td>\n",
       "    </tr>\n",
       "    <tr>\n",
       "      <th>1</th>\n",
       "      <td>15305</td>\n",
       "      <td>Male</td>\n",
       "      <td>70.0</td>\n",
       "      <td>1</td>\n",
       "      <td>0</td>\n",
       "      <td>Yes</td>\n",
       "      <td>Private</td>\n",
       "      <td>Urban</td>\n",
       "      <td>72.06</td>\n",
       "      <td>28.5</td>\n",
       "      <td>Unknown</td>\n",
       "    </tr>\n",
       "    <tr>\n",
       "      <th>2</th>\n",
       "      <td>15306</td>\n",
       "      <td>Female</td>\n",
       "      <td>5.0</td>\n",
       "      <td>0</td>\n",
       "      <td>0</td>\n",
       "      <td>No</td>\n",
       "      <td>children</td>\n",
       "      <td>Urban</td>\n",
       "      <td>103.72</td>\n",
       "      <td>19.5</td>\n",
       "      <td>Unknown</td>\n",
       "    </tr>\n",
       "    <tr>\n",
       "      <th>3</th>\n",
       "      <td>15307</td>\n",
       "      <td>Female</td>\n",
       "      <td>56.0</td>\n",
       "      <td>0</td>\n",
       "      <td>0</td>\n",
       "      <td>Yes</td>\n",
       "      <td>Govt_job</td>\n",
       "      <td>Urban</td>\n",
       "      <td>69.24</td>\n",
       "      <td>41.4</td>\n",
       "      <td>smokes</td>\n",
       "    </tr>\n",
       "    <tr>\n",
       "      <th>4</th>\n",
       "      <td>15308</td>\n",
       "      <td>Male</td>\n",
       "      <td>32.0</td>\n",
       "      <td>0</td>\n",
       "      <td>0</td>\n",
       "      <td>Yes</td>\n",
       "      <td>Private</td>\n",
       "      <td>Rural</td>\n",
       "      <td>111.15</td>\n",
       "      <td>30.1</td>\n",
       "      <td>smokes</td>\n",
       "    </tr>\n",
       "  </tbody>\n",
       "</table>\n",
       "</div>"
      ],
      "text/plain": [
       "      id  gender   age  hypertension  heart_disease ever_married work_type  \\\n",
       "0  15304  Female  57.0             0              0          Yes   Private   \n",
       "1  15305    Male  70.0             1              0          Yes   Private   \n",
       "2  15306  Female   5.0             0              0           No  children   \n",
       "3  15307  Female  56.0             0              0          Yes  Govt_job   \n",
       "4  15308    Male  32.0             0              0          Yes   Private   \n",
       "\n",
       "  Residence_type  avg_glucose_level   bmi smoking_status  \n",
       "0          Rural              82.54  33.4        Unknown  \n",
       "1          Urban              72.06  28.5        Unknown  \n",
       "2          Urban             103.72  19.5        Unknown  \n",
       "3          Urban              69.24  41.4         smokes  \n",
       "4          Rural             111.15  30.1         smokes  "
      ]
     },
     "execution_count": 3,
     "metadata": {},
     "output_type": "execute_result"
    }
   ],
   "source": [
    "test = pd.read_csv(\"/kaggle/input/playground-series-s3e2/test.csv\")\n",
    "test.head()"
   ]
  },
  {
   "cell_type": "code",
   "execution_count": 4,
   "id": "25208390",
   "metadata": {
    "execution": {
     "iopub.execute_input": "2023-01-13T14:09:33.179437Z",
     "iopub.status.busy": "2023-01-13T14:09:33.178291Z",
     "iopub.status.idle": "2023-01-13T14:09:33.184253Z",
     "shell.execute_reply": "2023-01-13T14:09:33.183429Z"
    },
    "papermill": {
     "duration": 0.018389,
     "end_time": "2023-01-13T14:09:33.186487",
     "exception": false,
     "start_time": "2023-01-13T14:09:33.168098",
     "status": "completed"
    },
    "tags": []
   },
   "outputs": [],
   "source": [
    "test_1 = test.__deepcopy__()"
   ]
  },
  {
   "cell_type": "code",
   "execution_count": 5,
   "id": "4f9fcd74",
   "metadata": {
    "execution": {
     "iopub.execute_input": "2023-01-13T14:09:33.208623Z",
     "iopub.status.busy": "2023-01-13T14:09:33.207392Z",
     "iopub.status.idle": "2023-01-13T14:09:33.224915Z",
     "shell.execute_reply": "2023-01-13T14:09:33.223645Z"
    },
    "papermill": {
     "duration": 0.030085,
     "end_time": "2023-01-13T14:09:33.227317",
     "exception": false,
     "start_time": "2023-01-13T14:09:33.197232",
     "status": "completed"
    },
    "tags": []
   },
   "outputs": [
    {
     "data": {
      "text/html": [
       "<div>\n",
       "<style scoped>\n",
       "    .dataframe tbody tr th:only-of-type {\n",
       "        vertical-align: middle;\n",
       "    }\n",
       "\n",
       "    .dataframe tbody tr th {\n",
       "        vertical-align: top;\n",
       "    }\n",
       "\n",
       "    .dataframe thead th {\n",
       "        text-align: right;\n",
       "    }\n",
       "</style>\n",
       "<table border=\"1\" class=\"dataframe\">\n",
       "  <thead>\n",
       "    <tr style=\"text-align: right;\">\n",
       "      <th></th>\n",
       "      <th>id</th>\n",
       "      <th>gender</th>\n",
       "      <th>age</th>\n",
       "      <th>hypertension</th>\n",
       "      <th>heart_disease</th>\n",
       "      <th>ever_married</th>\n",
       "      <th>work_type</th>\n",
       "      <th>Residence_type</th>\n",
       "      <th>avg_glucose_level</th>\n",
       "      <th>bmi</th>\n",
       "      <th>smoking_status</th>\n",
       "    </tr>\n",
       "  </thead>\n",
       "  <tbody>\n",
       "    <tr>\n",
       "      <th>0</th>\n",
       "      <td>15304</td>\n",
       "      <td>Female</td>\n",
       "      <td>57.0</td>\n",
       "      <td>0</td>\n",
       "      <td>0</td>\n",
       "      <td>Yes</td>\n",
       "      <td>Private</td>\n",
       "      <td>Rural</td>\n",
       "      <td>82.54</td>\n",
       "      <td>33.4</td>\n",
       "      <td>Unknown</td>\n",
       "    </tr>\n",
       "    <tr>\n",
       "      <th>1</th>\n",
       "      <td>15305</td>\n",
       "      <td>Male</td>\n",
       "      <td>70.0</td>\n",
       "      <td>1</td>\n",
       "      <td>0</td>\n",
       "      <td>Yes</td>\n",
       "      <td>Private</td>\n",
       "      <td>Urban</td>\n",
       "      <td>72.06</td>\n",
       "      <td>28.5</td>\n",
       "      <td>Unknown</td>\n",
       "    </tr>\n",
       "    <tr>\n",
       "      <th>2</th>\n",
       "      <td>15306</td>\n",
       "      <td>Female</td>\n",
       "      <td>5.0</td>\n",
       "      <td>0</td>\n",
       "      <td>0</td>\n",
       "      <td>No</td>\n",
       "      <td>children</td>\n",
       "      <td>Urban</td>\n",
       "      <td>103.72</td>\n",
       "      <td>19.5</td>\n",
       "      <td>Unknown</td>\n",
       "    </tr>\n",
       "    <tr>\n",
       "      <th>3</th>\n",
       "      <td>15307</td>\n",
       "      <td>Female</td>\n",
       "      <td>56.0</td>\n",
       "      <td>0</td>\n",
       "      <td>0</td>\n",
       "      <td>Yes</td>\n",
       "      <td>Govt_job</td>\n",
       "      <td>Urban</td>\n",
       "      <td>69.24</td>\n",
       "      <td>41.4</td>\n",
       "      <td>smokes</td>\n",
       "    </tr>\n",
       "    <tr>\n",
       "      <th>4</th>\n",
       "      <td>15308</td>\n",
       "      <td>Male</td>\n",
       "      <td>32.0</td>\n",
       "      <td>0</td>\n",
       "      <td>0</td>\n",
       "      <td>Yes</td>\n",
       "      <td>Private</td>\n",
       "      <td>Rural</td>\n",
       "      <td>111.15</td>\n",
       "      <td>30.1</td>\n",
       "      <td>smokes</td>\n",
       "    </tr>\n",
       "  </tbody>\n",
       "</table>\n",
       "</div>"
      ],
      "text/plain": [
       "      id  gender   age  hypertension  heart_disease ever_married work_type  \\\n",
       "0  15304  Female  57.0             0              0          Yes   Private   \n",
       "1  15305    Male  70.0             1              0          Yes   Private   \n",
       "2  15306  Female   5.0             0              0           No  children   \n",
       "3  15307  Female  56.0             0              0          Yes  Govt_job   \n",
       "4  15308    Male  32.0             0              0          Yes   Private   \n",
       "\n",
       "  Residence_type  avg_glucose_level   bmi smoking_status  \n",
       "0          Rural              82.54  33.4        Unknown  \n",
       "1          Urban              72.06  28.5        Unknown  \n",
       "2          Urban             103.72  19.5        Unknown  \n",
       "3          Urban              69.24  41.4         smokes  \n",
       "4          Rural             111.15  30.1         smokes  "
      ]
     },
     "execution_count": 5,
     "metadata": {},
     "output_type": "execute_result"
    }
   ],
   "source": [
    "test_1.head()"
   ]
  },
  {
   "cell_type": "code",
   "execution_count": 6,
   "id": "2950cebb",
   "metadata": {
    "execution": {
     "iopub.execute_input": "2023-01-13T14:09:33.252362Z",
     "iopub.status.busy": "2023-01-13T14:09:33.251304Z",
     "iopub.status.idle": "2023-01-13T14:09:33.285345Z",
     "shell.execute_reply": "2023-01-13T14:09:33.284092Z"
    },
    "papermill": {
     "duration": 0.048422,
     "end_time": "2023-01-13T14:09:33.288206",
     "exception": false,
     "start_time": "2023-01-13T14:09:33.239784",
     "status": "completed"
    },
    "tags": []
   },
   "outputs": [
    {
     "data": {
      "text/html": [
       "<div>\n",
       "<style scoped>\n",
       "    .dataframe tbody tr th:only-of-type {\n",
       "        vertical-align: middle;\n",
       "    }\n",
       "\n",
       "    .dataframe tbody tr th {\n",
       "        vertical-align: top;\n",
       "    }\n",
       "\n",
       "    .dataframe thead th {\n",
       "        text-align: right;\n",
       "    }\n",
       "</style>\n",
       "<table border=\"1\" class=\"dataframe\">\n",
       "  <thead>\n",
       "    <tr style=\"text-align: right;\">\n",
       "      <th></th>\n",
       "      <th>gender</th>\n",
       "      <th>age</th>\n",
       "      <th>hypertension</th>\n",
       "      <th>heart_disease</th>\n",
       "      <th>ever_married</th>\n",
       "      <th>work_type</th>\n",
       "      <th>Residence_type</th>\n",
       "      <th>avg_glucose_level</th>\n",
       "      <th>bmi</th>\n",
       "      <th>smoking_status</th>\n",
       "      <th>stroke</th>\n",
       "    </tr>\n",
       "  </thead>\n",
       "  <tbody>\n",
       "    <tr>\n",
       "      <th>0</th>\n",
       "      <td>Male</td>\n",
       "      <td>28.0</td>\n",
       "      <td>0</td>\n",
       "      <td>0</td>\n",
       "      <td>Yes</td>\n",
       "      <td>Private</td>\n",
       "      <td>Urban</td>\n",
       "      <td>79.53</td>\n",
       "      <td>31.1</td>\n",
       "      <td>never smoked</td>\n",
       "      <td>0</td>\n",
       "    </tr>\n",
       "    <tr>\n",
       "      <th>1</th>\n",
       "      <td>Male</td>\n",
       "      <td>33.0</td>\n",
       "      <td>0</td>\n",
       "      <td>0</td>\n",
       "      <td>Yes</td>\n",
       "      <td>Private</td>\n",
       "      <td>Rural</td>\n",
       "      <td>78.44</td>\n",
       "      <td>23.9</td>\n",
       "      <td>formerly smoked</td>\n",
       "      <td>0</td>\n",
       "    </tr>\n",
       "    <tr>\n",
       "      <th>2</th>\n",
       "      <td>Female</td>\n",
       "      <td>42.0</td>\n",
       "      <td>0</td>\n",
       "      <td>0</td>\n",
       "      <td>Yes</td>\n",
       "      <td>Private</td>\n",
       "      <td>Rural</td>\n",
       "      <td>103.00</td>\n",
       "      <td>40.3</td>\n",
       "      <td>Unknown</td>\n",
       "      <td>0</td>\n",
       "    </tr>\n",
       "    <tr>\n",
       "      <th>3</th>\n",
       "      <td>Male</td>\n",
       "      <td>56.0</td>\n",
       "      <td>0</td>\n",
       "      <td>0</td>\n",
       "      <td>Yes</td>\n",
       "      <td>Private</td>\n",
       "      <td>Urban</td>\n",
       "      <td>64.87</td>\n",
       "      <td>28.8</td>\n",
       "      <td>never smoked</td>\n",
       "      <td>0</td>\n",
       "    </tr>\n",
       "    <tr>\n",
       "      <th>4</th>\n",
       "      <td>Female</td>\n",
       "      <td>24.0</td>\n",
       "      <td>0</td>\n",
       "      <td>0</td>\n",
       "      <td>No</td>\n",
       "      <td>Private</td>\n",
       "      <td>Rural</td>\n",
       "      <td>73.36</td>\n",
       "      <td>28.8</td>\n",
       "      <td>never smoked</td>\n",
       "      <td>0</td>\n",
       "    </tr>\n",
       "  </tbody>\n",
       "</table>\n",
       "</div>"
      ],
      "text/plain": [
       "   gender   age  hypertension  heart_disease ever_married work_type  \\\n",
       "0    Male  28.0             0              0          Yes   Private   \n",
       "1    Male  33.0             0              0          Yes   Private   \n",
       "2  Female  42.0             0              0          Yes   Private   \n",
       "3    Male  56.0             0              0          Yes   Private   \n",
       "4  Female  24.0             0              0           No   Private   \n",
       "\n",
       "  Residence_type  avg_glucose_level   bmi   smoking_status  stroke  \n",
       "0          Urban              79.53  31.1     never smoked       0  \n",
       "1          Rural              78.44  23.9  formerly smoked       0  \n",
       "2          Rural             103.00  40.3          Unknown       0  \n",
       "3          Urban              64.87  28.8     never smoked       0  \n",
       "4          Rural              73.36  28.8     never smoked       0  "
      ]
     },
     "execution_count": 6,
     "metadata": {},
     "output_type": "execute_result"
    }
   ],
   "source": [
    "train = train.drop(['id'], axis=1)\n",
    "train.head()"
   ]
  },
  {
   "cell_type": "code",
   "execution_count": 7,
   "id": "54aaad4b",
   "metadata": {
    "execution": {
     "iopub.execute_input": "2023-01-13T14:09:33.309256Z",
     "iopub.status.busy": "2023-01-13T14:09:33.308290Z",
     "iopub.status.idle": "2023-01-13T14:09:33.327933Z",
     "shell.execute_reply": "2023-01-13T14:09:33.326771Z"
    },
    "papermill": {
     "duration": 0.032741,
     "end_time": "2023-01-13T14:09:33.330470",
     "exception": false,
     "start_time": "2023-01-13T14:09:33.297729",
     "status": "completed"
    },
    "tags": []
   },
   "outputs": [
    {
     "data": {
      "text/html": [
       "<div>\n",
       "<style scoped>\n",
       "    .dataframe tbody tr th:only-of-type {\n",
       "        vertical-align: middle;\n",
       "    }\n",
       "\n",
       "    .dataframe tbody tr th {\n",
       "        vertical-align: top;\n",
       "    }\n",
       "\n",
       "    .dataframe thead th {\n",
       "        text-align: right;\n",
       "    }\n",
       "</style>\n",
       "<table border=\"1\" class=\"dataframe\">\n",
       "  <thead>\n",
       "    <tr style=\"text-align: right;\">\n",
       "      <th></th>\n",
       "      <th>gender</th>\n",
       "      <th>age</th>\n",
       "      <th>hypertension</th>\n",
       "      <th>heart_disease</th>\n",
       "      <th>ever_married</th>\n",
       "      <th>work_type</th>\n",
       "      <th>Residence_type</th>\n",
       "      <th>avg_glucose_level</th>\n",
       "      <th>bmi</th>\n",
       "      <th>smoking_status</th>\n",
       "    </tr>\n",
       "  </thead>\n",
       "  <tbody>\n",
       "    <tr>\n",
       "      <th>0</th>\n",
       "      <td>Female</td>\n",
       "      <td>57.0</td>\n",
       "      <td>0</td>\n",
       "      <td>0</td>\n",
       "      <td>Yes</td>\n",
       "      <td>Private</td>\n",
       "      <td>Rural</td>\n",
       "      <td>82.54</td>\n",
       "      <td>33.4</td>\n",
       "      <td>Unknown</td>\n",
       "    </tr>\n",
       "    <tr>\n",
       "      <th>1</th>\n",
       "      <td>Male</td>\n",
       "      <td>70.0</td>\n",
       "      <td>1</td>\n",
       "      <td>0</td>\n",
       "      <td>Yes</td>\n",
       "      <td>Private</td>\n",
       "      <td>Urban</td>\n",
       "      <td>72.06</td>\n",
       "      <td>28.5</td>\n",
       "      <td>Unknown</td>\n",
       "    </tr>\n",
       "    <tr>\n",
       "      <th>2</th>\n",
       "      <td>Female</td>\n",
       "      <td>5.0</td>\n",
       "      <td>0</td>\n",
       "      <td>0</td>\n",
       "      <td>No</td>\n",
       "      <td>children</td>\n",
       "      <td>Urban</td>\n",
       "      <td>103.72</td>\n",
       "      <td>19.5</td>\n",
       "      <td>Unknown</td>\n",
       "    </tr>\n",
       "    <tr>\n",
       "      <th>3</th>\n",
       "      <td>Female</td>\n",
       "      <td>56.0</td>\n",
       "      <td>0</td>\n",
       "      <td>0</td>\n",
       "      <td>Yes</td>\n",
       "      <td>Govt_job</td>\n",
       "      <td>Urban</td>\n",
       "      <td>69.24</td>\n",
       "      <td>41.4</td>\n",
       "      <td>smokes</td>\n",
       "    </tr>\n",
       "    <tr>\n",
       "      <th>4</th>\n",
       "      <td>Male</td>\n",
       "      <td>32.0</td>\n",
       "      <td>0</td>\n",
       "      <td>0</td>\n",
       "      <td>Yes</td>\n",
       "      <td>Private</td>\n",
       "      <td>Rural</td>\n",
       "      <td>111.15</td>\n",
       "      <td>30.1</td>\n",
       "      <td>smokes</td>\n",
       "    </tr>\n",
       "  </tbody>\n",
       "</table>\n",
       "</div>"
      ],
      "text/plain": [
       "   gender   age  hypertension  heart_disease ever_married work_type  \\\n",
       "0  Female  57.0             0              0          Yes   Private   \n",
       "1    Male  70.0             1              0          Yes   Private   \n",
       "2  Female   5.0             0              0           No  children   \n",
       "3  Female  56.0             0              0          Yes  Govt_job   \n",
       "4    Male  32.0             0              0          Yes   Private   \n",
       "\n",
       "  Residence_type  avg_glucose_level   bmi smoking_status  \n",
       "0          Rural              82.54  33.4        Unknown  \n",
       "1          Urban              72.06  28.5        Unknown  \n",
       "2          Urban             103.72  19.5        Unknown  \n",
       "3          Urban              69.24  41.4         smokes  \n",
       "4          Rural             111.15  30.1         smokes  "
      ]
     },
     "execution_count": 7,
     "metadata": {},
     "output_type": "execute_result"
    }
   ],
   "source": [
    "test = test.drop(['id'], axis=1)\n",
    "test.head()"
   ]
  },
  {
   "cell_type": "code",
   "execution_count": 8,
   "id": "ccde917f",
   "metadata": {
    "execution": {
     "iopub.execute_input": "2023-01-13T14:09:33.352342Z",
     "iopub.status.busy": "2023-01-13T14:09:33.351661Z",
     "iopub.status.idle": "2023-01-13T14:09:33.365090Z",
     "shell.execute_reply": "2023-01-13T14:09:33.363994Z"
    },
    "papermill": {
     "duration": 0.027144,
     "end_time": "2023-01-13T14:09:33.367374",
     "exception": false,
     "start_time": "2023-01-13T14:09:33.340230",
     "status": "completed"
    },
    "tags": []
   },
   "outputs": [
    {
     "data": {
      "text/plain": [
       "Female    9446\n",
       "Male      5857\n",
       "Other        1\n",
       "Name: gender, dtype: int64"
      ]
     },
     "execution_count": 8,
     "metadata": {},
     "output_type": "execute_result"
    }
   ],
   "source": [
    "train.gender.value_counts()"
   ]
  },
  {
   "cell_type": "code",
   "execution_count": 9,
   "id": "17408181",
   "metadata": {
    "execution": {
     "iopub.execute_input": "2023-01-13T14:09:33.389938Z",
     "iopub.status.busy": "2023-01-13T14:09:33.389277Z",
     "iopub.status.idle": "2023-01-13T14:09:34.602196Z",
     "shell.execute_reply": "2023-01-13T14:09:34.600986Z"
    },
    "papermill": {
     "duration": 1.227122,
     "end_time": "2023-01-13T14:09:34.605042",
     "exception": false,
     "start_time": "2023-01-13T14:09:33.377920",
     "status": "completed"
    },
    "tags": []
   },
   "outputs": [
    {
     "data": {
      "text/plain": [
       "array([1, 0, 2])"
      ]
     },
     "execution_count": 9,
     "metadata": {},
     "output_type": "execute_result"
    }
   ],
   "source": [
    "# Import label encoder\n",
    "from sklearn import preprocessing\n",
    "  \n",
    "# label_encoder object knows how to understand word labels.\n",
    "label_encoder = preprocessing.LabelEncoder()\n",
    "  \n",
    "train['gender']= label_encoder.fit_transform(train['gender'])\n",
    "  \n",
    "train['gender'].unique()"
   ]
  },
  {
   "cell_type": "code",
   "execution_count": 10,
   "id": "84e757b0",
   "metadata": {
    "execution": {
     "iopub.execute_input": "2023-01-13T14:09:34.627873Z",
     "iopub.status.busy": "2023-01-13T14:09:34.627408Z",
     "iopub.status.idle": "2023-01-13T14:09:34.639758Z",
     "shell.execute_reply": "2023-01-13T14:09:34.638613Z"
    },
    "papermill": {
     "duration": 0.026729,
     "end_time": "2023-01-13T14:09:34.642254",
     "exception": false,
     "start_time": "2023-01-13T14:09:34.615525",
     "status": "completed"
    },
    "tags": []
   },
   "outputs": [
    {
     "data": {
      "text/plain": [
       "array([0, 1, 2])"
      ]
     },
     "execution_count": 10,
     "metadata": {},
     "output_type": "execute_result"
    }
   ],
   "source": [
    "test['gender']= label_encoder.fit_transform(test['gender'])\n",
    "  \n",
    "test['gender'].unique()"
   ]
  },
  {
   "cell_type": "code",
   "execution_count": 11,
   "id": "7126df7e",
   "metadata": {
    "execution": {
     "iopub.execute_input": "2023-01-13T14:09:34.665456Z",
     "iopub.status.busy": "2023-01-13T14:09:34.664892Z",
     "iopub.status.idle": "2023-01-13T14:09:34.682878Z",
     "shell.execute_reply": "2023-01-13T14:09:34.681674Z"
    },
    "papermill": {
     "duration": 0.032208,
     "end_time": "2023-01-13T14:09:34.684973",
     "exception": false,
     "start_time": "2023-01-13T14:09:34.652765",
     "status": "completed"
    },
    "tags": []
   },
   "outputs": [
    {
     "data": {
      "text/html": [
       "<div>\n",
       "<style scoped>\n",
       "    .dataframe tbody tr th:only-of-type {\n",
       "        vertical-align: middle;\n",
       "    }\n",
       "\n",
       "    .dataframe tbody tr th {\n",
       "        vertical-align: top;\n",
       "    }\n",
       "\n",
       "    .dataframe thead th {\n",
       "        text-align: right;\n",
       "    }\n",
       "</style>\n",
       "<table border=\"1\" class=\"dataframe\">\n",
       "  <thead>\n",
       "    <tr style=\"text-align: right;\">\n",
       "      <th></th>\n",
       "      <th>gender</th>\n",
       "      <th>age</th>\n",
       "      <th>hypertension</th>\n",
       "      <th>heart_disease</th>\n",
       "      <th>ever_married</th>\n",
       "      <th>work_type</th>\n",
       "      <th>Residence_type</th>\n",
       "      <th>avg_glucose_level</th>\n",
       "      <th>bmi</th>\n",
       "      <th>smoking_status</th>\n",
       "    </tr>\n",
       "  </thead>\n",
       "  <tbody>\n",
       "    <tr>\n",
       "      <th>0</th>\n",
       "      <td>0</td>\n",
       "      <td>57.0</td>\n",
       "      <td>0</td>\n",
       "      <td>0</td>\n",
       "      <td>Yes</td>\n",
       "      <td>Private</td>\n",
       "      <td>Rural</td>\n",
       "      <td>82.54</td>\n",
       "      <td>33.4</td>\n",
       "      <td>Unknown</td>\n",
       "    </tr>\n",
       "    <tr>\n",
       "      <th>1</th>\n",
       "      <td>1</td>\n",
       "      <td>70.0</td>\n",
       "      <td>1</td>\n",
       "      <td>0</td>\n",
       "      <td>Yes</td>\n",
       "      <td>Private</td>\n",
       "      <td>Urban</td>\n",
       "      <td>72.06</td>\n",
       "      <td>28.5</td>\n",
       "      <td>Unknown</td>\n",
       "    </tr>\n",
       "    <tr>\n",
       "      <th>2</th>\n",
       "      <td>0</td>\n",
       "      <td>5.0</td>\n",
       "      <td>0</td>\n",
       "      <td>0</td>\n",
       "      <td>No</td>\n",
       "      <td>children</td>\n",
       "      <td>Urban</td>\n",
       "      <td>103.72</td>\n",
       "      <td>19.5</td>\n",
       "      <td>Unknown</td>\n",
       "    </tr>\n",
       "    <tr>\n",
       "      <th>3</th>\n",
       "      <td>0</td>\n",
       "      <td>56.0</td>\n",
       "      <td>0</td>\n",
       "      <td>0</td>\n",
       "      <td>Yes</td>\n",
       "      <td>Govt_job</td>\n",
       "      <td>Urban</td>\n",
       "      <td>69.24</td>\n",
       "      <td>41.4</td>\n",
       "      <td>smokes</td>\n",
       "    </tr>\n",
       "    <tr>\n",
       "      <th>4</th>\n",
       "      <td>1</td>\n",
       "      <td>32.0</td>\n",
       "      <td>0</td>\n",
       "      <td>0</td>\n",
       "      <td>Yes</td>\n",
       "      <td>Private</td>\n",
       "      <td>Rural</td>\n",
       "      <td>111.15</td>\n",
       "      <td>30.1</td>\n",
       "      <td>smokes</td>\n",
       "    </tr>\n",
       "  </tbody>\n",
       "</table>\n",
       "</div>"
      ],
      "text/plain": [
       "   gender   age  hypertension  heart_disease ever_married work_type  \\\n",
       "0       0  57.0             0              0          Yes   Private   \n",
       "1       1  70.0             1              0          Yes   Private   \n",
       "2       0   5.0             0              0           No  children   \n",
       "3       0  56.0             0              0          Yes  Govt_job   \n",
       "4       1  32.0             0              0          Yes   Private   \n",
       "\n",
       "  Residence_type  avg_glucose_level   bmi smoking_status  \n",
       "0          Rural              82.54  33.4        Unknown  \n",
       "1          Urban              72.06  28.5        Unknown  \n",
       "2          Urban             103.72  19.5        Unknown  \n",
       "3          Urban              69.24  41.4         smokes  \n",
       "4          Rural             111.15  30.1         smokes  "
      ]
     },
     "execution_count": 11,
     "metadata": {},
     "output_type": "execute_result"
    }
   ],
   "source": [
    "test.head()"
   ]
  },
  {
   "cell_type": "code",
   "execution_count": 12,
   "id": "aa883fce",
   "metadata": {
    "execution": {
     "iopub.execute_input": "2023-01-13T14:09:34.708598Z",
     "iopub.status.busy": "2023-01-13T14:09:34.708046Z",
     "iopub.status.idle": "2023-01-13T14:09:34.718858Z",
     "shell.execute_reply": "2023-01-13T14:09:34.717616Z"
    },
    "papermill": {
     "duration": 0.025521,
     "end_time": "2023-01-13T14:09:34.721164",
     "exception": false,
     "start_time": "2023-01-13T14:09:34.695643",
     "status": "completed"
    },
    "tags": []
   },
   "outputs": [
    {
     "data": {
      "text/plain": [
       "Yes    10385\n",
       "No      4919\n",
       "Name: ever_married, dtype: int64"
      ]
     },
     "execution_count": 12,
     "metadata": {},
     "output_type": "execute_result"
    }
   ],
   "source": [
    "train.ever_married.value_counts()"
   ]
  },
  {
   "cell_type": "code",
   "execution_count": 13,
   "id": "40a73a81",
   "metadata": {
    "execution": {
     "iopub.execute_input": "2023-01-13T14:09:34.745212Z",
     "iopub.status.busy": "2023-01-13T14:09:34.744645Z",
     "iopub.status.idle": "2023-01-13T14:09:34.759563Z",
     "shell.execute_reply": "2023-01-13T14:09:34.758242Z"
    },
    "papermill": {
     "duration": 0.030381,
     "end_time": "2023-01-13T14:09:34.762301",
     "exception": false,
     "start_time": "2023-01-13T14:09:34.731920",
     "status": "completed"
    },
    "tags": []
   },
   "outputs": [
    {
     "data": {
      "text/plain": [
       "array([1, 0])"
      ]
     },
     "execution_count": 13,
     "metadata": {},
     "output_type": "execute_result"
    }
   ],
   "source": [
    "train['ever_married']= label_encoder.fit_transform(train['ever_married'])\n",
    "  \n",
    "train['ever_married'].unique()"
   ]
  },
  {
   "cell_type": "code",
   "execution_count": 14,
   "id": "7ae28967",
   "metadata": {
    "execution": {
     "iopub.execute_input": "2023-01-13T14:09:34.787072Z",
     "iopub.status.busy": "2023-01-13T14:09:34.785611Z",
     "iopub.status.idle": "2023-01-13T14:09:34.803464Z",
     "shell.execute_reply": "2023-01-13T14:09:34.801589Z"
    },
    "papermill": {
     "duration": 0.033213,
     "end_time": "2023-01-13T14:09:34.806403",
     "exception": false,
     "start_time": "2023-01-13T14:09:34.773190",
     "status": "completed"
    },
    "tags": []
   },
   "outputs": [
    {
     "data": {
      "text/plain": [
       "array([1, 0])"
      ]
     },
     "execution_count": 14,
     "metadata": {},
     "output_type": "execute_result"
    }
   ],
   "source": [
    "test['ever_married']= label_encoder.fit_transform(test['ever_married'])\n",
    "  \n",
    "test['ever_married'].unique()"
   ]
  },
  {
   "cell_type": "code",
   "execution_count": 15,
   "id": "af122484",
   "metadata": {
    "execution": {
     "iopub.execute_input": "2023-01-13T14:09:34.837613Z",
     "iopub.status.busy": "2023-01-13T14:09:34.835904Z",
     "iopub.status.idle": "2023-01-13T14:09:34.852401Z",
     "shell.execute_reply": "2023-01-13T14:09:34.851247Z"
    },
    "papermill": {
     "duration": 0.035181,
     "end_time": "2023-01-13T14:09:34.855013",
     "exception": false,
     "start_time": "2023-01-13T14:09:34.819832",
     "status": "completed"
    },
    "tags": []
   },
   "outputs": [
    {
     "data": {
      "text/plain": [
       "Private          9752\n",
       "children         2038\n",
       "Self-employed    1939\n",
       "Govt_job         1533\n",
       "Never_worked       42\n",
       "Name: work_type, dtype: int64"
      ]
     },
     "execution_count": 15,
     "metadata": {},
     "output_type": "execute_result"
    }
   ],
   "source": [
    "train.work_type.value_counts()"
   ]
  },
  {
   "cell_type": "code",
   "execution_count": 16,
   "id": "44aba145",
   "metadata": {
    "execution": {
     "iopub.execute_input": "2023-01-13T14:09:34.887120Z",
     "iopub.status.busy": "2023-01-13T14:09:34.885517Z",
     "iopub.status.idle": "2023-01-13T14:09:34.901770Z",
     "shell.execute_reply": "2023-01-13T14:09:34.900621Z"
    },
    "papermill": {
     "duration": 0.03657,
     "end_time": "2023-01-13T14:09:34.904889",
     "exception": false,
     "start_time": "2023-01-13T14:09:34.868319",
     "status": "completed"
    },
    "tags": []
   },
   "outputs": [
    {
     "data": {
      "text/plain": [
       "array([2, 3, 0, 4, 1])"
      ]
     },
     "execution_count": 16,
     "metadata": {},
     "output_type": "execute_result"
    }
   ],
   "source": [
    "train['work_type']= label_encoder.fit_transform(train['work_type'])\n",
    "  \n",
    "train['work_type'].unique()"
   ]
  },
  {
   "cell_type": "code",
   "execution_count": 17,
   "id": "57a43139",
   "metadata": {
    "execution": {
     "iopub.execute_input": "2023-01-13T14:09:34.939303Z",
     "iopub.status.busy": "2023-01-13T14:09:34.938389Z",
     "iopub.status.idle": "2023-01-13T14:09:34.950700Z",
     "shell.execute_reply": "2023-01-13T14:09:34.949840Z"
    },
    "papermill": {
     "duration": 0.034888,
     "end_time": "2023-01-13T14:09:34.953435",
     "exception": false,
     "start_time": "2023-01-13T14:09:34.918547",
     "status": "completed"
    },
    "tags": []
   },
   "outputs": [
    {
     "data": {
      "text/plain": [
       "array([2, 4, 0, 3, 1])"
      ]
     },
     "execution_count": 17,
     "metadata": {},
     "output_type": "execute_result"
    }
   ],
   "source": [
    "test['work_type']= label_encoder.fit_transform(test['work_type'])\n",
    "  \n",
    "test['work_type'].unique()"
   ]
  },
  {
   "cell_type": "code",
   "execution_count": 18,
   "id": "eb546122",
   "metadata": {
    "execution": {
     "iopub.execute_input": "2023-01-13T14:09:34.987329Z",
     "iopub.status.busy": "2023-01-13T14:09:34.986564Z",
     "iopub.status.idle": "2023-01-13T14:09:34.995871Z",
     "shell.execute_reply": "2023-01-13T14:09:34.995024Z"
    },
    "papermill": {
     "duration": 0.02926,
     "end_time": "2023-01-13T14:09:34.998685",
     "exception": false,
     "start_time": "2023-01-13T14:09:34.969425",
     "status": "completed"
    },
    "tags": []
   },
   "outputs": [
    {
     "data": {
      "text/plain": [
       "Rural    7664\n",
       "Urban    7640\n",
       "Name: Residence_type, dtype: int64"
      ]
     },
     "execution_count": 18,
     "metadata": {},
     "output_type": "execute_result"
    }
   ],
   "source": [
    "train.Residence_type.value_counts()"
   ]
  },
  {
   "cell_type": "code",
   "execution_count": 19,
   "id": "c4d4b2f8",
   "metadata": {
    "execution": {
     "iopub.execute_input": "2023-01-13T14:09:35.032805Z",
     "iopub.status.busy": "2023-01-13T14:09:35.032353Z",
     "iopub.status.idle": "2023-01-13T14:09:35.046249Z",
     "shell.execute_reply": "2023-01-13T14:09:35.044975Z"
    },
    "papermill": {
     "duration": 0.034239,
     "end_time": "2023-01-13T14:09:35.049318",
     "exception": false,
     "start_time": "2023-01-13T14:09:35.015079",
     "status": "completed"
    },
    "tags": []
   },
   "outputs": [
    {
     "data": {
      "text/plain": [
       "array([1, 0])"
      ]
     },
     "execution_count": 19,
     "metadata": {},
     "output_type": "execute_result"
    }
   ],
   "source": [
    "train['Residence_type']= label_encoder.fit_transform(train['Residence_type'])\n",
    "  \n",
    "train['Residence_type'].unique()"
   ]
  },
  {
   "cell_type": "code",
   "execution_count": 20,
   "id": "2a70f9b6",
   "metadata": {
    "execution": {
     "iopub.execute_input": "2023-01-13T14:09:35.090688Z",
     "iopub.status.busy": "2023-01-13T14:09:35.089726Z",
     "iopub.status.idle": "2023-01-13T14:09:35.100772Z",
     "shell.execute_reply": "2023-01-13T14:09:35.099858Z"
    },
    "papermill": {
     "duration": 0.037723,
     "end_time": "2023-01-13T14:09:35.103483",
     "exception": false,
     "start_time": "2023-01-13T14:09:35.065760",
     "status": "completed"
    },
    "tags": []
   },
   "outputs": [
    {
     "data": {
      "text/plain": [
       "array([0, 1])"
      ]
     },
     "execution_count": 20,
     "metadata": {},
     "output_type": "execute_result"
    }
   ],
   "source": [
    "test['Residence_type']= label_encoder.fit_transform(test['Residence_type'])\n",
    "  \n",
    "test['Residence_type'].unique()"
   ]
  },
  {
   "cell_type": "code",
   "execution_count": 21,
   "id": "1f3f923c",
   "metadata": {
    "execution": {
     "iopub.execute_input": "2023-01-13T14:09:35.131754Z",
     "iopub.status.busy": "2023-01-13T14:09:35.131312Z",
     "iopub.status.idle": "2023-01-13T14:09:35.140869Z",
     "shell.execute_reply": "2023-01-13T14:09:35.139870Z"
    },
    "papermill": {
     "duration": 0.025168,
     "end_time": "2023-01-13T14:09:35.143512",
     "exception": false,
     "start_time": "2023-01-13T14:09:35.118344",
     "status": "completed"
    },
    "tags": []
   },
   "outputs": [
    {
     "data": {
      "text/plain": [
       "never smoked       6281\n",
       "Unknown            4543\n",
       "formerly smoked    2337\n",
       "smokes             2143\n",
       "Name: smoking_status, dtype: int64"
      ]
     },
     "execution_count": 21,
     "metadata": {},
     "output_type": "execute_result"
    }
   ],
   "source": [
    "train.smoking_status.value_counts()"
   ]
  },
  {
   "cell_type": "code",
   "execution_count": 22,
   "id": "db12a20a",
   "metadata": {
    "execution": {
     "iopub.execute_input": "2023-01-13T14:09:35.178893Z",
     "iopub.status.busy": "2023-01-13T14:09:35.177783Z",
     "iopub.status.idle": "2023-01-13T14:09:35.191891Z",
     "shell.execute_reply": "2023-01-13T14:09:35.190666Z"
    },
    "papermill": {
     "duration": 0.034524,
     "end_time": "2023-01-13T14:09:35.194716",
     "exception": false,
     "start_time": "2023-01-13T14:09:35.160192",
     "status": "completed"
    },
    "tags": []
   },
   "outputs": [
    {
     "data": {
      "text/plain": [
       "array([2, 1, 0, 3])"
      ]
     },
     "execution_count": 22,
     "metadata": {},
     "output_type": "execute_result"
    }
   ],
   "source": [
    "train['smoking_status']= label_encoder.fit_transform(train['smoking_status'])\n",
    "  \n",
    "train['smoking_status'].unique()"
   ]
  },
  {
   "cell_type": "code",
   "execution_count": 23,
   "id": "2dd6f8f1",
   "metadata": {
    "execution": {
     "iopub.execute_input": "2023-01-13T14:09:35.224597Z",
     "iopub.status.busy": "2023-01-13T14:09:35.222719Z",
     "iopub.status.idle": "2023-01-13T14:09:35.236660Z",
     "shell.execute_reply": "2023-01-13T14:09:35.235539Z"
    },
    "papermill": {
     "duration": 0.029414,
     "end_time": "2023-01-13T14:09:35.239055",
     "exception": false,
     "start_time": "2023-01-13T14:09:35.209641",
     "status": "completed"
    },
    "tags": []
   },
   "outputs": [
    {
     "data": {
      "text/plain": [
       "array([0, 3, 2, 1])"
      ]
     },
     "execution_count": 23,
     "metadata": {},
     "output_type": "execute_result"
    }
   ],
   "source": [
    "test['smoking_status']= label_encoder.fit_transform(test['smoking_status'])\n",
    "  \n",
    "test['smoking_status'].unique()"
   ]
  },
  {
   "cell_type": "code",
   "execution_count": 24,
   "id": "2f8e0228",
   "metadata": {
    "execution": {
     "iopub.execute_input": "2023-01-13T14:09:35.268992Z",
     "iopub.status.busy": "2023-01-13T14:09:35.268615Z",
     "iopub.status.idle": "2023-01-13T14:09:35.284329Z",
     "shell.execute_reply": "2023-01-13T14:09:35.283175Z"
    },
    "papermill": {
     "duration": 0.031074,
     "end_time": "2023-01-13T14:09:35.286535",
     "exception": false,
     "start_time": "2023-01-13T14:09:35.255461",
     "status": "completed"
    },
    "tags": []
   },
   "outputs": [
    {
     "data": {
      "text/html": [
       "<div>\n",
       "<style scoped>\n",
       "    .dataframe tbody tr th:only-of-type {\n",
       "        vertical-align: middle;\n",
       "    }\n",
       "\n",
       "    .dataframe tbody tr th {\n",
       "        vertical-align: top;\n",
       "    }\n",
       "\n",
       "    .dataframe thead th {\n",
       "        text-align: right;\n",
       "    }\n",
       "</style>\n",
       "<table border=\"1\" class=\"dataframe\">\n",
       "  <thead>\n",
       "    <tr style=\"text-align: right;\">\n",
       "      <th></th>\n",
       "      <th>gender</th>\n",
       "      <th>age</th>\n",
       "      <th>hypertension</th>\n",
       "      <th>heart_disease</th>\n",
       "      <th>ever_married</th>\n",
       "      <th>work_type</th>\n",
       "      <th>Residence_type</th>\n",
       "      <th>avg_glucose_level</th>\n",
       "      <th>bmi</th>\n",
       "      <th>smoking_status</th>\n",
       "      <th>stroke</th>\n",
       "    </tr>\n",
       "  </thead>\n",
       "  <tbody>\n",
       "    <tr>\n",
       "      <th>0</th>\n",
       "      <td>1</td>\n",
       "      <td>28.0</td>\n",
       "      <td>0</td>\n",
       "      <td>0</td>\n",
       "      <td>1</td>\n",
       "      <td>2</td>\n",
       "      <td>1</td>\n",
       "      <td>79.53</td>\n",
       "      <td>31.1</td>\n",
       "      <td>2</td>\n",
       "      <td>0</td>\n",
       "    </tr>\n",
       "    <tr>\n",
       "      <th>1</th>\n",
       "      <td>1</td>\n",
       "      <td>33.0</td>\n",
       "      <td>0</td>\n",
       "      <td>0</td>\n",
       "      <td>1</td>\n",
       "      <td>2</td>\n",
       "      <td>0</td>\n",
       "      <td>78.44</td>\n",
       "      <td>23.9</td>\n",
       "      <td>1</td>\n",
       "      <td>0</td>\n",
       "    </tr>\n",
       "    <tr>\n",
       "      <th>2</th>\n",
       "      <td>0</td>\n",
       "      <td>42.0</td>\n",
       "      <td>0</td>\n",
       "      <td>0</td>\n",
       "      <td>1</td>\n",
       "      <td>2</td>\n",
       "      <td>0</td>\n",
       "      <td>103.00</td>\n",
       "      <td>40.3</td>\n",
       "      <td>0</td>\n",
       "      <td>0</td>\n",
       "    </tr>\n",
       "    <tr>\n",
       "      <th>3</th>\n",
       "      <td>1</td>\n",
       "      <td>56.0</td>\n",
       "      <td>0</td>\n",
       "      <td>0</td>\n",
       "      <td>1</td>\n",
       "      <td>2</td>\n",
       "      <td>1</td>\n",
       "      <td>64.87</td>\n",
       "      <td>28.8</td>\n",
       "      <td>2</td>\n",
       "      <td>0</td>\n",
       "    </tr>\n",
       "    <tr>\n",
       "      <th>4</th>\n",
       "      <td>0</td>\n",
       "      <td>24.0</td>\n",
       "      <td>0</td>\n",
       "      <td>0</td>\n",
       "      <td>0</td>\n",
       "      <td>2</td>\n",
       "      <td>0</td>\n",
       "      <td>73.36</td>\n",
       "      <td>28.8</td>\n",
       "      <td>2</td>\n",
       "      <td>0</td>\n",
       "    </tr>\n",
       "  </tbody>\n",
       "</table>\n",
       "</div>"
      ],
      "text/plain": [
       "   gender   age  hypertension  heart_disease  ever_married  work_type  \\\n",
       "0       1  28.0             0              0             1          2   \n",
       "1       1  33.0             0              0             1          2   \n",
       "2       0  42.0             0              0             1          2   \n",
       "3       1  56.0             0              0             1          2   \n",
       "4       0  24.0             0              0             0          2   \n",
       "\n",
       "   Residence_type  avg_glucose_level   bmi  smoking_status  stroke  \n",
       "0               1              79.53  31.1               2       0  \n",
       "1               0              78.44  23.9               1       0  \n",
       "2               0             103.00  40.3               0       0  \n",
       "3               1              64.87  28.8               2       0  \n",
       "4               0              73.36  28.8               2       0  "
      ]
     },
     "execution_count": 24,
     "metadata": {},
     "output_type": "execute_result"
    }
   ],
   "source": [
    "train.head()"
   ]
  },
  {
   "cell_type": "code",
   "execution_count": 25,
   "id": "e2cc4dc5",
   "metadata": {
    "execution": {
     "iopub.execute_input": "2023-01-13T14:09:35.314107Z",
     "iopub.status.busy": "2023-01-13T14:09:35.313708Z",
     "iopub.status.idle": "2023-01-13T14:09:35.330699Z",
     "shell.execute_reply": "2023-01-13T14:09:35.329683Z"
    },
    "papermill": {
     "duration": 0.03493,
     "end_time": "2023-01-13T14:09:35.333116",
     "exception": false,
     "start_time": "2023-01-13T14:09:35.298186",
     "status": "completed"
    },
    "tags": []
   },
   "outputs": [
    {
     "data": {
      "text/html": [
       "<div>\n",
       "<style scoped>\n",
       "    .dataframe tbody tr th:only-of-type {\n",
       "        vertical-align: middle;\n",
       "    }\n",
       "\n",
       "    .dataframe tbody tr th {\n",
       "        vertical-align: top;\n",
       "    }\n",
       "\n",
       "    .dataframe thead th {\n",
       "        text-align: right;\n",
       "    }\n",
       "</style>\n",
       "<table border=\"1\" class=\"dataframe\">\n",
       "  <thead>\n",
       "    <tr style=\"text-align: right;\">\n",
       "      <th></th>\n",
       "      <th>gender</th>\n",
       "      <th>age</th>\n",
       "      <th>hypertension</th>\n",
       "      <th>heart_disease</th>\n",
       "      <th>ever_married</th>\n",
       "      <th>work_type</th>\n",
       "      <th>Residence_type</th>\n",
       "      <th>avg_glucose_level</th>\n",
       "      <th>bmi</th>\n",
       "      <th>smoking_status</th>\n",
       "    </tr>\n",
       "  </thead>\n",
       "  <tbody>\n",
       "    <tr>\n",
       "      <th>0</th>\n",
       "      <td>0</td>\n",
       "      <td>57.0</td>\n",
       "      <td>0</td>\n",
       "      <td>0</td>\n",
       "      <td>1</td>\n",
       "      <td>2</td>\n",
       "      <td>0</td>\n",
       "      <td>82.54</td>\n",
       "      <td>33.4</td>\n",
       "      <td>0</td>\n",
       "    </tr>\n",
       "    <tr>\n",
       "      <th>1</th>\n",
       "      <td>1</td>\n",
       "      <td>70.0</td>\n",
       "      <td>1</td>\n",
       "      <td>0</td>\n",
       "      <td>1</td>\n",
       "      <td>2</td>\n",
       "      <td>1</td>\n",
       "      <td>72.06</td>\n",
       "      <td>28.5</td>\n",
       "      <td>0</td>\n",
       "    </tr>\n",
       "    <tr>\n",
       "      <th>2</th>\n",
       "      <td>0</td>\n",
       "      <td>5.0</td>\n",
       "      <td>0</td>\n",
       "      <td>0</td>\n",
       "      <td>0</td>\n",
       "      <td>4</td>\n",
       "      <td>1</td>\n",
       "      <td>103.72</td>\n",
       "      <td>19.5</td>\n",
       "      <td>0</td>\n",
       "    </tr>\n",
       "    <tr>\n",
       "      <th>3</th>\n",
       "      <td>0</td>\n",
       "      <td>56.0</td>\n",
       "      <td>0</td>\n",
       "      <td>0</td>\n",
       "      <td>1</td>\n",
       "      <td>0</td>\n",
       "      <td>1</td>\n",
       "      <td>69.24</td>\n",
       "      <td>41.4</td>\n",
       "      <td>3</td>\n",
       "    </tr>\n",
       "    <tr>\n",
       "      <th>4</th>\n",
       "      <td>1</td>\n",
       "      <td>32.0</td>\n",
       "      <td>0</td>\n",
       "      <td>0</td>\n",
       "      <td>1</td>\n",
       "      <td>2</td>\n",
       "      <td>0</td>\n",
       "      <td>111.15</td>\n",
       "      <td>30.1</td>\n",
       "      <td>3</td>\n",
       "    </tr>\n",
       "  </tbody>\n",
       "</table>\n",
       "</div>"
      ],
      "text/plain": [
       "   gender   age  hypertension  heart_disease  ever_married  work_type  \\\n",
       "0       0  57.0             0              0             1          2   \n",
       "1       1  70.0             1              0             1          2   \n",
       "2       0   5.0             0              0             0          4   \n",
       "3       0  56.0             0              0             1          0   \n",
       "4       1  32.0             0              0             1          2   \n",
       "\n",
       "   Residence_type  avg_glucose_level   bmi  smoking_status  \n",
       "0               0              82.54  33.4               0  \n",
       "1               1              72.06  28.5               0  \n",
       "2               1             103.72  19.5               0  \n",
       "3               1              69.24  41.4               3  \n",
       "4               0             111.15  30.1               3  "
      ]
     },
     "execution_count": 25,
     "metadata": {},
     "output_type": "execute_result"
    }
   ],
   "source": [
    "test.head()"
   ]
  },
  {
   "cell_type": "code",
   "execution_count": 26,
   "id": "5b383fd7",
   "metadata": {
    "execution": {
     "iopub.execute_input": "2023-01-13T14:09:35.368336Z",
     "iopub.status.busy": "2023-01-13T14:09:35.367377Z",
     "iopub.status.idle": "2023-01-13T14:09:35.510584Z",
     "shell.execute_reply": "2023-01-13T14:09:35.509464Z"
    },
    "papermill": {
     "duration": 0.162895,
     "end_time": "2023-01-13T14:09:35.513612",
     "exception": false,
     "start_time": "2023-01-13T14:09:35.350717",
     "status": "completed"
    },
    "tags": []
   },
   "outputs": [],
   "source": [
    "from sklearn.linear_model import LogisticRegression\n",
    "from sklearn.model_selection import train_test_split"
   ]
  },
  {
   "cell_type": "code",
   "execution_count": 27,
   "id": "27acb837",
   "metadata": {
    "execution": {
     "iopub.execute_input": "2023-01-13T14:09:35.539912Z",
     "iopub.status.busy": "2023-01-13T14:09:35.538977Z",
     "iopub.status.idle": "2023-01-13T14:09:35.549468Z",
     "shell.execute_reply": "2023-01-13T14:09:35.548216Z"
    },
    "papermill": {
     "duration": 0.026305,
     "end_time": "2023-01-13T14:09:35.552012",
     "exception": false,
     "start_time": "2023-01-13T14:09:35.525707",
     "status": "completed"
    },
    "tags": []
   },
   "outputs": [],
   "source": [
    "X = train.drop(['stroke'], axis=1)\n",
    "y = train['stroke']"
   ]
  },
  {
   "cell_type": "code",
   "execution_count": 28,
   "id": "ae3cb0ef",
   "metadata": {
    "execution": {
     "iopub.execute_input": "2023-01-13T14:09:35.579450Z",
     "iopub.status.busy": "2023-01-13T14:09:35.578100Z",
     "iopub.status.idle": "2023-01-13T14:09:35.591046Z",
     "shell.execute_reply": "2023-01-13T14:09:35.589968Z"
    },
    "papermill": {
     "duration": 0.029514,
     "end_time": "2023-01-13T14:09:35.593628",
     "exception": false,
     "start_time": "2023-01-13T14:09:35.564114",
     "status": "completed"
    },
    "tags": []
   },
   "outputs": [],
   "source": [
    "from sklearn.model_selection import train_test_split\n",
    "X_train, X_test, y_train, y_test = train_test_split(X, y, test_size = 0.25, random_state = 0)"
   ]
  },
  {
   "cell_type": "code",
   "execution_count": 29,
   "id": "60b2a45f",
   "metadata": {
    "execution": {
     "iopub.execute_input": "2023-01-13T14:09:35.621426Z",
     "iopub.status.busy": "2023-01-13T14:09:35.620480Z",
     "iopub.status.idle": "2023-01-13T14:09:35.893836Z",
     "shell.execute_reply": "2023-01-13T14:09:35.892776Z"
    },
    "papermill": {
     "duration": 0.298043,
     "end_time": "2023-01-13T14:09:35.903771",
     "exception": false,
     "start_time": "2023-01-13T14:09:35.605728",
     "status": "completed"
    },
    "tags": []
   },
   "outputs": [
    {
     "name": "stderr",
     "output_type": "stream",
     "text": [
      "/opt/conda/lib/python3.7/site-packages/sklearn/linear_model/_logistic.py:818: ConvergenceWarning: lbfgs failed to converge (status=1):\n",
      "STOP: TOTAL NO. of ITERATIONS REACHED LIMIT.\n",
      "\n",
      "Increase the number of iterations (max_iter) or scale the data as shown in:\n",
      "    https://scikit-learn.org/stable/modules/preprocessing.html\n",
      "Please also refer to the documentation for alternative solver options:\n",
      "    https://scikit-learn.org/stable/modules/linear_model.html#logistic-regression\n",
      "  extra_warning_msg=_LOGISTIC_SOLVER_CONVERGENCE_MSG,\n"
     ]
    },
    {
     "data": {
      "text/plain": [
       "LogisticRegression(random_state=0)"
      ]
     },
     "execution_count": 29,
     "metadata": {},
     "output_type": "execute_result"
    }
   ],
   "source": [
    "from sklearn.linear_model import LogisticRegression\n",
    "logit_cls = LogisticRegression(random_state = 0)\n",
    "logit_cls.fit(X_train, y_train)"
   ]
  },
  {
   "cell_type": "code",
   "execution_count": 30,
   "id": "1ba4e3b7",
   "metadata": {
    "execution": {
     "iopub.execute_input": "2023-01-13T14:09:36.011401Z",
     "iopub.status.busy": "2023-01-13T14:09:36.010880Z",
     "iopub.status.idle": "2023-01-13T14:09:36.021252Z",
     "shell.execute_reply": "2023-01-13T14:09:36.019730Z"
    },
    "papermill": {
     "duration": 0.06099,
     "end_time": "2023-01-13T14:09:36.025340",
     "exception": false,
     "start_time": "2023-01-13T14:09:35.964350",
     "status": "completed"
    },
    "tags": []
   },
   "outputs": [],
   "source": [
    "y_pred = logit_cls.predict_proba(X_test)[::,1]"
   ]
  },
  {
   "cell_type": "code",
   "execution_count": 31,
   "id": "d8772f27",
   "metadata": {
    "execution": {
     "iopub.execute_input": "2023-01-13T14:09:36.090423Z",
     "iopub.status.busy": "2023-01-13T14:09:36.089518Z",
     "iopub.status.idle": "2023-01-13T14:09:36.287925Z",
     "shell.execute_reply": "2023-01-13T14:09:36.286768Z"
    },
    "papermill": {
     "duration": 0.233897,
     "end_time": "2023-01-13T14:09:36.290492",
     "exception": false,
     "start_time": "2023-01-13T14:09:36.056595",
     "status": "completed"
    },
    "tags": []
   },
   "outputs": [
    {
     "data": {
      "image/png": "[encoded data removed]",
      "text/plain": [
       "<Figure size 432x288 with 1 Axes>"
      ]
     },
     "metadata": {
      "needs_background": "light"
     },
     "output_type": "display_data"
    }
   ],
   "source": [
    "from sklearn import metrics\n",
    "import matplotlib.pyplot as plt\n",
    "fpr, tpr, _ = metrics.roc_curve(y_test,  y_pred)\n",
    "\n",
    "#create ROC curve\n",
    "plt.plot(fpr,tpr)\n",
    "plt.ylabel('True Positive Rate')\n",
    "plt.xlabel('False Positive Rate')\n",
    "plt.show()"
   ]
  },
  {
   "cell_type": "code",
   "execution_count": 32,
   "id": "537fce6a",
   "metadata": {
    "execution": {
     "iopub.execute_input": "2023-01-13T14:09:36.318250Z",
     "iopub.status.busy": "2023-01-13T14:09:36.317487Z",
     "iopub.status.idle": "2023-01-13T14:09:36.461398Z",
     "shell.execute_reply": "2023-01-13T14:09:36.460239Z"
    },
    "papermill": {
     "duration": 0.160391,
     "end_time": "2023-01-13T14:09:36.463849",
     "exception": false,
     "start_time": "2023-01-13T14:09:36.303458",
     "status": "completed"
    },
    "tags": []
   },
   "outputs": [
    {
     "data": {
      "image/png": "[encoded data removed]",
      "text/plain": [
       "<Figure size 432x288 with 1 Axes>"
      ]
     },
     "metadata": {
      "needs_background": "light"
     },
     "output_type": "display_data"
    }
   ],
   "source": [
    "auc = metrics.roc_auc_score(y_test, y_pred)\n",
    "\n",
    "#create ROC curve\n",
    "plt.plot(fpr,tpr,label=\"AUC=\"+str(auc))\n",
    "plt.ylabel('True Positive Rate')\n",
    "plt.xlabel('False Positive Rate')\n",
    "plt.legend(loc=4)\n",
    "plt.show()"
   ]
  },
  {
   "cell_type": "code",
   "execution_count": 33,
   "id": "dd593d35",
   "metadata": {
    "execution": {
     "iopub.execute_input": "2023-01-13T14:09:36.491172Z",
     "iopub.status.busy": "2023-01-13T14:09:36.490397Z",
     "iopub.status.idle": "2023-01-13T14:09:36.506065Z",
     "shell.execute_reply": "2023-01-13T14:09:36.504798Z"
    },
    "papermill": {
     "duration": 0.03462,
     "end_time": "2023-01-13T14:09:36.511011",
     "exception": false,
     "start_time": "2023-01-13T14:09:36.476391",
     "status": "completed"
    },
    "tags": []
   },
   "outputs": [
    {
     "data": {
      "text/plain": [
       "array([3.02210030e-02, 1.45920454e-01, 1.99854657e-04, ...,\n",
       "       1.52624438e-04, 1.98445527e-03, 1.11546268e-04])"
      ]
     },
     "execution_count": 33,
     "metadata": {},
     "output_type": "execute_result"
    }
   ],
   "source": [
    "y_pred_test = logit_cls.predict_proba(test)[::,1]\n",
    "y_pred_test"
   ]
  },
  {
   "cell_type": "code",
   "execution_count": 34,
   "id": "a151db6f",
   "metadata": {
    "execution": {
     "iopub.execute_input": "2023-01-13T14:09:36.579051Z",
     "iopub.status.busy": "2023-01-13T14:09:36.578366Z",
     "iopub.status.idle": "2023-01-13T14:09:36.606610Z",
     "shell.execute_reply": "2023-01-13T14:09:36.605409Z"
    },
    "papermill": {
     "duration": 0.066467,
     "end_time": "2023-01-13T14:09:36.610792",
     "exception": false,
     "start_time": "2023-01-13T14:09:36.544325",
     "status": "completed"
    },
    "tags": []
   },
   "outputs": [
    {
     "data": {
      "text/html": [
       "<div>\n",
       "<style scoped>\n",
       "    .dataframe tbody tr th:only-of-type {\n",
       "        vertical-align: middle;\n",
       "    }\n",
       "\n",
       "    .dataframe tbody tr th {\n",
       "        vertical-align: top;\n",
       "    }\n",
       "\n",
       "    .dataframe thead th {\n",
       "        text-align: right;\n",
       "    }\n",
       "</style>\n",
       "<table border=\"1\" class=\"dataframe\">\n",
       "  <thead>\n",
       "    <tr style=\"text-align: right;\">\n",
       "      <th></th>\n",
       "      <th>id</th>\n",
       "      <th>stroke</th>\n",
       "    </tr>\n",
       "  </thead>\n",
       "  <tbody>\n",
       "    <tr>\n",
       "      <th>0</th>\n",
       "      <td>15304</td>\n",
       "      <td>0.030221</td>\n",
       "    </tr>\n",
       "    <tr>\n",
       "      <th>1</th>\n",
       "      <td>15305</td>\n",
       "      <td>0.145920</td>\n",
       "    </tr>\n",
       "    <tr>\n",
       "      <th>2</th>\n",
       "      <td>15306</td>\n",
       "      <td>0.000200</td>\n",
       "    </tr>\n",
       "    <tr>\n",
       "      <th>3</th>\n",
       "      <td>15307</td>\n",
       "      <td>0.047945</td>\n",
       "    </tr>\n",
       "    <tr>\n",
       "      <th>4</th>\n",
       "      <td>15308</td>\n",
       "      <td>0.002746</td>\n",
       "    </tr>\n",
       "  </tbody>\n",
       "</table>\n",
       "</div>"
      ],
      "text/plain": [
       "      id    stroke\n",
       "0  15304  0.030221\n",
       "1  15305  0.145920\n",
       "2  15306  0.000200\n",
       "3  15307  0.047945\n",
       "4  15308  0.002746"
      ]
     },
     "execution_count": 34,
     "metadata": {},
     "output_type": "execute_result"
    }
   ],
   "source": [
    "df_sub = pd.DataFrame(columns=[\"id\",\"stroke\"])\n",
    "df_sub[\"id\"] = test_1[\"id\"]\n",
    "df_sub[\"stroke\"] = y_pred_test\n",
    "df_sub.head()"
   ]
  },
  {
   "cell_type": "code",
   "execution_count": 35,
   "id": "ce495c8b",
   "metadata": {
    "execution": {
     "iopub.execute_input": "2023-01-13T14:09:36.643051Z",
     "iopub.status.busy": "2023-01-13T14:09:36.642669Z",
     "iopub.status.idle": "2023-01-13T14:09:36.678333Z",
     "shell.execute_reply": "2023-01-13T14:09:36.677362Z"
    },
    "papermill": {
     "duration": 0.052449,
     "end_time": "2023-01-13T14:09:36.681178",
     "exception": false,
     "start_time": "2023-01-13T14:09:36.628729",
     "status": "completed"
    },
    "tags": []
   },
   "outputs": [],
   "source": [
    "df_sub.to_csv(\"logistic.csv\",index=False)"
   ]
  },
  {
   "cell_type": "code",
   "execution_count": null,
   "id": "a8f21442",
   "metadata": {
    "papermill": {
     "duration": 0.013208,
     "end_time": "2023-01-13T14:09:36.707124",
     "exception": false,
     "start_time": "2023-01-13T14:09:36.693916",
     "status": "completed"
    },
    "tags": []
   },
   "outputs": [],
   "source": []
  }
 ],
 "metadata": {
  "kernelspec": {
   "display_name": "Python 3",
   "language": "python",
   "name": "python3"
  },
  "language_info": {
   "codemirror_mode": {
    "name": "ipython",
    "version": 3
   },
   "file_extension": ".py",
   "mimetype": "text/x-python",
   "name": "python",
   "nbconvert_exporter": "python",
   "pygments_lexer": "ipython3",
   "version": "3.7.12"
  },
  "papermill": {
   "default_parameters": {},
   "duration": 13.681319,
   "end_time": "2023-01-13T14:09:37.542870",
   "environment_variables": {},
   "exception": null,
   "input_path": "__notebook__.ipynb",
   "output_path": "__notebook__.ipynb",
   "parameters": {},
   "start_time": "2023-01-13T14:09:23.861551",
   "version": "2.3.4"
  }
 },
 "nbformat": 4,
 "nbformat_minor": 5
}
