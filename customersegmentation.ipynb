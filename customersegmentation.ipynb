{
 "cells": [
  {
   "cell_type": "code",
   "execution_count": 1,
   "id": "aa84d2bc",
   "metadata": {
    "execution": {
     "iopub.execute_input": "2023-01-10T12:29:20.237561Z",
     "iopub.status.busy": "2023-01-10T12:29:20.236928Z",
     "iopub.status.idle": "2023-01-10T12:29:20.249343Z",
     "shell.execute_reply": "2023-01-10T12:29:20.248071Z"
    },
    "papermill": {
     "duration": 0.020988,
     "end_time": "2023-01-10T12:29:20.252053",
     "exception": false,
     "start_time": "2023-01-10T12:29:20.231065",
     "status": "completed"
    },
    "tags": []
   },
   "outputs": [],
   "source": [
    "import pandas as pd\n",
    "import numpy as np"
   ]
  },
  {
   "cell_type": "code",
   "execution_count": 2,
   "id": "7f053c8e",
   "metadata": {
    "execution": {
     "iopub.execute_input": "2023-01-10T12:29:20.260946Z",
     "iopub.status.busy": "2023-01-10T12:29:20.259842Z",
     "iopub.status.idle": "2023-01-10T12:30:31.180798Z",
     "shell.execute_reply": "2023-01-10T12:30:31.179826Z"
    },
    "papermill": {
     "duration": 70.931098,
     "end_time": "2023-01-10T12:30:31.186586",
     "exception": false,
     "start_time": "2023-01-10T12:29:20.255488",
     "status": "completed"
    },
    "tags": []
   },
   "outputs": [
    {
     "data": {
      "text/html": [
       "<div>\n",
       "<style scoped>\n",
       "    .dataframe tbody tr th:only-of-type {\n",
       "        vertical-align: middle;\n",
       "    }\n",
       "\n",
       "    .dataframe tbody tr th {\n",
       "        vertical-align: top;\n",
       "    }\n",
       "\n",
       "    .dataframe thead th {\n",
       "        text-align: right;\n",
       "    }\n",
       "</style>\n",
       "<table border=\"1\" class=\"dataframe\">\n",
       "  <thead>\n",
       "    <tr style=\"text-align: right;\">\n",
       "      <th></th>\n",
       "      <th>InvoiceNo</th>\n",
       "      <th>StockCode</th>\n",
       "      <th>Description</th>\n",
       "      <th>Quantity</th>\n",
       "      <th>InvoiceDate</th>\n",
       "      <th>UnitPrice</th>\n",
       "      <th>CustomerID</th>\n",
       "      <th>Country</th>\n",
       "    </tr>\n",
       "  </thead>\n",
       "  <tbody>\n",
       "    <tr>\n",
       "      <th>0</th>\n",
       "      <td>536365</td>\n",
       "      <td>85123A</td>\n",
       "      <td>WHITE HANGING HEART T-LIGHT HOLDER</td>\n",
       "      <td>6</td>\n",
       "      <td>2010-12-01 08:26:00</td>\n",
       "      <td>2.55</td>\n",
       "      <td>17850.0</td>\n",
       "      <td>United Kingdom</td>\n",
       "    </tr>\n",
       "    <tr>\n",
       "      <th>1</th>\n",
       "      <td>536365</td>\n",
       "      <td>71053</td>\n",
       "      <td>WHITE METAL LANTERN</td>\n",
       "      <td>6</td>\n",
       "      <td>2010-12-01 08:26:00</td>\n",
       "      <td>3.39</td>\n",
       "      <td>17850.0</td>\n",
       "      <td>United Kingdom</td>\n",
       "    </tr>\n",
       "    <tr>\n",
       "      <th>2</th>\n",
       "      <td>536365</td>\n",
       "      <td>84406B</td>\n",
       "      <td>CREAM CUPID HEARTS COAT HANGER</td>\n",
       "      <td>8</td>\n",
       "      <td>2010-12-01 08:26:00</td>\n",
       "      <td>2.75</td>\n",
       "      <td>17850.0</td>\n",
       "      <td>United Kingdom</td>\n",
       "    </tr>\n",
       "    <tr>\n",
       "      <th>3</th>\n",
       "      <td>536365</td>\n",
       "      <td>84029G</td>\n",
       "      <td>KNITTED UNION FLAG HOT WATER BOTTLE</td>\n",
       "      <td>6</td>\n",
       "      <td>2010-12-01 08:26:00</td>\n",
       "      <td>3.39</td>\n",
       "      <td>17850.0</td>\n",
       "      <td>United Kingdom</td>\n",
       "    </tr>\n",
       "    <tr>\n",
       "      <th>4</th>\n",
       "      <td>536365</td>\n",
       "      <td>84029E</td>\n",
       "      <td>RED WOOLLY HOTTIE WHITE HEART.</td>\n",
       "      <td>6</td>\n",
       "      <td>2010-12-01 08:26:00</td>\n",
       "      <td>3.39</td>\n",
       "      <td>17850.0</td>\n",
       "      <td>United Kingdom</td>\n",
       "    </tr>\n",
       "  </tbody>\n",
       "</table>\n",
       "</div>"
      ],
      "text/plain": [
       "  InvoiceNo StockCode                          Description  Quantity  \\\n",
       "0    536365    85123A   WHITE HANGING HEART T-LIGHT HOLDER         6   \n",
       "1    536365     71053                  WHITE METAL LANTERN         6   \n",
       "2    536365    84406B       CREAM CUPID HEARTS COAT HANGER         8   \n",
       "3    536365    84029G  KNITTED UNION FLAG HOT WATER BOTTLE         6   \n",
       "4    536365    84029E       RED WOOLLY HOTTIE WHITE HEART.         6   \n",
       "\n",
       "          InvoiceDate  UnitPrice  CustomerID         Country  \n",
       "0 2010-12-01 08:26:00       2.55     17850.0  United Kingdom  \n",
       "1 2010-12-01 08:26:00       3.39     17850.0  United Kingdom  \n",
       "2 2010-12-01 08:26:00       2.75     17850.0  United Kingdom  \n",
       "3 2010-12-01 08:26:00       3.39     17850.0  United Kingdom  \n",
       "4 2010-12-01 08:26:00       3.39     17850.0  United Kingdom  "
      ]
     },
     "execution_count": 2,
     "metadata": {},
     "output_type": "execute_result"
    }
   ],
   "source": [
    "data = pd.read_excel(\"/kaggle/input/customer-segmentation-dataset/Online Retail.xlsx\")\n",
    "data.head()"
   ]
  },
  {
   "cell_type": "code",
   "execution_count": 3,
   "id": "578627db",
   "metadata": {
    "execution": {
     "iopub.execute_input": "2023-01-10T12:30:31.195863Z",
     "iopub.status.busy": "2023-01-10T12:30:31.195199Z",
     "iopub.status.idle": "2023-01-10T12:30:31.231290Z",
     "shell.execute_reply": "2023-01-10T12:30:31.230634Z"
    },
    "papermill": {
     "duration": 0.042804,
     "end_time": "2023-01-10T12:30:31.233135",
     "exception": false,
     "start_time": "2023-01-10T12:30:31.190331",
     "status": "completed"
    },
    "tags": []
   },
   "outputs": [
    {
     "data": {
      "text/plain": [
       "85123A    2313\n",
       "22423     2203\n",
       "85099B    2159\n",
       "47566     1727\n",
       "20725     1639\n",
       "          ... \n",
       "21431        1\n",
       "22275        1\n",
       "17001        1\n",
       "90187A       1\n",
       "72759        1\n",
       "Name: StockCode, Length: 4070, dtype: int64"
      ]
     },
     "execution_count": 3,
     "metadata": {},
     "output_type": "execute_result"
    }
   ],
   "source": [
    "data.StockCode.value_counts()"
   ]
  },
  {
   "cell_type": "code",
   "execution_count": 4,
   "id": "1a9c3c76",
   "metadata": {
    "execution": {
     "iopub.execute_input": "2023-01-10T12:30:31.242396Z",
     "iopub.status.busy": "2023-01-10T12:30:31.241632Z",
     "iopub.status.idle": "2023-01-10T12:30:31.249149Z",
     "shell.execute_reply": "2023-01-10T12:30:31.248172Z"
    },
    "papermill": {
     "duration": 0.014583,
     "end_time": "2023-01-10T12:30:31.251566",
     "exception": false,
     "start_time": "2023-01-10T12:30:31.236983",
     "status": "completed"
    },
    "tags": []
   },
   "outputs": [
    {
     "data": {
      "text/plain": [
       "541909"
      ]
     },
     "execution_count": 4,
     "metadata": {},
     "output_type": "execute_result"
    }
   ],
   "source": [
    "len(data)"
   ]
  },
  {
   "cell_type": "code",
   "execution_count": 5,
   "id": "7663eb40",
   "metadata": {
    "execution": {
     "iopub.execute_input": "2023-01-10T12:30:31.260839Z",
     "iopub.status.busy": "2023-01-10T12:30:31.259892Z",
     "iopub.status.idle": "2023-01-10T12:30:31.305277Z",
     "shell.execute_reply": "2023-01-10T12:30:31.303323Z"
    },
    "papermill": {
     "duration": 0.0539,
     "end_time": "2023-01-10T12:30:31.309080",
     "exception": false,
     "start_time": "2023-01-10T12:30:31.255180",
     "status": "completed"
    },
    "tags": []
   },
   "outputs": [
    {
     "data": {
      "text/plain": [
       "573585     1114\n",
       "581219      749\n",
       "581492      731\n",
       "580729      721\n",
       "558475      705\n",
       "           ... \n",
       "554023        1\n",
       "554022        1\n",
       "554021        1\n",
       "554020        1\n",
       "C558901       1\n",
       "Name: InvoiceNo, Length: 25900, dtype: int64"
      ]
     },
     "execution_count": 5,
     "metadata": {},
     "output_type": "execute_result"
    }
   ],
   "source": [
    "data.InvoiceNo.value_counts()"
   ]
  },
  {
   "cell_type": "code",
   "execution_count": 6,
   "id": "b8359b54",
   "metadata": {
    "execution": {
     "iopub.execute_input": "2023-01-10T12:30:31.319211Z",
     "iopub.status.busy": "2023-01-10T12:30:31.318238Z",
     "iopub.status.idle": "2023-01-10T12:30:31.339235Z",
     "shell.execute_reply": "2023-01-10T12:30:31.337418Z"
    },
    "papermill": {
     "duration": 0.029701,
     "end_time": "2023-01-10T12:30:31.342854",
     "exception": false,
     "start_time": "2023-01-10T12:30:31.313153",
     "status": "completed"
    },
    "tags": []
   },
   "outputs": [
    {
     "data": {
      "text/html": [
       "<div>\n",
       "<style scoped>\n",
       "    .dataframe tbody tr th:only-of-type {\n",
       "        vertical-align: middle;\n",
       "    }\n",
       "\n",
       "    .dataframe tbody tr th {\n",
       "        vertical-align: top;\n",
       "    }\n",
       "\n",
       "    .dataframe thead th {\n",
       "        text-align: right;\n",
       "    }\n",
       "</style>\n",
       "<table border=\"1\" class=\"dataframe\">\n",
       "  <thead>\n",
       "    <tr style=\"text-align: right;\">\n",
       "      <th></th>\n",
       "      <th>Quantity</th>\n",
       "      <th>UnitPrice</th>\n",
       "    </tr>\n",
       "  </thead>\n",
       "  <tbody>\n",
       "    <tr>\n",
       "      <th>0</th>\n",
       "      <td>6</td>\n",
       "      <td>2.55</td>\n",
       "    </tr>\n",
       "    <tr>\n",
       "      <th>1</th>\n",
       "      <td>6</td>\n",
       "      <td>3.39</td>\n",
       "    </tr>\n",
       "    <tr>\n",
       "      <th>2</th>\n",
       "      <td>8</td>\n",
       "      <td>2.75</td>\n",
       "    </tr>\n",
       "    <tr>\n",
       "      <th>3</th>\n",
       "      <td>6</td>\n",
       "      <td>3.39</td>\n",
       "    </tr>\n",
       "    <tr>\n",
       "      <th>4</th>\n",
       "      <td>6</td>\n",
       "      <td>3.39</td>\n",
       "    </tr>\n",
       "  </tbody>\n",
       "</table>\n",
       "</div>"
      ],
      "text/plain": [
       "   Quantity  UnitPrice\n",
       "0         6       2.55\n",
       "1         6       3.39\n",
       "2         8       2.75\n",
       "3         6       3.39\n",
       "4         6       3.39"
      ]
     },
     "execution_count": 6,
     "metadata": {},
     "output_type": "execute_result"
    }
   ],
   "source": [
    "data_sub = data[[\"Quantity\", \"UnitPrice\"]]\n",
    "data_sub.head()"
   ]
  },
  {
   "cell_type": "code",
   "execution_count": 7,
   "id": "6f4528f0",
   "metadata": {
    "execution": {
     "iopub.execute_input": "2023-01-10T12:30:31.353225Z",
     "iopub.status.busy": "2023-01-10T12:30:31.352791Z",
     "iopub.status.idle": "2023-01-10T12:30:33.959619Z",
     "shell.execute_reply": "2023-01-10T12:30:33.958245Z"
    },
    "papermill": {
     "duration": 2.615261,
     "end_time": "2023-01-10T12:30:33.962562",
     "exception": false,
     "start_time": "2023-01-10T12:30:31.347301",
     "status": "completed"
    },
    "tags": []
   },
   "outputs": [],
   "source": [
    "from sklearn.cluster import KMeans\n",
    "km = KMeans(n_clusters = 2, random_state = 42).fit(data_sub)\n",
    "labels = km.labels_"
   ]
  },
  {
   "cell_type": "markdown",
   "id": "e520b364",
   "metadata": {
    "papermill": {
     "duration": 0.003755,
     "end_time": "2023-01-10T12:30:33.970547",
     "exception": false,
     "start_time": "2023-01-10T12:30:33.966792",
     "status": "completed"
    },
    "tags": []
   },
   "source": [
    "1). Elbow Method <br>\n",
    "2). Davies-Bouldin(DB) Index <br>\n",
    "3). Dunn Index <br>\n",
    "4). Silhouette Coefficient <br>"
   ]
  },
  {
   "cell_type": "markdown",
   "id": "d693a551",
   "metadata": {
    "papermill": {
     "duration": 0.003709,
     "end_time": "2023-01-10T12:30:33.978371",
     "exception": false,
     "start_time": "2023-01-10T12:30:33.974662",
     "status": "completed"
    },
    "tags": []
   },
   "source": [
    "BIRCH Clustering Algorithm"
   ]
  },
  {
   "cell_type": "code",
   "execution_count": 8,
   "id": "23df9c8d",
   "metadata": {
    "execution": {
     "iopub.execute_input": "2023-01-10T12:30:33.988413Z",
     "iopub.status.busy": "2023-01-10T12:30:33.987968Z",
     "iopub.status.idle": "2023-01-10T12:30:57.107474Z",
     "shell.execute_reply": "2023-01-10T12:30:57.106528Z"
    },
    "papermill": {
     "duration": 23.127727,
     "end_time": "2023-01-10T12:30:57.109943",
     "exception": false,
     "start_time": "2023-01-10T12:30:33.982216",
     "status": "completed"
    },
    "tags": []
   },
   "outputs": [
    {
     "data": {
      "image/png": "[encoded data removed]",
      "text/plain": [
       "<Figure size 576x396 with 2 Axes>"
      ]
     },
     "metadata": {},
     "output_type": "display_data"
    },
    {
     "data": {
      "text/plain": [
       "<AxesSubplot:title={'center':'Distortion Score Elbow for KMeans Clustering'}, xlabel='k', ylabel='distortion score'>"
      ]
     },
     "execution_count": 8,
     "metadata": {},
     "output_type": "execute_result"
    }
   ],
   "source": [
    "from yellowbrick.cluster import KElbowVisualizer\n",
    "visualizer = KElbowVisualizer(km, k=(2,10))\n",
    " \n",
    "visualizer.fit(data_sub)        # Fit the data to the visualizer\n",
    "visualizer.show()        # Finalize and render the figure"
   ]
  },
  {
   "cell_type": "code",
   "execution_count": 9,
   "id": "8d78af51",
   "metadata": {
    "execution": {
     "iopub.execute_input": "2023-01-10T12:30:57.121185Z",
     "iopub.status.busy": "2023-01-10T12:30:57.120812Z",
     "iopub.status.idle": "2023-01-10T18:38:34.715684Z",
     "shell.execute_reply": "2023-01-10T18:38:34.714602Z"
    },
    "papermill": {
     "duration": 22057.607358,
     "end_time": "2023-01-10T18:38:34.722097",
     "exception": false,
     "start_time": "2023-01-10T12:30:57.114739",
     "status": "completed"
    },
    "tags": []
   },
   "outputs": [
    {
     "data": {
      "image/png": "[encoded data removed]",
      "text/plain": [
       "<Figure size 1080x576 with 6 Axes>"
      ]
     },
     "metadata": {},
     "output_type": "display_data"
    }
   ],
   "source": [
    "import matplotlib.pyplot as plt\n",
    "from yellowbrick.cluster import SilhouetteVisualizer\n",
    "\n",
    "fig, ax = plt.subplots(3, 2, figsize=(15,8))\n",
    "for i in [2, 3, 4, 5]:\n",
    "    '''\n",
    "    Create KMeans instances for different number of clusters\n",
    "    '''\n",
    "    km = KMeans(n_clusters=i, init='k-means++', n_init=10, max_iter=100, random_state=42)\n",
    "    q, mod = divmod(i, 2)\n",
    "    '''\n",
    "    Create SilhouetteVisualizer instance with KMeans instance\n",
    "    Fit the visualizer\n",
    "    '''\n",
    "    visualizer = SilhouetteVisualizer(km, colors='yellowbrick', ax=ax[q-1][mod])\n",
    "    visualizer.fit(data_sub) "
   ]
  },
  {
   "cell_type": "code",
   "execution_count": null,
   "id": "66046d96",
   "metadata": {
    "papermill": {
     "duration": 0.004519,
     "end_time": "2023-01-10T18:38:34.731423",
     "exception": false,
     "start_time": "2023-01-10T18:38:34.726904",
     "status": "completed"
    },
    "tags": []
   },
   "outputs": [],
   "source": []
  }
 ],
 "metadata": {
  "kernelspec": {
   "display_name": "Python 3",
   "language": "python",
   "name": "python3"
  },
  "language_info": {
   "codemirror_mode": {
    "name": "ipython",
    "version": 3
   },
   "file_extension": ".py",
   "mimetype": "text/x-python",
   "name": "python",
   "nbconvert_exporter": "python",
   "pygments_lexer": "ipython3",
   "version": "3.7.12"
  },
  "papermill": {
   "default_parameters": {},
   "duration": 22163.326352,
   "end_time": "2023-01-10T18:38:35.692628",
   "environment_variables": {},
   "exception": null,
   "input_path": "__notebook__.ipynb",
   "output_path": "__notebook__.ipynb",
   "parameters": {},
   "start_time": "2023-01-10T12:29:12.366276",
   "version": "2.3.4"
  }
 },
 "nbformat": 4,
 "nbformat_minor": 5
}
