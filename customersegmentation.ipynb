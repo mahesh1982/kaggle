{
 "cells": [
  {
   "cell_type": "code",
   "execution_count": 1,
   "id": "a8dfd572",
   "metadata": {
    "execution": {
     "iopub.execute_input": "2023-01-10T05:35:19.384293Z",
     "iopub.status.busy": "2023-01-10T05:35:19.383810Z",
     "iopub.status.idle": "2023-01-10T05:35:19.394644Z",
     "shell.execute_reply": "2023-01-10T05:35:19.393547Z"
    },
    "papermill": {
     "duration": 0.017687,
     "end_time": "2023-01-10T05:35:19.397158",
     "exception": false,
     "start_time": "2023-01-10T05:35:19.379471",
     "status": "completed"
    },
    "tags": []
   },
   "outputs": [],
   "source": [
    "import pandas as pd\n",
    "import numpy as np"
   ]
  },
  {
   "cell_type": "code",
   "execution_count": null,
   "id": "5fc6a898",
   "metadata": {
    "papermill": {
     "duration": 0.001172,
     "end_time": "2023-01-10T05:35:19.400170",
     "exception": false,
     "start_time": "2023-01-10T05:35:19.398998",
     "status": "completed"
    },
    "tags": []
   },
   "outputs": [],
   "source": []
  }
 ],
 "metadata": {
  "kernelspec": {
   "display_name": "Python 3",
   "language": "python",
   "name": "python3"
  },
  "language_info": {
   "codemirror_mode": {
    "name": "ipython",
    "version": 3
   },
   "file_extension": ".py",
   "mimetype": "text/x-python",
   "name": "python",
   "nbconvert_exporter": "python",
   "pygments_lexer": "ipython3",
   "version": "3.7.12"
  },
  "papermill": {
   "default_parameters": {},
   "duration": 9.090981,
   "end_time": "2023-01-10T05:35:20.022408",
   "environment_variables": {},
   "exception": null,
   "input_path": "__notebook__.ipynb",
   "output_path": "__notebook__.ipynb",
   "parameters": {},
   "start_time": "2023-01-10T05:35:10.931427",
   "version": "2.3.4"
  }
 },
 "nbformat": 4,
 "nbformat_minor": 5
}
