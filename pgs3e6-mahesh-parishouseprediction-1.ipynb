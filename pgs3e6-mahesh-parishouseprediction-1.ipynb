{
 "cells": [
  {
   "cell_type": "code",
   "execution_count": 1,
   "id": "05ce9936",
   "metadata": {
    "execution": {
     "iopub.execute_input": "2023-02-11T05:15:15.574187Z",
     "iopub.status.busy": "2023-02-11T05:15:15.573717Z",
     "iopub.status.idle": "2023-02-11T05:15:15.586964Z",
     "shell.execute_reply": "2023-02-11T05:15:15.585520Z"
    },
    "papermill": {
     "duration": 0.032802,
     "end_time": "2023-02-11T05:15:15.589793",
     "exception": false,
     "start_time": "2023-02-11T05:15:15.556991",
     "status": "completed"
    },
    "tags": []
   },
   "outputs": [],
   "source": [
    "import pandas as pd\n",
    "import numpy as np"
   ]
  },
  {
   "cell_type": "code",
   "execution_count": 2,
   "id": "7b1dc70c",
   "metadata": {
    "execution": {
     "iopub.execute_input": "2023-02-11T05:15:15.618615Z",
     "iopub.status.busy": "2023-02-11T05:15:15.618174Z",
     "iopub.status.idle": "2023-02-11T05:15:15.732467Z",
     "shell.execute_reply": "2023-02-11T05:15:15.730966Z"
    },
    "papermill": {
     "duration": 0.133472,
     "end_time": "2023-02-11T05:15:15.736896",
     "exception": false,
     "start_time": "2023-02-11T05:15:15.603424",
     "status": "completed"
    },
    "tags": []
   },
   "outputs": [
    {
     "data": {
      "text/html": [
       "<div>\n",
       "<style scoped>\n",
       "    .dataframe tbody tr th:only-of-type {\n",
       "        vertical-align: middle;\n",
       "    }\n",
       "\n",
       "    .dataframe tbody tr th {\n",
       "        vertical-align: top;\n",
       "    }\n",
       "\n",
       "    .dataframe thead th {\n",
       "        text-align: right;\n",
       "    }\n",
       "</style>\n",
       "<table border=\"1\" class=\"dataframe\">\n",
       "  <thead>\n",
       "    <tr style=\"text-align: right;\">\n",
       "      <th></th>\n",
       "      <th>id</th>\n",
       "      <th>squareMeters</th>\n",
       "      <th>numberOfRooms</th>\n",
       "      <th>hasYard</th>\n",
       "      <th>hasPool</th>\n",
       "      <th>floors</th>\n",
       "      <th>cityCode</th>\n",
       "      <th>cityPartRange</th>\n",
       "      <th>numPrevOwners</th>\n",
       "      <th>made</th>\n",
       "      <th>isNewBuilt</th>\n",
       "      <th>hasStormProtector</th>\n",
       "      <th>basement</th>\n",
       "      <th>attic</th>\n",
       "      <th>garage</th>\n",
       "      <th>hasStorageRoom</th>\n",
       "      <th>hasGuestRoom</th>\n",
       "      <th>price</th>\n",
       "    </tr>\n",
       "  </thead>\n",
       "  <tbody>\n",
       "    <tr>\n",
       "      <th>0</th>\n",
       "      <td>0</td>\n",
       "      <td>34291</td>\n",
       "      <td>24</td>\n",
       "      <td>1</td>\n",
       "      <td>0</td>\n",
       "      <td>47</td>\n",
       "      <td>35693</td>\n",
       "      <td>2</td>\n",
       "      <td>1</td>\n",
       "      <td>2000</td>\n",
       "      <td>0</td>\n",
       "      <td>1</td>\n",
       "      <td>8</td>\n",
       "      <td>5196</td>\n",
       "      <td>369</td>\n",
       "      <td>0</td>\n",
       "      <td>3</td>\n",
       "      <td>3436795.2</td>\n",
       "    </tr>\n",
       "    <tr>\n",
       "      <th>1</th>\n",
       "      <td>1</td>\n",
       "      <td>95145</td>\n",
       "      <td>60</td>\n",
       "      <td>0</td>\n",
       "      <td>1</td>\n",
       "      <td>60</td>\n",
       "      <td>34773</td>\n",
       "      <td>1</td>\n",
       "      <td>4</td>\n",
       "      <td>2000</td>\n",
       "      <td>0</td>\n",
       "      <td>1</td>\n",
       "      <td>729</td>\n",
       "      <td>4496</td>\n",
       "      <td>277</td>\n",
       "      <td>0</td>\n",
       "      <td>6</td>\n",
       "      <td>9519958.0</td>\n",
       "    </tr>\n",
       "    <tr>\n",
       "      <th>2</th>\n",
       "      <td>2</td>\n",
       "      <td>92661</td>\n",
       "      <td>45</td>\n",
       "      <td>1</td>\n",
       "      <td>1</td>\n",
       "      <td>62</td>\n",
       "      <td>45457</td>\n",
       "      <td>4</td>\n",
       "      <td>8</td>\n",
       "      <td>2020</td>\n",
       "      <td>1</td>\n",
       "      <td>1</td>\n",
       "      <td>7473</td>\n",
       "      <td>8953</td>\n",
       "      <td>245</td>\n",
       "      <td>1</td>\n",
       "      <td>9</td>\n",
       "      <td>9276448.1</td>\n",
       "    </tr>\n",
       "    <tr>\n",
       "      <th>3</th>\n",
       "      <td>3</td>\n",
       "      <td>97184</td>\n",
       "      <td>99</td>\n",
       "      <td>0</td>\n",
       "      <td>0</td>\n",
       "      <td>59</td>\n",
       "      <td>15113</td>\n",
       "      <td>1</td>\n",
       "      <td>1</td>\n",
       "      <td>2000</td>\n",
       "      <td>0</td>\n",
       "      <td>1</td>\n",
       "      <td>6424</td>\n",
       "      <td>8522</td>\n",
       "      <td>256</td>\n",
       "      <td>1</td>\n",
       "      <td>9</td>\n",
       "      <td>9725732.2</td>\n",
       "    </tr>\n",
       "    <tr>\n",
       "      <th>4</th>\n",
       "      <td>4</td>\n",
       "      <td>61752</td>\n",
       "      <td>100</td>\n",
       "      <td>0</td>\n",
       "      <td>0</td>\n",
       "      <td>57</td>\n",
       "      <td>64245</td>\n",
       "      <td>8</td>\n",
       "      <td>4</td>\n",
       "      <td>2018</td>\n",
       "      <td>1</td>\n",
       "      <td>0</td>\n",
       "      <td>7151</td>\n",
       "      <td>2786</td>\n",
       "      <td>863</td>\n",
       "      <td>0</td>\n",
       "      <td>7</td>\n",
       "      <td>6181908.8</td>\n",
       "    </tr>\n",
       "  </tbody>\n",
       "</table>\n",
       "</div>"
      ],
      "text/plain": [
       "   id  squareMeters  numberOfRooms  hasYard  hasPool  floors  cityCode  \\\n",
       "0   0         34291             24        1        0      47     35693   \n",
       "1   1         95145             60        0        1      60     34773   \n",
       "2   2         92661             45        1        1      62     45457   \n",
       "3   3         97184             99        0        0      59     15113   \n",
       "4   4         61752            100        0        0      57     64245   \n",
       "\n",
       "   cityPartRange  numPrevOwners  made  isNewBuilt  hasStormProtector  \\\n",
       "0              2              1  2000           0                  1   \n",
       "1              1              4  2000           0                  1   \n",
       "2              4              8  2020           1                  1   \n",
       "3              1              1  2000           0                  1   \n",
       "4              8              4  2018           1                  0   \n",
       "\n",
       "   basement  attic  garage  hasStorageRoom  hasGuestRoom      price  \n",
       "0         8   5196     369               0             3  3436795.2  \n",
       "1       729   4496     277               0             6  9519958.0  \n",
       "2      7473   8953     245               1             9  9276448.1  \n",
       "3      6424   8522     256               1             9  9725732.2  \n",
       "4      7151   2786     863               0             7  6181908.8  "
      ]
     },
     "execution_count": 2,
     "metadata": {},
     "output_type": "execute_result"
    }
   ],
   "source": [
    "train = pd.read_csv(\"/kaggle/input/playground-series-s3e6/train.csv\")\n",
    "train.head()"
   ]
  },
  {
   "cell_type": "code",
   "execution_count": 3,
   "id": "fe6c35a7",
   "metadata": {
    "execution": {
     "iopub.execute_input": "2023-02-11T05:15:15.771024Z",
     "iopub.status.busy": "2023-02-11T05:15:15.770017Z",
     "iopub.status.idle": "2023-02-11T05:15:15.840032Z",
     "shell.execute_reply": "2023-02-11T05:15:15.838560Z"
    },
    "papermill": {
     "duration": 0.08912,
     "end_time": "2023-02-11T05:15:15.842830",
     "exception": false,
     "start_time": "2023-02-11T05:15:15.753710",
     "status": "completed"
    },
    "tags": []
   },
   "outputs": [
    {
     "data": {
      "text/html": [
       "<div>\n",
       "<style scoped>\n",
       "    .dataframe tbody tr th:only-of-type {\n",
       "        vertical-align: middle;\n",
       "    }\n",
       "\n",
       "    .dataframe tbody tr th {\n",
       "        vertical-align: top;\n",
       "    }\n",
       "\n",
       "    .dataframe thead th {\n",
       "        text-align: right;\n",
       "    }\n",
       "</style>\n",
       "<table border=\"1\" class=\"dataframe\">\n",
       "  <thead>\n",
       "    <tr style=\"text-align: right;\">\n",
       "      <th></th>\n",
       "      <th>id</th>\n",
       "      <th>squareMeters</th>\n",
       "      <th>numberOfRooms</th>\n",
       "      <th>hasYard</th>\n",
       "      <th>hasPool</th>\n",
       "      <th>floors</th>\n",
       "      <th>cityCode</th>\n",
       "      <th>cityPartRange</th>\n",
       "      <th>numPrevOwners</th>\n",
       "      <th>made</th>\n",
       "      <th>isNewBuilt</th>\n",
       "      <th>hasStormProtector</th>\n",
       "      <th>basement</th>\n",
       "      <th>attic</th>\n",
       "      <th>garage</th>\n",
       "      <th>hasStorageRoom</th>\n",
       "      <th>hasGuestRoom</th>\n",
       "    </tr>\n",
       "  </thead>\n",
       "  <tbody>\n",
       "    <tr>\n",
       "      <th>0</th>\n",
       "      <td>22730</td>\n",
       "      <td>47580</td>\n",
       "      <td>89</td>\n",
       "      <td>0</td>\n",
       "      <td>1</td>\n",
       "      <td>8</td>\n",
       "      <td>54830</td>\n",
       "      <td>5</td>\n",
       "      <td>3</td>\n",
       "      <td>1995</td>\n",
       "      <td>0</td>\n",
       "      <td>0</td>\n",
       "      <td>6885</td>\n",
       "      <td>8181</td>\n",
       "      <td>241</td>\n",
       "      <td>0</td>\n",
       "      <td>8</td>\n",
       "    </tr>\n",
       "    <tr>\n",
       "      <th>1</th>\n",
       "      <td>22731</td>\n",
       "      <td>62083</td>\n",
       "      <td>38</td>\n",
       "      <td>0</td>\n",
       "      <td>0</td>\n",
       "      <td>87</td>\n",
       "      <td>8576</td>\n",
       "      <td>10</td>\n",
       "      <td>3</td>\n",
       "      <td>1994</td>\n",
       "      <td>1</td>\n",
       "      <td>1</td>\n",
       "      <td>4601</td>\n",
       "      <td>9237</td>\n",
       "      <td>393</td>\n",
       "      <td>1</td>\n",
       "      <td>4</td>\n",
       "    </tr>\n",
       "    <tr>\n",
       "      <th>2</th>\n",
       "      <td>22732</td>\n",
       "      <td>90499</td>\n",
       "      <td>75</td>\n",
       "      <td>1</td>\n",
       "      <td>1</td>\n",
       "      <td>37</td>\n",
       "      <td>62454</td>\n",
       "      <td>9</td>\n",
       "      <td>6</td>\n",
       "      <td>1997</td>\n",
       "      <td>0</td>\n",
       "      <td>1</td>\n",
       "      <td>7454</td>\n",
       "      <td>2680</td>\n",
       "      <td>305</td>\n",
       "      <td>0</td>\n",
       "      <td>2</td>\n",
       "    </tr>\n",
       "    <tr>\n",
       "      <th>3</th>\n",
       "      <td>22733</td>\n",
       "      <td>16354</td>\n",
       "      <td>47</td>\n",
       "      <td>1</td>\n",
       "      <td>1</td>\n",
       "      <td>9</td>\n",
       "      <td>9262</td>\n",
       "      <td>6</td>\n",
       "      <td>5</td>\n",
       "      <td>2019</td>\n",
       "      <td>1</td>\n",
       "      <td>1</td>\n",
       "      <td>705</td>\n",
       "      <td>5097</td>\n",
       "      <td>122</td>\n",
       "      <td>1</td>\n",
       "      <td>5</td>\n",
       "    </tr>\n",
       "    <tr>\n",
       "      <th>4</th>\n",
       "      <td>22734</td>\n",
       "      <td>67510</td>\n",
       "      <td>8</td>\n",
       "      <td>0</td>\n",
       "      <td>0</td>\n",
       "      <td>55</td>\n",
       "      <td>24112</td>\n",
       "      <td>3</td>\n",
       "      <td>7</td>\n",
       "      <td>2014</td>\n",
       "      <td>1</td>\n",
       "      <td>1</td>\n",
       "      <td>3715</td>\n",
       "      <td>7979</td>\n",
       "      <td>401</td>\n",
       "      <td>1</td>\n",
       "      <td>9</td>\n",
       "    </tr>\n",
       "  </tbody>\n",
       "</table>\n",
       "</div>"
      ],
      "text/plain": [
       "      id  squareMeters  numberOfRooms  hasYard  hasPool  floors  cityCode  \\\n",
       "0  22730         47580             89        0        1       8     54830   \n",
       "1  22731         62083             38        0        0      87      8576   \n",
       "2  22732         90499             75        1        1      37     62454   \n",
       "3  22733         16354             47        1        1       9      9262   \n",
       "4  22734         67510              8        0        0      55     24112   \n",
       "\n",
       "   cityPartRange  numPrevOwners  made  isNewBuilt  hasStormProtector  \\\n",
       "0              5              3  1995           0                  0   \n",
       "1             10              3  1994           1                  1   \n",
       "2              9              6  1997           0                  1   \n",
       "3              6              5  2019           1                  1   \n",
       "4              3              7  2014           1                  1   \n",
       "\n",
       "   basement  attic  garage  hasStorageRoom  hasGuestRoom  \n",
       "0      6885   8181     241               0             8  \n",
       "1      4601   9237     393               1             4  \n",
       "2      7454   2680     305               0             2  \n",
       "3       705   5097     122               1             5  \n",
       "4      3715   7979     401               1             9  "
      ]
     },
     "execution_count": 3,
     "metadata": {},
     "output_type": "execute_result"
    }
   ],
   "source": [
    "test = pd.read_csv(\"/kaggle/input/playground-series-s3e6/test.csv\")\n",
    "test.head()"
   ]
  },
  {
   "cell_type": "code",
   "execution_count": 4,
   "id": "12cfb461",
   "metadata": {
    "execution": {
     "iopub.execute_input": "2023-02-11T05:15:15.876209Z",
     "iopub.status.busy": "2023-02-11T05:15:15.875297Z",
     "iopub.status.idle": "2023-02-11T05:15:15.930337Z",
     "shell.execute_reply": "2023-02-11T05:15:15.928947Z"
    },
    "papermill": {
     "duration": 0.07475,
     "end_time": "2023-02-11T05:15:15.933211",
     "exception": false,
     "start_time": "2023-02-11T05:15:15.858461",
     "status": "completed"
    },
    "tags": []
   },
   "outputs": [
    {
     "data": {
      "text/html": [
       "<div>\n",
       "<style scoped>\n",
       "    .dataframe tbody tr th:only-of-type {\n",
       "        vertical-align: middle;\n",
       "    }\n",
       "\n",
       "    .dataframe tbody tr th {\n",
       "        vertical-align: top;\n",
       "    }\n",
       "\n",
       "    .dataframe thead th {\n",
       "        text-align: right;\n",
       "    }\n",
       "</style>\n",
       "<table border=\"1\" class=\"dataframe\">\n",
       "  <thead>\n",
       "    <tr style=\"text-align: right;\">\n",
       "      <th></th>\n",
       "      <th>squareMeters</th>\n",
       "      <th>numberOfRooms</th>\n",
       "      <th>hasYard</th>\n",
       "      <th>hasPool</th>\n",
       "      <th>floors</th>\n",
       "      <th>cityCode</th>\n",
       "      <th>cityPartRange</th>\n",
       "      <th>numPrevOwners</th>\n",
       "      <th>made</th>\n",
       "      <th>isNewBuilt</th>\n",
       "      <th>hasStormProtector</th>\n",
       "      <th>basement</th>\n",
       "      <th>attic</th>\n",
       "      <th>garage</th>\n",
       "      <th>hasStorageRoom</th>\n",
       "      <th>hasGuestRoom</th>\n",
       "      <th>price</th>\n",
       "    </tr>\n",
       "  </thead>\n",
       "  <tbody>\n",
       "    <tr>\n",
       "      <th>0</th>\n",
       "      <td>75523</td>\n",
       "      <td>3</td>\n",
       "      <td>0</td>\n",
       "      <td>1</td>\n",
       "      <td>63</td>\n",
       "      <td>9373</td>\n",
       "      <td>3</td>\n",
       "      <td>8</td>\n",
       "      <td>2005</td>\n",
       "      <td>0</td>\n",
       "      <td>1</td>\n",
       "      <td>4313</td>\n",
       "      <td>9005</td>\n",
       "      <td>956</td>\n",
       "      <td>0</td>\n",
       "      <td>7</td>\n",
       "      <td>7559081.5</td>\n",
       "    </tr>\n",
       "    <tr>\n",
       "      <th>1</th>\n",
       "      <td>80771</td>\n",
       "      <td>39</td>\n",
       "      <td>1</td>\n",
       "      <td>1</td>\n",
       "      <td>98</td>\n",
       "      <td>39381</td>\n",
       "      <td>8</td>\n",
       "      <td>6</td>\n",
       "      <td>2015</td>\n",
       "      <td>1</td>\n",
       "      <td>0</td>\n",
       "      <td>3653</td>\n",
       "      <td>2436</td>\n",
       "      <td>128</td>\n",
       "      <td>1</td>\n",
       "      <td>2</td>\n",
       "      <td>8085989.5</td>\n",
       "    </tr>\n",
       "    <tr>\n",
       "      <th>2</th>\n",
       "      <td>55712</td>\n",
       "      <td>58</td>\n",
       "      <td>0</td>\n",
       "      <td>1</td>\n",
       "      <td>19</td>\n",
       "      <td>34457</td>\n",
       "      <td>6</td>\n",
       "      <td>8</td>\n",
       "      <td>2021</td>\n",
       "      <td>0</td>\n",
       "      <td>0</td>\n",
       "      <td>2937</td>\n",
       "      <td>8852</td>\n",
       "      <td>135</td>\n",
       "      <td>1</td>\n",
       "      <td>9</td>\n",
       "      <td>5574642.1</td>\n",
       "    </tr>\n",
       "    <tr>\n",
       "      <th>3</th>\n",
       "      <td>32316</td>\n",
       "      <td>47</td>\n",
       "      <td>0</td>\n",
       "      <td>0</td>\n",
       "      <td>6</td>\n",
       "      <td>27939</td>\n",
       "      <td>10</td>\n",
       "      <td>4</td>\n",
       "      <td>2012</td>\n",
       "      <td>0</td>\n",
       "      <td>1</td>\n",
       "      <td>659</td>\n",
       "      <td>7141</td>\n",
       "      <td>359</td>\n",
       "      <td>0</td>\n",
       "      <td>3</td>\n",
       "      <td>3232561.2</td>\n",
       "    </tr>\n",
       "    <tr>\n",
       "      <th>4</th>\n",
       "      <td>70429</td>\n",
       "      <td>19</td>\n",
       "      <td>1</td>\n",
       "      <td>1</td>\n",
       "      <td>90</td>\n",
       "      <td>38045</td>\n",
       "      <td>3</td>\n",
       "      <td>7</td>\n",
       "      <td>1990</td>\n",
       "      <td>1</td>\n",
       "      <td>0</td>\n",
       "      <td>8435</td>\n",
       "      <td>2429</td>\n",
       "      <td>292</td>\n",
       "      <td>1</td>\n",
       "      <td>4</td>\n",
       "      <td>7055052.0</td>\n",
       "    </tr>\n",
       "  </tbody>\n",
       "</table>\n",
       "</div>"
      ],
      "text/plain": [
       "   squareMeters  numberOfRooms  hasYard  hasPool  floors  cityCode  \\\n",
       "0         75523              3        0        1      63      9373   \n",
       "1         80771             39        1        1      98     39381   \n",
       "2         55712             58        0        1      19     34457   \n",
       "3         32316             47        0        0       6     27939   \n",
       "4         70429             19        1        1      90     38045   \n",
       "\n",
       "   cityPartRange  numPrevOwners  made  isNewBuilt  hasStormProtector  \\\n",
       "0              3              8  2005           0                  1   \n",
       "1              8              6  2015           1                  0   \n",
       "2              6              8  2021           0                  0   \n",
       "3             10              4  2012           0                  1   \n",
       "4              3              7  1990           1                  0   \n",
       "\n",
       "   basement  attic  garage  hasStorageRoom  hasGuestRoom      price  \n",
       "0      4313   9005     956               0             7  7559081.5  \n",
       "1      3653   2436     128               1             2  8085989.5  \n",
       "2      2937   8852     135               1             9  5574642.1  \n",
       "3       659   7141     359               0             3  3232561.2  \n",
       "4      8435   2429     292               1             4  7055052.0  "
      ]
     },
     "execution_count": 4,
     "metadata": {},
     "output_type": "execute_result"
    }
   ],
   "source": [
    "original_data = pd.read_csv(\"/kaggle/input/paris-housing-price-prediction/ParisHousing.csv\")\n",
    "original_data.head()"
   ]
  },
  {
   "cell_type": "code",
   "execution_count": 5,
   "id": "fd68255d",
   "metadata": {
    "execution": {
     "iopub.execute_input": "2023-02-11T05:15:15.970101Z",
     "iopub.status.busy": "2023-02-11T05:15:15.968905Z",
     "iopub.status.idle": "2023-02-11T05:15:16.003572Z",
     "shell.execute_reply": "2023-02-11T05:15:16.001810Z"
    },
    "papermill": {
     "duration": 0.058681,
     "end_time": "2023-02-11T05:15:16.007211",
     "exception": false,
     "start_time": "2023-02-11T05:15:15.948530",
     "status": "completed"
    },
    "tags": []
   },
   "outputs": [],
   "source": [
    "testid = test['id']\n",
    "train = train.drop(['id'], axis=1)\n",
    "test = test.drop(['id'], axis = 1)"
   ]
  },
  {
   "cell_type": "code",
   "execution_count": 6,
   "id": "bc1a3826",
   "metadata": {
    "execution": {
     "iopub.execute_input": "2023-02-11T05:15:16.041998Z",
     "iopub.status.busy": "2023-02-11T05:15:16.041476Z",
     "iopub.status.idle": "2023-02-11T05:15:16.065756Z",
     "shell.execute_reply": "2023-02-11T05:15:16.064393Z"
    },
    "papermill": {
     "duration": 0.04502,
     "end_time": "2023-02-11T05:15:16.068855",
     "exception": false,
     "start_time": "2023-02-11T05:15:16.023835",
     "status": "completed"
    },
    "tags": []
   },
   "outputs": [
    {
     "data": {
      "text/plain": [
       "(32730, 18)"
      ]
     },
     "execution_count": 6,
     "metadata": {},
     "output_type": "execute_result"
    }
   ],
   "source": [
    "# adding the source column\n",
    "original_data['source'] = 0\n",
    "train['source'] = 1\n",
    "test['source'] = 1\n",
    "\n",
    "# combining the datasets\n",
    "train = pd.concat([train, original_data])\n",
    "train.reset_index(inplace=True, drop=True)\n",
    "train.shape"
   ]
  },
  {
   "cell_type": "code",
   "execution_count": 7,
   "id": "41df6ac1",
   "metadata": {
    "execution": {
     "iopub.execute_input": "2023-02-11T05:15:16.102878Z",
     "iopub.status.busy": "2023-02-11T05:15:16.102370Z",
     "iopub.status.idle": "2023-02-11T05:15:16.134406Z",
     "shell.execute_reply": "2023-02-11T05:15:16.133156Z"
    },
    "papermill": {
     "duration": 0.052348,
     "end_time": "2023-02-11T05:15:16.137438",
     "exception": false,
     "start_time": "2023-02-11T05:15:16.085090",
     "status": "completed"
    },
    "tags": []
   },
   "outputs": [
    {
     "data": {
      "text/html": [
       "<div>\n",
       "<style scoped>\n",
       "    .dataframe tbody tr th:only-of-type {\n",
       "        vertical-align: middle;\n",
       "    }\n",
       "\n",
       "    .dataframe tbody tr th {\n",
       "        vertical-align: top;\n",
       "    }\n",
       "\n",
       "    .dataframe thead th {\n",
       "        text-align: right;\n",
       "    }\n",
       "</style>\n",
       "<table border=\"1\" class=\"dataframe\">\n",
       "  <thead>\n",
       "    <tr style=\"text-align: right;\">\n",
       "      <th></th>\n",
       "      <th>squareMeters</th>\n",
       "      <th>numberOfRooms</th>\n",
       "      <th>hasYard</th>\n",
       "      <th>hasPool</th>\n",
       "      <th>floors</th>\n",
       "      <th>cityCode</th>\n",
       "      <th>cityPartRange</th>\n",
       "      <th>numPrevOwners</th>\n",
       "      <th>made</th>\n",
       "      <th>isNewBuilt</th>\n",
       "      <th>...</th>\n",
       "      <th>attic</th>\n",
       "      <th>garage</th>\n",
       "      <th>hasStorageRoom</th>\n",
       "      <th>hasGuestRoom</th>\n",
       "      <th>price</th>\n",
       "      <th>source</th>\n",
       "      <th>ActualArea</th>\n",
       "      <th>AreaPerHouse</th>\n",
       "      <th>AreaPerRoom</th>\n",
       "      <th>Extra</th>\n",
       "    </tr>\n",
       "  </thead>\n",
       "  <tbody>\n",
       "    <tr>\n",
       "      <th>0</th>\n",
       "      <td>34291</td>\n",
       "      <td>24</td>\n",
       "      <td>1</td>\n",
       "      <td>0</td>\n",
       "      <td>47</td>\n",
       "      <td>35693</td>\n",
       "      <td>2</td>\n",
       "      <td>1</td>\n",
       "      <td>2000</td>\n",
       "      <td>0</td>\n",
       "      <td>...</td>\n",
       "      <td>5196</td>\n",
       "      <td>369</td>\n",
       "      <td>0</td>\n",
       "      <td>3</td>\n",
       "      <td>3436795.2</td>\n",
       "      <td>1</td>\n",
       "      <td>28718</td>\n",
       "      <td>1428.791667</td>\n",
       "      <td>1196.583333</td>\n",
       "      <td>232.208333</td>\n",
       "    </tr>\n",
       "    <tr>\n",
       "      <th>1</th>\n",
       "      <td>95145</td>\n",
       "      <td>60</td>\n",
       "      <td>0</td>\n",
       "      <td>1</td>\n",
       "      <td>60</td>\n",
       "      <td>34773</td>\n",
       "      <td>1</td>\n",
       "      <td>4</td>\n",
       "      <td>2000</td>\n",
       "      <td>0</td>\n",
       "      <td>...</td>\n",
       "      <td>4496</td>\n",
       "      <td>277</td>\n",
       "      <td>0</td>\n",
       "      <td>6</td>\n",
       "      <td>9519958.0</td>\n",
       "      <td>1</td>\n",
       "      <td>89643</td>\n",
       "      <td>1585.750000</td>\n",
       "      <td>1494.050000</td>\n",
       "      <td>91.700000</td>\n",
       "    </tr>\n",
       "    <tr>\n",
       "      <th>2</th>\n",
       "      <td>92661</td>\n",
       "      <td>45</td>\n",
       "      <td>1</td>\n",
       "      <td>1</td>\n",
       "      <td>62</td>\n",
       "      <td>45457</td>\n",
       "      <td>4</td>\n",
       "      <td>8</td>\n",
       "      <td>2020</td>\n",
       "      <td>1</td>\n",
       "      <td>...</td>\n",
       "      <td>8953</td>\n",
       "      <td>245</td>\n",
       "      <td>1</td>\n",
       "      <td>9</td>\n",
       "      <td>9276448.1</td>\n",
       "      <td>1</td>\n",
       "      <td>75990</td>\n",
       "      <td>2059.133333</td>\n",
       "      <td>1688.666667</td>\n",
       "      <td>370.466667</td>\n",
       "    </tr>\n",
       "    <tr>\n",
       "      <th>3</th>\n",
       "      <td>97184</td>\n",
       "      <td>99</td>\n",
       "      <td>0</td>\n",
       "      <td>0</td>\n",
       "      <td>59</td>\n",
       "      <td>15113</td>\n",
       "      <td>1</td>\n",
       "      <td>1</td>\n",
       "      <td>2000</td>\n",
       "      <td>0</td>\n",
       "      <td>...</td>\n",
       "      <td>8522</td>\n",
       "      <td>256</td>\n",
       "      <td>1</td>\n",
       "      <td>9</td>\n",
       "      <td>9725732.2</td>\n",
       "      <td>1</td>\n",
       "      <td>81982</td>\n",
       "      <td>981.656566</td>\n",
       "      <td>828.101010</td>\n",
       "      <td>153.555556</td>\n",
       "    </tr>\n",
       "    <tr>\n",
       "      <th>4</th>\n",
       "      <td>61752</td>\n",
       "      <td>100</td>\n",
       "      <td>0</td>\n",
       "      <td>0</td>\n",
       "      <td>57</td>\n",
       "      <td>64245</td>\n",
       "      <td>8</td>\n",
       "      <td>4</td>\n",
       "      <td>2018</td>\n",
       "      <td>1</td>\n",
       "      <td>...</td>\n",
       "      <td>2786</td>\n",
       "      <td>863</td>\n",
       "      <td>0</td>\n",
       "      <td>7</td>\n",
       "      <td>6181908.8</td>\n",
       "      <td>1</td>\n",
       "      <td>50952</td>\n",
       "      <td>617.520000</td>\n",
       "      <td>509.520000</td>\n",
       "      <td>108.000000</td>\n",
       "    </tr>\n",
       "  </tbody>\n",
       "</table>\n",
       "<p>5 rows × 22 columns</p>\n",
       "</div>"
      ],
      "text/plain": [
       "   squareMeters  numberOfRooms  hasYard  hasPool  floors  cityCode  \\\n",
       "0         34291             24        1        0      47     35693   \n",
       "1         95145             60        0        1      60     34773   \n",
       "2         92661             45        1        1      62     45457   \n",
       "3         97184             99        0        0      59     15113   \n",
       "4         61752            100        0        0      57     64245   \n",
       "\n",
       "   cityPartRange  numPrevOwners  made  isNewBuilt  ...  attic  garage  \\\n",
       "0              2              1  2000           0  ...   5196     369   \n",
       "1              1              4  2000           0  ...   4496     277   \n",
       "2              4              8  2020           1  ...   8953     245   \n",
       "3              1              1  2000           0  ...   8522     256   \n",
       "4              8              4  2018           1  ...   2786     863   \n",
       "\n",
       "   hasStorageRoom  hasGuestRoom      price  source  ActualArea  AreaPerHouse  \\\n",
       "0               0             3  3436795.2       1       28718   1428.791667   \n",
       "1               0             6  9519958.0       1       89643   1585.750000   \n",
       "2               1             9  9276448.1       1       75990   2059.133333   \n",
       "3               1             9  9725732.2       1       81982    981.656566   \n",
       "4               0             7  6181908.8       1       50952    617.520000   \n",
       "\n",
       "   AreaPerRoom       Extra  \n",
       "0  1196.583333  232.208333  \n",
       "1  1494.050000   91.700000  \n",
       "2  1688.666667  370.466667  \n",
       "3   828.101010  153.555556  \n",
       "4   509.520000  108.000000  \n",
       "\n",
       "[5 rows x 22 columns]"
      ]
     },
     "execution_count": 7,
     "metadata": {},
     "output_type": "execute_result"
    }
   ],
   "source": [
    "train[\"ActualArea\"] = train['squareMeters'] - train['basement'] - train['attic']-train['garage']\n",
    "train['AreaPerHouse'] = train['squareMeters'] / train['numberOfRooms']\n",
    "train['AreaPerRoom'] = train['ActualArea'] / train['numberOfRooms']\n",
    "train['Extra'] = train['AreaPerHouse'] - train['AreaPerRoom']\n",
    "train.head()"
   ]
  },
  {
   "cell_type": "code",
   "execution_count": 8,
   "id": "6238d032",
   "metadata": {
    "execution": {
     "iopub.execute_input": "2023-02-11T05:15:16.170823Z",
     "iopub.status.busy": "2023-02-11T05:15:16.170307Z",
     "iopub.status.idle": "2023-02-11T05:15:16.200796Z",
     "shell.execute_reply": "2023-02-11T05:15:16.199414Z"
    },
    "papermill": {
     "duration": 0.050762,
     "end_time": "2023-02-11T05:15:16.203686",
     "exception": false,
     "start_time": "2023-02-11T05:15:16.152924",
     "status": "completed"
    },
    "tags": []
   },
   "outputs": [
    {
     "data": {
      "text/html": [
       "<div>\n",
       "<style scoped>\n",
       "    .dataframe tbody tr th:only-of-type {\n",
       "        vertical-align: middle;\n",
       "    }\n",
       "\n",
       "    .dataframe tbody tr th {\n",
       "        vertical-align: top;\n",
       "    }\n",
       "\n",
       "    .dataframe thead th {\n",
       "        text-align: right;\n",
       "    }\n",
       "</style>\n",
       "<table border=\"1\" class=\"dataframe\">\n",
       "  <thead>\n",
       "    <tr style=\"text-align: right;\">\n",
       "      <th></th>\n",
       "      <th>squareMeters</th>\n",
       "      <th>numberOfRooms</th>\n",
       "      <th>hasYard</th>\n",
       "      <th>hasPool</th>\n",
       "      <th>floors</th>\n",
       "      <th>cityCode</th>\n",
       "      <th>cityPartRange</th>\n",
       "      <th>numPrevOwners</th>\n",
       "      <th>made</th>\n",
       "      <th>isNewBuilt</th>\n",
       "      <th>...</th>\n",
       "      <th>basement</th>\n",
       "      <th>attic</th>\n",
       "      <th>garage</th>\n",
       "      <th>hasStorageRoom</th>\n",
       "      <th>hasGuestRoom</th>\n",
       "      <th>source</th>\n",
       "      <th>ActualArea</th>\n",
       "      <th>AreaPerHouse</th>\n",
       "      <th>AreaPerRoom</th>\n",
       "      <th>Extra</th>\n",
       "    </tr>\n",
       "  </thead>\n",
       "  <tbody>\n",
       "    <tr>\n",
       "      <th>0</th>\n",
       "      <td>47580</td>\n",
       "      <td>89</td>\n",
       "      <td>0</td>\n",
       "      <td>1</td>\n",
       "      <td>8</td>\n",
       "      <td>54830</td>\n",
       "      <td>5</td>\n",
       "      <td>3</td>\n",
       "      <td>1995</td>\n",
       "      <td>0</td>\n",
       "      <td>...</td>\n",
       "      <td>6885</td>\n",
       "      <td>8181</td>\n",
       "      <td>241</td>\n",
       "      <td>0</td>\n",
       "      <td>8</td>\n",
       "      <td>1</td>\n",
       "      <td>32273</td>\n",
       "      <td>534.606742</td>\n",
       "      <td>362.617978</td>\n",
       "      <td>171.988764</td>\n",
       "    </tr>\n",
       "    <tr>\n",
       "      <th>1</th>\n",
       "      <td>62083</td>\n",
       "      <td>38</td>\n",
       "      <td>0</td>\n",
       "      <td>0</td>\n",
       "      <td>87</td>\n",
       "      <td>8576</td>\n",
       "      <td>10</td>\n",
       "      <td>3</td>\n",
       "      <td>1994</td>\n",
       "      <td>1</td>\n",
       "      <td>...</td>\n",
       "      <td>4601</td>\n",
       "      <td>9237</td>\n",
       "      <td>393</td>\n",
       "      <td>1</td>\n",
       "      <td>4</td>\n",
       "      <td>1</td>\n",
       "      <td>47852</td>\n",
       "      <td>1633.763158</td>\n",
       "      <td>1259.263158</td>\n",
       "      <td>374.500000</td>\n",
       "    </tr>\n",
       "    <tr>\n",
       "      <th>2</th>\n",
       "      <td>90499</td>\n",
       "      <td>75</td>\n",
       "      <td>1</td>\n",
       "      <td>1</td>\n",
       "      <td>37</td>\n",
       "      <td>62454</td>\n",
       "      <td>9</td>\n",
       "      <td>6</td>\n",
       "      <td>1997</td>\n",
       "      <td>0</td>\n",
       "      <td>...</td>\n",
       "      <td>7454</td>\n",
       "      <td>2680</td>\n",
       "      <td>305</td>\n",
       "      <td>0</td>\n",
       "      <td>2</td>\n",
       "      <td>1</td>\n",
       "      <td>80060</td>\n",
       "      <td>1206.653333</td>\n",
       "      <td>1067.466667</td>\n",
       "      <td>139.186667</td>\n",
       "    </tr>\n",
       "    <tr>\n",
       "      <th>3</th>\n",
       "      <td>16354</td>\n",
       "      <td>47</td>\n",
       "      <td>1</td>\n",
       "      <td>1</td>\n",
       "      <td>9</td>\n",
       "      <td>9262</td>\n",
       "      <td>6</td>\n",
       "      <td>5</td>\n",
       "      <td>2019</td>\n",
       "      <td>1</td>\n",
       "      <td>...</td>\n",
       "      <td>705</td>\n",
       "      <td>5097</td>\n",
       "      <td>122</td>\n",
       "      <td>1</td>\n",
       "      <td>5</td>\n",
       "      <td>1</td>\n",
       "      <td>10430</td>\n",
       "      <td>347.957447</td>\n",
       "      <td>221.914894</td>\n",
       "      <td>126.042553</td>\n",
       "    </tr>\n",
       "    <tr>\n",
       "      <th>4</th>\n",
       "      <td>67510</td>\n",
       "      <td>8</td>\n",
       "      <td>0</td>\n",
       "      <td>0</td>\n",
       "      <td>55</td>\n",
       "      <td>24112</td>\n",
       "      <td>3</td>\n",
       "      <td>7</td>\n",
       "      <td>2014</td>\n",
       "      <td>1</td>\n",
       "      <td>...</td>\n",
       "      <td>3715</td>\n",
       "      <td>7979</td>\n",
       "      <td>401</td>\n",
       "      <td>1</td>\n",
       "      <td>9</td>\n",
       "      <td>1</td>\n",
       "      <td>55415</td>\n",
       "      <td>8438.750000</td>\n",
       "      <td>6926.875000</td>\n",
       "      <td>1511.875000</td>\n",
       "    </tr>\n",
       "  </tbody>\n",
       "</table>\n",
       "<p>5 rows × 21 columns</p>\n",
       "</div>"
      ],
      "text/plain": [
       "   squareMeters  numberOfRooms  hasYard  hasPool  floors  cityCode  \\\n",
       "0         47580             89        0        1       8     54830   \n",
       "1         62083             38        0        0      87      8576   \n",
       "2         90499             75        1        1      37     62454   \n",
       "3         16354             47        1        1       9      9262   \n",
       "4         67510              8        0        0      55     24112   \n",
       "\n",
       "   cityPartRange  numPrevOwners  made  isNewBuilt  ...  basement  attic  \\\n",
       "0              5              3  1995           0  ...      6885   8181   \n",
       "1             10              3  1994           1  ...      4601   9237   \n",
       "2              9              6  1997           0  ...      7454   2680   \n",
       "3              6              5  2019           1  ...       705   5097   \n",
       "4              3              7  2014           1  ...      3715   7979   \n",
       "\n",
       "   garage  hasStorageRoom  hasGuestRoom  source  ActualArea  AreaPerHouse  \\\n",
       "0     241               0             8       1       32273    534.606742   \n",
       "1     393               1             4       1       47852   1633.763158   \n",
       "2     305               0             2       1       80060   1206.653333   \n",
       "3     122               1             5       1       10430    347.957447   \n",
       "4     401               1             9       1       55415   8438.750000   \n",
       "\n",
       "   AreaPerRoom        Extra  \n",
       "0   362.617978   171.988764  \n",
       "1  1259.263158   374.500000  \n",
       "2  1067.466667   139.186667  \n",
       "3   221.914894   126.042553  \n",
       "4  6926.875000  1511.875000  \n",
       "\n",
       "[5 rows x 21 columns]"
      ]
     },
     "execution_count": 8,
     "metadata": {},
     "output_type": "execute_result"
    }
   ],
   "source": [
    "test[\"ActualArea\"] = test['squareMeters'] - test['basement'] - test['attic']-test['garage']\n",
    "test['AreaPerHouse'] = test['squareMeters'] / test['numberOfRooms']\n",
    "test['AreaPerRoom'] = test['ActualArea'] / test['numberOfRooms']\n",
    "test['Extra'] = test['AreaPerHouse'] - test['AreaPerRoom']\n",
    "test.head()"
   ]
  },
  {
   "cell_type": "code",
   "execution_count": 9,
   "id": "7768a668",
   "metadata": {
    "execution": {
     "iopub.execute_input": "2023-02-11T05:15:16.237439Z",
     "iopub.status.busy": "2023-02-11T05:15:16.236955Z",
     "iopub.status.idle": "2023-02-11T05:15:16.254899Z",
     "shell.execute_reply": "2023-02-11T05:15:16.253324Z"
    },
    "papermill": {
     "duration": 0.038573,
     "end_time": "2023-02-11T05:15:16.258064",
     "exception": false,
     "start_time": "2023-02-11T05:15:16.219491",
     "status": "completed"
    },
    "tags": []
   },
   "outputs": [
    {
     "data": {
      "text/plain": [
       "count    3.273000e+04\n",
       "mean     4.758955e+04\n",
       "std      4.425270e+04\n",
       "min      8.900000e+01\n",
       "25%      2.158100e+04\n",
       "50%      4.613200e+04\n",
       "75%      7.254500e+04\n",
       "max      6.071330e+06\n",
       "Name: squareMeters, dtype: float64"
      ]
     },
     "execution_count": 9,
     "metadata": {},
     "output_type": "execute_result"
    }
   ],
   "source": [
    "train['squareMeters'].describe()"
   ]
  },
  {
   "cell_type": "code",
   "execution_count": 10,
   "id": "57482612",
   "metadata": {
    "execution": {
     "iopub.execute_input": "2023-02-11T05:15:16.296769Z",
     "iopub.status.busy": "2023-02-11T05:15:16.295892Z",
     "iopub.status.idle": "2023-02-11T05:15:16.305235Z",
     "shell.execute_reply": "2023-02-11T05:15:16.303797Z"
    },
    "papermill": {
     "duration": 0.032033,
     "end_time": "2023-02-11T05:15:16.307944",
     "exception": false,
     "start_time": "2023-02-11T05:15:16.275911",
     "status": "completed"
    },
    "tags": []
   },
   "outputs": [],
   "source": [
    "def outliers(df, var):\n",
    "    Q1 = df[var].quantile(0.25)\n",
    "    Q3 = df[var].quantile(0.75)\n",
    "    IQR = Q3 - Q1\n",
    "    O1 = Q1 - (1.5*IQR)\n",
    "    O3 = Q3 + (1.5*IQR)\n",
    "    df.loc[(df[var] <= O1), var] = O1\n",
    "    df.loc[(df[var] >= O3), var] = O3\n",
    "    return df[var]"
   ]
  },
  {
   "cell_type": "code",
   "execution_count": 11,
   "id": "9c4e2e19",
   "metadata": {
    "execution": {
     "iopub.execute_input": "2023-02-11T05:15:16.344127Z",
     "iopub.status.busy": "2023-02-11T05:15:16.343330Z",
     "iopub.status.idle": "2023-02-11T05:15:16.364707Z",
     "shell.execute_reply": "2023-02-11T05:15:16.363272Z"
    },
    "papermill": {
     "duration": 0.042405,
     "end_time": "2023-02-11T05:15:16.367899",
     "exception": false,
     "start_time": "2023-02-11T05:15:16.325494",
     "status": "completed"
    },
    "tags": []
   },
   "outputs": [
    {
     "data": {
      "text/plain": [
       "count     32730.000000\n",
       "mean      47408.607241\n",
       "std       29153.381016\n",
       "min          89.000000\n",
       "25%       21581.000000\n",
       "50%       46132.000000\n",
       "75%       72545.000000\n",
       "max      148991.000000\n",
       "Name: squareMeters, dtype: float64"
      ]
     },
     "execution_count": 11,
     "metadata": {},
     "output_type": "execute_result"
    }
   ],
   "source": [
    "train['squareMeters'] = outliers(train, 'squareMeters')\n",
    "train['squareMeters'].describe()"
   ]
  },
  {
   "cell_type": "code",
   "execution_count": 12,
   "id": "891b4bc3",
   "metadata": {
    "execution": {
     "iopub.execute_input": "2023-02-11T05:15:16.404200Z",
     "iopub.status.busy": "2023-02-11T05:15:16.403299Z",
     "iopub.status.idle": "2023-02-11T05:15:16.423672Z",
     "shell.execute_reply": "2023-02-11T05:15:16.422392Z"
    },
    "papermill": {
     "duration": 0.042443,
     "end_time": "2023-02-11T05:15:16.426624",
     "exception": false,
     "start_time": "2023-02-11T05:15:16.384181",
     "status": "completed"
    },
    "tags": []
   },
   "outputs": [
    {
     "data": {
      "text/plain": [
       "count    15154.000000\n",
       "mean     45729.407681\n",
       "std      29200.142520\n",
       "min         69.000000\n",
       "25%      19189.000000\n",
       "50%      43802.000000\n",
       "75%      70898.000000\n",
       "max      99999.000000\n",
       "Name: squareMeters, dtype: float64"
      ]
     },
     "execution_count": 12,
     "metadata": {},
     "output_type": "execute_result"
    }
   ],
   "source": [
    "test['squareMeters'] = outliers(test, 'squareMeters')\n",
    "test['squareMeters'].describe()"
   ]
  },
  {
   "cell_type": "code",
   "execution_count": 13,
   "id": "7a2e3897",
   "metadata": {
    "execution": {
     "iopub.execute_input": "2023-02-11T05:15:16.463378Z",
     "iopub.status.busy": "2023-02-11T05:15:16.462455Z",
     "iopub.status.idle": "2023-02-11T05:15:16.470472Z",
     "shell.execute_reply": "2023-02-11T05:15:16.468954Z"
    },
    "papermill": {
     "duration": 0.030528,
     "end_time": "2023-02-11T05:15:16.473388",
     "exception": false,
     "start_time": "2023-02-11T05:15:16.442860",
     "status": "completed"
    },
    "tags": []
   },
   "outputs": [
    {
     "data": {
      "text/plain": [
       "Index(['squareMeters', 'numberOfRooms', 'hasYard', 'hasPool', 'floors',\n",
       "       'cityCode', 'cityPartRange', 'numPrevOwners', 'made', 'isNewBuilt',\n",
       "       'hasStormProtector', 'basement', 'attic', 'garage', 'hasStorageRoom',\n",
       "       'hasGuestRoom', 'price', 'source', 'ActualArea', 'AreaPerHouse',\n",
       "       'AreaPerRoom', 'Extra'],\n",
       "      dtype='object')"
      ]
     },
     "execution_count": 13,
     "metadata": {},
     "output_type": "execute_result"
    }
   ],
   "source": [
    "train.columns"
   ]
  },
  {
   "cell_type": "code",
   "execution_count": 14,
   "id": "df13f599",
   "metadata": {
    "execution": {
     "iopub.execute_input": "2023-02-11T05:15:16.508114Z",
     "iopub.status.busy": "2023-02-11T05:15:16.507527Z",
     "iopub.status.idle": "2023-02-11T05:15:16.527496Z",
     "shell.execute_reply": "2023-02-11T05:15:16.526219Z"
    },
    "papermill": {
     "duration": 0.040379,
     "end_time": "2023-02-11T05:15:16.530094",
     "exception": false,
     "start_time": "2023-02-11T05:15:16.489715",
     "status": "completed"
    },
    "tags": []
   },
   "outputs": [
    {
     "data": {
      "text/plain": [
       "count    32730.000000\n",
       "mean        48.887993\n",
       "std         28.424371\n",
       "min          1.000000\n",
       "25%         25.000000\n",
       "50%         48.000000\n",
       "75%         75.000000\n",
       "max        100.000000\n",
       "Name: numberOfRooms, dtype: float64"
      ]
     },
     "execution_count": 14,
     "metadata": {},
     "output_type": "execute_result"
    }
   ],
   "source": [
    "train['numberOfRooms'] = outliers(train, 'numberOfRooms')\n",
    "train['numberOfRooms'].describe()"
   ]
  },
  {
   "cell_type": "code",
   "execution_count": 15,
   "id": "0ebb9067",
   "metadata": {
    "execution": {
     "iopub.execute_input": "2023-02-11T05:15:16.565368Z",
     "iopub.status.busy": "2023-02-11T05:15:16.564777Z",
     "iopub.status.idle": "2023-02-11T05:15:16.584031Z",
     "shell.execute_reply": "2023-02-11T05:15:16.582756Z"
    },
    "papermill": {
     "duration": 0.040187,
     "end_time": "2023-02-11T05:15:16.586773",
     "exception": false,
     "start_time": "2023-02-11T05:15:16.546586",
     "status": "completed"
    },
    "tags": []
   },
   "outputs": [
    {
     "data": {
      "text/plain": [
       "count    15154.000000\n",
       "mean        47.874951\n",
       "std         28.164077\n",
       "min          1.000000\n",
       "25%         25.000000\n",
       "50%         46.000000\n",
       "75%         75.000000\n",
       "max        100.000000\n",
       "Name: numberOfRooms, dtype: float64"
      ]
     },
     "execution_count": 15,
     "metadata": {},
     "output_type": "execute_result"
    }
   ],
   "source": [
    "test['numberOfRooms'] = outliers(test, 'numberOfRooms')\n",
    "test['numberOfRooms'].describe()"
   ]
  },
  {
   "cell_type": "code",
   "execution_count": 16,
   "id": "a0642d62",
   "metadata": {
    "execution": {
     "iopub.execute_input": "2023-02-11T05:15:16.622593Z",
     "iopub.status.busy": "2023-02-11T05:15:16.621828Z",
     "iopub.status.idle": "2023-02-11T05:15:16.633986Z",
     "shell.execute_reply": "2023-02-11T05:15:16.632684Z"
    },
    "papermill": {
     "duration": 0.03314,
     "end_time": "2023-02-11T05:15:16.636476",
     "exception": false,
     "start_time": "2023-02-11T05:15:16.603336",
     "status": "completed"
    },
    "tags": []
   },
   "outputs": [
    {
     "data": {
      "text/plain": [
       "0    16826\n",
       "1    15904\n",
       "Name: hasYard, dtype: int64"
      ]
     },
     "execution_count": 16,
     "metadata": {},
     "output_type": "execute_result"
    }
   ],
   "source": [
    "train['hasYard'].value_counts()"
   ]
  },
  {
   "cell_type": "code",
   "execution_count": 17,
   "id": "3e28dd5a",
   "metadata": {
    "execution": {
     "iopub.execute_input": "2023-02-11T05:15:16.671776Z",
     "iopub.status.busy": "2023-02-11T05:15:16.671274Z",
     "iopub.status.idle": "2023-02-11T05:15:16.691188Z",
     "shell.execute_reply": "2023-02-11T05:15:16.689993Z"
    },
    "papermill": {
     "duration": 0.040581,
     "end_time": "2023-02-11T05:15:16.693772",
     "exception": false,
     "start_time": "2023-02-11T05:15:16.653191",
     "status": "completed"
    },
    "tags": []
   },
   "outputs": [
    {
     "data": {
      "text/plain": [
       "0    16826\n",
       "1    15904\n",
       "Name: hasYard, dtype: int64"
      ]
     },
     "execution_count": 17,
     "metadata": {},
     "output_type": "execute_result"
    }
   ],
   "source": [
    "train[train['hasYard'] == 150] = 0\n",
    "train['hasYard'].value_counts()"
   ]
  },
  {
   "cell_type": "code",
   "execution_count": 18,
   "id": "3cebefe3",
   "metadata": {
    "execution": {
     "iopub.execute_input": "2023-02-11T05:15:16.727599Z",
     "iopub.status.busy": "2023-02-11T05:15:16.727177Z",
     "iopub.status.idle": "2023-02-11T05:15:16.735114Z",
     "shell.execute_reply": "2023-02-11T05:15:16.734219Z"
    },
    "papermill": {
     "duration": 0.02712,
     "end_time": "2023-02-11T05:15:16.737120",
     "exception": false,
     "start_time": "2023-02-11T05:15:16.710000",
     "status": "completed"
    },
    "tags": []
   },
   "outputs": [
    {
     "data": {
      "text/plain": [
       "0    7829\n",
       "1    7325\n",
       "Name: hasYard, dtype: int64"
      ]
     },
     "execution_count": 18,
     "metadata": {},
     "output_type": "execute_result"
    }
   ],
   "source": [
    "test['hasYard'].value_counts()"
   ]
  },
  {
   "cell_type": "code",
   "execution_count": 19,
   "id": "9144753d",
   "metadata": {
    "execution": {
     "iopub.execute_input": "2023-02-11T05:15:16.771513Z",
     "iopub.status.busy": "2023-02-11T05:15:16.770437Z",
     "iopub.status.idle": "2023-02-11T05:15:16.780074Z",
     "shell.execute_reply": "2023-02-11T05:15:16.778758Z"
    },
    "papermill": {
     "duration": 0.02936,
     "end_time": "2023-02-11T05:15:16.782530",
     "exception": false,
     "start_time": "2023-02-11T05:15:16.753170",
     "status": "completed"
    },
    "tags": []
   },
   "outputs": [
    {
     "data": {
      "text/plain": [
       "0    17471\n",
       "1    15259\n",
       "Name: hasPool, dtype: int64"
      ]
     },
     "execution_count": 19,
     "metadata": {},
     "output_type": "execute_result"
    }
   ],
   "source": [
    "train['hasPool'].value_counts()"
   ]
  },
  {
   "cell_type": "code",
   "execution_count": 20,
   "id": "fcadad73",
   "metadata": {
    "execution": {
     "iopub.execute_input": "2023-02-11T05:15:16.816982Z",
     "iopub.status.busy": "2023-02-11T05:15:16.816463Z",
     "iopub.status.idle": "2023-02-11T05:15:16.825488Z",
     "shell.execute_reply": "2023-02-11T05:15:16.824391Z"
    },
    "papermill": {
     "duration": 0.028618,
     "end_time": "2023-02-11T05:15:16.827582",
     "exception": false,
     "start_time": "2023-02-11T05:15:16.798964",
     "status": "completed"
    },
    "tags": []
   },
   "outputs": [
    {
     "data": {
      "text/plain": [
       "0    8405\n",
       "1    6749\n",
       "Name: hasPool, dtype: int64"
      ]
     },
     "execution_count": 20,
     "metadata": {},
     "output_type": "execute_result"
    }
   ],
   "source": [
    "test['hasPool'].value_counts()"
   ]
  },
  {
   "cell_type": "code",
   "execution_count": 21,
   "id": "3658d953",
   "metadata": {
    "execution": {
     "iopub.execute_input": "2023-02-11T05:15:16.862097Z",
     "iopub.status.busy": "2023-02-11T05:15:16.861690Z",
     "iopub.status.idle": "2023-02-11T05:15:16.879262Z",
     "shell.execute_reply": "2023-02-11T05:15:16.878080Z"
    },
    "papermill": {
     "duration": 0.037927,
     "end_time": "2023-02-11T05:15:16.881819",
     "exception": false,
     "start_time": "2023-02-11T05:15:16.843892",
     "status": "completed"
    },
    "tags": []
   },
   "outputs": [],
   "source": [
    "train['floors'] = outliers(train, 'floors')\n",
    "test['floors'] = outliers(test, 'floors')"
   ]
  },
  {
   "cell_type": "code",
   "execution_count": 22,
   "id": "01584c96",
   "metadata": {
    "execution": {
     "iopub.execute_input": "2023-02-11T05:15:16.917201Z",
     "iopub.status.busy": "2023-02-11T05:15:16.916641Z",
     "iopub.status.idle": "2023-02-11T05:15:16.929273Z",
     "shell.execute_reply": "2023-02-11T05:15:16.928118Z"
    },
    "papermill": {
     "duration": 0.033519,
     "end_time": "2023-02-11T05:15:16.931841",
     "exception": false,
     "start_time": "2023-02-11T05:15:16.898322",
     "status": "completed"
    },
    "tags": []
   },
   "outputs": [
    {
     "data": {
      "text/plain": [
       "35.0     889\n",
       "38.0     785\n",
       "50.0     756\n",
       "37.0     593\n",
       "55.0     589\n",
       "        ... \n",
       "90.0     155\n",
       "66.0     153\n",
       "93.0     150\n",
       "92.0     106\n",
       "142.5      1\n",
       "Name: floors, Length: 101, dtype: int64"
      ]
     },
     "execution_count": 22,
     "metadata": {},
     "output_type": "execute_result"
    }
   ],
   "source": [
    "train['floors'].value_counts()"
   ]
  },
  {
   "cell_type": "code",
   "execution_count": 23,
   "id": "7cabb0fb",
   "metadata": {
    "execution": {
     "iopub.execute_input": "2023-02-11T05:15:16.967188Z",
     "iopub.status.busy": "2023-02-11T05:15:16.966584Z",
     "iopub.status.idle": "2023-02-11T05:15:16.990097Z",
     "shell.execute_reply": "2023-02-11T05:15:16.989070Z"
    },
    "papermill": {
     "duration": 0.04488,
     "end_time": "2023-02-11T05:15:16.993424",
     "exception": false,
     "start_time": "2023-02-11T05:15:16.948544",
     "status": "completed"
    },
    "tags": []
   },
   "outputs": [],
   "source": [
    "train['cityCode'] = outliers(train, 'cityCode')\n",
    "test['cityCode'] = outliers(test, 'cityCode')"
   ]
  },
  {
   "cell_type": "code",
   "execution_count": 24,
   "id": "d8cc6a96",
   "metadata": {
    "execution": {
     "iopub.execute_input": "2023-02-11T05:15:17.044587Z",
     "iopub.status.busy": "2023-02-11T05:15:17.043696Z",
     "iopub.status.idle": "2023-02-11T05:15:17.055683Z",
     "shell.execute_reply": "2023-02-11T05:15:17.054576Z"
    },
    "papermill": {
     "duration": 0.047466,
     "end_time": "2023-02-11T05:15:17.060659",
     "exception": false,
     "start_time": "2023-02-11T05:15:17.013193",
     "status": "completed"
    },
    "tags": []
   },
   "outputs": [
    {
     "data": {
      "text/plain": [
       "1906.0     71\n",
       "42634.0    37\n",
       "42626.0    36\n",
       "3545.0     34\n",
       "426.0      32\n",
       "           ..\n",
       "72632.0     1\n",
       "69989.0     1\n",
       "21319.0     1\n",
       "42570.0     1\n",
       "55856.0     1\n",
       "Name: cityCode, Length: 10170, dtype: int64"
      ]
     },
     "execution_count": 24,
     "metadata": {},
     "output_type": "execute_result"
    }
   ],
   "source": [
    "train['cityCode'].value_counts()"
   ]
  },
  {
   "cell_type": "code",
   "execution_count": 25,
   "id": "39bcc199",
   "metadata": {
    "execution": {
     "iopub.execute_input": "2023-02-11T05:15:17.104753Z",
     "iopub.status.busy": "2023-02-11T05:15:17.103998Z",
     "iopub.status.idle": "2023-02-11T05:15:17.111758Z",
     "shell.execute_reply": "2023-02-11T05:15:17.110862Z"
    },
    "papermill": {
     "duration": 0.028406,
     "end_time": "2023-02-11T05:15:17.114226",
     "exception": false,
     "start_time": "2023-02-11T05:15:17.085820",
     "status": "completed"
    },
    "tags": []
   },
   "outputs": [
    {
     "data": {
      "text/plain": [
       "8     4290\n",
       "5     3988\n",
       "2     3252\n",
       "9     3221\n",
       "7     3221\n",
       "4     3170\n",
       "6     3099\n",
       "3     2924\n",
       "1     2883\n",
       "10    2682\n",
       "Name: cityPartRange, dtype: int64"
      ]
     },
     "execution_count": 25,
     "metadata": {},
     "output_type": "execute_result"
    }
   ],
   "source": [
    "train['cityPartRange'].value_counts()"
   ]
  },
  {
   "cell_type": "code",
   "execution_count": 26,
   "id": "3e00e9e7",
   "metadata": {
    "execution": {
     "iopub.execute_input": "2023-02-11T05:15:17.150948Z",
     "iopub.status.busy": "2023-02-11T05:15:17.150256Z",
     "iopub.status.idle": "2023-02-11T05:15:17.167480Z",
     "shell.execute_reply": "2023-02-11T05:15:17.166575Z"
    },
    "papermill": {
     "duration": 0.038913,
     "end_time": "2023-02-11T05:15:17.170077",
     "exception": false,
     "start_time": "2023-02-11T05:15:17.131164",
     "status": "completed"
    },
    "tags": []
   },
   "outputs": [
    {
     "data": {
      "text/plain": [
       "8.0     4290\n",
       "5.0     3988\n",
       "2.0     3252\n",
       "9.0     3221\n",
       "7.0     3221\n",
       "4.0     3170\n",
       "6.0     3099\n",
       "3.0     2924\n",
       "1.0     2883\n",
       "10.0    2682\n",
       "Name: cityPartRange, dtype: int64"
      ]
     },
     "execution_count": 26,
     "metadata": {},
     "output_type": "execute_result"
    }
   ],
   "source": [
    "train['cityPartRange'] = outliers(train, 'cityPartRange')\n",
    "train['cityPartRange'].value_counts()"
   ]
  },
  {
   "cell_type": "code",
   "execution_count": 27,
   "id": "0c64a3b1",
   "metadata": {
    "execution": {
     "iopub.execute_input": "2023-02-11T05:15:17.206670Z",
     "iopub.status.busy": "2023-02-11T05:15:17.206002Z",
     "iopub.status.idle": "2023-02-11T05:15:17.220025Z",
     "shell.execute_reply": "2023-02-11T05:15:17.218809Z"
    },
    "papermill": {
     "duration": 0.03567,
     "end_time": "2023-02-11T05:15:17.222490",
     "exception": false,
     "start_time": "2023-02-11T05:15:17.186820",
     "status": "completed"
    },
    "tags": []
   },
   "outputs": [
    {
     "data": {
      "text/plain": [
       "8.0     2120\n",
       "5.0     1971\n",
       "7.0     1557\n",
       "4.0     1489\n",
       "9.0     1462\n",
       "6.0     1457\n",
       "2.0     1437\n",
       "3.0     1260\n",
       "1.0     1235\n",
       "10.0    1166\n",
       "Name: cityPartRange, dtype: int64"
      ]
     },
     "execution_count": 27,
     "metadata": {},
     "output_type": "execute_result"
    }
   ],
   "source": [
    "test['cityPartRange'] = outliers(test, 'cityPartRange')\n",
    "test['cityPartRange'].value_counts()"
   ]
  },
  {
   "cell_type": "code",
   "execution_count": 28,
   "id": "b5733571",
   "metadata": {
    "execution": {
     "iopub.execute_input": "2023-02-11T05:15:17.259092Z",
     "iopub.status.busy": "2023-02-11T05:15:17.258357Z",
     "iopub.status.idle": "2023-02-11T05:15:17.267139Z",
     "shell.execute_reply": "2023-02-11T05:15:17.266121Z"
    },
    "papermill": {
     "duration": 0.029732,
     "end_time": "2023-02-11T05:15:17.269690",
     "exception": false,
     "start_time": "2023-02-11T05:15:17.239958",
     "status": "completed"
    },
    "tags": []
   },
   "outputs": [
    {
     "data": {
      "text/plain": [
       "5     3904\n",
       "8     3610\n",
       "9     3494\n",
       "4     3419\n",
       "7     3411\n",
       "6     3374\n",
       "3     3056\n",
       "2     2972\n",
       "10    2748\n",
       "1     2742\n",
       "Name: numPrevOwners, dtype: int64"
      ]
     },
     "execution_count": 28,
     "metadata": {},
     "output_type": "execute_result"
    }
   ],
   "source": [
    "train['numPrevOwners'].value_counts()"
   ]
  },
  {
   "cell_type": "code",
   "execution_count": 29,
   "id": "1353200f",
   "metadata": {
    "execution": {
     "iopub.execute_input": "2023-02-11T05:15:17.306344Z",
     "iopub.status.busy": "2023-02-11T05:15:17.305953Z",
     "iopub.status.idle": "2023-02-11T05:15:17.322107Z",
     "shell.execute_reply": "2023-02-11T05:15:17.321074Z"
    },
    "papermill": {
     "duration": 0.037659,
     "end_time": "2023-02-11T05:15:17.324463",
     "exception": false,
     "start_time": "2023-02-11T05:15:17.286804",
     "status": "completed"
    },
    "tags": []
   },
   "outputs": [
    {
     "data": {
      "text/plain": [
       "5     3904\n",
       "8     3610\n",
       "9     3494\n",
       "4     3419\n",
       "7     3411\n",
       "6     3374\n",
       "3     3056\n",
       "2     2972\n",
       "10    2748\n",
       "1     2742\n",
       "Name: numPrevOwners, dtype: int64"
      ]
     },
     "execution_count": 29,
     "metadata": {},
     "output_type": "execute_result"
    }
   ],
   "source": [
    "train[train['numPrevOwners'] == 15.5] = 15\n",
    "train['numPrevOwners'].value_counts()"
   ]
  },
  {
   "cell_type": "code",
   "execution_count": 30,
   "id": "e90bec2f",
   "metadata": {
    "execution": {
     "iopub.execute_input": "2023-02-11T05:15:17.362493Z",
     "iopub.status.busy": "2023-02-11T05:15:17.361876Z",
     "iopub.status.idle": "2023-02-11T05:15:17.369411Z",
     "shell.execute_reply": "2023-02-11T05:15:17.368192Z"
    },
    "papermill": {
     "duration": 0.029167,
     "end_time": "2023-02-11T05:15:17.371863",
     "exception": false,
     "start_time": "2023-02-11T05:15:17.342696",
     "status": "completed"
    },
    "tags": []
   },
   "outputs": [
    {
     "data": {
      "text/plain": [
       "5     1945\n",
       "8     1720\n",
       "9     1674\n",
       "7     1621\n",
       "4     1591\n",
       "6     1583\n",
       "2     1361\n",
       "3     1286\n",
       "1     1241\n",
       "10    1132\n",
       "Name: numPrevOwners, dtype: int64"
      ]
     },
     "execution_count": 30,
     "metadata": {},
     "output_type": "execute_result"
    }
   ],
   "source": [
    "test['numPrevOwners'].value_counts()"
   ]
  },
  {
   "cell_type": "code",
   "execution_count": 31,
   "id": "36b3d5b3",
   "metadata": {
    "execution": {
     "iopub.execute_input": "2023-02-11T05:15:17.408960Z",
     "iopub.status.busy": "2023-02-11T05:15:17.408464Z",
     "iopub.status.idle": "2023-02-11T05:15:17.422305Z",
     "shell.execute_reply": "2023-02-11T05:15:17.421380Z"
    },
    "papermill": {
     "duration": 0.035232,
     "end_time": "2023-02-11T05:15:17.424559",
     "exception": false,
     "start_time": "2023-02-11T05:15:17.389327",
     "status": "completed"
    },
    "tags": []
   },
   "outputs": [
    {
     "data": {
      "text/plain": [
       "5     1945\n",
       "8     1720\n",
       "9     1674\n",
       "7     1621\n",
       "4     1591\n",
       "6     1583\n",
       "2     1361\n",
       "3     1286\n",
       "1     1241\n",
       "10    1132\n",
       "Name: numPrevOwners, dtype: int64"
      ]
     },
     "execution_count": 31,
     "metadata": {},
     "output_type": "execute_result"
    }
   ],
   "source": [
    "test[test['numPrevOwners'] == 15.5] = 15\n",
    "test['numPrevOwners'].value_counts()"
   ]
  },
  {
   "cell_type": "code",
   "execution_count": 32,
   "id": "015e359f",
   "metadata": {
    "execution": {
     "iopub.execute_input": "2023-02-11T05:15:17.461802Z",
     "iopub.status.busy": "2023-02-11T05:15:17.461167Z",
     "iopub.status.idle": "2023-02-11T05:15:17.469658Z",
     "shell.execute_reply": "2023-02-11T05:15:17.468548Z"
    },
    "papermill": {
     "duration": 0.030075,
     "end_time": "2023-02-11T05:15:17.472182",
     "exception": false,
     "start_time": "2023-02-11T05:15:17.442107",
     "status": "completed"
    },
    "tags": []
   },
   "outputs": [
    {
     "data": {
      "text/plain": [
       "2000     3883\n",
       "2003     1488\n",
       "2014     1382\n",
       "2015     1341\n",
       "2007     1323\n",
       "2009     1296\n",
       "2013     1286\n",
       "2008     1283\n",
       "2019     1277\n",
       "2018     1261\n",
       "2004     1222\n",
       "2006     1217\n",
       "2016     1217\n",
       "1996     1149\n",
       "2005     1060\n",
       "1998     1037\n",
       "2017     1029\n",
       "1993      971\n",
       "1994      940\n",
       "2020      931\n",
       "1995      916\n",
       "1997      888\n",
       "1999      881\n",
       "2010      443\n",
       "1992      415\n",
       "2021      414\n",
       "1990      394\n",
       "2001      391\n",
       "2011      389\n",
       "2012      356\n",
       "1991      354\n",
       "2002      291\n",
       "10000       5\n",
       "Name: made, dtype: int64"
      ]
     },
     "execution_count": 32,
     "metadata": {},
     "output_type": "execute_result"
    }
   ],
   "source": [
    "train['made'].value_counts()"
   ]
  },
  {
   "cell_type": "code",
   "execution_count": 33,
   "id": "2e7a6cf1",
   "metadata": {
    "execution": {
     "iopub.execute_input": "2023-02-11T05:15:17.508843Z",
     "iopub.status.busy": "2023-02-11T05:15:17.508412Z",
     "iopub.status.idle": "2023-02-11T05:15:17.538931Z",
     "shell.execute_reply": "2023-02-11T05:15:17.537768Z"
    },
    "papermill": {
     "duration": 0.051779,
     "end_time": "2023-02-11T05:15:17.541490",
     "exception": false,
     "start_time": "2023-02-11T05:15:17.489711",
     "status": "completed"
    },
    "tags": []
   },
   "outputs": [
    {
     "data": {
      "text/plain": [
       "2000    3888\n",
       "2003    1488\n",
       "2014    1382\n",
       "2015    1341\n",
       "2007    1323\n",
       "2009    1296\n",
       "2013    1286\n",
       "2008    1283\n",
       "2019    1277\n",
       "2018    1261\n",
       "2004    1222\n",
       "2006    1217\n",
       "2016    1217\n",
       "1996    1149\n",
       "2005    1060\n",
       "1998    1037\n",
       "2017    1029\n",
       "1993     971\n",
       "1994     940\n",
       "2020     931\n",
       "1995     916\n",
       "1997     888\n",
       "1999     881\n",
       "2010     443\n",
       "1992     415\n",
       "2021     414\n",
       "1990     394\n",
       "2001     391\n",
       "2011     389\n",
       "2012     356\n",
       "1991     354\n",
       "2002     291\n",
       "Name: made, dtype: int64"
      ]
     },
     "execution_count": 33,
     "metadata": {},
     "output_type": "execute_result"
    }
   ],
   "source": [
    "train[train['made'] == 15.0] = 2000\n",
    "train[train['made'] == 10000.0] = 2000\n",
    "train[train['made'] == 0.0] = 2000\n",
    "train['made'].value_counts()"
   ]
  },
  {
   "cell_type": "code",
   "execution_count": 34,
   "id": "822071e2",
   "metadata": {
    "execution": {
     "iopub.execute_input": "2023-02-11T05:15:17.579914Z",
     "iopub.status.busy": "2023-02-11T05:15:17.579148Z",
     "iopub.status.idle": "2023-02-11T05:15:17.587340Z",
     "shell.execute_reply": "2023-02-11T05:15:17.586153Z"
    },
    "papermill": {
     "duration": 0.030443,
     "end_time": "2023-02-11T05:15:17.589931",
     "exception": false,
     "start_time": "2023-02-11T05:15:17.559488",
     "status": "completed"
    },
    "tags": []
   },
   "outputs": [
    {
     "data": {
      "text/plain": [
       "2000    2337\n",
       "2003     765\n",
       "2014     711\n",
       "2007     699\n",
       "2019     685\n",
       "2008     682\n",
       "2015     680\n",
       "2009     634\n",
       "2016     605\n",
       "2004     602\n",
       "2013     592\n",
       "2006     565\n",
       "1996     560\n",
       "2005     558\n",
       "2018     520\n",
       "2017     480\n",
       "1993     464\n",
       "1998     460\n",
       "1997     447\n",
       "2020     445\n",
       "1994     425\n",
       "1995     402\n",
       "1999     385\n",
       "2010     128\n",
       "2021      87\n",
       "1990      62\n",
       "2012      50\n",
       "2001      40\n",
       "2011      36\n",
       "1992      30\n",
       "1991      17\n",
       "2002       1\n",
       "Name: made, dtype: int64"
      ]
     },
     "execution_count": 34,
     "metadata": {},
     "output_type": "execute_result"
    }
   ],
   "source": [
    "test['made'].value_counts()"
   ]
  },
  {
   "cell_type": "code",
   "execution_count": 35,
   "id": "b9ef5472",
   "metadata": {
    "execution": {
     "iopub.execute_input": "2023-02-11T05:15:17.628321Z",
     "iopub.status.busy": "2023-02-11T05:15:17.627877Z",
     "iopub.status.idle": "2023-02-11T05:15:17.642558Z",
     "shell.execute_reply": "2023-02-11T05:15:17.641209Z"
    },
    "papermill": {
     "duration": 0.037094,
     "end_time": "2023-02-11T05:15:17.645152",
     "exception": false,
     "start_time": "2023-02-11T05:15:17.608058",
     "status": "completed"
    },
    "tags": []
   },
   "outputs": [
    {
     "data": {
      "text/plain": [
       "2000    2337\n",
       "2003     765\n",
       "2014     711\n",
       "2007     699\n",
       "2019     685\n",
       "2008     682\n",
       "2015     680\n",
       "2009     634\n",
       "2016     605\n",
       "2004     602\n",
       "2013     592\n",
       "2006     565\n",
       "1996     560\n",
       "2005     558\n",
       "2018     520\n",
       "2017     480\n",
       "1993     464\n",
       "1998     460\n",
       "1997     447\n",
       "2020     445\n",
       "1994     425\n",
       "1995     402\n",
       "1999     385\n",
       "2010     128\n",
       "2021      87\n",
       "1990      62\n",
       "2012      50\n",
       "2001      40\n",
       "2011      36\n",
       "1992      30\n",
       "1991      17\n",
       "2002       1\n",
       "Name: made, dtype: int64"
      ]
     },
     "execution_count": 35,
     "metadata": {},
     "output_type": "execute_result"
    }
   ],
   "source": [
    "test[test['made'] == 15.0] = 2000\n",
    "test['made'].value_counts()"
   ]
  },
  {
   "cell_type": "code",
   "execution_count": 36,
   "id": "dd91ba77",
   "metadata": {
    "execution": {
     "iopub.execute_input": "2023-02-11T05:15:17.684366Z",
     "iopub.status.busy": "2023-02-11T05:15:17.683947Z",
     "iopub.status.idle": "2023-02-11T05:15:17.694647Z",
     "shell.execute_reply": "2023-02-11T05:15:17.693436Z"
    },
    "papermill": {
     "duration": 0.032656,
     "end_time": "2023-02-11T05:15:17.697094",
     "exception": false,
     "start_time": "2023-02-11T05:15:17.664438",
     "status": "completed"
    },
    "tags": []
   },
   "outputs": [
    {
     "data": {
      "text/plain": [
       "23    3888\n",
       "20    1488\n",
       "9     1382\n",
       "8     1341\n",
       "16    1323\n",
       "14    1296\n",
       "10    1286\n",
       "15    1283\n",
       "4     1277\n",
       "5     1261\n",
       "19    1222\n",
       "17    1217\n",
       "7     1217\n",
       "27    1149\n",
       "18    1060\n",
       "25    1037\n",
       "6     1029\n",
       "30     971\n",
       "29     940\n",
       "3      931\n",
       "28     916\n",
       "26     888\n",
       "24     881\n",
       "13     443\n",
       "31     415\n",
       "2      414\n",
       "33     394\n",
       "22     391\n",
       "12     389\n",
       "11     356\n",
       "32     354\n",
       "21     291\n",
       "Name: HouseAge, dtype: int64"
      ]
     },
     "execution_count": 36,
     "metadata": {},
     "output_type": "execute_result"
    }
   ],
   "source": [
    "train['HouseAge'] = 2023 - train['made']\n",
    "train['HouseAge'].value_counts()"
   ]
  },
  {
   "cell_type": "code",
   "execution_count": 37,
   "id": "a6438fa2",
   "metadata": {
    "execution": {
     "iopub.execute_input": "2023-02-11T05:15:17.737149Z",
     "iopub.status.busy": "2023-02-11T05:15:17.736637Z",
     "iopub.status.idle": "2023-02-11T05:15:17.749071Z",
     "shell.execute_reply": "2023-02-11T05:15:17.747651Z"
    },
    "papermill": {
     "duration": 0.035614,
     "end_time": "2023-02-11T05:15:17.751747",
     "exception": false,
     "start_time": "2023-02-11T05:15:17.716133",
     "status": "completed"
    },
    "tags": []
   },
   "outputs": [
    {
     "data": {
      "text/plain": [
       "23    2337\n",
       "20     765\n",
       "9      711\n",
       "16     699\n",
       "4      685\n",
       "15     682\n",
       "8      680\n",
       "14     634\n",
       "7      605\n",
       "19     602\n",
       "10     592\n",
       "17     565\n",
       "27     560\n",
       "18     558\n",
       "5      520\n",
       "6      480\n",
       "30     464\n",
       "25     460\n",
       "26     447\n",
       "3      445\n",
       "29     425\n",
       "28     402\n",
       "24     385\n",
       "13     128\n",
       "2       87\n",
       "33      62\n",
       "11      50\n",
       "22      40\n",
       "12      36\n",
       "31      30\n",
       "32      17\n",
       "21       1\n",
       "Name: HouseAge, dtype: int64"
      ]
     },
     "execution_count": 37,
     "metadata": {},
     "output_type": "execute_result"
    }
   ],
   "source": [
    "test['HouseAge'] = 2023 - test['made']\n",
    "test['HouseAge'].value_counts()"
   ]
  },
  {
   "cell_type": "code",
   "execution_count": 38,
   "id": "78c995df",
   "metadata": {
    "execution": {
     "iopub.execute_input": "2023-02-11T05:15:17.792224Z",
     "iopub.status.busy": "2023-02-11T05:15:17.791674Z",
     "iopub.status.idle": "2023-02-11T05:15:17.802765Z",
     "shell.execute_reply": "2023-02-11T05:15:17.801291Z"
    },
    "papermill": {
     "duration": 0.034601,
     "end_time": "2023-02-11T05:15:17.805235",
     "exception": false,
     "start_time": "2023-02-11T05:15:17.770634",
     "status": "completed"
    },
    "tags": []
   },
   "outputs": [
    {
     "data": {
      "text/plain": [
       "0       17099\n",
       "1       15626\n",
       "2000        5\n",
       "Name: isNewBuilt, dtype: int64"
      ]
     },
     "execution_count": 38,
     "metadata": {},
     "output_type": "execute_result"
    }
   ],
   "source": [
    "train['isNewBuilt'].value_counts()"
   ]
  },
  {
   "cell_type": "code",
   "execution_count": 39,
   "id": "92047af6",
   "metadata": {
    "execution": {
     "iopub.execute_input": "2023-02-11T05:15:17.846079Z",
     "iopub.status.busy": "2023-02-11T05:15:17.845094Z",
     "iopub.status.idle": "2023-02-11T05:15:17.866202Z",
     "shell.execute_reply": "2023-02-11T05:15:17.864703Z"
    },
    "papermill": {
     "duration": 0.044848,
     "end_time": "2023-02-11T05:15:17.869386",
     "exception": false,
     "start_time": "2023-02-11T05:15:17.824538",
     "status": "completed"
    },
    "tags": []
   },
   "outputs": [
    {
     "data": {
      "text/plain": [
       "0    17104\n",
       "1    15626\n",
       "Name: isNewBuilt, dtype: int64"
      ]
     },
     "execution_count": 39,
     "metadata": {},
     "output_type": "execute_result"
    }
   ],
   "source": [
    "train[train['isNewBuilt'] == 2000.0] = 0\n",
    "train['isNewBuilt'].value_counts()"
   ]
  },
  {
   "cell_type": "code",
   "execution_count": 40,
   "id": "2c9803ea",
   "metadata": {
    "execution": {
     "iopub.execute_input": "2023-02-11T05:15:17.912660Z",
     "iopub.status.busy": "2023-02-11T05:15:17.911592Z",
     "iopub.status.idle": "2023-02-11T05:15:17.922090Z",
     "shell.execute_reply": "2023-02-11T05:15:17.920796Z"
    },
    "papermill": {
     "duration": 0.035971,
     "end_time": "2023-02-11T05:15:17.924614",
     "exception": false,
     "start_time": "2023-02-11T05:15:17.888643",
     "status": "completed"
    },
    "tags": []
   },
   "outputs": [
    {
     "data": {
      "text/plain": [
       "0    7998\n",
       "1    7156\n",
       "Name: isNewBuilt, dtype: int64"
      ]
     },
     "execution_count": 40,
     "metadata": {},
     "output_type": "execute_result"
    }
   ],
   "source": [
    "test['isNewBuilt'].value_counts()"
   ]
  },
  {
   "cell_type": "code",
   "execution_count": 41,
   "id": "c4860c30",
   "metadata": {
    "execution": {
     "iopub.execute_input": "2023-02-11T05:15:17.967025Z",
     "iopub.status.busy": "2023-02-11T05:15:17.966477Z",
     "iopub.status.idle": "2023-02-11T05:15:17.984019Z",
     "shell.execute_reply": "2023-02-11T05:15:17.982829Z"
    },
    "papermill": {
     "duration": 0.042439,
     "end_time": "2023-02-11T05:15:17.987055",
     "exception": false,
     "start_time": "2023-02-11T05:15:17.944616",
     "status": "completed"
    },
    "tags": []
   },
   "outputs": [
    {
     "data": {
      "text/plain": [
       "0    7998\n",
       "1    7156\n",
       "Name: isNewBuilt, dtype: int64"
      ]
     },
     "execution_count": 41,
     "metadata": {},
     "output_type": "execute_result"
    }
   ],
   "source": [
    "test[test['isNewBuilt'] == 2000.0] = 0\n",
    "test['isNewBuilt'].value_counts()"
   ]
  },
  {
   "cell_type": "code",
   "execution_count": 42,
   "id": "ea68675e",
   "metadata": {
    "execution": {
     "iopub.execute_input": "2023-02-11T05:15:18.028857Z",
     "iopub.status.busy": "2023-02-11T05:15:18.028315Z",
     "iopub.status.idle": "2023-02-11T05:15:18.038850Z",
     "shell.execute_reply": "2023-02-11T05:15:18.037594Z"
    },
    "papermill": {
     "duration": 0.034751,
     "end_time": "2023-02-11T05:15:18.041522",
     "exception": false,
     "start_time": "2023-02-11T05:15:18.006771",
     "status": "completed"
    },
    "tags": []
   },
   "outputs": [
    {
     "data": {
      "text/plain": [
       "0    17277\n",
       "1    15453\n",
       "Name: hasStormProtector, dtype: int64"
      ]
     },
     "execution_count": 42,
     "metadata": {},
     "output_type": "execute_result"
    }
   ],
   "source": [
    "train['hasStormProtector'].value_counts()"
   ]
  },
  {
   "cell_type": "code",
   "execution_count": 43,
   "id": "2f72ccef",
   "metadata": {
    "execution": {
     "iopub.execute_input": "2023-02-11T05:15:18.084091Z",
     "iopub.status.busy": "2023-02-11T05:15:18.083577Z",
     "iopub.status.idle": "2023-02-11T05:15:18.093368Z",
     "shell.execute_reply": "2023-02-11T05:15:18.092321Z"
    },
    "papermill": {
     "duration": 0.03383,
     "end_time": "2023-02-11T05:15:18.095662",
     "exception": false,
     "start_time": "2023-02-11T05:15:18.061832",
     "status": "completed"
    },
    "tags": []
   },
   "outputs": [
    {
     "data": {
      "text/plain": [
       "0    8131\n",
       "1    7023\n",
       "Name: hasStormProtector, dtype: int64"
      ]
     },
     "execution_count": 43,
     "metadata": {},
     "output_type": "execute_result"
    }
   ],
   "source": [
    "test['hasStormProtector'].value_counts()"
   ]
  },
  {
   "cell_type": "code",
   "execution_count": 44,
   "id": "e25b6881",
   "metadata": {
    "execution": {
     "iopub.execute_input": "2023-02-11T05:15:18.138125Z",
     "iopub.status.busy": "2023-02-11T05:15:18.137627Z",
     "iopub.status.idle": "2023-02-11T05:15:18.160024Z",
     "shell.execute_reply": "2023-02-11T05:15:18.158643Z"
    },
    "papermill": {
     "duration": 0.047509,
     "end_time": "2023-02-11T05:15:18.162839",
     "exception": false,
     "start_time": "2023-02-11T05:15:18.115330",
     "status": "completed"
    },
    "tags": []
   },
   "outputs": [
    {
     "data": {
      "text/plain": [
       "874.0     100\n",
       "4173.0     98\n",
       "705.0      96\n",
       "8181.0     95\n",
       "783.0      85\n",
       "         ... \n",
       "289.0       1\n",
       "7762.0      1\n",
       "1099.0      1\n",
       "3508.0      1\n",
       "3480.0      1\n",
       "Name: basement, Length: 6705, dtype: int64"
      ]
     },
     "execution_count": 44,
     "metadata": {},
     "output_type": "execute_result"
    }
   ],
   "source": [
    "train['basement'] = outliers(train, 'basement')\n",
    "train['basement'].value_counts()"
   ]
  },
  {
   "cell_type": "code",
   "execution_count": 45,
   "id": "c5309439",
   "metadata": {
    "execution": {
     "iopub.execute_input": "2023-02-11T05:15:18.206067Z",
     "iopub.status.busy": "2023-02-11T05:15:18.205543Z",
     "iopub.status.idle": "2023-02-11T05:15:18.224989Z",
     "shell.execute_reply": "2023-02-11T05:15:18.223553Z"
    },
    "papermill": {
     "duration": 0.044518,
     "end_time": "2023-02-11T05:15:18.228129",
     "exception": false,
     "start_time": "2023-02-11T05:15:18.183611",
     "status": "completed"
    },
    "tags": []
   },
   "outputs": [
    {
     "data": {
      "text/plain": [
       "705.0     70\n",
       "874.0     58\n",
       "8174.0    56\n",
       "7739.0    55\n",
       "8181.0    54\n",
       "          ..\n",
       "2718.0     1\n",
       "5520.0     1\n",
       "5292.0     1\n",
       "7135.0     1\n",
       "9954.0     1\n",
       "Name: basement, Length: 4214, dtype: int64"
      ]
     },
     "execution_count": 45,
     "metadata": {},
     "output_type": "execute_result"
    }
   ],
   "source": [
    "test['basement'] = outliers(test, 'basement')\n",
    "test['basement'].value_counts()"
   ]
  },
  {
   "cell_type": "code",
   "execution_count": 46,
   "id": "91cc9971",
   "metadata": {
    "execution": {
     "iopub.execute_input": "2023-02-11T05:15:18.272035Z",
     "iopub.status.busy": "2023-02-11T05:15:18.271510Z",
     "iopub.status.idle": "2023-02-11T05:15:18.289814Z",
     "shell.execute_reply": "2023-02-11T05:15:18.288174Z"
    },
    "papermill": {
     "duration": 0.044681,
     "end_time": "2023-02-11T05:15:18.293083",
     "exception": false,
     "start_time": "2023-02-11T05:15:18.248402",
     "status": "completed"
    },
    "tags": []
   },
   "outputs": [],
   "source": [
    "train['attic'] = outliers(train, 'attic')\n",
    "test['attic'] = outliers(test, 'attic')"
   ]
  },
  {
   "cell_type": "code",
   "execution_count": 47,
   "id": "c9731326",
   "metadata": {
    "execution": {
     "iopub.execute_input": "2023-02-11T05:15:18.336479Z",
     "iopub.status.busy": "2023-02-11T05:15:18.335949Z",
     "iopub.status.idle": "2023-02-11T05:15:18.355014Z",
     "shell.execute_reply": "2023-02-11T05:15:18.353578Z"
    },
    "papermill": {
     "duration": 0.044219,
     "end_time": "2023-02-11T05:15:18.358357",
     "exception": false,
     "start_time": "2023-02-11T05:15:18.314138",
     "status": "completed"
    },
    "tags": []
   },
   "outputs": [],
   "source": [
    "train['garage'] = outliers(train, 'garage')\n",
    "test['garage'] = outliers(test, 'garage')"
   ]
  },
  {
   "cell_type": "code",
   "execution_count": 48,
   "id": "496e69ec",
   "metadata": {
    "execution": {
     "iopub.execute_input": "2023-02-11T05:15:18.400866Z",
     "iopub.status.busy": "2023-02-11T05:15:18.400075Z",
     "iopub.status.idle": "2023-02-11T05:15:18.410162Z",
     "shell.execute_reply": "2023-02-11T05:15:18.408830Z"
    },
    "papermill": {
     "duration": 0.034557,
     "end_time": "2023-02-11T05:15:18.412880",
     "exception": false,
     "start_time": "2023-02-11T05:15:18.378323",
     "status": "completed"
    },
    "tags": []
   },
   "outputs": [
    {
     "data": {
      "text/plain": [
       "0    17207\n",
       "1    15523\n",
       "Name: hasStorageRoom, dtype: int64"
      ]
     },
     "execution_count": 48,
     "metadata": {},
     "output_type": "execute_result"
    }
   ],
   "source": [
    "train['hasStorageRoom'].value_counts()"
   ]
  },
  {
   "cell_type": "code",
   "execution_count": 49,
   "id": "e18cb2f1",
   "metadata": {
    "execution": {
     "iopub.execute_input": "2023-02-11T05:15:18.454875Z",
     "iopub.status.busy": "2023-02-11T05:15:18.454108Z",
     "iopub.status.idle": "2023-02-11T05:15:18.472911Z",
     "shell.execute_reply": "2023-02-11T05:15:18.471509Z"
    },
    "papermill": {
     "duration": 0.04329,
     "end_time": "2023-02-11T05:15:18.475894",
     "exception": false,
     "start_time": "2023-02-11T05:15:18.432604",
     "status": "completed"
    },
    "tags": []
   },
   "outputs": [
    {
     "data": {
      "text/plain": [
       "0    17207\n",
       "1    15523\n",
       "Name: hasStorageRoom, dtype: int64"
      ]
     },
     "execution_count": 49,
     "metadata": {},
     "output_type": "execute_result"
    }
   ],
   "source": [
    "train[train['hasStorageRoom'] == 1464.5] = 0\n",
    "train['hasStorageRoom'].value_counts()"
   ]
  },
  {
   "cell_type": "code",
   "execution_count": 50,
   "id": "74b15b56",
   "metadata": {
    "execution": {
     "iopub.execute_input": "2023-02-11T05:15:18.518321Z",
     "iopub.status.busy": "2023-02-11T05:15:18.517558Z",
     "iopub.status.idle": "2023-02-11T05:15:18.527143Z",
     "shell.execute_reply": "2023-02-11T05:15:18.525806Z"
    },
    "papermill": {
     "duration": 0.034027,
     "end_time": "2023-02-11T05:15:18.529785",
     "exception": false,
     "start_time": "2023-02-11T05:15:18.495758",
     "status": "completed"
    },
    "tags": []
   },
   "outputs": [
    {
     "data": {
      "text/plain": [
       "0    8135\n",
       "1    7019\n",
       "Name: hasStorageRoom, dtype: int64"
      ]
     },
     "execution_count": 50,
     "metadata": {},
     "output_type": "execute_result"
    }
   ],
   "source": [
    "test['hasStorageRoom'].value_counts()"
   ]
  },
  {
   "cell_type": "code",
   "execution_count": 51,
   "id": "3a3cb831",
   "metadata": {
    "execution": {
     "iopub.execute_input": "2023-02-11T05:15:18.573479Z",
     "iopub.status.busy": "2023-02-11T05:15:18.571850Z",
     "iopub.status.idle": "2023-02-11T05:15:18.592257Z",
     "shell.execute_reply": "2023-02-11T05:15:18.590690Z"
    },
    "papermill": {
     "duration": 0.045465,
     "end_time": "2023-02-11T05:15:18.595130",
     "exception": false,
     "start_time": "2023-02-11T05:15:18.549665",
     "status": "completed"
    },
    "tags": []
   },
   "outputs": [
    {
     "data": {
      "text/plain": [
       "0    8135\n",
       "1    7019\n",
       "Name: hasStorageRoom, dtype: int64"
      ]
     },
     "execution_count": 51,
     "metadata": {},
     "output_type": "execute_result"
    }
   ],
   "source": [
    "test[test['hasStorageRoom'] == 1451.5] = 0\n",
    "test['hasStorageRoom'].value_counts()"
   ]
  },
  {
   "cell_type": "code",
   "execution_count": 52,
   "id": "191c599b",
   "metadata": {
    "execution": {
     "iopub.execute_input": "2023-02-11T05:15:18.638431Z",
     "iopub.status.busy": "2023-02-11T05:15:18.637550Z",
     "iopub.status.idle": "2023-02-11T05:15:18.646299Z",
     "shell.execute_reply": "2023-02-11T05:15:18.645364Z"
    },
    "papermill": {
     "duration": 0.033533,
     "end_time": "2023-02-11T05:15:18.648877",
     "exception": false,
     "start_time": "2023-02-11T05:15:18.615344",
     "status": "completed"
    },
    "tags": []
   },
   "outputs": [
    {
     "data": {
      "text/plain": [
       "8     3883\n",
       "4     3185\n",
       "5     3061\n",
       "7     3021\n",
       "6     3020\n",
       "2     2959\n",
       "0     2888\n",
       "9     2827\n",
       "3     2803\n",
       "10    2648\n",
       "1     2435\n",
       "Name: hasGuestRoom, dtype: int64"
      ]
     },
     "execution_count": 52,
     "metadata": {},
     "output_type": "execute_result"
    }
   ],
   "source": [
    "train['hasGuestRoom'].value_counts()"
   ]
  },
  {
   "cell_type": "code",
   "execution_count": 53,
   "id": "e53924ba",
   "metadata": {
    "execution": {
     "iopub.execute_input": "2023-02-11T05:15:18.692898Z",
     "iopub.status.busy": "2023-02-11T05:15:18.691607Z",
     "iopub.status.idle": "2023-02-11T05:15:18.702093Z",
     "shell.execute_reply": "2023-02-11T05:15:18.700677Z"
    },
    "papermill": {
     "duration": 0.03543,
     "end_time": "2023-02-11T05:15:18.704758",
     "exception": false,
     "start_time": "2023-02-11T05:15:18.669328",
     "status": "completed"
    },
    "tags": []
   },
   "outputs": [
    {
     "data": {
      "text/plain": [
       "8     2034\n",
       "5     1500\n",
       "4     1491\n",
       "7     1413\n",
       "6     1390\n",
       "2     1388\n",
       "0     1345\n",
       "9     1243\n",
       "3     1240\n",
       "1     1059\n",
       "10    1051\n",
       "Name: hasGuestRoom, dtype: int64"
      ]
     },
     "execution_count": 53,
     "metadata": {},
     "output_type": "execute_result"
    }
   ],
   "source": [
    "test['hasGuestRoom'].value_counts()"
   ]
  },
  {
   "cell_type": "code",
   "execution_count": 54,
   "id": "1f2fb5e4",
   "metadata": {
    "execution": {
     "iopub.execute_input": "2023-02-11T05:15:18.749016Z",
     "iopub.status.busy": "2023-02-11T05:15:18.748087Z",
     "iopub.status.idle": "2023-02-11T05:15:18.758024Z",
     "shell.execute_reply": "2023-02-11T05:15:18.756763Z"
    },
    "papermill": {
     "duration": 0.033738,
     "end_time": "2023-02-11T05:15:18.760228",
     "exception": false,
     "start_time": "2023-02-11T05:15:18.726490",
     "status": "completed"
    },
    "tags": []
   },
   "outputs": [
    {
     "data": {
      "text/plain": [
       "1    22725\n",
       "0    10005\n",
       "Name: source, dtype: int64"
      ]
     },
     "execution_count": 54,
     "metadata": {},
     "output_type": "execute_result"
    }
   ],
   "source": [
    "train['source'].value_counts()"
   ]
  },
  {
   "cell_type": "code",
   "execution_count": 55,
   "id": "66053cd9",
   "metadata": {
    "execution": {
     "iopub.execute_input": "2023-02-11T05:15:18.801555Z",
     "iopub.status.busy": "2023-02-11T05:15:18.800610Z",
     "iopub.status.idle": "2023-02-11T05:15:18.816212Z",
     "shell.execute_reply": "2023-02-11T05:15:18.815031Z"
    },
    "papermill": {
     "duration": 0.03919,
     "end_time": "2023-02-11T05:15:18.819105",
     "exception": false,
     "start_time": "2023-02-11T05:15:18.779915",
     "status": "completed"
    },
    "tags": []
   },
   "outputs": [],
   "source": [
    "train['ActualArea'] = outliers(train, 'ActualArea')\n",
    "test['ActualArea'] = outliers(test, 'ActualArea')"
   ]
  },
  {
   "cell_type": "code",
   "execution_count": 56,
   "id": "bb1b968f",
   "metadata": {
    "execution": {
     "iopub.execute_input": "2023-02-11T05:15:18.861144Z",
     "iopub.status.busy": "2023-02-11T05:15:18.860713Z",
     "iopub.status.idle": "2023-02-11T05:15:18.875934Z",
     "shell.execute_reply": "2023-02-11T05:15:18.874805Z"
    },
    "papermill": {
     "duration": 0.039759,
     "end_time": "2023-02-11T05:15:18.878708",
     "exception": false,
     "start_time": "2023-02-11T05:15:18.838949",
     "status": "completed"
    },
    "tags": []
   },
   "outputs": [],
   "source": [
    "train['AreaPerHouse'] = outliers(train, 'AreaPerHouse')\n",
    "test['AreaPerHouse'] = outliers(test, 'AreaPerHouse')"
   ]
  },
  {
   "cell_type": "code",
   "execution_count": 57,
   "id": "13634fd7",
   "metadata": {
    "execution": {
     "iopub.execute_input": "2023-02-11T05:15:18.920132Z",
     "iopub.status.busy": "2023-02-11T05:15:18.919703Z",
     "iopub.status.idle": "2023-02-11T05:15:18.934967Z",
     "shell.execute_reply": "2023-02-11T05:15:18.933612Z"
    },
    "papermill": {
     "duration": 0.03938,
     "end_time": "2023-02-11T05:15:18.937785",
     "exception": false,
     "start_time": "2023-02-11T05:15:18.898405",
     "status": "completed"
    },
    "tags": []
   },
   "outputs": [],
   "source": [
    "train['AreaPerRoom'] = outliers(train, 'AreaPerRoom')\n",
    "test['AreaPerRoom'] = outliers(test, 'AreaPerRoom')"
   ]
  },
  {
   "cell_type": "code",
   "execution_count": 58,
   "id": "801772de",
   "metadata": {
    "execution": {
     "iopub.execute_input": "2023-02-11T05:15:18.978689Z",
     "iopub.status.busy": "2023-02-11T05:15:18.978286Z",
     "iopub.status.idle": "2023-02-11T05:15:18.993648Z",
     "shell.execute_reply": "2023-02-11T05:15:18.992493Z"
    },
    "papermill": {
     "duration": 0.039087,
     "end_time": "2023-02-11T05:15:18.996510",
     "exception": false,
     "start_time": "2023-02-11T05:15:18.957423",
     "status": "completed"
    },
    "tags": []
   },
   "outputs": [],
   "source": [
    "train['Extra'] = outliers(train, 'Extra')\n",
    "test['Extra'] = outliers(test, 'Extra')"
   ]
  },
  {
   "cell_type": "code",
   "execution_count": 59,
   "id": "65024fa6",
   "metadata": {
    "execution": {
     "iopub.execute_input": "2023-02-11T05:15:19.038254Z",
     "iopub.status.busy": "2023-02-11T05:15:19.037839Z",
     "iopub.status.idle": "2023-02-11T05:15:19.065975Z",
     "shell.execute_reply": "2023-02-11T05:15:19.064711Z"
    },
    "papermill": {
     "duration": 0.051985,
     "end_time": "2023-02-11T05:15:19.068636",
     "exception": false,
     "start_time": "2023-02-11T05:15:19.016651",
     "status": "completed"
    },
    "tags": []
   },
   "outputs": [
    {
     "data": {
      "text/html": [
       "<div>\n",
       "<style scoped>\n",
       "    .dataframe tbody tr th:only-of-type {\n",
       "        vertical-align: middle;\n",
       "    }\n",
       "\n",
       "    .dataframe tbody tr th {\n",
       "        vertical-align: top;\n",
       "    }\n",
       "\n",
       "    .dataframe thead th {\n",
       "        text-align: right;\n",
       "    }\n",
       "</style>\n",
       "<table border=\"1\" class=\"dataframe\">\n",
       "  <thead>\n",
       "    <tr style=\"text-align: right;\">\n",
       "      <th></th>\n",
       "      <th>squareMeters</th>\n",
       "      <th>numberOfRooms</th>\n",
       "      <th>hasYard</th>\n",
       "      <th>hasPool</th>\n",
       "      <th>floors</th>\n",
       "      <th>cityCode</th>\n",
       "      <th>cityPartRange</th>\n",
       "      <th>numPrevOwners</th>\n",
       "      <th>made</th>\n",
       "      <th>isNewBuilt</th>\n",
       "      <th>...</th>\n",
       "      <th>garage</th>\n",
       "      <th>hasStorageRoom</th>\n",
       "      <th>hasGuestRoom</th>\n",
       "      <th>price</th>\n",
       "      <th>source</th>\n",
       "      <th>ActualArea</th>\n",
       "      <th>AreaPerHouse</th>\n",
       "      <th>AreaPerRoom</th>\n",
       "      <th>Extra</th>\n",
       "      <th>HouseAge</th>\n",
       "    </tr>\n",
       "  </thead>\n",
       "  <tbody>\n",
       "    <tr>\n",
       "      <th>0</th>\n",
       "      <td>34291</td>\n",
       "      <td>24</td>\n",
       "      <td>1</td>\n",
       "      <td>0</td>\n",
       "      <td>47.0</td>\n",
       "      <td>35693.0</td>\n",
       "      <td>2.0</td>\n",
       "      <td>1</td>\n",
       "      <td>2000</td>\n",
       "      <td>0</td>\n",
       "      <td>...</td>\n",
       "      <td>369.0</td>\n",
       "      <td>0</td>\n",
       "      <td>3</td>\n",
       "      <td>3436795.2</td>\n",
       "      <td>1</td>\n",
       "      <td>28718.0</td>\n",
       "      <td>1428.791667</td>\n",
       "      <td>1196.583333</td>\n",
       "      <td>232.208333</td>\n",
       "      <td>23</td>\n",
       "    </tr>\n",
       "    <tr>\n",
       "      <th>1</th>\n",
       "      <td>95145</td>\n",
       "      <td>60</td>\n",
       "      <td>0</td>\n",
       "      <td>1</td>\n",
       "      <td>60.0</td>\n",
       "      <td>34773.0</td>\n",
       "      <td>1.0</td>\n",
       "      <td>4</td>\n",
       "      <td>2000</td>\n",
       "      <td>0</td>\n",
       "      <td>...</td>\n",
       "      <td>277.0</td>\n",
       "      <td>0</td>\n",
       "      <td>6</td>\n",
       "      <td>9519958.0</td>\n",
       "      <td>1</td>\n",
       "      <td>89643.0</td>\n",
       "      <td>1585.750000</td>\n",
       "      <td>1494.050000</td>\n",
       "      <td>91.700000</td>\n",
       "      <td>23</td>\n",
       "    </tr>\n",
       "    <tr>\n",
       "      <th>2</th>\n",
       "      <td>92661</td>\n",
       "      <td>45</td>\n",
       "      <td>1</td>\n",
       "      <td>1</td>\n",
       "      <td>62.0</td>\n",
       "      <td>45457.0</td>\n",
       "      <td>4.0</td>\n",
       "      <td>8</td>\n",
       "      <td>2020</td>\n",
       "      <td>1</td>\n",
       "      <td>...</td>\n",
       "      <td>245.0</td>\n",
       "      <td>1</td>\n",
       "      <td>9</td>\n",
       "      <td>9276448.1</td>\n",
       "      <td>1</td>\n",
       "      <td>75990.0</td>\n",
       "      <td>2059.133333</td>\n",
       "      <td>1688.666667</td>\n",
       "      <td>370.466667</td>\n",
       "      <td>3</td>\n",
       "    </tr>\n",
       "    <tr>\n",
       "      <th>3</th>\n",
       "      <td>97184</td>\n",
       "      <td>99</td>\n",
       "      <td>0</td>\n",
       "      <td>0</td>\n",
       "      <td>59.0</td>\n",
       "      <td>15113.0</td>\n",
       "      <td>1.0</td>\n",
       "      <td>1</td>\n",
       "      <td>2000</td>\n",
       "      <td>0</td>\n",
       "      <td>...</td>\n",
       "      <td>256.0</td>\n",
       "      <td>1</td>\n",
       "      <td>9</td>\n",
       "      <td>9725732.2</td>\n",
       "      <td>1</td>\n",
       "      <td>81982.0</td>\n",
       "      <td>981.656566</td>\n",
       "      <td>828.101010</td>\n",
       "      <td>153.555556</td>\n",
       "      <td>23</td>\n",
       "    </tr>\n",
       "    <tr>\n",
       "      <th>4</th>\n",
       "      <td>61752</td>\n",
       "      <td>100</td>\n",
       "      <td>0</td>\n",
       "      <td>0</td>\n",
       "      <td>57.0</td>\n",
       "      <td>64245.0</td>\n",
       "      <td>8.0</td>\n",
       "      <td>4</td>\n",
       "      <td>2018</td>\n",
       "      <td>1</td>\n",
       "      <td>...</td>\n",
       "      <td>863.0</td>\n",
       "      <td>0</td>\n",
       "      <td>7</td>\n",
       "      <td>6181908.8</td>\n",
       "      <td>1</td>\n",
       "      <td>50952.0</td>\n",
       "      <td>617.520000</td>\n",
       "      <td>509.520000</td>\n",
       "      <td>108.000000</td>\n",
       "      <td>5</td>\n",
       "    </tr>\n",
       "  </tbody>\n",
       "</table>\n",
       "<p>5 rows × 23 columns</p>\n",
       "</div>"
      ],
      "text/plain": [
       "   squareMeters  numberOfRooms  hasYard  hasPool  floors  cityCode  \\\n",
       "0         34291             24        1        0    47.0   35693.0   \n",
       "1         95145             60        0        1    60.0   34773.0   \n",
       "2         92661             45        1        1    62.0   45457.0   \n",
       "3         97184             99        0        0    59.0   15113.0   \n",
       "4         61752            100        0        0    57.0   64245.0   \n",
       "\n",
       "   cityPartRange  numPrevOwners  made  isNewBuilt  ...  garage  \\\n",
       "0            2.0              1  2000           0  ...   369.0   \n",
       "1            1.0              4  2000           0  ...   277.0   \n",
       "2            4.0              8  2020           1  ...   245.0   \n",
       "3            1.0              1  2000           0  ...   256.0   \n",
       "4            8.0              4  2018           1  ...   863.0   \n",
       "\n",
       "   hasStorageRoom  hasGuestRoom      price  source  ActualArea  AreaPerHouse  \\\n",
       "0               0             3  3436795.2       1     28718.0   1428.791667   \n",
       "1               0             6  9519958.0       1     89643.0   1585.750000   \n",
       "2               1             9  9276448.1       1     75990.0   2059.133333   \n",
       "3               1             9  9725732.2       1     81982.0    981.656566   \n",
       "4               0             7  6181908.8       1     50952.0    617.520000   \n",
       "\n",
       "   AreaPerRoom       Extra  HouseAge  \n",
       "0  1196.583333  232.208333        23  \n",
       "1  1494.050000   91.700000        23  \n",
       "2  1688.666667  370.466667         3  \n",
       "3   828.101010  153.555556        23  \n",
       "4   509.520000  108.000000         5  \n",
       "\n",
       "[5 rows x 23 columns]"
      ]
     },
     "execution_count": 59,
     "metadata": {},
     "output_type": "execute_result"
    }
   ],
   "source": [
    "train.head()"
   ]
  },
  {
   "cell_type": "code",
   "execution_count": 60,
   "id": "39ef2b26",
   "metadata": {
    "execution": {
     "iopub.execute_input": "2023-02-11T05:15:19.111382Z",
     "iopub.status.busy": "2023-02-11T05:15:19.110984Z",
     "iopub.status.idle": "2023-02-11T05:15:19.138047Z",
     "shell.execute_reply": "2023-02-11T05:15:19.136684Z"
    },
    "papermill": {
     "duration": 0.051355,
     "end_time": "2023-02-11T05:15:19.140597",
     "exception": false,
     "start_time": "2023-02-11T05:15:19.089242",
     "status": "completed"
    },
    "tags": []
   },
   "outputs": [
    {
     "data": {
      "text/html": [
       "<div>\n",
       "<style scoped>\n",
       "    .dataframe tbody tr th:only-of-type {\n",
       "        vertical-align: middle;\n",
       "    }\n",
       "\n",
       "    .dataframe tbody tr th {\n",
       "        vertical-align: top;\n",
       "    }\n",
       "\n",
       "    .dataframe thead th {\n",
       "        text-align: right;\n",
       "    }\n",
       "</style>\n",
       "<table border=\"1\" class=\"dataframe\">\n",
       "  <thead>\n",
       "    <tr style=\"text-align: right;\">\n",
       "      <th></th>\n",
       "      <th>squareMeters</th>\n",
       "      <th>numberOfRooms</th>\n",
       "      <th>hasYard</th>\n",
       "      <th>hasPool</th>\n",
       "      <th>floors</th>\n",
       "      <th>cityCode</th>\n",
       "      <th>cityPartRange</th>\n",
       "      <th>numPrevOwners</th>\n",
       "      <th>made</th>\n",
       "      <th>isNewBuilt</th>\n",
       "      <th>...</th>\n",
       "      <th>attic</th>\n",
       "      <th>garage</th>\n",
       "      <th>hasStorageRoom</th>\n",
       "      <th>hasGuestRoom</th>\n",
       "      <th>source</th>\n",
       "      <th>ActualArea</th>\n",
       "      <th>AreaPerHouse</th>\n",
       "      <th>AreaPerRoom</th>\n",
       "      <th>Extra</th>\n",
       "      <th>HouseAge</th>\n",
       "    </tr>\n",
       "  </thead>\n",
       "  <tbody>\n",
       "    <tr>\n",
       "      <th>0</th>\n",
       "      <td>47580.0</td>\n",
       "      <td>89</td>\n",
       "      <td>0</td>\n",
       "      <td>1</td>\n",
       "      <td>8</td>\n",
       "      <td>54830.0</td>\n",
       "      <td>5.0</td>\n",
       "      <td>3</td>\n",
       "      <td>1995</td>\n",
       "      <td>0</td>\n",
       "      <td>...</td>\n",
       "      <td>8181.0</td>\n",
       "      <td>241.0</td>\n",
       "      <td>0</td>\n",
       "      <td>8</td>\n",
       "      <td>1</td>\n",
       "      <td>32273</td>\n",
       "      <td>534.606742</td>\n",
       "      <td>362.617978</td>\n",
       "      <td>171.988764</td>\n",
       "      <td>28</td>\n",
       "    </tr>\n",
       "    <tr>\n",
       "      <th>1</th>\n",
       "      <td>62083.0</td>\n",
       "      <td>38</td>\n",
       "      <td>0</td>\n",
       "      <td>0</td>\n",
       "      <td>87</td>\n",
       "      <td>8576.0</td>\n",
       "      <td>10.0</td>\n",
       "      <td>3</td>\n",
       "      <td>1994</td>\n",
       "      <td>1</td>\n",
       "      <td>...</td>\n",
       "      <td>9237.0</td>\n",
       "      <td>393.0</td>\n",
       "      <td>1</td>\n",
       "      <td>4</td>\n",
       "      <td>1</td>\n",
       "      <td>47852</td>\n",
       "      <td>1633.763158</td>\n",
       "      <td>1259.263158</td>\n",
       "      <td>374.500000</td>\n",
       "      <td>29</td>\n",
       "    </tr>\n",
       "    <tr>\n",
       "      <th>2</th>\n",
       "      <td>90499.0</td>\n",
       "      <td>75</td>\n",
       "      <td>1</td>\n",
       "      <td>1</td>\n",
       "      <td>37</td>\n",
       "      <td>62454.0</td>\n",
       "      <td>9.0</td>\n",
       "      <td>6</td>\n",
       "      <td>1997</td>\n",
       "      <td>0</td>\n",
       "      <td>...</td>\n",
       "      <td>2680.0</td>\n",
       "      <td>305.0</td>\n",
       "      <td>0</td>\n",
       "      <td>2</td>\n",
       "      <td>1</td>\n",
       "      <td>80060</td>\n",
       "      <td>1206.653333</td>\n",
       "      <td>1067.466667</td>\n",
       "      <td>139.186667</td>\n",
       "      <td>26</td>\n",
       "    </tr>\n",
       "    <tr>\n",
       "      <th>3</th>\n",
       "      <td>16354.0</td>\n",
       "      <td>47</td>\n",
       "      <td>1</td>\n",
       "      <td>1</td>\n",
       "      <td>9</td>\n",
       "      <td>9262.0</td>\n",
       "      <td>6.0</td>\n",
       "      <td>5</td>\n",
       "      <td>2019</td>\n",
       "      <td>1</td>\n",
       "      <td>...</td>\n",
       "      <td>5097.0</td>\n",
       "      <td>122.0</td>\n",
       "      <td>1</td>\n",
       "      <td>5</td>\n",
       "      <td>1</td>\n",
       "      <td>10430</td>\n",
       "      <td>347.957447</td>\n",
       "      <td>221.914894</td>\n",
       "      <td>126.042553</td>\n",
       "      <td>4</td>\n",
       "    </tr>\n",
       "    <tr>\n",
       "      <th>4</th>\n",
       "      <td>67510.0</td>\n",
       "      <td>8</td>\n",
       "      <td>0</td>\n",
       "      <td>0</td>\n",
       "      <td>55</td>\n",
       "      <td>24112.0</td>\n",
       "      <td>3.0</td>\n",
       "      <td>7</td>\n",
       "      <td>2014</td>\n",
       "      <td>1</td>\n",
       "      <td>...</td>\n",
       "      <td>7979.0</td>\n",
       "      <td>401.0</td>\n",
       "      <td>1</td>\n",
       "      <td>9</td>\n",
       "      <td>1</td>\n",
       "      <td>55415</td>\n",
       "      <td>3909.541978</td>\n",
       "      <td>3315.455403</td>\n",
       "      <td>902.761619</td>\n",
       "      <td>9</td>\n",
       "    </tr>\n",
       "  </tbody>\n",
       "</table>\n",
       "<p>5 rows × 22 columns</p>\n",
       "</div>"
      ],
      "text/plain": [
       "   squareMeters  numberOfRooms  hasYard  hasPool  floors  cityCode  \\\n",
       "0       47580.0             89        0        1       8   54830.0   \n",
       "1       62083.0             38        0        0      87    8576.0   \n",
       "2       90499.0             75        1        1      37   62454.0   \n",
       "3       16354.0             47        1        1       9    9262.0   \n",
       "4       67510.0              8        0        0      55   24112.0   \n",
       "\n",
       "   cityPartRange  numPrevOwners  made  isNewBuilt  ...   attic  garage  \\\n",
       "0            5.0              3  1995           0  ...  8181.0   241.0   \n",
       "1           10.0              3  1994           1  ...  9237.0   393.0   \n",
       "2            9.0              6  1997           0  ...  2680.0   305.0   \n",
       "3            6.0              5  2019           1  ...  5097.0   122.0   \n",
       "4            3.0              7  2014           1  ...  7979.0   401.0   \n",
       "\n",
       "   hasStorageRoom  hasGuestRoom  source  ActualArea  AreaPerHouse  \\\n",
       "0               0             8       1       32273    534.606742   \n",
       "1               1             4       1       47852   1633.763158   \n",
       "2               0             2       1       80060   1206.653333   \n",
       "3               1             5       1       10430    347.957447   \n",
       "4               1             9       1       55415   3909.541978   \n",
       "\n",
       "   AreaPerRoom       Extra  HouseAge  \n",
       "0   362.617978  171.988764        28  \n",
       "1  1259.263158  374.500000        29  \n",
       "2  1067.466667  139.186667        26  \n",
       "3   221.914894  126.042553         4  \n",
       "4  3315.455403  902.761619         9  \n",
       "\n",
       "[5 rows x 22 columns]"
      ]
     },
     "execution_count": 60,
     "metadata": {},
     "output_type": "execute_result"
    }
   ],
   "source": [
    "test.head()"
   ]
  },
  {
   "cell_type": "code",
   "execution_count": null,
   "id": "99038443",
   "metadata": {
    "papermill": {
     "duration": 0.01971,
     "end_time": "2023-02-11T05:15:19.180507",
     "exception": false,
     "start_time": "2023-02-11T05:15:19.160797",
     "status": "completed"
    },
    "tags": []
   },
   "outputs": [],
   "source": []
  }
 ],
 "metadata": {
  "kernelspec": {
   "display_name": "Python 3",
   "language": "python",
   "name": "python3"
  },
  "language_info": {
   "codemirror_mode": {
    "name": "ipython",
    "version": 3
   },
   "file_extension": ".py",
   "mimetype": "text/x-python",
   "name": "python",
   "nbconvert_exporter": "python",
   "pygments_lexer": "ipython3",
   "version": "3.7.12"
  },
  "papermill": {
   "default_parameters": {},
   "duration": 13.885065,
   "end_time": "2023-02-11T05:15:19.924137",
   "environment_variables": {},
   "exception": null,
   "input_path": "__notebook__.ipynb",
   "output_path": "__notebook__.ipynb",
   "parameters": {},
   "start_time": "2023-02-11T05:15:06.039072",
   "version": "2.3.4"
  }
 },
 "nbformat": 4,
 "nbformat_minor": 5
}
